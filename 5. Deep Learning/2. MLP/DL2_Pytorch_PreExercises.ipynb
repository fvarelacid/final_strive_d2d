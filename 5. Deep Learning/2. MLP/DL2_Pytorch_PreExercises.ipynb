{
 "cells": [
  {
   "cell_type": "code",
   "execution_count": null,
   "source": [
    "# Install torch and torchvision on your computer\n",
    "# It's convenient to create a virtual env for that"
   ],
   "outputs": [],
   "metadata": {}
  },
  {
   "cell_type": "code",
   "execution_count": 1,
   "source": [
    "import torch\n",
    "import torch.nn as nn\n",
    "import numpy as np"
   ],
   "outputs": [],
   "metadata": {
    "ExecuteTime": {
     "end_time": "2021-05-26T05:44:46.718547Z",
     "start_time": "2021-05-26T05:44:44.015035Z"
    }
   }
  },
  {
   "cell_type": "code",
   "execution_count": 2,
   "source": [
    "# set the torch manual seed to 42\n",
    "torch.manual_seed(42)"
   ],
   "outputs": [
    {
     "output_type": "execute_result",
     "data": {
      "text/plain": [
       "<torch._C.Generator at 0x7fdd50f066f0>"
      ]
     },
     "metadata": {},
     "execution_count": 2
    }
   ],
   "metadata": {
    "ExecuteTime": {
     "end_time": "2021-05-26T05:55:09.345568Z",
     "start_time": "2021-05-26T05:55:09.326608Z"
    }
   }
  },
  {
   "cell_type": "code",
   "execution_count": 3,
   "source": [
    "# Create a tensor of shape (5,) and store in the features variable\n",
    "features = torch.tensor(torch.randn(5))\n",
    "features"
   ],
   "outputs": [
    {
     "output_type": "stream",
     "name": "stderr",
     "text": [
      "<ipython-input-3-43be0e0f77b5>:2: UserWarning: To copy construct from a tensor, it is recommended to use sourceTensor.clone().detach() or sourceTensor.clone().detach().requires_grad_(True), rather than torch.tensor(sourceTensor).\n",
      "  features = torch.tensor(torch.randn(5))\n"
     ]
    },
    {
     "output_type": "execute_result",
     "data": {
      "text/plain": [
       "tensor([ 0.3367,  0.1288,  0.2345,  0.2303, -1.1229])"
      ]
     },
     "metadata": {},
     "execution_count": 3
    }
   ],
   "metadata": {
    "ExecuteTime": {
     "end_time": "2021-05-26T05:53:21.990528Z",
     "start_time": "2021-05-26T05:53:21.982001Z"
    }
   }
  },
  {
   "cell_type": "code",
   "execution_count": 4,
   "source": [
    "# Generate a tensor called weights with the same shape of features\n",
    "# Hint: search torch.rand_like\n",
    "weights = torch.rand_like(features)"
   ],
   "outputs": [],
   "metadata": {
    "ExecuteTime": {
     "end_time": "2021-05-26T05:53:21.843474Z",
     "start_time": "2021-05-26T05:53:21.840266Z"
    }
   }
  },
  {
   "cell_type": "code",
   "execution_count": 5,
   "source": [
    "assert weights.shape == features.shape"
   ],
   "outputs": [],
   "metadata": {
    "ExecuteTime": {
     "end_time": "2021-05-26T06:03:23.249934Z",
     "start_time": "2021-05-26T06:03:23.232413Z"
    }
   }
  },
  {
   "cell_type": "code",
   "execution_count": 6,
   "source": [
    "weights"
   ],
   "outputs": [
    {
     "output_type": "execute_result",
     "data": {
      "text/plain": [
       "tensor([0.8694, 0.5677, 0.7411, 0.4294, 0.8854])"
      ]
     },
     "metadata": {},
     "execution_count": 6
    }
   ],
   "metadata": {
    "ExecuteTime": {
     "end_time": "2021-05-26T05:53:22.262490Z",
     "start_time": "2021-05-26T05:53:22.256392Z"
    }
   }
  },
  {
   "cell_type": "code",
   "execution_count": 7,
   "source": [
    "bias = torch.randn((1,1))"
   ],
   "outputs": [],
   "metadata": {
    "ExecuteTime": {
     "end_time": "2021-05-26T05:53:22.688098Z",
     "start_time": "2021-05-26T05:53:22.685070Z"
    }
   }
  },
  {
   "cell_type": "code",
   "execution_count": 8,
   "source": [
    "bias"
   ],
   "outputs": [
    {
     "output_type": "execute_result",
     "data": {
      "text/plain": [
       "tensor([[-0.1863]])"
      ]
     },
     "metadata": {},
     "execution_count": 8
    }
   ],
   "metadata": {
    "ExecuteTime": {
     "end_time": "2021-05-26T05:53:22.837840Z",
     "start_time": "2021-05-26T05:53:22.832752Z"
    }
   }
  },
  {
   "cell_type": "code",
   "execution_count": 9,
   "source": [
    "# Implement the sigmoid function by using torch\n",
    "def sigmoid(x):\n",
    "    return 1/(1+torch.exp(-x))"
   ],
   "outputs": [],
   "metadata": {
    "ExecuteTime": {
     "end_time": "2021-05-26T05:53:22.958309Z",
     "start_time": "2021-05-26T05:53:22.953589Z"
    }
   }
  },
  {
   "cell_type": "code",
   "execution_count": 10,
   "source": [
    "# Use torch.dot function for multiplying weights and features and\n",
    "# add the bias to the result. Store the result into the score variable\n",
    "\n",
    "score = torch.dot(weights, features) + bias\n",
    "\n"
   ],
   "outputs": [],
   "metadata": {
    "ExecuteTime": {
     "end_time": "2021-05-26T06:07:15.298988Z",
     "start_time": "2021-05-26T06:07:15.293636Z"
    }
   }
  },
  {
   "cell_type": "code",
   "execution_count": 11,
   "source": [
    "assert score.shape == (1,1)"
   ],
   "outputs": [],
   "metadata": {
    "ExecuteTime": {
     "end_time": "2021-05-26T06:07:54.742774Z",
     "start_time": "2021-05-26T06:07:54.738740Z"
    }
   }
  },
  {
   "cell_type": "code",
   "execution_count": 12,
   "source": [
    "# Use the defined sigmoid function to activate the score.\n",
    "# Store the result in the prob variable\n",
    "\n",
    "prob = sigmoid(score)\n"
   ],
   "outputs": [],
   "metadata": {
    "ExecuteTime": {
     "end_time": "2021-05-26T06:09:09.770708Z",
     "start_time": "2021-05-26T06:09:09.764317Z"
    }
   }
  },
  {
   "cell_type": "code",
   "execution_count": 13,
   "source": [
    "assert prob.shape == (1,1)"
   ],
   "outputs": [],
   "metadata": {
    "ExecuteTime": {
     "end_time": "2021-05-26T06:09:20.343108Z",
     "start_time": "2021-05-26T06:09:20.339958Z"
    }
   }
  },
  {
   "cell_type": "code",
   "execution_count": 14,
   "source": [
    "# Convert the a numpy array into a torch tensor\n",
    "# Store it in the b variable\n",
    "a = np.random.rand(4, 3)\n",
    "a\n",
    "b = torch.Tensor(a)"
   ],
   "outputs": [],
   "metadata": {
    "ExecuteTime": {
     "end_time": "2021-05-26T06:11:19.575519Z",
     "start_time": "2021-05-26T06:11:19.568376Z"
    }
   }
  },
  {
   "cell_type": "code",
   "execution_count": 15,
   "source": [
    "assert b.shape == (4,3) "
   ],
   "outputs": [],
   "metadata": {
    "ExecuteTime": {
     "end_time": "2021-05-26T06:12:33.848173Z",
     "start_time": "2021-05-26T06:12:33.845007Z"
    }
   }
  },
  {
   "cell_type": "code",
   "execution_count": 18,
   "source": [
    "# Do the opposite now. From the given tensor a convert it a numpy array\n",
    "# Store the result in b\n",
    "a = torch.tensor([1,2])\n",
    "a\n",
    "b = np.array(a)"
   ],
   "outputs": [],
   "metadata": {
    "ExecuteTime": {
     "end_time": "2021-05-26T06:15:11.278855Z",
     "start_time": "2021-05-26T06:15:11.274384Z"
    }
   }
  },
  {
   "cell_type": "code",
   "execution_count": 19,
   "source": [
    "assert type(b) == np.ndarray"
   ],
   "outputs": [],
   "metadata": {
    "ExecuteTime": {
     "end_time": "2021-05-26T06:15:23.003363Z",
     "start_time": "2021-05-26T06:15:22.999824Z"
    }
   }
  },
  {
   "cell_type": "code",
   "execution_count": 20,
   "source": [
    "# Reshape the given v tensor in a 10x10 tensor.\n",
    "# Store the result in v_reshaped\n",
    "# You can use various methods: reshape, view, resize... Check all of them\n",
    "\n",
    "v = torch.randn((100,1))\n",
    "v_reshaped = v.reshape((10, 10))\n"
   ],
   "outputs": [],
   "metadata": {
    "ExecuteTime": {
     "end_time": "2021-05-26T06:38:16.934705Z",
     "start_time": "2021-05-26T06:38:16.929106Z"
    }
   }
  },
  {
   "cell_type": "code",
   "execution_count": 23,
   "source": [
    "# create a tensor with shape (16, 32, 32, 3) containing only ones\n",
    "# Store it in the ones variable\n",
    "ones = torch.ones(16, 32, 32, 3)\n"
   ],
   "outputs": [
    {
     "output_type": "execute_result",
     "data": {
      "text/plain": [
       "torch.Size([16, 32, 32, 3])"
      ]
     },
     "metadata": {},
     "execution_count": 23
    }
   ],
   "metadata": {}
  },
  {
   "cell_type": "code",
   "execution_count": null,
   "source": [
    "assert ones.shape == (16, 32, 32, 3)"
   ],
   "outputs": [],
   "metadata": {}
  },
  {
   "cell_type": "code",
   "execution_count": 24,
   "source": [
    "import pandas as pd\n",
    "import matplotlib.pyplot as plt\n",
    "# load and plot the data using scatterplot with different colors for labels\n",
    "data = pd.read_csv('data.csv', header=None)\n",
    "data"
   ],
   "outputs": [
    {
     "output_type": "execute_result",
     "data": {
      "text/plain": [
       "          0         1  2\n",
       "0   0.78051 -0.063669  1\n",
       "1   0.28774  0.291390  1\n",
       "2   0.40714  0.178780  1\n",
       "3   0.29230  0.421700  1\n",
       "4   0.50922  0.352560  1\n",
       "..      ...       ... ..\n",
       "95  0.77029  0.701400  0\n",
       "96  0.73156  0.717820  0\n",
       "97  0.44556  0.579910  0\n",
       "98  0.85275  0.859870  0\n",
       "99  0.51912  0.623590  0\n",
       "\n",
       "[100 rows x 3 columns]"
      ],
      "text/html": [
       "<div>\n",
       "<style scoped>\n",
       "    .dataframe tbody tr th:only-of-type {\n",
       "        vertical-align: middle;\n",
       "    }\n",
       "\n",
       "    .dataframe tbody tr th {\n",
       "        vertical-align: top;\n",
       "    }\n",
       "\n",
       "    .dataframe thead th {\n",
       "        text-align: right;\n",
       "    }\n",
       "</style>\n",
       "<table border=\"1\" class=\"dataframe\">\n",
       "  <thead>\n",
       "    <tr style=\"text-align: right;\">\n",
       "      <th></th>\n",
       "      <th>0</th>\n",
       "      <th>1</th>\n",
       "      <th>2</th>\n",
       "    </tr>\n",
       "  </thead>\n",
       "  <tbody>\n",
       "    <tr>\n",
       "      <th>0</th>\n",
       "      <td>0.78051</td>\n",
       "      <td>-0.063669</td>\n",
       "      <td>1</td>\n",
       "    </tr>\n",
       "    <tr>\n",
       "      <th>1</th>\n",
       "      <td>0.28774</td>\n",
       "      <td>0.291390</td>\n",
       "      <td>1</td>\n",
       "    </tr>\n",
       "    <tr>\n",
       "      <th>2</th>\n",
       "      <td>0.40714</td>\n",
       "      <td>0.178780</td>\n",
       "      <td>1</td>\n",
       "    </tr>\n",
       "    <tr>\n",
       "      <th>3</th>\n",
       "      <td>0.29230</td>\n",
       "      <td>0.421700</td>\n",
       "      <td>1</td>\n",
       "    </tr>\n",
       "    <tr>\n",
       "      <th>4</th>\n",
       "      <td>0.50922</td>\n",
       "      <td>0.352560</td>\n",
       "      <td>1</td>\n",
       "    </tr>\n",
       "    <tr>\n",
       "      <th>...</th>\n",
       "      <td>...</td>\n",
       "      <td>...</td>\n",
       "      <td>...</td>\n",
       "    </tr>\n",
       "    <tr>\n",
       "      <th>95</th>\n",
       "      <td>0.77029</td>\n",
       "      <td>0.701400</td>\n",
       "      <td>0</td>\n",
       "    </tr>\n",
       "    <tr>\n",
       "      <th>96</th>\n",
       "      <td>0.73156</td>\n",
       "      <td>0.717820</td>\n",
       "      <td>0</td>\n",
       "    </tr>\n",
       "    <tr>\n",
       "      <th>97</th>\n",
       "      <td>0.44556</td>\n",
       "      <td>0.579910</td>\n",
       "      <td>0</td>\n",
       "    </tr>\n",
       "    <tr>\n",
       "      <th>98</th>\n",
       "      <td>0.85275</td>\n",
       "      <td>0.859870</td>\n",
       "      <td>0</td>\n",
       "    </tr>\n",
       "    <tr>\n",
       "      <th>99</th>\n",
       "      <td>0.51912</td>\n",
       "      <td>0.623590</td>\n",
       "      <td>0</td>\n",
       "    </tr>\n",
       "  </tbody>\n",
       "</table>\n",
       "<p>100 rows × 3 columns</p>\n",
       "</div>"
      ]
     },
     "metadata": {},
     "execution_count": 24
    }
   ],
   "metadata": {
    "ExecuteTime": {
     "end_time": "2021-05-26T06:50:29.092598Z",
     "start_time": "2021-05-26T06:50:29.067520Z"
    }
   }
  },
  {
   "cell_type": "code",
   "execution_count": 29,
   "source": [
    "plt.scatter(data[0], data[1], c=data[2])\n",
    "plt.show()"
   ],
   "outputs": [
    {
     "output_type": "display_data",
     "data": {
      "text/plain": [
       "<Figure size 640x480 with 1 Axes>"
      ],
      "image/svg+xml": "<?xml version=\"1.0\" encoding=\"utf-8\" standalone=\"no\"?>\n<!DOCTYPE svg PUBLIC \"-//W3C//DTD SVG 1.1//EN\"\n  \"http://www.w3.org/Graphics/SVG/1.1/DTD/svg11.dtd\">\n<svg height=\"297.190125pt\" version=\"1.1\" viewBox=\"0 0 394.423125 297.190125\" width=\"394.423125pt\" xmlns=\"http://www.w3.org/2000/svg\" xmlns:xlink=\"http://www.w3.org/1999/xlink\">\n <metadata>\n  <rdf:RDF xmlns:cc=\"http://creativecommons.org/ns#\" xmlns:dc=\"http://purl.org/dc/elements/1.1/\" xmlns:rdf=\"http://www.w3.org/1999/02/22-rdf-syntax-ns#\">\n   <cc:Work>\n    <dc:type rdf:resource=\"http://purl.org/dc/dcmitype/StillImage\"/>\n    <dc:date>2021-08-18T14:27:50.740905</dc:date>\n    <dc:format>image/svg+xml</dc:format>\n    <dc:creator>\n     <cc:Agent>\n      <dc:title>Matplotlib v3.4.2, https://matplotlib.org/</dc:title>\n     </cc:Agent>\n    </dc:creator>\n   </cc:Work>\n  </rdf:RDF>\n </metadata>\n <defs>\n  <style type=\"text/css\">*{stroke-linecap:butt;stroke-linejoin:round;}</style>\n </defs>\n <g id=\"figure_1\">\n  <g id=\"patch_1\">\n   <path d=\"M 0 297.190125 \nL 394.423125 297.190125 \nL 394.423125 0 \nL 0 0 \nz\n\" style=\"fill:#ffffff;\"/>\n  </g>\n  <g id=\"axes_1\">\n   <g id=\"patch_2\">\n    <path d=\"M 30.103125 273.312 \nL 387.223125 273.312 \nL 387.223125 7.2 \nL 30.103125 7.2 \nz\n\" style=\"fill:#ffffff;\"/>\n   </g>\n   <g id=\"PathCollection_1\">\n    <defs>\n     <path d=\"M 0 3 \nC 0.795609 3 1.55874 2.683901 2.12132 2.12132 \nC 2.683901 1.55874 3 0.795609 3 -0 \nC 3 -0.795609 2.683901 -1.55874 2.12132 -2.12132 \nC 1.55874 -2.683901 0.795609 -3 0 -3 \nC -0.795609 -3 -1.55874 -2.683901 -2.12132 -2.12132 \nC -2.683901 -1.55874 -3 -0.795609 -3 0 \nC -3 0.795609 -2.683901 1.55874 -2.12132 2.12132 \nC -1.55874 2.683901 -0.795609 3 0 3 \nz\n\" id=\"C0_0_6f657845d2\"/>\n    </defs>\n    <g clip-path=\"url(#p433376a625)\">\n     <use style=\"fill:#fde725;stroke:#fde725;\" x=\"299.124764\" xlink:href=\"#C0_0_6f657845d2\" y=\"261.216\"/>\n    </g>\n    <g clip-path=\"url(#p433376a625)\">\n     <use style=\"fill:#fde725;stroke:#fde725;\" x=\"137.781523\" xlink:href=\"#C0_0_6f657845d2\" y=\"180.461674\"/>\n    </g>\n    <g clip-path=\"url(#p433376a625)\">\n     <use style=\"fill:#fde725;stroke:#fde725;\" x=\"176.875589\" xlink:href=\"#C0_0_6f657845d2\" y=\"206.073599\"/>\n    </g>\n    <g clip-path=\"url(#p433376a625)\">\n     <use style=\"fill:#fde725;stroke:#fde725;\" x=\"139.274562\" xlink:href=\"#C0_0_6f657845d2\" y=\"150.824075\"/>\n    </g>\n    <g clip-path=\"url(#p433376a625)\">\n     <use style=\"fill:#fde725;stroke:#fde725;\" x=\"210.298724\" xlink:href=\"#C0_0_6f657845d2\" y=\"166.54922\"/>\n    </g>\n    <g clip-path=\"url(#p433376a625)\">\n     <use style=\"fill:#fde725;stroke:#fde725;\" x=\"134.543329\" xlink:href=\"#C0_0_6f657845d2\" y=\"222.167195\"/>\n    </g>\n    <g clip-path=\"url(#p433376a625)\">\n     <use style=\"fill:#fde725;stroke:#fde725;\" x=\"133.698583\" xlink:href=\"#C0_0_6f657845d2\" y=\"171.173058\"/>\n    </g>\n    <g clip-path=\"url(#p433376a625)\">\n     <use style=\"fill:#fde725;stroke:#fde725;\" x=\"187.631369\" xlink:href=\"#C0_0_6f657845d2\" y=\"175.671805\"/>\n    </g>\n    <g clip-path=\"url(#p433376a625)\">\n     <use style=\"fill:#fde725;stroke:#fde725;\" x=\"153.442069\" xlink:href=\"#C0_0_6f657845d2\" y=\"148.97272\"/>\n    </g>\n    <g clip-path=\"url(#p433376a625)\">\n     <use style=\"fill:#fde725;stroke:#fde725;\" x=\"120.343081\" xlink:href=\"#C0_0_6f657845d2\" y=\"189.907223\"/>\n    </g>\n    <g clip-path=\"url(#p433376a625)\">\n     <use style=\"fill:#fde725;stroke:#fde725;\" x=\"46.335852\" xlink:href=\"#C0_0_6f657845d2\" y=\"215.671533\"/>\n    </g>\n    <g clip-path=\"url(#p433376a625)\">\n     <use style=\"fill:#fde725;stroke:#fde725;\" x=\"84.23182\" xlink:href=\"#C0_0_6f657845d2\" y=\"170.326984\"/>\n    </g>\n    <g clip-path=\"url(#p433376a625)\">\n     <use style=\"fill:#fde725;stroke:#fde725;\" x=\"127.533246\" xlink:href=\"#C0_0_6f657845d2\" y=\"149.791501\"/>\n    </g>\n    <g clip-path=\"url(#p433376a625)\">\n     <use style=\"fill:#fde725;stroke:#fde725;\" x=\"193.888384\" xlink:href=\"#C0_0_6f657845d2\" y=\"154.790614\"/>\n    </g>\n    <g clip-path=\"url(#p433376a625)\">\n     <use style=\"fill:#fde725;stroke:#fde725;\" x=\"189.425636\" xlink:href=\"#C0_0_6f657845d2\" y=\"144.121443\"/>\n    </g>\n    <g clip-path=\"url(#p433376a625)\">\n     <use style=\"fill:#fde725;stroke:#fde725;\" x=\"181.800001\" xlink:href=\"#C0_0_6f657845d2\" y=\"200.978962\"/>\n    </g>\n    <g clip-path=\"url(#p433376a625)\">\n     <use style=\"fill:#fde725;stroke:#fde725;\" x=\"205.849073\" xlink:href=\"#C0_0_6f657845d2\" y=\"197.960844\"/>\n    </g>\n    <g clip-path=\"url(#p433376a625)\">\n     <use style=\"fill:#fde725;stroke:#fde725;\" x=\"144.572234\" xlink:href=\"#C0_0_6f657845d2\" y=\"191.453809\"/>\n    </g>\n    <g clip-path=\"url(#p433376a625)\">\n     <use style=\"fill:#fde725;stroke:#fde725;\" x=\"173.57846\" xlink:href=\"#C0_0_6f657845d2\" y=\"145.665755\"/>\n    </g>\n    <g clip-path=\"url(#p433376a625)\">\n     <use style=\"fill:#fde725;stroke:#fde725;\" x=\"151.438252\" xlink:href=\"#C0_0_6f657845d2\" y=\"157.540354\"/>\n    </g>\n    <g clip-path=\"url(#p433376a625)\">\n     <use style=\"fill:#fde725;stroke:#fde725;\" x=\"176.957444\" xlink:href=\"#C0_0_6f657845d2\" y=\"155.143145\"/>\n    </g>\n    <g clip-path=\"url(#p433376a625)\">\n     <use style=\"fill:#fde725;stroke:#fde725;\" x=\"145.266367\" xlink:href=\"#C0_0_6f657845d2\" y=\"131.418965\"/>\n    </g>\n    <g clip-path=\"url(#p433376a625)\">\n     <use style=\"fill:#fde725;stroke:#fde725;\" x=\"206.094638\" xlink:href=\"#C0_0_6f657845d2\" y=\"143.51418\"/>\n    </g>\n    <g clip-path=\"url(#p433376a625)\">\n     <use style=\"fill:#fde725;stroke:#fde725;\" x=\"76.550523\" xlink:href=\"#C0_0_6f657845d2\" y=\"173.834096\"/>\n    </g>\n    <g clip-path=\"url(#p433376a625)\">\n     <use style=\"fill:#fde725;stroke:#fde725;\" x=\"272.459599\" xlink:href=\"#C0_0_6f657845d2\" y=\"161.884442\"/>\n    </g>\n    <g clip-path=\"url(#p433376a625)\">\n     <use style=\"fill:#fde725;stroke:#fde725;\" x=\"141.032813\" xlink:href=\"#C0_0_6f657845d2\" y=\"88.328338\"/>\n    </g>\n    <g clip-path=\"url(#p433376a625)\">\n     <use style=\"fill:#fde725;stroke:#fde725;\" x=\"93.006702\" xlink:href=\"#C0_0_6f657845d2\" y=\"116.319278\"/>\n    </g>\n    <g clip-path=\"url(#p433376a625)\">\n     <use style=\"fill:#fde725;stroke:#fde725;\" x=\"97.354853\" xlink:href=\"#C0_0_6f657845d2\" y=\"183.600335\"/>\n    </g>\n    <g clip-path=\"url(#p433376a625)\">\n     <use style=\"fill:#fde725;stroke:#fde725;\" x=\"152.466354\" xlink:href=\"#C0_0_6f657845d2\" y=\"234.006769\"/>\n    </g>\n    <g clip-path=\"url(#p433376a625)\">\n     <use style=\"fill:#fde725;stroke:#fde725;\" x=\"219.528722\" xlink:href=\"#C0_0_6f657845d2\" y=\"181.603419\"/>\n    </g>\n    <g clip-path=\"url(#p433376a625)\">\n     <use style=\"fill:#fde725;stroke:#fde725;\" x=\"107.426323\" xlink:href=\"#C0_0_6f657845d2\" y=\"162.857882\"/>\n    </g>\n    <g clip-path=\"url(#p433376a625)\">\n     <use style=\"fill:#fde725;stroke:#fde725;\" x=\"175.448034\" xlink:href=\"#C0_0_6f657845d2\" y=\"238.741143\"/>\n    </g>\n    <g clip-path=\"url(#p433376a625)\">\n     <use style=\"fill:#fde725;stroke:#fde725;\" x=\"113.296981\" xlink:href=\"#C0_0_6f657845d2\" y=\"121.259257\"/>\n    </g>\n    <g clip-path=\"url(#p433376a625)\">\n     <use style=\"fill:#fde725;stroke:#fde725;\" x=\"202.195054\" xlink:href=\"#C0_0_6f657845d2\" y=\"117.115315\"/>\n    </g>\n    <g clip-path=\"url(#p433376a625)\">\n     <use style=\"fill:#fde725;stroke:#fde725;\" x=\"126.983178\" xlink:href=\"#C0_0_6f657845d2\" y=\"168.050318\"/>\n    </g>\n    <g clip-path=\"url(#p433376a625)\">\n     <use style=\"fill:#fde725;stroke:#fde725;\" x=\"114.704891\" xlink:href=\"#C0_0_6f657845d2\" y=\"181.594321\"/>\n    </g>\n    <g clip-path=\"url(#p433376a625)\">\n     <use style=\"fill:#fde725;stroke:#fde725;\" x=\"263.196859\" xlink:href=\"#C0_0_6f657845d2\" y=\"140.889532\"/>\n    </g>\n    <g clip-path=\"url(#p433376a625)\">\n     <use style=\"fill:#fde725;stroke:#fde725;\" x=\"168.480515\" xlink:href=\"#C0_0_6f657845d2\" y=\"141.612788\"/>\n    </g>\n    <g clip-path=\"url(#p433376a625)\">\n     <use style=\"fill:#fde725;stroke:#fde725;\" x=\"219.84632\" xlink:href=\"#C0_0_6f657845d2\" y=\"172.19426\"/>\n    </g>\n    <g clip-path=\"url(#p433376a625)\">\n     <use style=\"fill:#fde725;stroke:#fde725;\" x=\"202.335845\" xlink:href=\"#C0_0_6f657845d2\" y=\"187.439508\"/>\n    </g>\n    <g clip-path=\"url(#p433376a625)\">\n     <use style=\"fill:#fde725;stroke:#fde725;\" x=\"165.026223\" xlink:href=\"#C0_0_6f657845d2\" y=\"158.468306\"/>\n    </g>\n    <g clip-path=\"url(#p433376a625)\">\n     <use style=\"fill:#fde725;stroke:#fde725;\" x=\"222.102251\" xlink:href=\"#C0_0_6f657845d2\" y=\"101.376524\"/>\n    </g>\n    <g clip-path=\"url(#p433376a625)\">\n     <use style=\"fill:#fde725;stroke:#fde725;\" x=\"148.831981\" xlink:href=\"#C0_0_6f657845d2\" y=\"219.426553\"/>\n    </g>\n    <g clip-path=\"url(#p433376a625)\">\n     <use style=\"fill:#fde725;stroke:#fde725;\" x=\"181.793452\" xlink:href=\"#C0_0_6f657845d2\" y=\"106.482533\"/>\n    </g>\n    <g clip-path=\"url(#p433376a625)\">\n     <use style=\"fill:#fde725;stroke:#fde725;\" x=\"76.946703\" xlink:href=\"#C0_0_6f657845d2\" y=\"232.996029\"/>\n    </g>\n    <g clip-path=\"url(#p433376a625)\">\n     <use style=\"fill:#fde725;stroke:#fde725;\" x=\"93.514205\" xlink:href=\"#C0_0_6f657845d2\" y=\"197.426362\"/>\n    </g>\n    <g clip-path=\"url(#p433376a625)\">\n     <use style=\"fill:#fde725;stroke:#fde725;\" x=\"192.735862\" xlink:href=\"#C0_0_6f657845d2\" y=\"147.187323\"/>\n    </g>\n    <g clip-path=\"url(#p433376a625)\">\n     <use style=\"fill:#fde725;stroke:#fde725;\" x=\"136.845099\" xlink:href=\"#C0_0_6f657845d2\" y=\"128.14384\"/>\n    </g>\n    <g clip-path=\"url(#p433376a625)\">\n     <use style=\"fill:#fde725;stroke:#fde725;\" x=\"134.045649\" xlink:href=\"#C0_0_6f657845d2\" y=\"198.372509\"/>\n    </g>\n    <g clip-path=\"url(#p433376a625)\">\n     <use style=\"fill:#fde725;stroke:#fde725;\" x=\"173.712702\" xlink:href=\"#C0_0_6f657845d2\" y=\"174.177529\"/>\n    </g>\n    <g clip-path=\"url(#p433376a625)\">\n     <use style=\"fill:#440154;stroke:#440154;\" x=\"224.731441\" xlink:href=\"#C0_0_6f657845d2\" y=\"19.296\"/>\n    </g>\n    <g clip-path=\"url(#p433376a625)\">\n     <use style=\"fill:#440154;stroke:#440154;\" x=\"188.531776\" xlink:href=\"#C0_0_6f657845d2\" y=\"112.079812\"/>\n    </g>\n    <g clip-path=\"url(#p433376a625)\">\n     <use style=\"fill:#440154;stroke:#440154;\" x=\"322.45351\" xlink:href=\"#C0_0_6f657845d2\" y=\"96.352393\"/>\n    </g>\n    <g clip-path=\"url(#p433376a625)\">\n     <use style=\"fill:#440154;stroke:#440154;\" x=\"241.449557\" xlink:href=\"#C0_0_6f657845d2\" y=\"49.761478\"/>\n    </g>\n    <g clip-path=\"url(#p433376a625)\">\n     <use style=\"fill:#440154;stroke:#440154;\" x=\"267.011314\" xlink:href=\"#C0_0_6f657845d2\" y=\"136.879779\"/>\n    </g>\n    <g clip-path=\"url(#p433376a625)\">\n     <use style=\"fill:#440154;stroke:#440154;\" x=\"370.990398\" xlink:href=\"#C0_0_6f657845d2\" y=\"72.027773\"/>\n    </g>\n    <g clip-path=\"url(#p433376a625)\">\n     <use style=\"fill:#440154;stroke:#440154;\" x=\"282.550714\" xlink:href=\"#C0_0_6f657845d2\" y=\"62.350236\"/>\n    </g>\n    <g clip-path=\"url(#p433376a625)\">\n     <use style=\"fill:#440154;stroke:#440154;\" x=\"264.175848\" xlink:href=\"#C0_0_6f657845d2\" y=\"69.389478\"/>\n    </g>\n    <g clip-path=\"url(#p433376a625)\">\n     <use style=\"fill:#440154;stroke:#440154;\" x=\"301.449453\" xlink:href=\"#C0_0_6f657845d2\" y=\"114.417886\"/>\n    </g>\n    <g clip-path=\"url(#p433376a625)\">\n     <use style=\"fill:#440154;stroke:#440154;\" x=\"277.485511\" xlink:href=\"#C0_0_6f657845d2\" y=\"72.334816\"/>\n    </g>\n    <g clip-path=\"url(#p433376a625)\">\n     <use style=\"fill:#440154;stroke:#440154;\" x=\"205.246618\" xlink:href=\"#C0_0_6f657845d2\" y=\"123.404008\"/>\n    </g>\n    <g clip-path=\"url(#p433376a625)\">\n     <use style=\"fill:#440154;stroke:#440154;\" x=\"302.14686\" xlink:href=\"#C0_0_6f657845d2\" y=\"77.900252\"/>\n    </g>\n    <g clip-path=\"url(#p433376a625)\">\n     <use style=\"fill:#440154;stroke:#440154;\" x=\"265.904631\" xlink:href=\"#C0_0_6f657845d2\" y=\"108.176955\"/>\n    </g>\n    <g clip-path=\"url(#p433376a625)\">\n     <use style=\"fill:#440154;stroke:#440154;\" x=\"261.042429\" xlink:href=\"#C0_0_6f657845d2\" y=\"81.79856\"/>\n    </g>\n    <g clip-path=\"url(#p433376a625)\">\n     <use style=\"fill:#440154;stroke:#440154;\" x=\"303.528577\" xlink:href=\"#C0_0_6f657845d2\" y=\"117.574742\"/>\n    </g>\n    <g clip-path=\"url(#p433376a625)\">\n     <use style=\"fill:#440154;stroke:#440154;\" x=\"275.245952\" xlink:href=\"#C0_0_6f657845d2\" y=\"73.831365\"/>\n    </g>\n    <g clip-path=\"url(#p433376a625)\">\n     <use style=\"fill:#440154;stroke:#440154;\" x=\"238.126234\" xlink:href=\"#C0_0_6f657845d2\" y=\"106.048125\"/>\n    </g>\n    <g clip-path=\"url(#p433376a625)\">\n     <use style=\"fill:#440154;stroke:#440154;\" x=\"205.197505\" xlink:href=\"#C0_0_6f657845d2\" y=\"118.859773\"/>\n    </g>\n    <g clip-path=\"url(#p433376a625)\">\n     <use style=\"fill:#440154;stroke:#440154;\" x=\"297.998436\" xlink:href=\"#C0_0_6f657845d2\" y=\"167.074604\"/>\n    </g>\n    <g clip-path=\"url(#p433376a625)\">\n     <use style=\"fill:#440154;stroke:#440154;\" x=\"304.802244\" xlink:href=\"#C0_0_6f657845d2\" y=\"71.786687\"/>\n    </g>\n    <g clip-path=\"url(#p433376a625)\">\n     <use style=\"fill:#440154;stroke:#440154;\" x=\"275.632308\" xlink:href=\"#C0_0_6f657845d2\" y=\"26.655932\"/>\n    </g>\n    <g clip-path=\"url(#p433376a625)\">\n     <use style=\"fill:#440154;stroke:#440154;\" x=\"270.066151\" xlink:href=\"#C0_0_6f657845d2\" y=\"108.304321\"/>\n    </g>\n    <g clip-path=\"url(#p433376a625)\">\n     <use style=\"fill:#440154;stroke:#440154;\" x=\"261.003138\" xlink:href=\"#C0_0_6f657845d2\" y=\"37.320555\"/>\n    </g>\n    <g clip-path=\"url(#p433376a625)\">\n     <use style=\"fill:#440154;stroke:#440154;\" x=\"259.578857\" xlink:href=\"#C0_0_6f657845d2\" y=\"95.110575\"/>\n    </g>\n    <g clip-path=\"url(#p433376a625)\">\n     <use style=\"fill:#440154;stroke:#440154;\" x=\"254.998237\" xlink:href=\"#C0_0_6f657845d2\" y=\"117.447376\"/>\n    </g>\n    <g clip-path=\"url(#p433376a625)\">\n     <use style=\"fill:#440154;stroke:#440154;\" x=\"337.066309\" xlink:href=\"#C0_0_6f657845d2\" y=\"85.59452\"/>\n    </g>\n    <g clip-path=\"url(#p433376a625)\">\n     <use style=\"fill:#440154;stroke:#440154;\" x=\"323.435773\" xlink:href=\"#C0_0_6f657845d2\" y=\"103.068671\"/>\n    </g>\n    <g clip-path=\"url(#p433376a625)\">\n     <use style=\"fill:#440154;stroke:#440154;\" x=\"246.868374\" xlink:href=\"#C0_0_6f657845d2\" y=\"63.819493\"/>\n    </g>\n    <g clip-path=\"url(#p433376a625)\">\n     <use style=\"fill:#440154;stroke:#440154;\" x=\"302.41862\" xlink:href=\"#C0_0_6f657845d2\" y=\"119.123603\"/>\n    </g>\n    <g clip-path=\"url(#p433376a625)\">\n     <use style=\"fill:#440154;stroke:#440154;\" x=\"236.534968\" xlink:href=\"#C0_0_6f657845d2\" y=\"83.929665\"/>\n    </g>\n    <g clip-path=\"url(#p433376a625)\">\n     <use style=\"fill:#440154;stroke:#440154;\" x=\"229.695143\" xlink:href=\"#C0_0_6f657845d2\" y=\"78.293722\"/>\n    </g>\n    <g clip-path=\"url(#p433376a625)\">\n     <use style=\"fill:#440154;stroke:#440154;\" x=\"259.37913\" xlink:href=\"#C0_0_6f657845d2\" y=\"84.006994\"/>\n    </g>\n    <g clip-path=\"url(#p433376a625)\">\n     <use style=\"fill:#440154;stroke:#440154;\" x=\"275.835309\" xlink:href=\"#C0_0_6f657845d2\" y=\"78.336935\"/>\n    </g>\n    <g clip-path=\"url(#p433376a625)\">\n     <use style=\"fill:#440154;stroke:#440154;\" x=\"237.25202\" xlink:href=\"#C0_0_6f657845d2\" y=\"103.614525\"/>\n    </g>\n    <g clip-path=\"url(#p433376a625)\">\n     <use style=\"fill:#440154;stroke:#440154;\" x=\"193.623173\" xlink:href=\"#C0_0_6f657845d2\" y=\"141.180654\"/>\n    </g>\n    <g clip-path=\"url(#p433376a625)\">\n     <use style=\"fill:#440154;stroke:#440154;\" x=\"305.447264\" xlink:href=\"#C0_0_6f657845d2\" y=\"76.503776\"/>\n    </g>\n    <g clip-path=\"url(#p433376a625)\">\n     <use style=\"fill:#440154;stroke:#440154;\" x=\"243.211082\" xlink:href=\"#C0_0_6f657845d2\" y=\"122.196306\"/>\n    </g>\n    <g clip-path=\"url(#p433376a625)\">\n     <use style=\"fill:#440154;stroke:#440154;\" x=\"266.631505\" xlink:href=\"#C0_0_6f657845d2\" y=\"48.897209\"/>\n    </g>\n    <g clip-path=\"url(#p433376a625)\">\n     <use style=\"fill:#440154;stroke:#440154;\" x=\"294.681662\" xlink:href=\"#C0_0_6f657845d2\" y=\"99.500151\"/>\n    </g>\n    <g clip-path=\"url(#p433376a625)\">\n     <use style=\"fill:#440154;stroke:#440154;\" x=\"269.647053\" xlink:href=\"#C0_0_6f657845d2\" y=\"57.828745\"/>\n    </g>\n    <g clip-path=\"url(#p433376a625)\">\n     <use style=\"fill:#440154;stroke:#440154;\" x=\"266.615134\" xlink:href=\"#C0_0_6f657845d2\" y=\"27.163121\"/>\n    </g>\n    <g clip-path=\"url(#p433376a625)\">\n     <use style=\"fill:#440154;stroke:#440154;\" x=\"283.336524\" xlink:href=\"#C0_0_6f657845d2\" y=\"100.616877\"/>\n    </g>\n    <g clip-path=\"url(#p433376a625)\">\n     <use style=\"fill:#440154;stroke:#440154;\" x=\"292.88412\" xlink:href=\"#C0_0_6f657845d2\" y=\"109.957804\"/>\n    </g>\n    <g clip-path=\"url(#p433376a625)\">\n     <use style=\"fill:#440154;stroke:#440154;\" x=\"236.698678\" xlink:href=\"#C0_0_6f657845d2\" y=\"48.96544\"/>\n    </g>\n    <g clip-path=\"url(#p433376a625)\">\n     <use style=\"fill:#440154;stroke:#440154;\" x=\"283.061491\" xlink:href=\"#C0_0_6f657845d2\" y=\"77.256599\"/>\n    </g>\n    <g clip-path=\"url(#p433376a625)\">\n     <use style=\"fill:#440154;stroke:#440154;\" x=\"295.778522\" xlink:href=\"#C0_0_6f657845d2\" y=\"87.209338\"/>\n    </g>\n    <g clip-path=\"url(#p433376a625)\">\n     <use style=\"fill:#440154;stroke:#440154;\" x=\"283.097507\" xlink:href=\"#C0_0_6f657845d2\" y=\"83.474786\"/>\n    </g>\n    <g clip-path=\"url(#p433376a625)\">\n     <use style=\"fill:#440154;stroke:#440154;\" x=\"189.455104\" xlink:href=\"#C0_0_6f657845d2\" y=\"114.840923\"/>\n    </g>\n    <g clip-path=\"url(#p433376a625)\">\n     <use style=\"fill:#440154;stroke:#440154;\" x=\"322.777657\" xlink:href=\"#C0_0_6f657845d2\" y=\"51.167052\"/>\n    </g>\n    <g clip-path=\"url(#p433376a625)\">\n     <use style=\"fill:#440154;stroke:#440154;\" x=\"213.540192\" xlink:href=\"#C0_0_6f657845d2\" y=\"104.90638\"/>\n    </g>\n   </g>\n   <g id=\"PathCollection_2\">\n    <defs>\n     <path d=\"M 0 3 \nC 0.795609 3 1.55874 2.683901 2.12132 2.12132 \nC 2.683901 1.55874 3 0.795609 3 -0 \nC 3 -0.795609 2.683901 -1.55874 2.12132 -2.12132 \nC 1.55874 -2.683901 0.795609 -3 0 -3 \nC -0.795609 -3 -1.55874 -2.683901 -2.12132 -2.12132 \nC -2.683901 -1.55874 -3 -0.795609 -3 0 \nC -3 0.795609 -2.683901 1.55874 -2.12132 2.12132 \nC -1.55874 2.683901 -0.795609 3 0 3 \nz\n\" id=\"C1_0_31944c9635\"/>\n    </defs>\n    <g clip-path=\"url(#p433376a625)\">\n     <use style=\"fill:#fde725;stroke:#fde725;\" x=\"299.124764\" xlink:href=\"#C1_0_31944c9635\" y=\"261.216\"/>\n    </g>\n    <g clip-path=\"url(#p433376a625)\">\n     <use style=\"fill:#fde725;stroke:#fde725;\" x=\"137.781523\" xlink:href=\"#C1_0_31944c9635\" y=\"180.461674\"/>\n    </g>\n    <g clip-path=\"url(#p433376a625)\">\n     <use style=\"fill:#fde725;stroke:#fde725;\" x=\"176.875589\" xlink:href=\"#C1_0_31944c9635\" y=\"206.073599\"/>\n    </g>\n    <g clip-path=\"url(#p433376a625)\">\n     <use style=\"fill:#fde725;stroke:#fde725;\" x=\"139.274562\" xlink:href=\"#C1_0_31944c9635\" y=\"150.824075\"/>\n    </g>\n    <g clip-path=\"url(#p433376a625)\">\n     <use style=\"fill:#fde725;stroke:#fde725;\" x=\"210.298724\" xlink:href=\"#C1_0_31944c9635\" y=\"166.54922\"/>\n    </g>\n    <g clip-path=\"url(#p433376a625)\">\n     <use style=\"fill:#fde725;stroke:#fde725;\" x=\"134.543329\" xlink:href=\"#C1_0_31944c9635\" y=\"222.167195\"/>\n    </g>\n    <g clip-path=\"url(#p433376a625)\">\n     <use style=\"fill:#fde725;stroke:#fde725;\" x=\"133.698583\" xlink:href=\"#C1_0_31944c9635\" y=\"171.173058\"/>\n    </g>\n    <g clip-path=\"url(#p433376a625)\">\n     <use style=\"fill:#fde725;stroke:#fde725;\" x=\"187.631369\" xlink:href=\"#C1_0_31944c9635\" y=\"175.671805\"/>\n    </g>\n    <g clip-path=\"url(#p433376a625)\">\n     <use style=\"fill:#fde725;stroke:#fde725;\" x=\"153.442069\" xlink:href=\"#C1_0_31944c9635\" y=\"148.97272\"/>\n    </g>\n    <g clip-path=\"url(#p433376a625)\">\n     <use style=\"fill:#fde725;stroke:#fde725;\" x=\"120.343081\" xlink:href=\"#C1_0_31944c9635\" y=\"189.907223\"/>\n    </g>\n    <g clip-path=\"url(#p433376a625)\">\n     <use style=\"fill:#fde725;stroke:#fde725;\" x=\"46.335852\" xlink:href=\"#C1_0_31944c9635\" y=\"215.671533\"/>\n    </g>\n    <g clip-path=\"url(#p433376a625)\">\n     <use style=\"fill:#fde725;stroke:#fde725;\" x=\"84.23182\" xlink:href=\"#C1_0_31944c9635\" y=\"170.326984\"/>\n    </g>\n    <g clip-path=\"url(#p433376a625)\">\n     <use style=\"fill:#fde725;stroke:#fde725;\" x=\"127.533246\" xlink:href=\"#C1_0_31944c9635\" y=\"149.791501\"/>\n    </g>\n    <g clip-path=\"url(#p433376a625)\">\n     <use style=\"fill:#fde725;stroke:#fde725;\" x=\"193.888384\" xlink:href=\"#C1_0_31944c9635\" y=\"154.790614\"/>\n    </g>\n    <g clip-path=\"url(#p433376a625)\">\n     <use style=\"fill:#fde725;stroke:#fde725;\" x=\"189.425636\" xlink:href=\"#C1_0_31944c9635\" y=\"144.121443\"/>\n    </g>\n    <g clip-path=\"url(#p433376a625)\">\n     <use style=\"fill:#fde725;stroke:#fde725;\" x=\"181.800001\" xlink:href=\"#C1_0_31944c9635\" y=\"200.978962\"/>\n    </g>\n    <g clip-path=\"url(#p433376a625)\">\n     <use style=\"fill:#fde725;stroke:#fde725;\" x=\"205.849073\" xlink:href=\"#C1_0_31944c9635\" y=\"197.960844\"/>\n    </g>\n    <g clip-path=\"url(#p433376a625)\">\n     <use style=\"fill:#fde725;stroke:#fde725;\" x=\"144.572234\" xlink:href=\"#C1_0_31944c9635\" y=\"191.453809\"/>\n    </g>\n    <g clip-path=\"url(#p433376a625)\">\n     <use style=\"fill:#fde725;stroke:#fde725;\" x=\"173.57846\" xlink:href=\"#C1_0_31944c9635\" y=\"145.665755\"/>\n    </g>\n    <g clip-path=\"url(#p433376a625)\">\n     <use style=\"fill:#fde725;stroke:#fde725;\" x=\"151.438252\" xlink:href=\"#C1_0_31944c9635\" y=\"157.540354\"/>\n    </g>\n    <g clip-path=\"url(#p433376a625)\">\n     <use style=\"fill:#fde725;stroke:#fde725;\" x=\"176.957444\" xlink:href=\"#C1_0_31944c9635\" y=\"155.143145\"/>\n    </g>\n    <g clip-path=\"url(#p433376a625)\">\n     <use style=\"fill:#fde725;stroke:#fde725;\" x=\"145.266367\" xlink:href=\"#C1_0_31944c9635\" y=\"131.418965\"/>\n    </g>\n    <g clip-path=\"url(#p433376a625)\">\n     <use style=\"fill:#fde725;stroke:#fde725;\" x=\"206.094638\" xlink:href=\"#C1_0_31944c9635\" y=\"143.51418\"/>\n    </g>\n    <g clip-path=\"url(#p433376a625)\">\n     <use style=\"fill:#fde725;stroke:#fde725;\" x=\"76.550523\" xlink:href=\"#C1_0_31944c9635\" y=\"173.834096\"/>\n    </g>\n    <g clip-path=\"url(#p433376a625)\">\n     <use style=\"fill:#fde725;stroke:#fde725;\" x=\"272.459599\" xlink:href=\"#C1_0_31944c9635\" y=\"161.884442\"/>\n    </g>\n    <g clip-path=\"url(#p433376a625)\">\n     <use style=\"fill:#fde725;stroke:#fde725;\" x=\"141.032813\" xlink:href=\"#C1_0_31944c9635\" y=\"88.328338\"/>\n    </g>\n    <g clip-path=\"url(#p433376a625)\">\n     <use style=\"fill:#fde725;stroke:#fde725;\" x=\"93.006702\" xlink:href=\"#C1_0_31944c9635\" y=\"116.319278\"/>\n    </g>\n    <g clip-path=\"url(#p433376a625)\">\n     <use style=\"fill:#fde725;stroke:#fde725;\" x=\"97.354853\" xlink:href=\"#C1_0_31944c9635\" y=\"183.600335\"/>\n    </g>\n    <g clip-path=\"url(#p433376a625)\">\n     <use style=\"fill:#fde725;stroke:#fde725;\" x=\"152.466354\" xlink:href=\"#C1_0_31944c9635\" y=\"234.006769\"/>\n    </g>\n    <g clip-path=\"url(#p433376a625)\">\n     <use style=\"fill:#fde725;stroke:#fde725;\" x=\"219.528722\" xlink:href=\"#C1_0_31944c9635\" y=\"181.603419\"/>\n    </g>\n    <g clip-path=\"url(#p433376a625)\">\n     <use style=\"fill:#fde725;stroke:#fde725;\" x=\"107.426323\" xlink:href=\"#C1_0_31944c9635\" y=\"162.857882\"/>\n    </g>\n    <g clip-path=\"url(#p433376a625)\">\n     <use style=\"fill:#fde725;stroke:#fde725;\" x=\"175.448034\" xlink:href=\"#C1_0_31944c9635\" y=\"238.741143\"/>\n    </g>\n    <g clip-path=\"url(#p433376a625)\">\n     <use style=\"fill:#fde725;stroke:#fde725;\" x=\"113.296981\" xlink:href=\"#C1_0_31944c9635\" y=\"121.259257\"/>\n    </g>\n    <g clip-path=\"url(#p433376a625)\">\n     <use style=\"fill:#fde725;stroke:#fde725;\" x=\"202.195054\" xlink:href=\"#C1_0_31944c9635\" y=\"117.115315\"/>\n    </g>\n    <g clip-path=\"url(#p433376a625)\">\n     <use style=\"fill:#fde725;stroke:#fde725;\" x=\"126.983178\" xlink:href=\"#C1_0_31944c9635\" y=\"168.050318\"/>\n    </g>\n    <g clip-path=\"url(#p433376a625)\">\n     <use style=\"fill:#fde725;stroke:#fde725;\" x=\"114.704891\" xlink:href=\"#C1_0_31944c9635\" y=\"181.594321\"/>\n    </g>\n    <g clip-path=\"url(#p433376a625)\">\n     <use style=\"fill:#fde725;stroke:#fde725;\" x=\"263.196859\" xlink:href=\"#C1_0_31944c9635\" y=\"140.889532\"/>\n    </g>\n    <g clip-path=\"url(#p433376a625)\">\n     <use style=\"fill:#fde725;stroke:#fde725;\" x=\"168.480515\" xlink:href=\"#C1_0_31944c9635\" y=\"141.612788\"/>\n    </g>\n    <g clip-path=\"url(#p433376a625)\">\n     <use style=\"fill:#fde725;stroke:#fde725;\" x=\"219.84632\" xlink:href=\"#C1_0_31944c9635\" y=\"172.19426\"/>\n    </g>\n    <g clip-path=\"url(#p433376a625)\">\n     <use style=\"fill:#fde725;stroke:#fde725;\" x=\"202.335845\" xlink:href=\"#C1_0_31944c9635\" y=\"187.439508\"/>\n    </g>\n    <g clip-path=\"url(#p433376a625)\">\n     <use style=\"fill:#fde725;stroke:#fde725;\" x=\"165.026223\" xlink:href=\"#C1_0_31944c9635\" y=\"158.468306\"/>\n    </g>\n    <g clip-path=\"url(#p433376a625)\">\n     <use style=\"fill:#fde725;stroke:#fde725;\" x=\"222.102251\" xlink:href=\"#C1_0_31944c9635\" y=\"101.376524\"/>\n    </g>\n    <g clip-path=\"url(#p433376a625)\">\n     <use style=\"fill:#fde725;stroke:#fde725;\" x=\"148.831981\" xlink:href=\"#C1_0_31944c9635\" y=\"219.426553\"/>\n    </g>\n    <g clip-path=\"url(#p433376a625)\">\n     <use style=\"fill:#fde725;stroke:#fde725;\" x=\"181.793452\" xlink:href=\"#C1_0_31944c9635\" y=\"106.482533\"/>\n    </g>\n    <g clip-path=\"url(#p433376a625)\">\n     <use style=\"fill:#fde725;stroke:#fde725;\" x=\"76.946703\" xlink:href=\"#C1_0_31944c9635\" y=\"232.996029\"/>\n    </g>\n    <g clip-path=\"url(#p433376a625)\">\n     <use style=\"fill:#fde725;stroke:#fde725;\" x=\"93.514205\" xlink:href=\"#C1_0_31944c9635\" y=\"197.426362\"/>\n    </g>\n    <g clip-path=\"url(#p433376a625)\">\n     <use style=\"fill:#fde725;stroke:#fde725;\" x=\"192.735862\" xlink:href=\"#C1_0_31944c9635\" y=\"147.187323\"/>\n    </g>\n    <g clip-path=\"url(#p433376a625)\">\n     <use style=\"fill:#fde725;stroke:#fde725;\" x=\"136.845099\" xlink:href=\"#C1_0_31944c9635\" y=\"128.14384\"/>\n    </g>\n    <g clip-path=\"url(#p433376a625)\">\n     <use style=\"fill:#fde725;stroke:#fde725;\" x=\"134.045649\" xlink:href=\"#C1_0_31944c9635\" y=\"198.372509\"/>\n    </g>\n    <g clip-path=\"url(#p433376a625)\">\n     <use style=\"fill:#fde725;stroke:#fde725;\" x=\"173.712702\" xlink:href=\"#C1_0_31944c9635\" y=\"174.177529\"/>\n    </g>\n    <g clip-path=\"url(#p433376a625)\">\n     <use style=\"fill:#440154;stroke:#440154;\" x=\"224.731441\" xlink:href=\"#C1_0_31944c9635\" y=\"19.296\"/>\n    </g>\n    <g clip-path=\"url(#p433376a625)\">\n     <use style=\"fill:#440154;stroke:#440154;\" x=\"188.531776\" xlink:href=\"#C1_0_31944c9635\" y=\"112.079812\"/>\n    </g>\n    <g clip-path=\"url(#p433376a625)\">\n     <use style=\"fill:#440154;stroke:#440154;\" x=\"322.45351\" xlink:href=\"#C1_0_31944c9635\" y=\"96.352393\"/>\n    </g>\n    <g clip-path=\"url(#p433376a625)\">\n     <use style=\"fill:#440154;stroke:#440154;\" x=\"241.449557\" xlink:href=\"#C1_0_31944c9635\" y=\"49.761478\"/>\n    </g>\n    <g clip-path=\"url(#p433376a625)\">\n     <use style=\"fill:#440154;stroke:#440154;\" x=\"267.011314\" xlink:href=\"#C1_0_31944c9635\" y=\"136.879779\"/>\n    </g>\n    <g clip-path=\"url(#p433376a625)\">\n     <use style=\"fill:#440154;stroke:#440154;\" x=\"370.990398\" xlink:href=\"#C1_0_31944c9635\" y=\"72.027773\"/>\n    </g>\n    <g clip-path=\"url(#p433376a625)\">\n     <use style=\"fill:#440154;stroke:#440154;\" x=\"282.550714\" xlink:href=\"#C1_0_31944c9635\" y=\"62.350236\"/>\n    </g>\n    <g clip-path=\"url(#p433376a625)\">\n     <use style=\"fill:#440154;stroke:#440154;\" x=\"264.175848\" xlink:href=\"#C1_0_31944c9635\" y=\"69.389478\"/>\n    </g>\n    <g clip-path=\"url(#p433376a625)\">\n     <use style=\"fill:#440154;stroke:#440154;\" x=\"301.449453\" xlink:href=\"#C1_0_31944c9635\" y=\"114.417886\"/>\n    </g>\n    <g clip-path=\"url(#p433376a625)\">\n     <use style=\"fill:#440154;stroke:#440154;\" x=\"277.485511\" xlink:href=\"#C1_0_31944c9635\" y=\"72.334816\"/>\n    </g>\n    <g clip-path=\"url(#p433376a625)\">\n     <use style=\"fill:#440154;stroke:#440154;\" x=\"205.246618\" xlink:href=\"#C1_0_31944c9635\" y=\"123.404008\"/>\n    </g>\n    <g clip-path=\"url(#p433376a625)\">\n     <use style=\"fill:#440154;stroke:#440154;\" x=\"302.14686\" xlink:href=\"#C1_0_31944c9635\" y=\"77.900252\"/>\n    </g>\n    <g clip-path=\"url(#p433376a625)\">\n     <use style=\"fill:#440154;stroke:#440154;\" x=\"265.904631\" xlink:href=\"#C1_0_31944c9635\" y=\"108.176955\"/>\n    </g>\n    <g clip-path=\"url(#p433376a625)\">\n     <use style=\"fill:#440154;stroke:#440154;\" x=\"261.042429\" xlink:href=\"#C1_0_31944c9635\" y=\"81.79856\"/>\n    </g>\n    <g clip-path=\"url(#p433376a625)\">\n     <use style=\"fill:#440154;stroke:#440154;\" x=\"303.528577\" xlink:href=\"#C1_0_31944c9635\" y=\"117.574742\"/>\n    </g>\n    <g clip-path=\"url(#p433376a625)\">\n     <use style=\"fill:#440154;stroke:#440154;\" x=\"275.245952\" xlink:href=\"#C1_0_31944c9635\" y=\"73.831365\"/>\n    </g>\n    <g clip-path=\"url(#p433376a625)\">\n     <use style=\"fill:#440154;stroke:#440154;\" x=\"238.126234\" xlink:href=\"#C1_0_31944c9635\" y=\"106.048125\"/>\n    </g>\n    <g clip-path=\"url(#p433376a625)\">\n     <use style=\"fill:#440154;stroke:#440154;\" x=\"205.197505\" xlink:href=\"#C1_0_31944c9635\" y=\"118.859773\"/>\n    </g>\n    <g clip-path=\"url(#p433376a625)\">\n     <use style=\"fill:#440154;stroke:#440154;\" x=\"297.998436\" xlink:href=\"#C1_0_31944c9635\" y=\"167.074604\"/>\n    </g>\n    <g clip-path=\"url(#p433376a625)\">\n     <use style=\"fill:#440154;stroke:#440154;\" x=\"304.802244\" xlink:href=\"#C1_0_31944c9635\" y=\"71.786687\"/>\n    </g>\n    <g clip-path=\"url(#p433376a625)\">\n     <use style=\"fill:#440154;stroke:#440154;\" x=\"275.632308\" xlink:href=\"#C1_0_31944c9635\" y=\"26.655932\"/>\n    </g>\n    <g clip-path=\"url(#p433376a625)\">\n     <use style=\"fill:#440154;stroke:#440154;\" x=\"270.066151\" xlink:href=\"#C1_0_31944c9635\" y=\"108.304321\"/>\n    </g>\n    <g clip-path=\"url(#p433376a625)\">\n     <use style=\"fill:#440154;stroke:#440154;\" x=\"261.003138\" xlink:href=\"#C1_0_31944c9635\" y=\"37.320555\"/>\n    </g>\n    <g clip-path=\"url(#p433376a625)\">\n     <use style=\"fill:#440154;stroke:#440154;\" x=\"259.578857\" xlink:href=\"#C1_0_31944c9635\" y=\"95.110575\"/>\n    </g>\n    <g clip-path=\"url(#p433376a625)\">\n     <use style=\"fill:#440154;stroke:#440154;\" x=\"254.998237\" xlink:href=\"#C1_0_31944c9635\" y=\"117.447376\"/>\n    </g>\n    <g clip-path=\"url(#p433376a625)\">\n     <use style=\"fill:#440154;stroke:#440154;\" x=\"337.066309\" xlink:href=\"#C1_0_31944c9635\" y=\"85.59452\"/>\n    </g>\n    <g clip-path=\"url(#p433376a625)\">\n     <use style=\"fill:#440154;stroke:#440154;\" x=\"323.435773\" xlink:href=\"#C1_0_31944c9635\" y=\"103.068671\"/>\n    </g>\n    <g clip-path=\"url(#p433376a625)\">\n     <use style=\"fill:#440154;stroke:#440154;\" x=\"246.868374\" xlink:href=\"#C1_0_31944c9635\" y=\"63.819493\"/>\n    </g>\n    <g clip-path=\"url(#p433376a625)\">\n     <use style=\"fill:#440154;stroke:#440154;\" x=\"302.41862\" xlink:href=\"#C1_0_31944c9635\" y=\"119.123603\"/>\n    </g>\n    <g clip-path=\"url(#p433376a625)\">\n     <use style=\"fill:#440154;stroke:#440154;\" x=\"236.534968\" xlink:href=\"#C1_0_31944c9635\" y=\"83.929665\"/>\n    </g>\n    <g clip-path=\"url(#p433376a625)\">\n     <use style=\"fill:#440154;stroke:#440154;\" x=\"229.695143\" xlink:href=\"#C1_0_31944c9635\" y=\"78.293722\"/>\n    </g>\n    <g clip-path=\"url(#p433376a625)\">\n     <use style=\"fill:#440154;stroke:#440154;\" x=\"259.37913\" xlink:href=\"#C1_0_31944c9635\" y=\"84.006994\"/>\n    </g>\n    <g clip-path=\"url(#p433376a625)\">\n     <use style=\"fill:#440154;stroke:#440154;\" x=\"275.835309\" xlink:href=\"#C1_0_31944c9635\" y=\"78.336935\"/>\n    </g>\n    <g clip-path=\"url(#p433376a625)\">\n     <use style=\"fill:#440154;stroke:#440154;\" x=\"237.25202\" xlink:href=\"#C1_0_31944c9635\" y=\"103.614525\"/>\n    </g>\n    <g clip-path=\"url(#p433376a625)\">\n     <use style=\"fill:#440154;stroke:#440154;\" x=\"193.623173\" xlink:href=\"#C1_0_31944c9635\" y=\"141.180654\"/>\n    </g>\n    <g clip-path=\"url(#p433376a625)\">\n     <use style=\"fill:#440154;stroke:#440154;\" x=\"305.447264\" xlink:href=\"#C1_0_31944c9635\" y=\"76.503776\"/>\n    </g>\n    <g clip-path=\"url(#p433376a625)\">\n     <use style=\"fill:#440154;stroke:#440154;\" x=\"243.211082\" xlink:href=\"#C1_0_31944c9635\" y=\"122.196306\"/>\n    </g>\n    <g clip-path=\"url(#p433376a625)\">\n     <use style=\"fill:#440154;stroke:#440154;\" x=\"266.631505\" xlink:href=\"#C1_0_31944c9635\" y=\"48.897209\"/>\n    </g>\n    <g clip-path=\"url(#p433376a625)\">\n     <use style=\"fill:#440154;stroke:#440154;\" x=\"294.681662\" xlink:href=\"#C1_0_31944c9635\" y=\"99.500151\"/>\n    </g>\n    <g clip-path=\"url(#p433376a625)\">\n     <use style=\"fill:#440154;stroke:#440154;\" x=\"269.647053\" xlink:href=\"#C1_0_31944c9635\" y=\"57.828745\"/>\n    </g>\n    <g clip-path=\"url(#p433376a625)\">\n     <use style=\"fill:#440154;stroke:#440154;\" x=\"266.615134\" xlink:href=\"#C1_0_31944c9635\" y=\"27.163121\"/>\n    </g>\n    <g clip-path=\"url(#p433376a625)\">\n     <use style=\"fill:#440154;stroke:#440154;\" x=\"283.336524\" xlink:href=\"#C1_0_31944c9635\" y=\"100.616877\"/>\n    </g>\n    <g clip-path=\"url(#p433376a625)\">\n     <use style=\"fill:#440154;stroke:#440154;\" x=\"292.88412\" xlink:href=\"#C1_0_31944c9635\" y=\"109.957804\"/>\n    </g>\n    <g clip-path=\"url(#p433376a625)\">\n     <use style=\"fill:#440154;stroke:#440154;\" x=\"236.698678\" xlink:href=\"#C1_0_31944c9635\" y=\"48.96544\"/>\n    </g>\n    <g clip-path=\"url(#p433376a625)\">\n     <use style=\"fill:#440154;stroke:#440154;\" x=\"283.061491\" xlink:href=\"#C1_0_31944c9635\" y=\"77.256599\"/>\n    </g>\n    <g clip-path=\"url(#p433376a625)\">\n     <use style=\"fill:#440154;stroke:#440154;\" x=\"295.778522\" xlink:href=\"#C1_0_31944c9635\" y=\"87.209338\"/>\n    </g>\n    <g clip-path=\"url(#p433376a625)\">\n     <use style=\"fill:#440154;stroke:#440154;\" x=\"283.097507\" xlink:href=\"#C1_0_31944c9635\" y=\"83.474786\"/>\n    </g>\n    <g clip-path=\"url(#p433376a625)\">\n     <use style=\"fill:#440154;stroke:#440154;\" x=\"189.455104\" xlink:href=\"#C1_0_31944c9635\" y=\"114.840923\"/>\n    </g>\n    <g clip-path=\"url(#p433376a625)\">\n     <use style=\"fill:#440154;stroke:#440154;\" x=\"322.777657\" xlink:href=\"#C1_0_31944c9635\" y=\"51.167052\"/>\n    </g>\n    <g clip-path=\"url(#p433376a625)\">\n     <use style=\"fill:#440154;stroke:#440154;\" x=\"213.540192\" xlink:href=\"#C1_0_31944c9635\" y=\"104.90638\"/>\n    </g>\n   </g>\n   <g id=\"matplotlib.axis_1\">\n    <g id=\"xtick_1\">\n     <g id=\"line2d_1\">\n      <defs>\n       <path d=\"M 0 0 \nL 0 3.5 \n\" id=\"mcb72c36a87\" style=\"stroke:#000000;stroke-width:0.8;\"/>\n      </defs>\n      <g>\n       <use style=\"stroke:#000000;stroke-width:0.8;\" x=\"43.569407\" xlink:href=\"#mcb72c36a87\" y=\"273.312\"/>\n      </g>\n     </g>\n     <g id=\"text_1\">\n      <!-- 0.0 -->\n      <g transform=\"translate(35.617844 287.910437)scale(0.1 -0.1)\">\n       <defs>\n        <path d=\"M 2034 4250 \nQ 1547 4250 1301 3770 \nQ 1056 3291 1056 2328 \nQ 1056 1369 1301 889 \nQ 1547 409 2034 409 \nQ 2525 409 2770 889 \nQ 3016 1369 3016 2328 \nQ 3016 3291 2770 3770 \nQ 2525 4250 2034 4250 \nz\nM 2034 4750 \nQ 2819 4750 3233 4129 \nQ 3647 3509 3647 2328 \nQ 3647 1150 3233 529 \nQ 2819 -91 2034 -91 \nQ 1250 -91 836 529 \nQ 422 1150 422 2328 \nQ 422 3509 836 4129 \nQ 1250 4750 2034 4750 \nz\n\" id=\"DejaVuSans-30\" transform=\"scale(0.015625)\"/>\n        <path d=\"M 684 794 \nL 1344 794 \nL 1344 0 \nL 684 0 \nL 684 794 \nz\n\" id=\"DejaVuSans-2e\" transform=\"scale(0.015625)\"/>\n       </defs>\n       <use xlink:href=\"#DejaVuSans-30\"/>\n       <use x=\"63.623047\" xlink:href=\"#DejaVuSans-2e\"/>\n       <use x=\"95.410156\" xlink:href=\"#DejaVuSans-30\"/>\n      </g>\n     </g>\n    </g>\n    <g id=\"xtick_2\">\n     <g id=\"line2d_2\">\n      <g>\n       <use style=\"stroke:#000000;stroke-width:0.8;\" x=\"109.053605\" xlink:href=\"#mcb72c36a87\" y=\"273.312\"/>\n      </g>\n     </g>\n     <g id=\"text_2\">\n      <!-- 0.2 -->\n      <g transform=\"translate(101.102043 287.910437)scale(0.1 -0.1)\">\n       <defs>\n        <path d=\"M 1228 531 \nL 3431 531 \nL 3431 0 \nL 469 0 \nL 469 531 \nQ 828 903 1448 1529 \nQ 2069 2156 2228 2338 \nQ 2531 2678 2651 2914 \nQ 2772 3150 2772 3378 \nQ 2772 3750 2511 3984 \nQ 2250 4219 1831 4219 \nQ 1534 4219 1204 4116 \nQ 875 4013 500 3803 \nL 500 4441 \nQ 881 4594 1212 4672 \nQ 1544 4750 1819 4750 \nQ 2544 4750 2975 4387 \nQ 3406 4025 3406 3419 \nQ 3406 3131 3298 2873 \nQ 3191 2616 2906 2266 \nQ 2828 2175 2409 1742 \nQ 1991 1309 1228 531 \nz\n\" id=\"DejaVuSans-32\" transform=\"scale(0.015625)\"/>\n       </defs>\n       <use xlink:href=\"#DejaVuSans-30\"/>\n       <use x=\"63.623047\" xlink:href=\"#DejaVuSans-2e\"/>\n       <use x=\"95.410156\" xlink:href=\"#DejaVuSans-32\"/>\n      </g>\n     </g>\n    </g>\n    <g id=\"xtick_3\">\n     <g id=\"line2d_3\">\n      <g>\n       <use style=\"stroke:#000000;stroke-width:0.8;\" x=\"174.537803\" xlink:href=\"#mcb72c36a87\" y=\"273.312\"/>\n      </g>\n     </g>\n     <g id=\"text_3\">\n      <!-- 0.4 -->\n      <g transform=\"translate(166.586241 287.910437)scale(0.1 -0.1)\">\n       <defs>\n        <path d=\"M 2419 4116 \nL 825 1625 \nL 2419 1625 \nL 2419 4116 \nz\nM 2253 4666 \nL 3047 4666 \nL 3047 1625 \nL 3713 1625 \nL 3713 1100 \nL 3047 1100 \nL 3047 0 \nL 2419 0 \nL 2419 1100 \nL 313 1100 \nL 313 1709 \nL 2253 4666 \nz\n\" id=\"DejaVuSans-34\" transform=\"scale(0.015625)\"/>\n       </defs>\n       <use xlink:href=\"#DejaVuSans-30\"/>\n       <use x=\"63.623047\" xlink:href=\"#DejaVuSans-2e\"/>\n       <use x=\"95.410156\" xlink:href=\"#DejaVuSans-34\"/>\n      </g>\n     </g>\n    </g>\n    <g id=\"xtick_4\">\n     <g id=\"line2d_4\">\n      <g>\n       <use style=\"stroke:#000000;stroke-width:0.8;\" x=\"240.022001\" xlink:href=\"#mcb72c36a87\" y=\"273.312\"/>\n      </g>\n     </g>\n     <g id=\"text_4\">\n      <!-- 0.6 -->\n      <g transform=\"translate(232.070439 287.910437)scale(0.1 -0.1)\">\n       <defs>\n        <path d=\"M 2113 2584 \nQ 1688 2584 1439 2293 \nQ 1191 2003 1191 1497 \nQ 1191 994 1439 701 \nQ 1688 409 2113 409 \nQ 2538 409 2786 701 \nQ 3034 994 3034 1497 \nQ 3034 2003 2786 2293 \nQ 2538 2584 2113 2584 \nz\nM 3366 4563 \nL 3366 3988 \nQ 3128 4100 2886 4159 \nQ 2644 4219 2406 4219 \nQ 1781 4219 1451 3797 \nQ 1122 3375 1075 2522 \nQ 1259 2794 1537 2939 \nQ 1816 3084 2150 3084 \nQ 2853 3084 3261 2657 \nQ 3669 2231 3669 1497 \nQ 3669 778 3244 343 \nQ 2819 -91 2113 -91 \nQ 1303 -91 875 529 \nQ 447 1150 447 2328 \nQ 447 3434 972 4092 \nQ 1497 4750 2381 4750 \nQ 2619 4750 2861 4703 \nQ 3103 4656 3366 4563 \nz\n\" id=\"DejaVuSans-36\" transform=\"scale(0.015625)\"/>\n       </defs>\n       <use xlink:href=\"#DejaVuSans-30\"/>\n       <use x=\"63.623047\" xlink:href=\"#DejaVuSans-2e\"/>\n       <use x=\"95.410156\" xlink:href=\"#DejaVuSans-36\"/>\n      </g>\n     </g>\n    </g>\n    <g id=\"xtick_5\">\n     <g id=\"line2d_5\">\n      <g>\n       <use style=\"stroke:#000000;stroke-width:0.8;\" x=\"305.5062\" xlink:href=\"#mcb72c36a87\" y=\"273.312\"/>\n      </g>\n     </g>\n     <g id=\"text_5\">\n      <!-- 0.8 -->\n      <g transform=\"translate(297.554637 287.910437)scale(0.1 -0.1)\">\n       <defs>\n        <path d=\"M 2034 2216 \nQ 1584 2216 1326 1975 \nQ 1069 1734 1069 1313 \nQ 1069 891 1326 650 \nQ 1584 409 2034 409 \nQ 2484 409 2743 651 \nQ 3003 894 3003 1313 \nQ 3003 1734 2745 1975 \nQ 2488 2216 2034 2216 \nz\nM 1403 2484 \nQ 997 2584 770 2862 \nQ 544 3141 544 3541 \nQ 544 4100 942 4425 \nQ 1341 4750 2034 4750 \nQ 2731 4750 3128 4425 \nQ 3525 4100 3525 3541 \nQ 3525 3141 3298 2862 \nQ 3072 2584 2669 2484 \nQ 3125 2378 3379 2068 \nQ 3634 1759 3634 1313 \nQ 3634 634 3220 271 \nQ 2806 -91 2034 -91 \nQ 1263 -91 848 271 \nQ 434 634 434 1313 \nQ 434 1759 690 2068 \nQ 947 2378 1403 2484 \nz\nM 1172 3481 \nQ 1172 3119 1398 2916 \nQ 1625 2713 2034 2713 \nQ 2441 2713 2670 2916 \nQ 2900 3119 2900 3481 \nQ 2900 3844 2670 4047 \nQ 2441 4250 2034 4250 \nQ 1625 4250 1398 4047 \nQ 1172 3844 1172 3481 \nz\n\" id=\"DejaVuSans-38\" transform=\"scale(0.015625)\"/>\n       </defs>\n       <use xlink:href=\"#DejaVuSans-30\"/>\n       <use x=\"63.623047\" xlink:href=\"#DejaVuSans-2e\"/>\n       <use x=\"95.410156\" xlink:href=\"#DejaVuSans-38\"/>\n      </g>\n     </g>\n    </g>\n    <g id=\"xtick_6\">\n     <g id=\"line2d_6\">\n      <g>\n       <use style=\"stroke:#000000;stroke-width:0.8;\" x=\"370.990398\" xlink:href=\"#mcb72c36a87\" y=\"273.312\"/>\n      </g>\n     </g>\n     <g id=\"text_6\">\n      <!-- 1.0 -->\n      <g transform=\"translate(363.038835 287.910437)scale(0.1 -0.1)\">\n       <defs>\n        <path d=\"M 794 531 \nL 1825 531 \nL 1825 4091 \nL 703 3866 \nL 703 4441 \nL 1819 4666 \nL 2450 4666 \nL 2450 531 \nL 3481 531 \nL 3481 0 \nL 794 0 \nL 794 531 \nz\n\" id=\"DejaVuSans-31\" transform=\"scale(0.015625)\"/>\n       </defs>\n       <use xlink:href=\"#DejaVuSans-31\"/>\n       <use x=\"63.623047\" xlink:href=\"#DejaVuSans-2e\"/>\n       <use x=\"95.410156\" xlink:href=\"#DejaVuSans-30\"/>\n      </g>\n     </g>\n    </g>\n   </g>\n   <g id=\"matplotlib.axis_2\">\n    <g id=\"ytick_1\">\n     <g id=\"line2d_7\">\n      <defs>\n       <path d=\"M 0 0 \nL -3.5 0 \n\" id=\"m743cd41bda\" style=\"stroke:#000000;stroke-width:0.8;\"/>\n      </defs>\n      <g>\n       <use style=\"stroke:#000000;stroke-width:0.8;\" x=\"30.103125\" xlink:href=\"#m743cd41bda\" y=\"246.735175\"/>\n      </g>\n     </g>\n     <g id=\"text_7\">\n      <!-- 0.0 -->\n      <g transform=\"translate(7.2 250.534394)scale(0.1 -0.1)\">\n       <use xlink:href=\"#DejaVuSans-30\"/>\n       <use x=\"63.623047\" xlink:href=\"#DejaVuSans-2e\"/>\n       <use x=\"95.410156\" xlink:href=\"#DejaVuSans-30\"/>\n      </g>\n     </g>\n    </g>\n    <g id=\"ytick_2\">\n     <g id=\"line2d_8\">\n      <g>\n       <use style=\"stroke:#000000;stroke-width:0.8;\" x=\"30.103125\" xlink:href=\"#m743cd41bda\" y=\"201.24734\"/>\n      </g>\n     </g>\n     <g id=\"text_8\">\n      <!-- 0.2 -->\n      <g transform=\"translate(7.2 205.046559)scale(0.1 -0.1)\">\n       <use xlink:href=\"#DejaVuSans-30\"/>\n       <use x=\"63.623047\" xlink:href=\"#DejaVuSans-2e\"/>\n       <use x=\"95.410156\" xlink:href=\"#DejaVuSans-32\"/>\n      </g>\n     </g>\n    </g>\n    <g id=\"ytick_3\">\n     <g id=\"line2d_9\">\n      <g>\n       <use style=\"stroke:#000000;stroke-width:0.8;\" x=\"30.103125\" xlink:href=\"#m743cd41bda\" y=\"155.759505\"/>\n      </g>\n     </g>\n     <g id=\"text_9\">\n      <!-- 0.4 -->\n      <g transform=\"translate(7.2 159.558724)scale(0.1 -0.1)\">\n       <use xlink:href=\"#DejaVuSans-30\"/>\n       <use x=\"63.623047\" xlink:href=\"#DejaVuSans-2e\"/>\n       <use x=\"95.410156\" xlink:href=\"#DejaVuSans-34\"/>\n      </g>\n     </g>\n    </g>\n    <g id=\"ytick_4\">\n     <g id=\"line2d_10\">\n      <g>\n       <use style=\"stroke:#000000;stroke-width:0.8;\" x=\"30.103125\" xlink:href=\"#m743cd41bda\" y=\"110.27167\"/>\n      </g>\n     </g>\n     <g id=\"text_10\">\n      <!-- 0.6 -->\n      <g transform=\"translate(7.2 114.070889)scale(0.1 -0.1)\">\n       <use xlink:href=\"#DejaVuSans-30\"/>\n       <use x=\"63.623047\" xlink:href=\"#DejaVuSans-2e\"/>\n       <use x=\"95.410156\" xlink:href=\"#DejaVuSans-36\"/>\n      </g>\n     </g>\n    </g>\n    <g id=\"ytick_5\">\n     <g id=\"line2d_11\">\n      <g>\n       <use style=\"stroke:#000000;stroke-width:0.8;\" x=\"30.103125\" xlink:href=\"#m743cd41bda\" y=\"64.783835\"/>\n      </g>\n     </g>\n     <g id=\"text_11\">\n      <!-- 0.8 -->\n      <g transform=\"translate(7.2 68.583054)scale(0.1 -0.1)\">\n       <use xlink:href=\"#DejaVuSans-30\"/>\n       <use x=\"63.623047\" xlink:href=\"#DejaVuSans-2e\"/>\n       <use x=\"95.410156\" xlink:href=\"#DejaVuSans-38\"/>\n      </g>\n     </g>\n    </g>\n    <g id=\"ytick_6\">\n     <g id=\"line2d_12\">\n      <g>\n       <use style=\"stroke:#000000;stroke-width:0.8;\" x=\"30.103125\" xlink:href=\"#m743cd41bda\" y=\"19.296\"/>\n      </g>\n     </g>\n     <g id=\"text_12\">\n      <!-- 1.0 -->\n      <g transform=\"translate(7.2 23.095219)scale(0.1 -0.1)\">\n       <use xlink:href=\"#DejaVuSans-31\"/>\n       <use x=\"63.623047\" xlink:href=\"#DejaVuSans-2e\"/>\n       <use x=\"95.410156\" xlink:href=\"#DejaVuSans-30\"/>\n      </g>\n     </g>\n    </g>\n   </g>\n   <g id=\"patch_3\">\n    <path d=\"M 30.103125 273.312 \nL 30.103125 7.2 \n\" style=\"fill:none;stroke:#000000;stroke-linecap:square;stroke-linejoin:miter;stroke-width:0.8;\"/>\n   </g>\n   <g id=\"patch_4\">\n    <path d=\"M 387.223125 273.312 \nL 387.223125 7.2 \n\" style=\"fill:none;stroke:#000000;stroke-linecap:square;stroke-linejoin:miter;stroke-width:0.8;\"/>\n   </g>\n   <g id=\"patch_5\">\n    <path d=\"M 30.103125 273.312 \nL 387.223125 273.312 \n\" style=\"fill:none;stroke:#000000;stroke-linecap:square;stroke-linejoin:miter;stroke-width:0.8;\"/>\n   </g>\n   <g id=\"patch_6\">\n    <path d=\"M 30.103125 7.2 \nL 387.223125 7.2 \n\" style=\"fill:none;stroke:#000000;stroke-linecap:square;stroke-linejoin:miter;stroke-width:0.8;\"/>\n   </g>\n  </g>\n </g>\n <defs>\n  <clipPath id=\"p433376a625\">\n   <rect height=\"266.112\" width=\"357.12\" x=\"30.103125\" y=\"7.2\"/>\n  </clipPath>\n </defs>\n</svg>\n",
      "image/png": "[encoded data removed]"
     },
     "metadata": {}
    }
   ],
   "metadata": {
    "ExecuteTime": {
     "end_time": "2021-05-26T06:52:46.863528Z",
     "start_time": "2021-05-26T06:52:46.755851Z"
    }
   }
  },
  {
   "cell_type": "code",
   "execution_count": null,
   "source": [],
   "outputs": [],
   "metadata": {}
  }
 ],
 "metadata": {
  "kernelspec": {
   "name": "python3",
   "display_name": "Python 3.8.11 64-bit ('dlmod': conda)"
  },
  "language_info": {
   "codemirror_mode": {
    "name": "ipython",
    "version": 3
   },
   "file_extension": ".py",
   "mimetype": "text/x-python",
   "name": "python",
   "nbconvert_exporter": "python",
   "pygments_lexer": "ipython3",
   "version": "3.8.11"
  },
  "varInspector": {
   "cols": {
    "lenName": 16,
    "lenType": 16,
    "lenVar": 40
   },
   "kernels_config": {
    "python": {
     "delete_cmd_postfix": "",
     "delete_cmd_prefix": "del ",
     "library": "var_list.py",
     "varRefreshCmd": "print(var_dic_list())"
    },
    "r": {
     "delete_cmd_postfix": ") ",
     "delete_cmd_prefix": "rm(",
     "library": "var_list.r",
     "varRefreshCmd": "cat(var_dic_list()) "
    }
   },
   "types_to_exclude": [
    "module",
    "function",
    "builtin_function_or_method",
    "instance",
    "_Feature"
   ],
   "window_display": false
  },
  "interpreter": {
   "hash": "b19428efcbb6d0ea2fddd18d395f035e0bd84b94ded35c7329f1f6d567caed94"
  }
 },
 "nbformat": 4,
 "nbformat_minor": 5
}