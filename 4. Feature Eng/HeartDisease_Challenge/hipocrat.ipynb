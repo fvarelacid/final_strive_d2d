{
 "cells": [
  {
   "cell_type": "code",
   "metadata": {
    "cell_id": "00000-33a148ab-8930-4e07-a7e9-b8154c273c82",
    "deepnote_to_be_reexecuted": false,
    "source_hash": "239aaa2d",
    "execution_start": 1626441299746,
    "execution_millis": 1,
    "deepnote_cell_type": "code"
   },
   "source": "import pandas as pd \nimport numpy as np ",
   "execution_count": 1,
   "outputs": []
  },
  {
   "cell_type": "code",
   "metadata": {
    "cell_id": "00001-5428d5ca-5c02-4f3a-9930-6e10aa063d4b",
    "deepnote_to_be_reexecuted": false,
    "source_hash": "13b9c910",
    "execution_start": 1626446580078,
    "execution_millis": 15,
    "deepnote_cell_type": "code"
   },
   "source": "hipocrat = pd.read_csv('data.csv')",
   "execution_count": 154,
   "outputs": [
    {
     "output_type": "error",
     "ename": "TypeError",
     "evalue": "read_csv() got an unexpected keyword argument 'index'",
     "traceback": [
      "\u001b[0;31m---------------------------------------------------------------------------\u001b[0m",
      "\u001b[0;31mTypeError\u001b[0m                                 Traceback (most recent call last)",
      "\u001b[0;32m/tmp/ipykernel_644/3274973309.py\u001b[0m in \u001b[0;36m<module>\u001b[0;34m\u001b[0m\n\u001b[0;32m----> 1\u001b[0;31m \u001b[0mhipocrat\u001b[0m \u001b[0;34m=\u001b[0m \u001b[0mpd\u001b[0m\u001b[0;34m.\u001b[0m\u001b[0mread_csv\u001b[0m\u001b[0;34m(\u001b[0m\u001b[0;34m'data.csv'\u001b[0m\u001b[0;34m,\u001b[0m \u001b[0mindex\u001b[0m\u001b[0;34m=\u001b[0m\u001b[0;32mFalse\u001b[0m\u001b[0;34m)\u001b[0m\u001b[0;34m\u001b[0m\u001b[0;34m\u001b[0m\u001b[0m\n\u001b[0m",
      "\u001b[0;31mTypeError\u001b[0m: read_csv() got an unexpected keyword argument 'index'"
     ]
    }
   ]
  },
  {
   "cell_type": "code",
   "metadata": {
    "cell_id": "00002-922b0b38-27d1-4d17-ba5b-a0c6b80e0fb3",
    "deepnote_to_be_reexecuted": false,
    "source_hash": "e47f4210",
    "execution_start": 1626441300836,
    "execution_millis": 148,
    "deepnote_cell_type": "code"
   },
   "source": "hipocrat.head()",
   "execution_count": 3,
   "outputs": [
    {
     "output_type": "execute_result",
     "execution_count": 3,
     "data": {
      "application/vnd.deepnote.dataframe.v2+json": {
       "row_count": 5,
       "column_count": 14,
       "columns": [
        {
         "name": "age",
         "dtype": "int64",
         "stats": {
          "unique_count": 4,
          "nan_count": 0,
          "min": "28",
          "max": "31",
          "histogram": [
           {
            "bin_start": 28,
            "bin_end": 28.3,
            "count": 1
           },
           {
            "bin_start": 28.3,
            "bin_end": 28.6,
            "count": 0
           },
           {
            "bin_start": 28.6,
            "bin_end": 28.9,
            "count": 0
           },
           {
            "bin_start": 28.9,
            "bin_end": 29.2,
            "count": 2
           },
           {
            "bin_start": 29.2,
            "bin_end": 29.5,
            "count": 0
           },
           {
            "bin_start": 29.5,
            "bin_end": 29.8,
            "count": 0
           },
           {
            "bin_start": 29.8,
            "bin_end": 30.1,
            "count": 1
           },
           {
            "bin_start": 30.1,
            "bin_end": 30.4,
            "count": 0
           },
           {
            "bin_start": 30.4,
            "bin_end": 30.7,
            "count": 0
           },
           {
            "bin_start": 30.7,
            "bin_end": 31,
            "count": 1
           }
          ]
         }
        },
        {
         "name": "sex",
         "dtype": "int64",
         "stats": {
          "unique_count": 2,
          "nan_count": 0,
          "min": "0",
          "max": "1",
          "histogram": [
           {
            "bin_start": 0,
            "bin_end": 0.1,
            "count": 2
           },
           {
            "bin_start": 0.1,
            "bin_end": 0.2,
            "count": 0
           },
           {
            "bin_start": 0.2,
            "bin_end": 0.30000000000000004,
            "count": 0
           },
           {
            "bin_start": 0.30000000000000004,
            "bin_end": 0.4,
            "count": 0
           },
           {
            "bin_start": 0.4,
            "bin_end": 0.5,
            "count": 0
           },
           {
            "bin_start": 0.5,
            "bin_end": 0.6000000000000001,
            "count": 0
           },
           {
            "bin_start": 0.6000000000000001,
            "bin_end": 0.7000000000000001,
            "count": 0
           },
           {
            "bin_start": 0.7000000000000001,
            "bin_end": 0.8,
            "count": 0
           },
           {
            "bin_start": 0.8,
            "bin_end": 0.9,
            "count": 0
           },
           {
            "bin_start": 0.9,
            "bin_end": 1,
            "count": 3
           }
          ]
         }
        },
        {
         "name": "cp",
         "dtype": "int64",
         "stats": {
          "unique_count": 2,
          "nan_count": 0,
          "min": "1",
          "max": "2",
          "histogram": [
           {
            "bin_start": 1,
            "bin_end": 1.1,
            "count": 1
           },
           {
            "bin_start": 1.1,
            "bin_end": 1.2,
            "count": 0
           },
           {
            "bin_start": 1.2,
            "bin_end": 1.3,
            "count": 0
           },
           {
            "bin_start": 1.3,
            "bin_end": 1.4,
            "count": 0
           },
           {
            "bin_start": 1.4,
            "bin_end": 1.5,
            "count": 0
           },
           {
            "bin_start": 1.5,
            "bin_end": 1.6,
            "count": 0
           },
           {
            "bin_start": 1.6,
            "bin_end": 1.7000000000000002,
            "count": 0
           },
           {
            "bin_start": 1.7000000000000002,
            "bin_end": 1.8,
            "count": 0
           },
           {
            "bin_start": 1.8,
            "bin_end": 1.9,
            "count": 0
           },
           {
            "bin_start": 1.9,
            "bin_end": 2,
            "count": 4
           }
          ]
         }
        },
        {
         "name": "trestbps",
         "dtype": "object",
         "stats": {
          "unique_count": 5,
          "nan_count": 0,
          "categories": [
           {
            "name": "130",
            "count": 1
           },
           {
            "name": "120",
            "count": 1
           },
           {
            "name": "3 others",
            "count": 3
           }
          ]
         }
        },
        {
         "name": "chol",
         "dtype": "object",
         "stats": {
          "unique_count": 5,
          "nan_count": 0,
          "categories": [
           {
            "name": "132",
            "count": 1
           },
           {
            "name": "243",
            "count": 1
           },
           {
            "name": "3 others",
            "count": 3
           }
          ]
         }
        },
        {
         "name": "fbs",
         "dtype": "object",
         "stats": {
          "unique_count": 1,
          "nan_count": 0,
          "categories": [
           {
            "name": "0",
            "count": 5
           }
          ]
         }
        },
        {
         "name": "restecg",
         "dtype": "object",
         "stats": {
          "unique_count": 3,
          "nan_count": 0,
          "categories": [
           {
            "name": "0",
            "count": 2
           },
           {
            "name": "1",
            "count": 2
           },
           {
            "name": "2",
            "count": 1
           }
          ]
         }
        },
        {
         "name": "thalach",
         "dtype": "object",
         "stats": {
          "unique_count": 4,
          "nan_count": 0,
          "categories": [
           {
            "name": "170",
            "count": 2
           },
           {
            "name": "185",
            "count": 1
           },
           {
            "name": "2 others",
            "count": 2
           }
          ]
         }
        },
        {
         "name": "exang",
         "dtype": "object",
         "stats": {
          "unique_count": 1,
          "nan_count": 0,
          "categories": [
           {
            "name": "0",
            "count": 5
           }
          ]
         }
        },
        {
         "name": "oldpeak",
         "dtype": "float64",
         "stats": {
          "unique_count": 1,
          "nan_count": 0,
          "min": "0.0",
          "max": "0.0",
          "histogram": [
           {
            "bin_start": -0.5,
            "bin_end": -0.4,
            "count": 0
           },
           {
            "bin_start": -0.4,
            "bin_end": -0.3,
            "count": 0
           },
           {
            "bin_start": -0.3,
            "bin_end": -0.19999999999999996,
            "count": 0
           },
           {
            "bin_start": -0.19999999999999996,
            "bin_end": -0.09999999999999998,
            "count": 0
           },
           {
            "bin_start": -0.09999999999999998,
            "bin_end": 0,
            "count": 0
           },
           {
            "bin_start": 0,
            "bin_end": 0.10000000000000009,
            "count": 5
           },
           {
            "bin_start": 0.10000000000000009,
            "bin_end": 0.20000000000000007,
            "count": 0
           },
           {
            "bin_start": 0.20000000000000007,
            "bin_end": 0.30000000000000004,
            "count": 0
           },
           {
            "bin_start": 0.30000000000000004,
            "bin_end": 0.4,
            "count": 0
           },
           {
            "bin_start": 0.4,
            "bin_end": 0.5,
            "count": 0
           }
          ]
         }
        },
        {
         "name": "slope",
         "dtype": "object",
         "stats": {
          "unique_count": 1,
          "nan_count": 0,
          "categories": [
           {
            "name": "?",
            "count": 5
           }
          ]
         }
        },
        {
         "name": "ca",
         "dtype": "object",
         "stats": {
          "unique_count": 1,
          "nan_count": 0,
          "categories": [
           {
            "name": "?",
            "count": 5
           }
          ]
         }
        },
        {
         "name": "thal",
         "dtype": "object",
         "stats": {
          "unique_count": 2,
          "nan_count": 0,
          "categories": [
           {
            "name": "?",
            "count": 4
           },
           {
            "name": "6",
            "count": 1
           }
          ]
         }
        },
        {
         "name": "num       ",
         "dtype": "int64",
         "stats": {
          "unique_count": 1,
          "nan_count": 0,
          "min": "0",
          "max": "0",
          "histogram": [
           {
            "bin_start": -0.5,
            "bin_end": -0.4,
            "count": 0
           },
           {
            "bin_start": -0.4,
            "bin_end": -0.3,
            "count": 0
           },
           {
            "bin_start": -0.3,
            "bin_end": -0.19999999999999996,
            "count": 0
           },
           {
            "bin_start": -0.19999999999999996,
            "bin_end": -0.09999999999999998,
            "count": 0
           },
           {
            "bin_start": -0.09999999999999998,
            "bin_end": 0,
            "count": 0
           },
           {
            "bin_start": 0,
            "bin_end": 0.10000000000000009,
            "count": 5
           },
           {
            "bin_start": 0.10000000000000009,
            "bin_end": 0.20000000000000007,
            "count": 0
           },
           {
            "bin_start": 0.20000000000000007,
            "bin_end": 0.30000000000000004,
            "count": 0
           },
           {
            "bin_start": 0.30000000000000004,
            "bin_end": 0.4,
            "count": 0
           },
           {
            "bin_start": 0.4,
            "bin_end": 0.5,
            "count": 0
           }
          ]
         }
        },
        {
         "name": "_deepnote_index_column",
         "dtype": "int64"
        }
       ],
       "rows_top": [
        {
         "age": 28,
         "sex": 1,
         "cp": 2,
         "trestbps": "130",
         "chol": "132",
         "fbs": "0",
         "restecg": "2",
         "thalach": "185",
         "exang": "0",
         "oldpeak": 0,
         "slope": "?",
         "ca": "?",
         "thal": "?",
         "num       ": 0,
         "_deepnote_index_column": 0
        },
        {
         "age": 29,
         "sex": 1,
         "cp": 2,
         "trestbps": "120",
         "chol": "243",
         "fbs": "0",
         "restecg": "0",
         "thalach": "160",
         "exang": "0",
         "oldpeak": 0,
         "slope": "?",
         "ca": "?",
         "thal": "?",
         "num       ": 0,
         "_deepnote_index_column": 1
        },
        {
         "age": 29,
         "sex": 1,
         "cp": 2,
         "trestbps": "140",
         "chol": "?",
         "fbs": "0",
         "restecg": "0",
         "thalach": "170",
         "exang": "0",
         "oldpeak": 0,
         "slope": "?",
         "ca": "?",
         "thal": "?",
         "num       ": 0,
         "_deepnote_index_column": 2
        },
        {
         "age": 30,
         "sex": 0,
         "cp": 1,
         "trestbps": "170",
         "chol": "237",
         "fbs": "0",
         "restecg": "1",
         "thalach": "170",
         "exang": "0",
         "oldpeak": 0,
         "slope": "?",
         "ca": "?",
         "thal": "6",
         "num       ": 0,
         "_deepnote_index_column": 3
        },
        {
         "age": 31,
         "sex": 0,
         "cp": 2,
         "trestbps": "100",
         "chol": "219",
         "fbs": "0",
         "restecg": "1",
         "thalach": "150",
         "exang": "0",
         "oldpeak": 0,
         "slope": "?",
         "ca": "?",
         "thal": "?",
         "num       ": 0,
         "_deepnote_index_column": 4
        }
       ],
       "rows_bottom": null
      },
      "text/plain": "   age  sex  cp trestbps chol fbs restecg thalach exang  oldpeak slope ca  \\\n0   28    1   2      130  132   0       2     185     0      0.0     ?  ?   \n1   29    1   2      120  243   0       0     160     0      0.0     ?  ?   \n2   29    1   2      140    ?   0       0     170     0      0.0     ?  ?   \n3   30    0   1      170  237   0       1     170     0      0.0     ?  ?   \n4   31    0   2      100  219   0       1     150     0      0.0     ?  ?   \n\n  thal  num         \n0    ?           0  \n1    ?           0  \n2    ?           0  \n3    6           0  \n4    ?           0  ",
      "text/html": "<div>\n<style scoped>\n    .dataframe tbody tr th:only-of-type {\n        vertical-align: middle;\n    }\n\n    .dataframe tbody tr th {\n        vertical-align: top;\n    }\n\n    .dataframe thead th {\n        text-align: right;\n    }\n</style>\n<table border=\"1\" class=\"dataframe\">\n  <thead>\n    <tr style=\"text-align: right;\">\n      <th></th>\n      <th>age</th>\n      <th>sex</th>\n      <th>cp</th>\n      <th>trestbps</th>\n      <th>chol</th>\n      <th>fbs</th>\n      <th>restecg</th>\n      <th>thalach</th>\n      <th>exang</th>\n      <th>oldpeak</th>\n      <th>slope</th>\n      <th>ca</th>\n      <th>thal</th>\n      <th>num</th>\n    </tr>\n  </thead>\n  <tbody>\n    <tr>\n      <th>0</th>\n      <td>28</td>\n      <td>1</td>\n      <td>2</td>\n      <td>130</td>\n      <td>132</td>\n      <td>0</td>\n      <td>2</td>\n      <td>185</td>\n      <td>0</td>\n      <td>0.0</td>\n      <td>?</td>\n      <td>?</td>\n      <td>?</td>\n      <td>0</td>\n    </tr>\n    <tr>\n      <th>1</th>\n      <td>29</td>\n      <td>1</td>\n      <td>2</td>\n      <td>120</td>\n      <td>243</td>\n      <td>0</td>\n      <td>0</td>\n      <td>160</td>\n      <td>0</td>\n      <td>0.0</td>\n      <td>?</td>\n      <td>?</td>\n      <td>?</td>\n      <td>0</td>\n    </tr>\n    <tr>\n      <th>2</th>\n      <td>29</td>\n      <td>1</td>\n      <td>2</td>\n      <td>140</td>\n      <td>?</td>\n      <td>0</td>\n      <td>0</td>\n      <td>170</td>\n      <td>0</td>\n      <td>0.0</td>\n      <td>?</td>\n      <td>?</td>\n      <td>?</td>\n      <td>0</td>\n    </tr>\n    <tr>\n      <th>3</th>\n      <td>30</td>\n      <td>0</td>\n      <td>1</td>\n      <td>170</td>\n      <td>237</td>\n      <td>0</td>\n      <td>1</td>\n      <td>170</td>\n      <td>0</td>\n      <td>0.0</td>\n      <td>?</td>\n      <td>?</td>\n      <td>6</td>\n      <td>0</td>\n    </tr>\n    <tr>\n      <th>4</th>\n      <td>31</td>\n      <td>0</td>\n      <td>2</td>\n      <td>100</td>\n      <td>219</td>\n      <td>0</td>\n      <td>1</td>\n      <td>150</td>\n      <td>0</td>\n      <td>0.0</td>\n      <td>?</td>\n      <td>?</td>\n      <td>?</td>\n      <td>0</td>\n    </tr>\n  </tbody>\n</table>\n</div>"
     },
     "metadata": {}
    }
   ]
  },
  {
   "cell_type": "code",
   "metadata": {
    "cell_id": "00003-59de0ac0-0950-4bf7-ba02-1763f6f1a5a5",
    "deepnote_to_be_reexecuted": false,
    "source_hash": "7437fa55",
    "execution_start": 1626441301715,
    "execution_millis": 59,
    "deepnote_cell_type": "code"
   },
   "source": "hipocrat.columns",
   "execution_count": 4,
   "outputs": [
    {
     "output_type": "execute_result",
     "execution_count": 4,
     "data": {
      "text/plain": "Index(['age', 'sex', 'cp', 'trestbps', 'chol', 'fbs', 'restecg', 'thalach',\n       'exang', 'oldpeak', 'slope', 'ca', 'thal', 'num       '],\n      dtype='object')"
     },
     "metadata": {}
    }
   ]
  },
  {
   "cell_type": "code",
   "metadata": {
    "cell_id": "00004-e2e65d51-a48d-4c57-baba-3982cc8cfeaf",
    "deepnote_to_be_reexecuted": false,
    "source_hash": "e79da781",
    "execution_start": 1626441302555,
    "execution_millis": 9,
    "deepnote_cell_type": "code"
   },
   "source": "hipocrat.columns = [columns.strip() for columns in hipocrat.columns] ",
   "execution_count": 5,
   "outputs": []
  },
  {
   "cell_type": "code",
   "metadata": {
    "cell_id": "00005-96691056-b2a9-4404-a163-0a4347142db1",
    "deepnote_to_be_reexecuted": false,
    "source_hash": "7437fa55",
    "execution_start": 1626441303339,
    "execution_millis": 20,
    "deepnote_cell_type": "code"
   },
   "source": "hipocrat.columns",
   "execution_count": 6,
   "outputs": [
    {
     "output_type": "execute_result",
     "execution_count": 6,
     "data": {
      "text/plain": "Index(['age', 'sex', 'cp', 'trestbps', 'chol', 'fbs', 'restecg', 'thalach',\n       'exang', 'oldpeak', 'slope', 'ca', 'thal', 'num'],\n      dtype='object')"
     },
     "metadata": {}
    }
   ]
  },
  {
   "cell_type": "code",
   "metadata": {
    "cell_id": "00006-602c7a66-5607-4476-a007-2437b45a5dd6",
    "deepnote_to_be_reexecuted": false,
    "source_hash": "eb7c6c90",
    "execution_start": 1626441304300,
    "execution_millis": 16,
    "deepnote_cell_type": "code"
   },
   "source": "hipocrat.isnull().any()",
   "execution_count": 7,
   "outputs": [
    {
     "output_type": "execute_result",
     "execution_count": 7,
     "data": {
      "text/plain": "age         False\nsex         False\ncp          False\ntrestbps    False\nchol        False\nfbs         False\nrestecg     False\nthalach     False\nexang       False\noldpeak     False\nslope       False\nca          False\nthal        False\nnum         False\ndtype: bool"
     },
     "metadata": {}
    }
   ]
  },
  {
   "cell_type": "code",
   "metadata": {
    "cell_id": "00007-66f11b22-0af6-43fe-a099-f3c4a5ae3e28",
    "deepnote_to_be_reexecuted": false,
    "source_hash": "62af44c2",
    "execution_start": 1626441305209,
    "execution_millis": 0,
    "deepnote_cell_type": "code"
   },
   "source": "\"\"\"\n9.cp: chest pain type\n10 trestbps: resting blood pressure (in mm Hg on admission to the\nhospital)\n12 chol: serum cholestoral in mg/dl\n16 fbs: (fasting blood sugar > 120 mg/dl) (1 = true; 0 = false)\n19 restecg: resting electrocardiographic results\n-- Value 0: normal\n-- Value 1: having ST-T wave abnormality (T wave inversions and/or ST\nelevation or depression of > 0.05 mV)\n-- Value 2: showing probable or definite left ventricular hypertrophy\nby Estes' criteria\n32 thalach: maximum heart rate achieved\n38 exang: exercise induced angina (1 = yes; 0 = no)\n40 oldpeak = ST depression induced by exercise relative to rest\n41 slope: the slope of the peak exercise ST segment\n-- Value 1: upsloping\n-- Value 2: flat\n-- Value 3: downsloping\n44 ca: number of major vessels (0-3) colored by flourosopy\n51 thal: 3 = normal; 6 = fixed defect; 7 = reversable defect\n58 num: diagnosis of heart disease (angiographic disease status)\n-- Value 0: < 50% diameter narrowing -- Value 1: > 50% diameter narrowing\n(in any major vessel: attributes 59 through 68 are vessels)\n\"\"\"",
   "execution_count": 8,
   "outputs": [
    {
     "output_type": "execute_result",
     "execution_count": 8,
     "data": {
      "text/plain": "\"\\n9.cp: chest pain type\\n10 trestbps: resting blood pressure (in mm Hg on admission to the\\nhospital)\\n12 chol: serum cholestoral in mg/dl\\n16 fbs: (fasting blood sugar > 120 mg/dl) (1 = true; 0 = false)\\n19 restecg: resting electrocardiographic results\\n-- Value 0: normal\\n-- Value 1: having ST-T wave abnormality (T wave inversions and/or ST\\nelevation or depression of > 0.05 mV)\\n-- Value 2: showing probable or definite left ventricular hypertrophy\\nby Estes' criteria\\n32 thalach: maximum heart rate achieved\\n38 exang: exercise induced angina (1 = yes; 0 = no)\\n40 oldpeak = ST depression induced by exercise relative to rest\\n41 slope: the slope of the peak exercise ST segment\\n-- Value 1: upsloping\\n-- Value 2: flat\\n-- Value 3: downsloping\\n44 ca: number of major vessels (0-3) colored by flourosopy\\n51 thal: 3 = normal; 6 = fixed defect; 7 = reversable defect\\n58 num: diagnosis of heart disease (angiographic disease status)\\n-- Value 0: < 50% diameter narrowing -- Value 1: > 50% diameter narrowing\\n(in any major vessel: attributes 59 through 68 are vessels)\\n\""
     },
     "metadata": {}
    }
   ]
  },
  {
   "cell_type": "code",
   "metadata": {
    "cell_id": "00008-f601fc44-1630-415d-bd68-eba6cfb3882e",
    "deepnote_to_be_reexecuted": false,
    "source_hash": "f6bc20d5",
    "execution_start": 1626441306278,
    "execution_millis": 8,
    "deepnote_cell_type": "code"
   },
   "source": "columns = ['age','sex','chest pain','blood pressure','serum cholestoral',\"blood sugar\",'electrocardiographic','max heart_rate','angina exercise','depression exercise','slope','major vessels','defect',\"heart disease\"]\nhipocrat.columns = columns ",
   "execution_count": 9,
   "outputs": []
  },
  {
   "cell_type": "code",
   "metadata": {
    "cell_id": "00009-c90f303d-a01c-43fc-8992-44766b8af454",
    "deepnote_to_be_reexecuted": false,
    "source_hash": "e47f4210",
    "execution_start": 1626441307617,
    "execution_millis": 117,
    "deepnote_cell_type": "code"
   },
   "source": "hipocrat.head()",
   "execution_count": 10,
   "outputs": [
    {
     "output_type": "execute_result",
     "execution_count": 10,
     "data": {
      "application/vnd.deepnote.dataframe.v2+json": {
       "row_count": 5,
       "column_count": 14,
       "columns": [
        {
         "name": "age",
         "dtype": "int64",
         "stats": {
          "unique_count": 4,
          "nan_count": 0,
          "min": "28",
          "max": "31",
          "histogram": [
           {
            "bin_start": 28,
            "bin_end": 28.3,
            "count": 1
           },
           {
            "bin_start": 28.3,
            "bin_end": 28.6,
            "count": 0
           },
           {
            "bin_start": 28.6,
            "bin_end": 28.9,
            "count": 0
           },
           {
            "bin_start": 28.9,
            "bin_end": 29.2,
            "count": 2
           },
           {
            "bin_start": 29.2,
            "bin_end": 29.5,
            "count": 0
           },
           {
            "bin_start": 29.5,
            "bin_end": 29.8,
            "count": 0
           },
           {
            "bin_start": 29.8,
            "bin_end": 30.1,
            "count": 1
           },
           {
            "bin_start": 30.1,
            "bin_end": 30.4,
            "count": 0
           },
           {
            "bin_start": 30.4,
            "bin_end": 30.7,
            "count": 0
           },
           {
            "bin_start": 30.7,
            "bin_end": 31,
            "count": 1
           }
          ]
         }
        },
        {
         "name": "sex",
         "dtype": "int64",
         "stats": {
          "unique_count": 2,
          "nan_count": 0,
          "min": "0",
          "max": "1",
          "histogram": [
           {
            "bin_start": 0,
            "bin_end": 0.1,
            "count": 2
           },
           {
            "bin_start": 0.1,
            "bin_end": 0.2,
            "count": 0
           },
           {
            "bin_start": 0.2,
            "bin_end": 0.30000000000000004,
            "count": 0
           },
           {
            "bin_start": 0.30000000000000004,
            "bin_end": 0.4,
            "count": 0
           },
           {
            "bin_start": 0.4,
            "bin_end": 0.5,
            "count": 0
           },
           {
            "bin_start": 0.5,
            "bin_end": 0.6000000000000001,
            "count": 0
           },
           {
            "bin_start": 0.6000000000000001,
            "bin_end": 0.7000000000000001,
            "count": 0
           },
           {
            "bin_start": 0.7000000000000001,
            "bin_end": 0.8,
            "count": 0
           },
           {
            "bin_start": 0.8,
            "bin_end": 0.9,
            "count": 0
           },
           {
            "bin_start": 0.9,
            "bin_end": 1,
            "count": 3
           }
          ]
         }
        },
        {
         "name": "chest pain",
         "dtype": "int64",
         "stats": {
          "unique_count": 2,
          "nan_count": 0,
          "min": "1",
          "max": "2",
          "histogram": [
           {
            "bin_start": 1,
            "bin_end": 1.1,
            "count": 1
           },
           {
            "bin_start": 1.1,
            "bin_end": 1.2,
            "count": 0
           },
           {
            "bin_start": 1.2,
            "bin_end": 1.3,
            "count": 0
           },
           {
            "bin_start": 1.3,
            "bin_end": 1.4,
            "count": 0
           },
           {
            "bin_start": 1.4,
            "bin_end": 1.5,
            "count": 0
           },
           {
            "bin_start": 1.5,
            "bin_end": 1.6,
            "count": 0
           },
           {
            "bin_start": 1.6,
            "bin_end": 1.7000000000000002,
            "count": 0
           },
           {
            "bin_start": 1.7000000000000002,
            "bin_end": 1.8,
            "count": 0
           },
           {
            "bin_start": 1.8,
            "bin_end": 1.9,
            "count": 0
           },
           {
            "bin_start": 1.9,
            "bin_end": 2,
            "count": 4
           }
          ]
         }
        },
        {
         "name": "blood pressure",
         "dtype": "object",
         "stats": {
          "unique_count": 5,
          "nan_count": 0,
          "categories": [
           {
            "name": "130",
            "count": 1
           },
           {
            "name": "120",
            "count": 1
           },
           {
            "name": "3 others",
            "count": 3
           }
          ]
         }
        },
        {
         "name": "serum cholestoral",
         "dtype": "object",
         "stats": {
          "unique_count": 5,
          "nan_count": 0,
          "categories": [
           {
            "name": "132",
            "count": 1
           },
           {
            "name": "243",
            "count": 1
           },
           {
            "name": "3 others",
            "count": 3
           }
          ]
         }
        },
        {
         "name": "blood sugar",
         "dtype": "object",
         "stats": {
          "unique_count": 1,
          "nan_count": 0,
          "categories": [
           {
            "name": "0",
            "count": 5
           }
          ]
         }
        },
        {
         "name": "electrocardiographic",
         "dtype": "object",
         "stats": {
          "unique_count": 3,
          "nan_count": 0,
          "categories": [
           {
            "name": "0",
            "count": 2
           },
           {
            "name": "1",
            "count": 2
           },
           {
            "name": "2",
            "count": 1
           }
          ]
         }
        },
        {
         "name": "max heart_rate",
         "dtype": "object",
         "stats": {
          "unique_count": 4,
          "nan_count": 0,
          "categories": [
           {
            "name": "170",
            "count": 2
           },
           {
            "name": "185",
            "count": 1
           },
           {
            "name": "2 others",
            "count": 2
           }
          ]
         }
        },
        {
         "name": "angina exercise",
         "dtype": "object",
         "stats": {
          "unique_count": 1,
          "nan_count": 0,
          "categories": [
           {
            "name": "0",
            "count": 5
           }
          ]
         }
        },
        {
         "name": "depression exercise",
         "dtype": "float64",
         "stats": {
          "unique_count": 1,
          "nan_count": 0,
          "min": "0.0",
          "max": "0.0",
          "histogram": [
           {
            "bin_start": -0.5,
            "bin_end": -0.4,
            "count": 0
           },
           {
            "bin_start": -0.4,
            "bin_end": -0.3,
            "count": 0
           },
           {
            "bin_start": -0.3,
            "bin_end": -0.19999999999999996,
            "count": 0
           },
           {
            "bin_start": -0.19999999999999996,
            "bin_end": -0.09999999999999998,
            "count": 0
           },
           {
            "bin_start": -0.09999999999999998,
            "bin_end": 0,
            "count": 0
           },
           {
            "bin_start": 0,
            "bin_end": 0.10000000000000009,
            "count": 5
           },
           {
            "bin_start": 0.10000000000000009,
            "bin_end": 0.20000000000000007,
            "count": 0
           },
           {
            "bin_start": 0.20000000000000007,
            "bin_end": 0.30000000000000004,
            "count": 0
           },
           {
            "bin_start": 0.30000000000000004,
            "bin_end": 0.4,
            "count": 0
           },
           {
            "bin_start": 0.4,
            "bin_end": 0.5,
            "count": 0
           }
          ]
         }
        },
        {
         "name": "slope",
         "dtype": "object",
         "stats": {
          "unique_count": 1,
          "nan_count": 0,
          "categories": [
           {
            "name": "?",
            "count": 5
           }
          ]
         }
        },
        {
         "name": "major vessels",
         "dtype": "object",
         "stats": {
          "unique_count": 1,
          "nan_count": 0,
          "categories": [
           {
            "name": "?",
            "count": 5
           }
          ]
         }
        },
        {
         "name": "defect",
         "dtype": "object",
         "stats": {
          "unique_count": 2,
          "nan_count": 0,
          "categories": [
           {
            "name": "?",
            "count": 4
           },
           {
            "name": "6",
            "count": 1
           }
          ]
         }
        },
        {
         "name": "heart disease",
         "dtype": "int64",
         "stats": {
          "unique_count": 1,
          "nan_count": 0,
          "min": "0",
          "max": "0",
          "histogram": [
           {
            "bin_start": -0.5,
            "bin_end": -0.4,
            "count": 0
           },
           {
            "bin_start": -0.4,
            "bin_end": -0.3,
            "count": 0
           },
           {
            "bin_start": -0.3,
            "bin_end": -0.19999999999999996,
            "count": 0
           },
           {
            "bin_start": -0.19999999999999996,
            "bin_end": -0.09999999999999998,
            "count": 0
           },
           {
            "bin_start": -0.09999999999999998,
            "bin_end": 0,
            "count": 0
           },
           {
            "bin_start": 0,
            "bin_end": 0.10000000000000009,
            "count": 5
           },
           {
            "bin_start": 0.10000000000000009,
            "bin_end": 0.20000000000000007,
            "count": 0
           },
           {
            "bin_start": 0.20000000000000007,
            "bin_end": 0.30000000000000004,
            "count": 0
           },
           {
            "bin_start": 0.30000000000000004,
            "bin_end": 0.4,
            "count": 0
           },
           {
            "bin_start": 0.4,
            "bin_end": 0.5,
            "count": 0
           }
          ]
         }
        },
        {
         "name": "_deepnote_index_column",
         "dtype": "int64"
        }
       ],
       "rows_top": [
        {
         "age": 28,
         "sex": 1,
         "chest pain": 2,
         "blood pressure": "130",
         "serum cholestoral": "132",
         "blood sugar": "0",
         "electrocardiographic": "2",
         "max heart_rate": "185",
         "angina exercise": "0",
         "depression exercise": 0,
         "slope": "?",
         "major vessels": "?",
         "defect": "?",
         "heart disease": 0,
         "_deepnote_index_column": 0
        },
        {
         "age": 29,
         "sex": 1,
         "chest pain": 2,
         "blood pressure": "120",
         "serum cholestoral": "243",
         "blood sugar": "0",
         "electrocardiographic": "0",
         "max heart_rate": "160",
         "angina exercise": "0",
         "depression exercise": 0,
         "slope": "?",
         "major vessels": "?",
         "defect": "?",
         "heart disease": 0,
         "_deepnote_index_column": 1
        },
        {
         "age": 29,
         "sex": 1,
         "chest pain": 2,
         "blood pressure": "140",
         "serum cholestoral": "?",
         "blood sugar": "0",
         "electrocardiographic": "0",
         "max heart_rate": "170",
         "angina exercise": "0",
         "depression exercise": 0,
         "slope": "?",
         "major vessels": "?",
         "defect": "?",
         "heart disease": 0,
         "_deepnote_index_column": 2
        },
        {
         "age": 30,
         "sex": 0,
         "chest pain": 1,
         "blood pressure": "170",
         "serum cholestoral": "237",
         "blood sugar": "0",
         "electrocardiographic": "1",
         "max heart_rate": "170",
         "angina exercise": "0",
         "depression exercise": 0,
         "slope": "?",
         "major vessels": "?",
         "defect": "6",
         "heart disease": 0,
         "_deepnote_index_column": 3
        },
        {
         "age": 31,
         "sex": 0,
         "chest pain": 2,
         "blood pressure": "100",
         "serum cholestoral": "219",
         "blood sugar": "0",
         "electrocardiographic": "1",
         "max heart_rate": "150",
         "angina exercise": "0",
         "depression exercise": 0,
         "slope": "?",
         "major vessels": "?",
         "defect": "?",
         "heart disease": 0,
         "_deepnote_index_column": 4
        }
       ],
       "rows_bottom": null
      },
      "text/plain": "   age  sex  chest pain blood pressure serum cholestoral blood sugar  \\\n0   28    1           2            130               132           0   \n1   29    1           2            120               243           0   \n2   29    1           2            140                 ?           0   \n3   30    0           1            170               237           0   \n4   31    0           2            100               219           0   \n\n  electrocardiographic max heart_rate angina exercise  depression exercise  \\\n0                    2            185               0                  0.0   \n1                    0            160               0                  0.0   \n2                    0            170               0                  0.0   \n3                    1            170               0                  0.0   \n4                    1            150               0                  0.0   \n\n  slope major vessels defect  heart disease  \n0     ?             ?      ?              0  \n1     ?             ?      ?              0  \n2     ?             ?      ?              0  \n3     ?             ?      6              0  \n4     ?             ?      ?              0  ",
      "text/html": "<div>\n<style scoped>\n    .dataframe tbody tr th:only-of-type {\n        vertical-align: middle;\n    }\n\n    .dataframe tbody tr th {\n        vertical-align: top;\n    }\n\n    .dataframe thead th {\n        text-align: right;\n    }\n</style>\n<table border=\"1\" class=\"dataframe\">\n  <thead>\n    <tr style=\"text-align: right;\">\n      <th></th>\n      <th>age</th>\n      <th>sex</th>\n      <th>chest pain</th>\n      <th>blood pressure</th>\n      <th>serum cholestoral</th>\n      <th>blood sugar</th>\n      <th>electrocardiographic</th>\n      <th>max heart_rate</th>\n      <th>angina exercise</th>\n      <th>depression exercise</th>\n      <th>slope</th>\n      <th>major vessels</th>\n      <th>defect</th>\n      <th>heart disease</th>\n    </tr>\n  </thead>\n  <tbody>\n    <tr>\n      <th>0</th>\n      <td>28</td>\n      <td>1</td>\n      <td>2</td>\n      <td>130</td>\n      <td>132</td>\n      <td>0</td>\n      <td>2</td>\n      <td>185</td>\n      <td>0</td>\n      <td>0.0</td>\n      <td>?</td>\n      <td>?</td>\n      <td>?</td>\n      <td>0</td>\n    </tr>\n    <tr>\n      <th>1</th>\n      <td>29</td>\n      <td>1</td>\n      <td>2</td>\n      <td>120</td>\n      <td>243</td>\n      <td>0</td>\n      <td>0</td>\n      <td>160</td>\n      <td>0</td>\n      <td>0.0</td>\n      <td>?</td>\n      <td>?</td>\n      <td>?</td>\n      <td>0</td>\n    </tr>\n    <tr>\n      <th>2</th>\n      <td>29</td>\n      <td>1</td>\n      <td>2</td>\n      <td>140</td>\n      <td>?</td>\n      <td>0</td>\n      <td>0</td>\n      <td>170</td>\n      <td>0</td>\n      <td>0.0</td>\n      <td>?</td>\n      <td>?</td>\n      <td>?</td>\n      <td>0</td>\n    </tr>\n    <tr>\n      <th>3</th>\n      <td>30</td>\n      <td>0</td>\n      <td>1</td>\n      <td>170</td>\n      <td>237</td>\n      <td>0</td>\n      <td>1</td>\n      <td>170</td>\n      <td>0</td>\n      <td>0.0</td>\n      <td>?</td>\n      <td>?</td>\n      <td>6</td>\n      <td>0</td>\n    </tr>\n    <tr>\n      <th>4</th>\n      <td>31</td>\n      <td>0</td>\n      <td>2</td>\n      <td>100</td>\n      <td>219</td>\n      <td>0</td>\n      <td>1</td>\n      <td>150</td>\n      <td>0</td>\n      <td>0.0</td>\n      <td>?</td>\n      <td>?</td>\n      <td>?</td>\n      <td>0</td>\n    </tr>\n  </tbody>\n</table>\n</div>"
     },
     "metadata": {}
    }
   ]
  },
  {
   "cell_type": "code",
   "metadata": {
    "cell_id": "00010-022203f2-1c73-4f68-a361-e76030265e46",
    "deepnote_to_be_reexecuted": false,
    "source_hash": "76143709",
    "execution_start": 1626441309613,
    "execution_millis": 17,
    "deepnote_cell_type": "code"
   },
   "source": "hipocrat['major vessels'].value_counts()",
   "execution_count": 11,
   "outputs": [
    {
     "output_type": "execute_result",
     "execution_count": 11,
     "data": {
      "text/plain": "?    291\n0      3\nName: major vessels, dtype: int64"
     },
     "metadata": {}
    }
   ]
  },
  {
   "cell_type": "code",
   "metadata": {
    "cell_id": "00011-9b00a964-2555-4907-8ad9-4e8523afe83f",
    "deepnote_to_be_reexecuted": false,
    "source_hash": "22adf3e6",
    "execution_start": 1626441310244,
    "execution_millis": 14,
    "deepnote_cell_type": "code"
   },
   "source": "hipocrat['defect'].value_counts()",
   "execution_count": 12,
   "outputs": [
    {
     "output_type": "execute_result",
     "execution_count": 12,
     "data": {
      "text/plain": "?    266\n7     11\n6     10\n3      7\nName: defect, dtype: int64"
     },
     "metadata": {}
    }
   ]
  },
  {
   "cell_type": "code",
   "metadata": {
    "cell_id": "00012-bfecd15b-ce60-44bd-b78d-b569b6b0390c",
    "deepnote_to_be_reexecuted": false,
    "source_hash": "1a6ae368",
    "execution_start": 1626441311336,
    "execution_millis": 18,
    "deepnote_cell_type": "code"
   },
   "source": "hipocrat['slope'].value_counts()",
   "execution_count": 13,
   "outputs": [
    {
     "output_type": "execute_result",
     "execution_count": 13,
     "data": {
      "text/plain": "?    190\n2     91\n1     12\n3      1\nName: slope, dtype: int64"
     },
     "metadata": {}
    }
   ]
  },
  {
   "cell_type": "code",
   "metadata": {
    "cell_id": "00013-a6aae0f9-7f0f-4b59-a9a6-3652f02f53d4",
    "deepnote_to_be_reexecuted": false,
    "source_hash": "d957a664",
    "execution_start": 1626441312980,
    "execution_millis": 10,
    "deepnote_cell_type": "code"
   },
   "source": "hipocrat['heart disease'].value_counts()",
   "execution_count": 14,
   "outputs": [
    {
     "output_type": "execute_result",
     "execution_count": 14,
     "data": {
      "text/plain": "0    188\n1    106\nName: heart disease, dtype: int64"
     },
     "metadata": {}
    }
   ]
  },
  {
   "cell_type": "code",
   "metadata": {
    "cell_id": "00014-5b811347-c95b-44b4-91fc-dad753739b6a",
    "deepnote_to_be_reexecuted": false,
    "source_hash": "3e7374a1",
    "execution_start": 1626441313773,
    "execution_millis": 7,
    "deepnote_cell_type": "code"
   },
   "source": "# hipocrat.drop(hipocrat['defect'],hipocrat['slope'],hipocrat['major vessels'])",
   "execution_count": 15,
   "outputs": []
  },
  {
   "cell_type": "code",
   "metadata": {
    "cell_id": "00015-14a3e4e4-109b-4f3f-bf38-3aefe6a60cf4",
    "deepnote_to_be_reexecuted": false,
    "source_hash": "58a5d259",
    "execution_start": 1626441314863,
    "execution_millis": 4,
    "deepnote_cell_type": "code"
   },
   "source": "del hipocrat['defect']\ndel hipocrat['major vessels']\ndel hipocrat['slope']",
   "execution_count": 16,
   "outputs": []
  },
  {
   "cell_type": "code",
   "metadata": {
    "cell_id": "00016-6d65149a-ca00-47cf-88f8-f0c33c88e7bb",
    "deepnote_to_be_reexecuted": false,
    "source_hash": "e47f4210",
    "execution_start": 1626441315929,
    "execution_millis": 153,
    "deepnote_cell_type": "code"
   },
   "source": "hipocrat.head()",
   "execution_count": 17,
   "outputs": [
    {
     "output_type": "execute_result",
     "execution_count": 17,
     "data": {
      "application/vnd.deepnote.dataframe.v2+json": {
       "row_count": 5,
       "column_count": 11,
       "columns": [
        {
         "name": "age",
         "dtype": "int64",
         "stats": {
          "unique_count": 4,
          "nan_count": 0,
          "min": "28",
          "max": "31",
          "histogram": [
           {
            "bin_start": 28,
            "bin_end": 28.3,
            "count": 1
           },
           {
            "bin_start": 28.3,
            "bin_end": 28.6,
            "count": 0
           },
           {
            "bin_start": 28.6,
            "bin_end": 28.9,
            "count": 0
           },
           {
            "bin_start": 28.9,
            "bin_end": 29.2,
            "count": 2
           },
           {
            "bin_start": 29.2,
            "bin_end": 29.5,
            "count": 0
           },
           {
            "bin_start": 29.5,
            "bin_end": 29.8,
            "count": 0
           },
           {
            "bin_start": 29.8,
            "bin_end": 30.1,
            "count": 1
           },
           {
            "bin_start": 30.1,
            "bin_end": 30.4,
            "count": 0
           },
           {
            "bin_start": 30.4,
            "bin_end": 30.7,
            "count": 0
           },
           {
            "bin_start": 30.7,
            "bin_end": 31,
            "count": 1
           }
          ]
         }
        },
        {
         "name": "sex",
         "dtype": "int64",
         "stats": {
          "unique_count": 2,
          "nan_count": 0,
          "min": "0",
          "max": "1",
          "histogram": [
           {
            "bin_start": 0,
            "bin_end": 0.1,
            "count": 2
           },
           {
            "bin_start": 0.1,
            "bin_end": 0.2,
            "count": 0
           },
           {
            "bin_start": 0.2,
            "bin_end": 0.30000000000000004,
            "count": 0
           },
           {
            "bin_start": 0.30000000000000004,
            "bin_end": 0.4,
            "count": 0
           },
           {
            "bin_start": 0.4,
            "bin_end": 0.5,
            "count": 0
           },
           {
            "bin_start": 0.5,
            "bin_end": 0.6000000000000001,
            "count": 0
           },
           {
            "bin_start": 0.6000000000000001,
            "bin_end": 0.7000000000000001,
            "count": 0
           },
           {
            "bin_start": 0.7000000000000001,
            "bin_end": 0.8,
            "count": 0
           },
           {
            "bin_start": 0.8,
            "bin_end": 0.9,
            "count": 0
           },
           {
            "bin_start": 0.9,
            "bin_end": 1,
            "count": 3
           }
          ]
         }
        },
        {
         "name": "chest pain",
         "dtype": "int64",
         "stats": {
          "unique_count": 2,
          "nan_count": 0,
          "min": "1",
          "max": "2",
          "histogram": [
           {
            "bin_start": 1,
            "bin_end": 1.1,
            "count": 1
           },
           {
            "bin_start": 1.1,
            "bin_end": 1.2,
            "count": 0
           },
           {
            "bin_start": 1.2,
            "bin_end": 1.3,
            "count": 0
           },
           {
            "bin_start": 1.3,
            "bin_end": 1.4,
            "count": 0
           },
           {
            "bin_start": 1.4,
            "bin_end": 1.5,
            "count": 0
           },
           {
            "bin_start": 1.5,
            "bin_end": 1.6,
            "count": 0
           },
           {
            "bin_start": 1.6,
            "bin_end": 1.7000000000000002,
            "count": 0
           },
           {
            "bin_start": 1.7000000000000002,
            "bin_end": 1.8,
            "count": 0
           },
           {
            "bin_start": 1.8,
            "bin_end": 1.9,
            "count": 0
           },
           {
            "bin_start": 1.9,
            "bin_end": 2,
            "count": 4
           }
          ]
         }
        },
        {
         "name": "blood pressure",
         "dtype": "object",
         "stats": {
          "unique_count": 5,
          "nan_count": 0,
          "categories": [
           {
            "name": "130",
            "count": 1
           },
           {
            "name": "120",
            "count": 1
           },
           {
            "name": "3 others",
            "count": 3
           }
          ]
         }
        },
        {
         "name": "serum cholestoral",
         "dtype": "object",
         "stats": {
          "unique_count": 5,
          "nan_count": 0,
          "categories": [
           {
            "name": "132",
            "count": 1
           },
           {
            "name": "243",
            "count": 1
           },
           {
            "name": "3 others",
            "count": 3
           }
          ]
         }
        },
        {
         "name": "blood sugar",
         "dtype": "object",
         "stats": {
          "unique_count": 1,
          "nan_count": 0,
          "categories": [
           {
            "name": "0",
            "count": 5
           }
          ]
         }
        },
        {
         "name": "electrocardiographic",
         "dtype": "object",
         "stats": {
          "unique_count": 3,
          "nan_count": 0,
          "categories": [
           {
            "name": "0",
            "count": 2
           },
           {
            "name": "1",
            "count": 2
           },
           {
            "name": "2",
            "count": 1
           }
          ]
         }
        },
        {
         "name": "max heart_rate",
         "dtype": "object",
         "stats": {
          "unique_count": 4,
          "nan_count": 0,
          "categories": [
           {
            "name": "170",
            "count": 2
           },
           {
            "name": "185",
            "count": 1
           },
           {
            "name": "2 others",
            "count": 2
           }
          ]
         }
        },
        {
         "name": "angina exercise",
         "dtype": "object",
         "stats": {
          "unique_count": 1,
          "nan_count": 0,
          "categories": [
           {
            "name": "0",
            "count": 5
           }
          ]
         }
        },
        {
         "name": "depression exercise",
         "dtype": "float64",
         "stats": {
          "unique_count": 1,
          "nan_count": 0,
          "min": "0.0",
          "max": "0.0",
          "histogram": [
           {
            "bin_start": -0.5,
            "bin_end": -0.4,
            "count": 0
           },
           {
            "bin_start": -0.4,
            "bin_end": -0.3,
            "count": 0
           },
           {
            "bin_start": -0.3,
            "bin_end": -0.19999999999999996,
            "count": 0
           },
           {
            "bin_start": -0.19999999999999996,
            "bin_end": -0.09999999999999998,
            "count": 0
           },
           {
            "bin_start": -0.09999999999999998,
            "bin_end": 0,
            "count": 0
           },
           {
            "bin_start": 0,
            "bin_end": 0.10000000000000009,
            "count": 5
           },
           {
            "bin_start": 0.10000000000000009,
            "bin_end": 0.20000000000000007,
            "count": 0
           },
           {
            "bin_start": 0.20000000000000007,
            "bin_end": 0.30000000000000004,
            "count": 0
           },
           {
            "bin_start": 0.30000000000000004,
            "bin_end": 0.4,
            "count": 0
           },
           {
            "bin_start": 0.4,
            "bin_end": 0.5,
            "count": 0
           }
          ]
         }
        },
        {
         "name": "heart disease",
         "dtype": "int64",
         "stats": {
          "unique_count": 1,
          "nan_count": 0,
          "min": "0",
          "max": "0",
          "histogram": [
           {
            "bin_start": -0.5,
            "bin_end": -0.4,
            "count": 0
           },
           {
            "bin_start": -0.4,
            "bin_end": -0.3,
            "count": 0
           },
           {
            "bin_start": -0.3,
            "bin_end": -0.19999999999999996,
            "count": 0
           },
           {
            "bin_start": -0.19999999999999996,
            "bin_end": -0.09999999999999998,
            "count": 0
           },
           {
            "bin_start": -0.09999999999999998,
            "bin_end": 0,
            "count": 0
           },
           {
            "bin_start": 0,
            "bin_end": 0.10000000000000009,
            "count": 5
           },
           {
            "bin_start": 0.10000000000000009,
            "bin_end": 0.20000000000000007,
            "count": 0
           },
           {
            "bin_start": 0.20000000000000007,
            "bin_end": 0.30000000000000004,
            "count": 0
           },
           {
            "bin_start": 0.30000000000000004,
            "bin_end": 0.4,
            "count": 0
           },
           {
            "bin_start": 0.4,
            "bin_end": 0.5,
            "count": 0
           }
          ]
         }
        },
        {
         "name": "_deepnote_index_column",
         "dtype": "int64"
        }
       ],
       "rows_top": [
        {
         "age": 28,
         "sex": 1,
         "chest pain": 2,
         "blood pressure": "130",
         "serum cholestoral": "132",
         "blood sugar": "0",
         "electrocardiographic": "2",
         "max heart_rate": "185",
         "angina exercise": "0",
         "depression exercise": 0,
         "heart disease": 0,
         "_deepnote_index_column": 0
        },
        {
         "age": 29,
         "sex": 1,
         "chest pain": 2,
         "blood pressure": "120",
         "serum cholestoral": "243",
         "blood sugar": "0",
         "electrocardiographic": "0",
         "max heart_rate": "160",
         "angina exercise": "0",
         "depression exercise": 0,
         "heart disease": 0,
         "_deepnote_index_column": 1
        },
        {
         "age": 29,
         "sex": 1,
         "chest pain": 2,
         "blood pressure": "140",
         "serum cholestoral": "?",
         "blood sugar": "0",
         "electrocardiographic": "0",
         "max heart_rate": "170",
         "angina exercise": "0",
         "depression exercise": 0,
         "heart disease": 0,
         "_deepnote_index_column": 2
        },
        {
         "age": 30,
         "sex": 0,
         "chest pain": 1,
         "blood pressure": "170",
         "serum cholestoral": "237",
         "blood sugar": "0",
         "electrocardiographic": "1",
         "max heart_rate": "170",
         "angina exercise": "0",
         "depression exercise": 0,
         "heart disease": 0,
         "_deepnote_index_column": 3
        },
        {
         "age": 31,
         "sex": 0,
         "chest pain": 2,
         "blood pressure": "100",
         "serum cholestoral": "219",
         "blood sugar": "0",
         "electrocardiographic": "1",
         "max heart_rate": "150",
         "angina exercise": "0",
         "depression exercise": 0,
         "heart disease": 0,
         "_deepnote_index_column": 4
        }
       ],
       "rows_bottom": null
      },
      "text/plain": "   age  sex  chest pain blood pressure serum cholestoral blood sugar  \\\n0   28    1           2            130               132           0   \n1   29    1           2            120               243           0   \n2   29    1           2            140                 ?           0   \n3   30    0           1            170               237           0   \n4   31    0           2            100               219           0   \n\n  electrocardiographic max heart_rate angina exercise  depression exercise  \\\n0                    2            185               0                  0.0   \n1                    0            160               0                  0.0   \n2                    0            170               0                  0.0   \n3                    1            170               0                  0.0   \n4                    1            150               0                  0.0   \n\n   heart disease  \n0              0  \n1              0  \n2              0  \n3              0  \n4              0  ",
      "text/html": "<div>\n<style scoped>\n    .dataframe tbody tr th:only-of-type {\n        vertical-align: middle;\n    }\n\n    .dataframe tbody tr th {\n        vertical-align: top;\n    }\n\n    .dataframe thead th {\n        text-align: right;\n    }\n</style>\n<table border=\"1\" class=\"dataframe\">\n  <thead>\n    <tr style=\"text-align: right;\">\n      <th></th>\n      <th>age</th>\n      <th>sex</th>\n      <th>chest pain</th>\n      <th>blood pressure</th>\n      <th>serum cholestoral</th>\n      <th>blood sugar</th>\n      <th>electrocardiographic</th>\n      <th>max heart_rate</th>\n      <th>angina exercise</th>\n      <th>depression exercise</th>\n      <th>heart disease</th>\n    </tr>\n  </thead>\n  <tbody>\n    <tr>\n      <th>0</th>\n      <td>28</td>\n      <td>1</td>\n      <td>2</td>\n      <td>130</td>\n      <td>132</td>\n      <td>0</td>\n      <td>2</td>\n      <td>185</td>\n      <td>0</td>\n      <td>0.0</td>\n      <td>0</td>\n    </tr>\n    <tr>\n      <th>1</th>\n      <td>29</td>\n      <td>1</td>\n      <td>2</td>\n      <td>120</td>\n      <td>243</td>\n      <td>0</td>\n      <td>0</td>\n      <td>160</td>\n      <td>0</td>\n      <td>0.0</td>\n      <td>0</td>\n    </tr>\n    <tr>\n      <th>2</th>\n      <td>29</td>\n      <td>1</td>\n      <td>2</td>\n      <td>140</td>\n      <td>?</td>\n      <td>0</td>\n      <td>0</td>\n      <td>170</td>\n      <td>0</td>\n      <td>0.0</td>\n      <td>0</td>\n    </tr>\n    <tr>\n      <th>3</th>\n      <td>30</td>\n      <td>0</td>\n      <td>1</td>\n      <td>170</td>\n      <td>237</td>\n      <td>0</td>\n      <td>1</td>\n      <td>170</td>\n      <td>0</td>\n      <td>0.0</td>\n      <td>0</td>\n    </tr>\n    <tr>\n      <th>4</th>\n      <td>31</td>\n      <td>0</td>\n      <td>2</td>\n      <td>100</td>\n      <td>219</td>\n      <td>0</td>\n      <td>1</td>\n      <td>150</td>\n      <td>0</td>\n      <td>0.0</td>\n      <td>0</td>\n    </tr>\n  </tbody>\n</table>\n</div>"
     },
     "metadata": {}
    }
   ]
  },
  {
   "cell_type": "code",
   "metadata": {
    "cell_id": "00017-d178e7c1-0eb8-4957-9aaa-0eb823a256de",
    "deepnote_to_be_reexecuted": false,
    "source_hash": "cd9cb76",
    "execution_start": 1626441317560,
    "execution_millis": 15,
    "deepnote_cell_type": "code"
   },
   "source": "hipocrat['serum cholestoral'].value_counts()",
   "execution_count": 18,
   "outputs": [
    {
     "output_type": "execute_result",
     "execution_count": 18,
     "data": {
      "text/plain": "?      23\n275     5\n246     5\n230     5\n196     4\n       ..\n394     1\n338     1\n171     1\n241     1\n161     1\nName: serum cholestoral, Length: 154, dtype: int64"
     },
     "metadata": {}
    }
   ]
  },
  {
   "cell_type": "code",
   "metadata": {
    "cell_id": "00018-ec9e82c5-469f-4895-b04f-075780c7b4f6",
    "deepnote_to_be_reexecuted": false,
    "source_hash": "42bc5c2b",
    "execution_start": 1626441318610,
    "execution_millis": 24,
    "deepnote_cell_type": "code"
   },
   "source": "hipocrat['age'].value_counts()",
   "execution_count": 19,
   "outputs": [
    {
     "output_type": "execute_result",
     "execution_count": 19,
     "data": {
      "text/plain": "54    25\n48    19\n52    17\n55    15\n49    15\n46    13\n53    12\n50    12\n43    12\n39    11\n41    11\n47    10\n56    10\n58     9\n51     9\n59     8\n45     8\n37     8\n42     7\n40     7\n38     7\n44     7\n36     5\n35     5\n57     5\n34     4\n32     4\n65     3\n61     2\n60     2\n62     2\n31     2\n33     2\n29     2\n63     1\n28     1\n30     1\n66     1\nName: age, dtype: int64"
     },
     "metadata": {}
    }
   ]
  },
  {
   "cell_type": "code",
   "metadata": {
    "cell_id": "00019-5dc0db5a-d74c-493a-a973-e2f13e0a635c",
    "deepnote_to_be_reexecuted": false,
    "source_hash": "3a73f30",
    "execution_start": 1626441319708,
    "execution_millis": 7,
    "deepnote_cell_type": "code"
   },
   "source": "# hipocrat['serum cholestoral'].replace('?',hipocrat['serum cholestoral'].mean())",
   "execution_count": 20,
   "outputs": []
  },
  {
   "cell_type": "code",
   "metadata": {
    "cell_id": "00020-7702c971-9e1d-428b-8d65-0390b22c4822",
    "deepnote_to_be_reexecuted": false,
    "source_hash": "76492d63",
    "execution_start": 1626441322033,
    "execution_millis": 2,
    "deepnote_cell_type": "code"
   },
   "source": "# hipocrat['serum cholestoral'].astype(int",
   "execution_count": 21,
   "outputs": []
  },
  {
   "cell_type": "code",
   "metadata": {
    "cell_id": "00021-65de2e27-f24a-40cf-9364-f16f164f8bf1",
    "deepnote_to_be_reexecuted": false,
    "source_hash": "53fdde8a",
    "execution_start": 1626441322702,
    "execution_millis": 10,
    "deepnote_cell_type": "code"
   },
   "source": "hipocrat.replace('?',np.nan,inplace=True)",
   "execution_count": 22,
   "outputs": []
  },
  {
   "cell_type": "code",
   "metadata": {
    "cell_id": "00022-f50e6792-e964-44a7-9bda-9306a426682f",
    "deepnote_to_be_reexecuted": false,
    "source_hash": "b075c610",
    "execution_start": 1626441324716,
    "execution_millis": 15,
    "deepnote_cell_type": "code"
   },
   "source": "hipocrat['serum cholestoral'].isnull().sum()",
   "execution_count": 23,
   "outputs": [
    {
     "output_type": "execute_result",
     "execution_count": 23,
     "data": {
      "text/plain": "23"
     },
     "metadata": {}
    }
   ]
  },
  {
   "cell_type": "code",
   "metadata": {
    "cell_id": "00023-e6691d1e-3192-41ed-b7c0-f09d06a3ab63",
    "deepnote_to_be_reexecuted": false,
    "source_hash": "1bd71ef8",
    "execution_start": 1626441325671,
    "execution_millis": 0,
    "deepnote_cell_type": "code"
   },
   "source": "# hipocrat = hipocrat['serum cholestoral'].dropna()",
   "execution_count": 24,
   "outputs": []
  },
  {
   "cell_type": "code",
   "metadata": {
    "cell_id": "00024-db66201e-a2c0-46f8-a0d9-b715fbff7485",
    "deepnote_to_be_reexecuted": false,
    "source_hash": "13e732cd",
    "execution_start": 1626441326818,
    "execution_millis": 2,
    "deepnote_cell_type": "code"
   },
   "source": "# hipocrat.dropna(axis = 0,inplace = True)\n",
   "execution_count": 25,
   "outputs": []
  },
  {
   "cell_type": "code",
   "metadata": {
    "cell_id": "00025-84ecfbe0-0c5e-4ffe-9a36-25a48ad2b6d3",
    "deepnote_to_be_reexecuted": false,
    "source_hash": "eb7c6c90",
    "execution_start": 1626441327546,
    "execution_millis": 22,
    "deepnote_cell_type": "code"
   },
   "source": "hipocrat.isnull().any()",
   "execution_count": 26,
   "outputs": [
    {
     "output_type": "execute_result",
     "execution_count": 26,
     "data": {
      "text/plain": "age                     False\nsex                     False\nchest pain              False\nblood pressure           True\nserum cholestoral        True\nblood sugar              True\nelectrocardiographic     True\nmax heart_rate           True\nangina exercise          True\ndepression exercise     False\nheart disease           False\ndtype: bool"
     },
     "metadata": {}
    }
   ]
  },
  {
   "cell_type": "code",
   "metadata": {
    "cell_id": "00026-82fa76c1-d3ba-4928-b022-f317e4dff23a",
    "deepnote_to_be_reexecuted": false,
    "source_hash": "7437fa55",
    "execution_start": 1626441329338,
    "execution_millis": 24,
    "deepnote_cell_type": "code"
   },
   "source": "hipocrat.columns",
   "execution_count": 27,
   "outputs": [
    {
     "output_type": "execute_result",
     "execution_count": 27,
     "data": {
      "text/plain": "Index(['age', 'sex', 'chest pain', 'blood pressure', 'serum cholestoral',\n       'blood sugar', 'electrocardiographic', 'max heart_rate',\n       'angina exercise', 'depression exercise', 'heart disease'],\n      dtype='object')"
     },
     "metadata": {}
    }
   ]
  },
  {
   "cell_type": "code",
   "metadata": {
    "cell_id": "00027-afd63cbb-e09f-487e-8d45-c3825a6852e5",
    "deepnote_to_be_reexecuted": false,
    "source_hash": "eacc4dfd",
    "execution_start": 1626441330195,
    "execution_millis": 1,
    "deepnote_cell_type": "code"
   },
   "source": "hipocrat.shape",
   "execution_count": 28,
   "outputs": [
    {
     "output_type": "execute_result",
     "execution_count": 28,
     "data": {
      "text/plain": "(294, 11)"
     },
     "metadata": {}
    }
   ]
  },
  {
   "cell_type": "code",
   "metadata": {
    "cell_id": "00028-991a3443-4c51-4fe5-9178-6af6158bd3fc",
    "deepnote_to_be_reexecuted": false,
    "source_hash": "a0280002",
    "execution_start": 1626441331701,
    "execution_millis": 22,
    "deepnote_cell_type": "code"
   },
   "source": "hipocrat.dtypes",
   "execution_count": 29,
   "outputs": [
    {
     "output_type": "execute_result",
     "execution_count": 29,
     "data": {
      "text/plain": "age                       int64\nsex                       int64\nchest pain                int64\nblood pressure           object\nserum cholestoral        object\nblood sugar              object\nelectrocardiographic     object\nmax heart_rate           object\nangina exercise          object\ndepression exercise     float64\nheart disease             int64\ndtype: object"
     },
     "metadata": {}
    }
   ]
  },
  {
   "cell_type": "code",
   "metadata": {
    "cell_id": "00029-23407df2-68fc-41f6-b652-93a057076711",
    "deepnote_to_be_reexecuted": false,
    "source_hash": "e47f4210",
    "execution_start": 1626441333151,
    "execution_millis": 96,
    "deepnote_cell_type": "code"
   },
   "source": "hipocrat.head()",
   "execution_count": 30,
   "outputs": [
    {
     "output_type": "execute_result",
     "execution_count": 30,
     "data": {
      "application/vnd.deepnote.dataframe.v2+json": {
       "row_count": 5,
       "column_count": 11,
       "columns": [
        {
         "name": "age",
         "dtype": "int64",
         "stats": {
          "unique_count": 4,
          "nan_count": 0,
          "min": "28",
          "max": "31",
          "histogram": [
           {
            "bin_start": 28,
            "bin_end": 28.3,
            "count": 1
           },
           {
            "bin_start": 28.3,
            "bin_end": 28.6,
            "count": 0
           },
           {
            "bin_start": 28.6,
            "bin_end": 28.9,
            "count": 0
           },
           {
            "bin_start": 28.9,
            "bin_end": 29.2,
            "count": 2
           },
           {
            "bin_start": 29.2,
            "bin_end": 29.5,
            "count": 0
           },
           {
            "bin_start": 29.5,
            "bin_end": 29.8,
            "count": 0
           },
           {
            "bin_start": 29.8,
            "bin_end": 30.1,
            "count": 1
           },
           {
            "bin_start": 30.1,
            "bin_end": 30.4,
            "count": 0
           },
           {
            "bin_start": 30.4,
            "bin_end": 30.7,
            "count": 0
           },
           {
            "bin_start": 30.7,
            "bin_end": 31,
            "count": 1
           }
          ]
         }
        },
        {
         "name": "sex",
         "dtype": "int64",
         "stats": {
          "unique_count": 2,
          "nan_count": 0,
          "min": "0",
          "max": "1",
          "histogram": [
           {
            "bin_start": 0,
            "bin_end": 0.1,
            "count": 2
           },
           {
            "bin_start": 0.1,
            "bin_end": 0.2,
            "count": 0
           },
           {
            "bin_start": 0.2,
            "bin_end": 0.30000000000000004,
            "count": 0
           },
           {
            "bin_start": 0.30000000000000004,
            "bin_end": 0.4,
            "count": 0
           },
           {
            "bin_start": 0.4,
            "bin_end": 0.5,
            "count": 0
           },
           {
            "bin_start": 0.5,
            "bin_end": 0.6000000000000001,
            "count": 0
           },
           {
            "bin_start": 0.6000000000000001,
            "bin_end": 0.7000000000000001,
            "count": 0
           },
           {
            "bin_start": 0.7000000000000001,
            "bin_end": 0.8,
            "count": 0
           },
           {
            "bin_start": 0.8,
            "bin_end": 0.9,
            "count": 0
           },
           {
            "bin_start": 0.9,
            "bin_end": 1,
            "count": 3
           }
          ]
         }
        },
        {
         "name": "chest pain",
         "dtype": "int64",
         "stats": {
          "unique_count": 2,
          "nan_count": 0,
          "min": "1",
          "max": "2",
          "histogram": [
           {
            "bin_start": 1,
            "bin_end": 1.1,
            "count": 1
           },
           {
            "bin_start": 1.1,
            "bin_end": 1.2,
            "count": 0
           },
           {
            "bin_start": 1.2,
            "bin_end": 1.3,
            "count": 0
           },
           {
            "bin_start": 1.3,
            "bin_end": 1.4,
            "count": 0
           },
           {
            "bin_start": 1.4,
            "bin_end": 1.5,
            "count": 0
           },
           {
            "bin_start": 1.5,
            "bin_end": 1.6,
            "count": 0
           },
           {
            "bin_start": 1.6,
            "bin_end": 1.7000000000000002,
            "count": 0
           },
           {
            "bin_start": 1.7000000000000002,
            "bin_end": 1.8,
            "count": 0
           },
           {
            "bin_start": 1.8,
            "bin_end": 1.9,
            "count": 0
           },
           {
            "bin_start": 1.9,
            "bin_end": 2,
            "count": 4
           }
          ]
         }
        },
        {
         "name": "blood pressure",
         "dtype": "object",
         "stats": {
          "unique_count": 5,
          "nan_count": 0,
          "categories": [
           {
            "name": "130",
            "count": 1
           },
           {
            "name": "120",
            "count": 1
           },
           {
            "name": "3 others",
            "count": 3
           }
          ]
         }
        },
        {
         "name": "serum cholestoral",
         "dtype": "object",
         "stats": {
          "unique_count": 4,
          "nan_count": 1,
          "categories": [
           {
            "name": "132",
            "count": 1
           },
           {
            "name": "3 others",
            "count": 3
           },
           {
            "name": "Missing",
            "count": 1
           }
          ]
         }
        },
        {
         "name": "blood sugar",
         "dtype": "object",
         "stats": {
          "unique_count": 1,
          "nan_count": 0,
          "categories": [
           {
            "name": "0",
            "count": 5
           }
          ]
         }
        },
        {
         "name": "electrocardiographic",
         "dtype": "object",
         "stats": {
          "unique_count": 3,
          "nan_count": 0,
          "categories": [
           {
            "name": "0",
            "count": 2
           },
           {
            "name": "1",
            "count": 2
           },
           {
            "name": "2",
            "count": 1
           }
          ]
         }
        },
        {
         "name": "max heart_rate",
         "dtype": "object",
         "stats": {
          "unique_count": 4,
          "nan_count": 0,
          "categories": [
           {
            "name": "170",
            "count": 2
           },
           {
            "name": "185",
            "count": 1
           },
           {
            "name": "2 others",
            "count": 2
           }
          ]
         }
        },
        {
         "name": "angina exercise",
         "dtype": "object",
         "stats": {
          "unique_count": 1,
          "nan_count": 0,
          "categories": [
           {
            "name": "0",
            "count": 5
           }
          ]
         }
        },
        {
         "name": "depression exercise",
         "dtype": "float64",
         "stats": {
          "unique_count": 1,
          "nan_count": 0,
          "min": "0.0",
          "max": "0.0",
          "histogram": [
           {
            "bin_start": -0.5,
            "bin_end": -0.4,
            "count": 0
           },
           {
            "bin_start": -0.4,
            "bin_end": -0.3,
            "count": 0
           },
           {
            "bin_start": -0.3,
            "bin_end": -0.19999999999999996,
            "count": 0
           },
           {
            "bin_start": -0.19999999999999996,
            "bin_end": -0.09999999999999998,
            "count": 0
           },
           {
            "bin_start": -0.09999999999999998,
            "bin_end": 0,
            "count": 0
           },
           {
            "bin_start": 0,
            "bin_end": 0.10000000000000009,
            "count": 5
           },
           {
            "bin_start": 0.10000000000000009,
            "bin_end": 0.20000000000000007,
            "count": 0
           },
           {
            "bin_start": 0.20000000000000007,
            "bin_end": 0.30000000000000004,
            "count": 0
           },
           {
            "bin_start": 0.30000000000000004,
            "bin_end": 0.4,
            "count": 0
           },
           {
            "bin_start": 0.4,
            "bin_end": 0.5,
            "count": 0
           }
          ]
         }
        },
        {
         "name": "heart disease",
         "dtype": "int64",
         "stats": {
          "unique_count": 1,
          "nan_count": 0,
          "min": "0",
          "max": "0",
          "histogram": [
           {
            "bin_start": -0.5,
            "bin_end": -0.4,
            "count": 0
           },
           {
            "bin_start": -0.4,
            "bin_end": -0.3,
            "count": 0
           },
           {
            "bin_start": -0.3,
            "bin_end": -0.19999999999999996,
            "count": 0
           },
           {
            "bin_start": -0.19999999999999996,
            "bin_end": -0.09999999999999998,
            "count": 0
           },
           {
            "bin_start": -0.09999999999999998,
            "bin_end": 0,
            "count": 0
           },
           {
            "bin_start": 0,
            "bin_end": 0.10000000000000009,
            "count": 5
           },
           {
            "bin_start": 0.10000000000000009,
            "bin_end": 0.20000000000000007,
            "count": 0
           },
           {
            "bin_start": 0.20000000000000007,
            "bin_end": 0.30000000000000004,
            "count": 0
           },
           {
            "bin_start": 0.30000000000000004,
            "bin_end": 0.4,
            "count": 0
           },
           {
            "bin_start": 0.4,
            "bin_end": 0.5,
            "count": 0
           }
          ]
         }
        },
        {
         "name": "_deepnote_index_column",
         "dtype": "int64"
        }
       ],
       "rows_top": [
        {
         "age": 28,
         "sex": 1,
         "chest pain": 2,
         "blood pressure": "130",
         "serum cholestoral": "132",
         "blood sugar": "0",
         "electrocardiographic": "2",
         "max heart_rate": "185",
         "angina exercise": "0",
         "depression exercise": 0,
         "heart disease": 0,
         "_deepnote_index_column": 0
        },
        {
         "age": 29,
         "sex": 1,
         "chest pain": 2,
         "blood pressure": "120",
         "serum cholestoral": "243",
         "blood sugar": "0",
         "electrocardiographic": "0",
         "max heart_rate": "160",
         "angina exercise": "0",
         "depression exercise": 0,
         "heart disease": 0,
         "_deepnote_index_column": 1
        },
        {
         "age": 29,
         "sex": 1,
         "chest pain": 2,
         "blood pressure": "140",
         "serum cholestoral": "nan",
         "blood sugar": "0",
         "electrocardiographic": "0",
         "max heart_rate": "170",
         "angina exercise": "0",
         "depression exercise": 0,
         "heart disease": 0,
         "_deepnote_index_column": 2
        },
        {
         "age": 30,
         "sex": 0,
         "chest pain": 1,
         "blood pressure": "170",
         "serum cholestoral": "237",
         "blood sugar": "0",
         "electrocardiographic": "1",
         "max heart_rate": "170",
         "angina exercise": "0",
         "depression exercise": 0,
         "heart disease": 0,
         "_deepnote_index_column": 3
        },
        {
         "age": 31,
         "sex": 0,
         "chest pain": 2,
         "blood pressure": "100",
         "serum cholestoral": "219",
         "blood sugar": "0",
         "electrocardiographic": "1",
         "max heart_rate": "150",
         "angina exercise": "0",
         "depression exercise": 0,
         "heart disease": 0,
         "_deepnote_index_column": 4
        }
       ],
       "rows_bottom": null
      },
      "text/plain": "   age  sex  chest pain blood pressure serum cholestoral blood sugar  \\\n0   28    1           2            130               132           0   \n1   29    1           2            120               243           0   \n2   29    1           2            140               NaN           0   \n3   30    0           1            170               237           0   \n4   31    0           2            100               219           0   \n\n  electrocardiographic max heart_rate angina exercise  depression exercise  \\\n0                    2            185               0                  0.0   \n1                    0            160               0                  0.0   \n2                    0            170               0                  0.0   \n3                    1            170               0                  0.0   \n4                    1            150               0                  0.0   \n\n   heart disease  \n0              0  \n1              0  \n2              0  \n3              0  \n4              0  ",
      "text/html": "<div>\n<style scoped>\n    .dataframe tbody tr th:only-of-type {\n        vertical-align: middle;\n    }\n\n    .dataframe tbody tr th {\n        vertical-align: top;\n    }\n\n    .dataframe thead th {\n        text-align: right;\n    }\n</style>\n<table border=\"1\" class=\"dataframe\">\n  <thead>\n    <tr style=\"text-align: right;\">\n      <th></th>\n      <th>age</th>\n      <th>sex</th>\n      <th>chest pain</th>\n      <th>blood pressure</th>\n      <th>serum cholestoral</th>\n      <th>blood sugar</th>\n      <th>electrocardiographic</th>\n      <th>max heart_rate</th>\n      <th>angina exercise</th>\n      <th>depression exercise</th>\n      <th>heart disease</th>\n    </tr>\n  </thead>\n  <tbody>\n    <tr>\n      <th>0</th>\n      <td>28</td>\n      <td>1</td>\n      <td>2</td>\n      <td>130</td>\n      <td>132</td>\n      <td>0</td>\n      <td>2</td>\n      <td>185</td>\n      <td>0</td>\n      <td>0.0</td>\n      <td>0</td>\n    </tr>\n    <tr>\n      <th>1</th>\n      <td>29</td>\n      <td>1</td>\n      <td>2</td>\n      <td>120</td>\n      <td>243</td>\n      <td>0</td>\n      <td>0</td>\n      <td>160</td>\n      <td>0</td>\n      <td>0.0</td>\n      <td>0</td>\n    </tr>\n    <tr>\n      <th>2</th>\n      <td>29</td>\n      <td>1</td>\n      <td>2</td>\n      <td>140</td>\n      <td>NaN</td>\n      <td>0</td>\n      <td>0</td>\n      <td>170</td>\n      <td>0</td>\n      <td>0.0</td>\n      <td>0</td>\n    </tr>\n    <tr>\n      <th>3</th>\n      <td>30</td>\n      <td>0</td>\n      <td>1</td>\n      <td>170</td>\n      <td>237</td>\n      <td>0</td>\n      <td>1</td>\n      <td>170</td>\n      <td>0</td>\n      <td>0.0</td>\n      <td>0</td>\n    </tr>\n    <tr>\n      <th>4</th>\n      <td>31</td>\n      <td>0</td>\n      <td>2</td>\n      <td>100</td>\n      <td>219</td>\n      <td>0</td>\n      <td>1</td>\n      <td>150</td>\n      <td>0</td>\n      <td>0.0</td>\n      <td>0</td>\n    </tr>\n  </tbody>\n</table>\n</div>"
     },
     "metadata": {}
    }
   ]
  },
  {
   "cell_type": "code",
   "source": "hipocrat",
   "metadata": {
    "tags": [],
    "cell_id": "00036-223f3ee3-a0de-4f93-a621-f72fbcaf8596",
    "deepnote_to_be_reexecuted": false,
    "source_hash": "50c34a6a",
    "execution_start": 1626441334387,
    "execution_millis": 147,
    "deepnote_cell_type": "code"
   },
   "outputs": [
    {
     "output_type": "execute_result",
     "execution_count": 31,
     "data": {
      "application/vnd.deepnote.dataframe.v2+json": {
       "row_count": 294,
       "column_count": 11,
       "columns": [
        {
         "name": "age",
         "dtype": "int64",
         "stats": {
          "unique_count": 38,
          "nan_count": 0,
          "min": "28",
          "max": "66",
          "histogram": [
           {
            "bin_start": 28,
            "bin_end": 31.8,
            "count": 6
           },
           {
            "bin_start": 31.8,
            "bin_end": 35.6,
            "count": 15
           },
           {
            "bin_start": 35.6,
            "bin_end": 39.4,
            "count": 31
           },
           {
            "bin_start": 39.4,
            "bin_end": 43.2,
            "count": 37
           },
           {
            "bin_start": 43.2,
            "bin_end": 47,
            "count": 28
           },
           {
            "bin_start": 47,
            "bin_end": 50.8,
            "count": 56
           },
           {
            "bin_start": 50.8,
            "bin_end": 54.599999999999994,
            "count": 63
           },
           {
            "bin_start": 54.599999999999994,
            "bin_end": 58.4,
            "count": 39
           },
           {
            "bin_start": 58.4,
            "bin_end": 62.199999999999996,
            "count": 14
           },
           {
            "bin_start": 62.199999999999996,
            "bin_end": 66,
            "count": 5
           }
          ]
         }
        },
        {
         "name": "sex",
         "dtype": "int64",
         "stats": {
          "unique_count": 2,
          "nan_count": 0,
          "min": "0",
          "max": "1",
          "histogram": [
           {
            "bin_start": 0,
            "bin_end": 0.1,
            "count": 81
           },
           {
            "bin_start": 0.1,
            "bin_end": 0.2,
            "count": 0
           },
           {
            "bin_start": 0.2,
            "bin_end": 0.30000000000000004,
            "count": 0
           },
           {
            "bin_start": 0.30000000000000004,
            "bin_end": 0.4,
            "count": 0
           },
           {
            "bin_start": 0.4,
            "bin_end": 0.5,
            "count": 0
           },
           {
            "bin_start": 0.5,
            "bin_end": 0.6000000000000001,
            "count": 0
           },
           {
            "bin_start": 0.6000000000000001,
            "bin_end": 0.7000000000000001,
            "count": 0
           },
           {
            "bin_start": 0.7000000000000001,
            "bin_end": 0.8,
            "count": 0
           },
           {
            "bin_start": 0.8,
            "bin_end": 0.9,
            "count": 0
           },
           {
            "bin_start": 0.9,
            "bin_end": 1,
            "count": 213
           }
          ]
         }
        },
        {
         "name": "chest pain",
         "dtype": "int64",
         "stats": {
          "unique_count": 4,
          "nan_count": 0,
          "min": "1",
          "max": "4",
          "histogram": [
           {
            "bin_start": 1,
            "bin_end": 1.3,
            "count": 11
           },
           {
            "bin_start": 1.3,
            "bin_end": 1.6,
            "count": 0
           },
           {
            "bin_start": 1.6,
            "bin_end": 1.9,
            "count": 0
           },
           {
            "bin_start": 1.9,
            "bin_end": 2.2,
            "count": 106
           },
           {
            "bin_start": 2.2,
            "bin_end": 2.5,
            "count": 0
           },
           {
            "bin_start": 2.5,
            "bin_end": 2.8,
            "count": 0
           },
           {
            "bin_start": 2.8,
            "bin_end": 3.1,
            "count": 54
           },
           {
            "bin_start": 3.1,
            "bin_end": 3.4,
            "count": 0
           },
           {
            "bin_start": 3.4,
            "bin_end": 3.6999999999999997,
            "count": 0
           },
           {
            "bin_start": 3.6999999999999997,
            "bin_end": 4,
            "count": 123
           }
          ]
         }
        },
        {
         "name": "blood pressure",
         "dtype": "object",
         "stats": {
          "unique_count": 31,
          "nan_count": 1,
          "categories": [
           {
            "name": "120",
            "count": 65
           },
           {
            "name": "30 others",
            "count": 228
           },
           {
            "name": "Missing",
            "count": 1
           }
          ]
         }
        },
        {
         "name": "serum cholestoral",
         "dtype": "object",
         "stats": {
          "unique_count": 153,
          "nan_count": 23,
          "categories": [
           {
            "name": "275",
            "count": 5
           },
           {
            "name": "152 others",
            "count": 266
           },
           {
            "name": "Missing",
            "count": 23
           }
          ]
         }
        },
        {
         "name": "blood sugar",
         "dtype": "object",
         "stats": {
          "unique_count": 2,
          "nan_count": 8,
          "categories": [
           {
            "name": "0",
            "count": 266
           },
           {
            "name": "1",
            "count": 20
           },
           {
            "name": "Missing",
            "count": 8
           }
          ]
         }
        },
        {
         "name": "electrocardiographic",
         "dtype": "object",
         "stats": {
          "unique_count": 3,
          "nan_count": 1,
          "categories": [
           {
            "name": "0",
            "count": 235
           },
           {
            "name": "2 others",
            "count": 58
           },
           {
            "name": "Missing",
            "count": 1
           }
          ]
         }
        },
        {
         "name": "max heart_rate",
         "dtype": "object",
         "stats": {
          "unique_count": 71,
          "nan_count": 1,
          "categories": [
           {
            "name": "150",
            "count": 29
           },
           {
            "name": "70 others",
            "count": 264
           },
           {
            "name": "Missing",
            "count": 1
           }
          ]
         }
        },
        {
         "name": "angina exercise",
         "dtype": "object",
         "stats": {
          "unique_count": 2,
          "nan_count": 1,
          "categories": [
           {
            "name": "0",
            "count": 204
           },
           {
            "name": "1",
            "count": 89
           },
           {
            "name": "Missing",
            "count": 1
           }
          ]
         }
        },
        {
         "name": "depression exercise",
         "dtype": "float64",
         "stats": {
          "unique_count": 10,
          "nan_count": 0,
          "min": "0.0",
          "max": "5.0",
          "histogram": [
           {
            "bin_start": 0,
            "bin_end": 0.5,
            "count": 189
           },
           {
            "bin_start": 0.5,
            "bin_end": 1,
            "count": 3
           },
           {
            "bin_start": 1,
            "bin_end": 1.5,
            "count": 41
           },
           {
            "bin_start": 1.5,
            "bin_end": 2,
            "count": 16
           },
           {
            "bin_start": 2,
            "bin_end": 2.5,
            "count": 31
           },
           {
            "bin_start": 2.5,
            "bin_end": 3,
            "count": 3
           },
           {
            "bin_start": 3,
            "bin_end": 3.5,
            "count": 9
           },
           {
            "bin_start": 3.5,
            "bin_end": 4,
            "count": 0
           },
           {
            "bin_start": 4,
            "bin_end": 4.5,
            "count": 1
           },
           {
            "bin_start": 4.5,
            "bin_end": 5,
            "count": 1
           }
          ]
         }
        },
        {
         "name": "heart disease",
         "dtype": "int64",
         "stats": {
          "unique_count": 2,
          "nan_count": 0,
          "min": "0",
          "max": "1",
          "histogram": [
           {
            "bin_start": 0,
            "bin_end": 0.1,
            "count": 188
           },
           {
            "bin_start": 0.1,
            "bin_end": 0.2,
            "count": 0
           },
           {
            "bin_start": 0.2,
            "bin_end": 0.30000000000000004,
            "count": 0
           },
           {
            "bin_start": 0.30000000000000004,
            "bin_end": 0.4,
            "count": 0
           },
           {
            "bin_start": 0.4,
            "bin_end": 0.5,
            "count": 0
           },
           {
            "bin_start": 0.5,
            "bin_end": 0.6000000000000001,
            "count": 0
           },
           {
            "bin_start": 0.6000000000000001,
            "bin_end": 0.7000000000000001,
            "count": 0
           },
           {
            "bin_start": 0.7000000000000001,
            "bin_end": 0.8,
            "count": 0
           },
           {
            "bin_start": 0.8,
            "bin_end": 0.9,
            "count": 0
           },
           {
            "bin_start": 0.9,
            "bin_end": 1,
            "count": 106
           }
          ]
         }
        },
        {
         "name": "_deepnote_index_column",
         "dtype": "int64"
        }
       ],
       "rows_top": [
        {
         "age": 28,
         "sex": 1,
         "chest pain": 2,
         "blood pressure": "130",
         "serum cholestoral": "132",
         "blood sugar": "0",
         "electrocardiographic": "2",
         "max heart_rate": "185",
         "angina exercise": "0",
         "depression exercise": 0,
         "heart disease": 0,
         "_deepnote_index_column": 0
        },
        {
         "age": 29,
         "sex": 1,
         "chest pain": 2,
         "blood pressure": "120",
         "serum cholestoral": "243",
         "blood sugar": "0",
         "electrocardiographic": "0",
         "max heart_rate": "160",
         "angina exercise": "0",
         "depression exercise": 0,
         "heart disease": 0,
         "_deepnote_index_column": 1
        },
        {
         "age": 29,
         "sex": 1,
         "chest pain": 2,
         "blood pressure": "140",
         "serum cholestoral": "nan",
         "blood sugar": "0",
         "electrocardiographic": "0",
         "max heart_rate": "170",
         "angina exercise": "0",
         "depression exercise": 0,
         "heart disease": 0,
         "_deepnote_index_column": 2
        },
        {
         "age": 30,
         "sex": 0,
         "chest pain": 1,
         "blood pressure": "170",
         "serum cholestoral": "237",
         "blood sugar": "0",
         "electrocardiographic": "1",
         "max heart_rate": "170",
         "angina exercise": "0",
         "depression exercise": 0,
         "heart disease": 0,
         "_deepnote_index_column": 3
        },
        {
         "age": 31,
         "sex": 0,
         "chest pain": 2,
         "blood pressure": "100",
         "serum cholestoral": "219",
         "blood sugar": "0",
         "electrocardiographic": "1",
         "max heart_rate": "150",
         "angina exercise": "0",
         "depression exercise": 0,
         "heart disease": 0,
         "_deepnote_index_column": 4
        },
        {
         "age": 32,
         "sex": 0,
         "chest pain": 2,
         "blood pressure": "105",
         "serum cholestoral": "198",
         "blood sugar": "0",
         "electrocardiographic": "0",
         "max heart_rate": "165",
         "angina exercise": "0",
         "depression exercise": 0,
         "heart disease": 0,
         "_deepnote_index_column": 5
        },
        {
         "age": 32,
         "sex": 1,
         "chest pain": 2,
         "blood pressure": "110",
         "serum cholestoral": "225",
         "blood sugar": "0",
         "electrocardiographic": "0",
         "max heart_rate": "184",
         "angina exercise": "0",
         "depression exercise": 0,
         "heart disease": 0,
         "_deepnote_index_column": 6
        },
        {
         "age": 32,
         "sex": 1,
         "chest pain": 2,
         "blood pressure": "125",
         "serum cholestoral": "254",
         "blood sugar": "0",
         "electrocardiographic": "0",
         "max heart_rate": "155",
         "angina exercise": "0",
         "depression exercise": 0,
         "heart disease": 0,
         "_deepnote_index_column": 7
        },
        {
         "age": 33,
         "sex": 1,
         "chest pain": 3,
         "blood pressure": "120",
         "serum cholestoral": "298",
         "blood sugar": "0",
         "electrocardiographic": "0",
         "max heart_rate": "185",
         "angina exercise": "0",
         "depression exercise": 0,
         "heart disease": 0,
         "_deepnote_index_column": 8
        },
        {
         "age": 34,
         "sex": 0,
         "chest pain": 2,
         "blood pressure": "130",
         "serum cholestoral": "161",
         "blood sugar": "0",
         "electrocardiographic": "0",
         "max heart_rate": "190",
         "angina exercise": "0",
         "depression exercise": 0,
         "heart disease": 0,
         "_deepnote_index_column": 9
        },
        {
         "age": 34,
         "sex": 1,
         "chest pain": 2,
         "blood pressure": "150",
         "serum cholestoral": "214",
         "blood sugar": "0",
         "electrocardiographic": "1",
         "max heart_rate": "168",
         "angina exercise": "0",
         "depression exercise": 0,
         "heart disease": 0,
         "_deepnote_index_column": 10
        },
        {
         "age": 34,
         "sex": 1,
         "chest pain": 2,
         "blood pressure": "98",
         "serum cholestoral": "220",
         "blood sugar": "0",
         "electrocardiographic": "0",
         "max heart_rate": "150",
         "angina exercise": "0",
         "depression exercise": 0,
         "heart disease": 0,
         "_deepnote_index_column": 11
        },
        {
         "age": 35,
         "sex": 0,
         "chest pain": 1,
         "blood pressure": "120",
         "serum cholestoral": "160",
         "blood sugar": "0",
         "electrocardiographic": "1",
         "max heart_rate": "185",
         "angina exercise": "0",
         "depression exercise": 0,
         "heart disease": 0,
         "_deepnote_index_column": 12
        },
        {
         "age": 35,
         "sex": 0,
         "chest pain": 4,
         "blood pressure": "140",
         "serum cholestoral": "167",
         "blood sugar": "0",
         "electrocardiographic": "0",
         "max heart_rate": "150",
         "angina exercise": "0",
         "depression exercise": 0,
         "heart disease": 0,
         "_deepnote_index_column": 13
        },
        {
         "age": 35,
         "sex": 1,
         "chest pain": 2,
         "blood pressure": "120",
         "serum cholestoral": "308",
         "blood sugar": "0",
         "electrocardiographic": "2",
         "max heart_rate": "180",
         "angina exercise": "0",
         "depression exercise": 0,
         "heart disease": 0,
         "_deepnote_index_column": 14
        },
        {
         "age": 35,
         "sex": 1,
         "chest pain": 2,
         "blood pressure": "150",
         "serum cholestoral": "264",
         "blood sugar": "0",
         "electrocardiographic": "0",
         "max heart_rate": "168",
         "angina exercise": "0",
         "depression exercise": 0,
         "heart disease": 0,
         "_deepnote_index_column": 15
        },
        {
         "age": 36,
         "sex": 1,
         "chest pain": 2,
         "blood pressure": "120",
         "serum cholestoral": "166",
         "blood sugar": "0",
         "electrocardiographic": "0",
         "max heart_rate": "180",
         "angina exercise": "0",
         "depression exercise": 0,
         "heart disease": 0,
         "_deepnote_index_column": 16
        },
        {
         "age": 36,
         "sex": 1,
         "chest pain": 3,
         "blood pressure": "112",
         "serum cholestoral": "340",
         "blood sugar": "0",
         "electrocardiographic": "0",
         "max heart_rate": "184",
         "angina exercise": "0",
         "depression exercise": 1,
         "heart disease": 0,
         "_deepnote_index_column": 17
        },
        {
         "age": 36,
         "sex": 1,
         "chest pain": 3,
         "blood pressure": "130",
         "serum cholestoral": "209",
         "blood sugar": "0",
         "electrocardiographic": "0",
         "max heart_rate": "178",
         "angina exercise": "0",
         "depression exercise": 0,
         "heart disease": 0,
         "_deepnote_index_column": 18
        },
        {
         "age": 36,
         "sex": 1,
         "chest pain": 3,
         "blood pressure": "150",
         "serum cholestoral": "160",
         "blood sugar": "0",
         "electrocardiographic": "0",
         "max heart_rate": "172",
         "angina exercise": "0",
         "depression exercise": 0,
         "heart disease": 0,
         "_deepnote_index_column": 19
        },
        {
         "age": 37,
         "sex": 0,
         "chest pain": 2,
         "blood pressure": "120",
         "serum cholestoral": "260",
         "blood sugar": "0",
         "electrocardiographic": "0",
         "max heart_rate": "130",
         "angina exercise": "0",
         "depression exercise": 0,
         "heart disease": 0,
         "_deepnote_index_column": 20
        },
        {
         "age": 37,
         "sex": 0,
         "chest pain": 3,
         "blood pressure": "130",
         "serum cholestoral": "211",
         "blood sugar": "0",
         "electrocardiographic": "0",
         "max heart_rate": "142",
         "angina exercise": "0",
         "depression exercise": 0,
         "heart disease": 0,
         "_deepnote_index_column": 21
        },
        {
         "age": 37,
         "sex": 0,
         "chest pain": 4,
         "blood pressure": "130",
         "serum cholestoral": "173",
         "blood sugar": "0",
         "electrocardiographic": "1",
         "max heart_rate": "184",
         "angina exercise": "0",
         "depression exercise": 0,
         "heart disease": 0,
         "_deepnote_index_column": 22
        },
        {
         "age": 37,
         "sex": 1,
         "chest pain": 2,
         "blood pressure": "130",
         "serum cholestoral": "283",
         "blood sugar": "0",
         "electrocardiographic": "1",
         "max heart_rate": "98",
         "angina exercise": "0",
         "depression exercise": 0,
         "heart disease": 0,
         "_deepnote_index_column": 23
        },
        {
         "age": 37,
         "sex": 1,
         "chest pain": 3,
         "blood pressure": "130",
         "serum cholestoral": "194",
         "blood sugar": "0",
         "electrocardiographic": "0",
         "max heart_rate": "150",
         "angina exercise": "0",
         "depression exercise": 0,
         "heart disease": 0,
         "_deepnote_index_column": 24
        },
        {
         "age": 37,
         "sex": 1,
         "chest pain": 4,
         "blood pressure": "120",
         "serum cholestoral": "223",
         "blood sugar": "0",
         "electrocardiographic": "0",
         "max heart_rate": "168",
         "angina exercise": "0",
         "depression exercise": 0,
         "heart disease": 0,
         "_deepnote_index_column": 25
        },
        {
         "age": 37,
         "sex": 1,
         "chest pain": 4,
         "blood pressure": "130",
         "serum cholestoral": "315",
         "blood sugar": "0",
         "electrocardiographic": "0",
         "max heart_rate": "158",
         "angina exercise": "0",
         "depression exercise": 0,
         "heart disease": 0,
         "_deepnote_index_column": 26
        },
        {
         "age": 38,
         "sex": 0,
         "chest pain": 2,
         "blood pressure": "120",
         "serum cholestoral": "275",
         "blood sugar": "nan",
         "electrocardiographic": "0",
         "max heart_rate": "129",
         "angina exercise": "0",
         "depression exercise": 0,
         "heart disease": 0,
         "_deepnote_index_column": 27
        },
        {
         "age": 38,
         "sex": 1,
         "chest pain": 2,
         "blood pressure": "140",
         "serum cholestoral": "297",
         "blood sugar": "0",
         "electrocardiographic": "0",
         "max heart_rate": "150",
         "angina exercise": "0",
         "depression exercise": 0,
         "heart disease": 0,
         "_deepnote_index_column": 28
        },
        {
         "age": 38,
         "sex": 1,
         "chest pain": 3,
         "blood pressure": "145",
         "serum cholestoral": "292",
         "blood sugar": "0",
         "electrocardiographic": "0",
         "max heart_rate": "130",
         "angina exercise": "0",
         "depression exercise": 0,
         "heart disease": 0,
         "_deepnote_index_column": 29
        },
        {
         "age": 39,
         "sex": 0,
         "chest pain": 3,
         "blood pressure": "110",
         "serum cholestoral": "182",
         "blood sugar": "0",
         "electrocardiographic": "1",
         "max heart_rate": "180",
         "angina exercise": "0",
         "depression exercise": 0,
         "heart disease": 0,
         "_deepnote_index_column": 30
        },
        {
         "age": 39,
         "sex": 1,
         "chest pain": 2,
         "blood pressure": "120",
         "serum cholestoral": "nan",
         "blood sugar": "0",
         "electrocardiographic": "1",
         "max heart_rate": "146",
         "angina exercise": "0",
         "depression exercise": 2,
         "heart disease": 0,
         "_deepnote_index_column": 31
        },
        {
         "age": 39,
         "sex": 1,
         "chest pain": 2,
         "blood pressure": "120",
         "serum cholestoral": "200",
         "blood sugar": "0",
         "electrocardiographic": "0",
         "max heart_rate": "160",
         "angina exercise": "1",
         "depression exercise": 1,
         "heart disease": 0,
         "_deepnote_index_column": 32
        },
        {
         "age": 39,
         "sex": 1,
         "chest pain": 2,
         "blood pressure": "120",
         "serum cholestoral": "204",
         "blood sugar": "0",
         "electrocardiographic": "0",
         "max heart_rate": "145",
         "angina exercise": "0",
         "depression exercise": 0,
         "heart disease": 0,
         "_deepnote_index_column": 33
        },
        {
         "age": 39,
         "sex": 1,
         "chest pain": 2,
         "blood pressure": "130",
         "serum cholestoral": "nan",
         "blood sugar": "0",
         "electrocardiographic": "0",
         "max heart_rate": "120",
         "angina exercise": "0",
         "depression exercise": 0,
         "heart disease": 0,
         "_deepnote_index_column": 34
        },
        {
         "age": 39,
         "sex": 1,
         "chest pain": 2,
         "blood pressure": "190",
         "serum cholestoral": "241",
         "blood sugar": "0",
         "electrocardiographic": "0",
         "max heart_rate": "106",
         "angina exercise": "0",
         "depression exercise": 0,
         "heart disease": 0,
         "_deepnote_index_column": 35
        },
        {
         "age": 39,
         "sex": 1,
         "chest pain": 3,
         "blood pressure": "120",
         "serum cholestoral": "339",
         "blood sugar": "0",
         "electrocardiographic": "0",
         "max heart_rate": "170",
         "angina exercise": "0",
         "depression exercise": 0,
         "heart disease": 0,
         "_deepnote_index_column": 36
        },
        {
         "age": 39,
         "sex": 1,
         "chest pain": 3,
         "blood pressure": "160",
         "serum cholestoral": "147",
         "blood sugar": "1",
         "electrocardiographic": "0",
         "max heart_rate": "160",
         "angina exercise": "0",
         "depression exercise": 0,
         "heart disease": 0,
         "_deepnote_index_column": 37
        },
        {
         "age": 39,
         "sex": 1,
         "chest pain": 4,
         "blood pressure": "110",
         "serum cholestoral": "273",
         "blood sugar": "0",
         "electrocardiographic": "0",
         "max heart_rate": "132",
         "angina exercise": "0",
         "depression exercise": 0,
         "heart disease": 0,
         "_deepnote_index_column": 38
        },
        {
         "age": 39,
         "sex": 1,
         "chest pain": 4,
         "blood pressure": "130",
         "serum cholestoral": "307",
         "blood sugar": "0",
         "electrocardiographic": "0",
         "max heart_rate": "140",
         "angina exercise": "0",
         "depression exercise": 0,
         "heart disease": 0,
         "_deepnote_index_column": 39
        },
        {
         "age": 40,
         "sex": 1,
         "chest pain": 2,
         "blood pressure": "130",
         "serum cholestoral": "275",
         "blood sugar": "0",
         "electrocardiographic": "0",
         "max heart_rate": "150",
         "angina exercise": "0",
         "depression exercise": 0,
         "heart disease": 0,
         "_deepnote_index_column": 40
        },
        {
         "age": 40,
         "sex": 1,
         "chest pain": 2,
         "blood pressure": "140",
         "serum cholestoral": "289",
         "blood sugar": "0",
         "electrocardiographic": "0",
         "max heart_rate": "172",
         "angina exercise": "0",
         "depression exercise": 0,
         "heart disease": 0,
         "_deepnote_index_column": 41
        },
        {
         "age": 40,
         "sex": 1,
         "chest pain": 3,
         "blood pressure": "130",
         "serum cholestoral": "215",
         "blood sugar": "0",
         "electrocardiographic": "0",
         "max heart_rate": "138",
         "angina exercise": "0",
         "depression exercise": 0,
         "heart disease": 0,
         "_deepnote_index_column": 42
        },
        {
         "age": 40,
         "sex": 1,
         "chest pain": 3,
         "blood pressure": "130",
         "serum cholestoral": "281",
         "blood sugar": "0",
         "electrocardiographic": "0",
         "max heart_rate": "167",
         "angina exercise": "0",
         "depression exercise": 0,
         "heart disease": 0,
         "_deepnote_index_column": 43
        },
        {
         "age": 40,
         "sex": 1,
         "chest pain": 3,
         "blood pressure": "140",
         "serum cholestoral": "nan",
         "blood sugar": "0",
         "electrocardiographic": "0",
         "max heart_rate": "188",
         "angina exercise": "0",
         "depression exercise": 0,
         "heart disease": 0,
         "_deepnote_index_column": 44
        }
       ],
       "rows_bottom": [
        {
         "age": 58,
         "sex": 1,
         "chest pain": 3,
         "blood pressure": "160",
         "serum cholestoral": "211",
         "blood sugar": "1",
         "electrocardiographic": "1",
         "max heart_rate": "92",
         "angina exercise": "0",
         "depression exercise": 0,
         "heart disease": 1,
         "_deepnote_index_column": 249
        },
        {
         "age": 58,
         "sex": 1,
         "chest pain": 4,
         "blood pressure": "130",
         "serum cholestoral": "263",
         "blood sugar": "0",
         "electrocardiographic": "0",
         "max heart_rate": "140",
         "angina exercise": "1",
         "depression exercise": 2,
         "heart disease": 1,
         "_deepnote_index_column": 250
        },
        {
         "age": 41,
         "sex": 1,
         "chest pain": 4,
         "blood pressure": "130",
         "serum cholestoral": "172",
         "blood sugar": "0",
         "electrocardiographic": "1",
         "max heart_rate": "130",
         "angina exercise": "0",
         "depression exercise": 2,
         "heart disease": 1,
         "_deepnote_index_column": 251
        },
        {
         "age": 43,
         "sex": 1,
         "chest pain": 4,
         "blood pressure": "120",
         "serum cholestoral": "175",
         "blood sugar": "0",
         "electrocardiographic": "0",
         "max heart_rate": "120",
         "angina exercise": "1",
         "depression exercise": 1,
         "heart disease": 1,
         "_deepnote_index_column": 252
        },
        {
         "age": 44,
         "sex": 1,
         "chest pain": 2,
         "blood pressure": "150",
         "serum cholestoral": "288",
         "blood sugar": "0",
         "electrocardiographic": "0",
         "max heart_rate": "150",
         "angina exercise": "1",
         "depression exercise": 3,
         "heart disease": 1,
         "_deepnote_index_column": 253
        },
        {
         "age": 44,
         "sex": 1,
         "chest pain": 4,
         "blood pressure": "130",
         "serum cholestoral": "290",
         "blood sugar": "0",
         "electrocardiographic": "0",
         "max heart_rate": "100",
         "angina exercise": "1",
         "depression exercise": 2,
         "heart disease": 1,
         "_deepnote_index_column": 254
        },
        {
         "age": 46,
         "sex": 1,
         "chest pain": 1,
         "blood pressure": "140",
         "serum cholestoral": "272",
         "blood sugar": "1",
         "electrocardiographic": "0",
         "max heart_rate": "175",
         "angina exercise": "0",
         "depression exercise": 2,
         "heart disease": 1,
         "_deepnote_index_column": 255
        },
        {
         "age": 47,
         "sex": 0,
         "chest pain": 3,
         "blood pressure": "135",
         "serum cholestoral": "248",
         "blood sugar": "1",
         "electrocardiographic": "0",
         "max heart_rate": "170",
         "angina exercise": "0",
         "depression exercise": 0,
         "heart disease": 1,
         "_deepnote_index_column": 256
        },
        {
         "age": 48,
         "sex": 0,
         "chest pain": 4,
         "blood pressure": "138",
         "serum cholestoral": "214",
         "blood sugar": "0",
         "electrocardiographic": "0",
         "max heart_rate": "108",
         "angina exercise": "1",
         "depression exercise": 1.5,
         "heart disease": 1,
         "_deepnote_index_column": 257
        },
        {
         "age": 49,
         "sex": 1,
         "chest pain": 4,
         "blood pressure": "130",
         "serum cholestoral": "341",
         "blood sugar": "0",
         "electrocardiographic": "0",
         "max heart_rate": "120",
         "angina exercise": "1",
         "depression exercise": 1,
         "heart disease": 1,
         "_deepnote_index_column": 258
        },
        {
         "age": 49,
         "sex": 1,
         "chest pain": 4,
         "blood pressure": "140",
         "serum cholestoral": "234",
         "blood sugar": "0",
         "electrocardiographic": "0",
         "max heart_rate": "140",
         "angina exercise": "1",
         "depression exercise": 1,
         "heart disease": 1,
         "_deepnote_index_column": 259
        },
        {
         "age": 51,
         "sex": 1,
         "chest pain": 3,
         "blood pressure": "135",
         "serum cholestoral": "160",
         "blood sugar": "0",
         "electrocardiographic": "0",
         "max heart_rate": "150",
         "angina exercise": "0",
         "depression exercise": 2,
         "heart disease": 1,
         "_deepnote_index_column": 260
        },
        {
         "age": 52,
         "sex": 1,
         "chest pain": 4,
         "blood pressure": "112",
         "serum cholestoral": "342",
         "blood sugar": "0",
         "electrocardiographic": "1",
         "max heart_rate": "96",
         "angina exercise": "1",
         "depression exercise": 1,
         "heart disease": 1,
         "_deepnote_index_column": 261
        },
        {
         "age": 52,
         "sex": 1,
         "chest pain": 4,
         "blood pressure": "130",
         "serum cholestoral": "298",
         "blood sugar": "0",
         "electrocardiographic": "0",
         "max heart_rate": "110",
         "angina exercise": "1",
         "depression exercise": 1,
         "heart disease": 1,
         "_deepnote_index_column": 262
        },
        {
         "age": 52,
         "sex": 1,
         "chest pain": 4,
         "blood pressure": "140",
         "serum cholestoral": "404",
         "blood sugar": "0",
         "electrocardiographic": "0",
         "max heart_rate": "124",
         "angina exercise": "1",
         "depression exercise": 2,
         "heart disease": 1,
         "_deepnote_index_column": 263
        },
        {
         "age": 52,
         "sex": 1,
         "chest pain": 4,
         "blood pressure": "160",
         "serum cholestoral": "246",
         "blood sugar": "0",
         "electrocardiographic": "1",
         "max heart_rate": "82",
         "angina exercise": "1",
         "depression exercise": 4,
         "heart disease": 1,
         "_deepnote_index_column": 264
        },
        {
         "age": 53,
         "sex": 1,
         "chest pain": 3,
         "blood pressure": "145",
         "serum cholestoral": "518",
         "blood sugar": "0",
         "electrocardiographic": "0",
         "max heart_rate": "130",
         "angina exercise": "0",
         "depression exercise": 0,
         "heart disease": 1,
         "_deepnote_index_column": 265
        },
        {
         "age": 53,
         "sex": 1,
         "chest pain": 4,
         "blood pressure": "180",
         "serum cholestoral": "285",
         "blood sugar": "0",
         "electrocardiographic": "1",
         "max heart_rate": "120",
         "angina exercise": "1",
         "depression exercise": 1.5,
         "heart disease": 1,
         "_deepnote_index_column": 266
        },
        {
         "age": 54,
         "sex": 1,
         "chest pain": 4,
         "blood pressure": "140",
         "serum cholestoral": "216",
         "blood sugar": "0",
         "electrocardiographic": "0",
         "max heart_rate": "105",
         "angina exercise": "0",
         "depression exercise": 1.5,
         "heart disease": 1,
         "_deepnote_index_column": 267
        },
        {
         "age": 55,
         "sex": 1,
         "chest pain": 1,
         "blood pressure": "140",
         "serum cholestoral": "295",
         "blood sugar": "0",
         "electrocardiographic": "nan",
         "max heart_rate": "136",
         "angina exercise": "0",
         "depression exercise": 0,
         "heart disease": 1,
         "_deepnote_index_column": 268
        },
        {
         "age": 55,
         "sex": 1,
         "chest pain": 2,
         "blood pressure": "160",
         "serum cholestoral": "292",
         "blood sugar": "1",
         "electrocardiographic": "0",
         "max heart_rate": "143",
         "angina exercise": "1",
         "depression exercise": 2,
         "heart disease": 1,
         "_deepnote_index_column": 269
        },
        {
         "age": 55,
         "sex": 1,
         "chest pain": 4,
         "blood pressure": "145",
         "serum cholestoral": "248",
         "blood sugar": "0",
         "electrocardiographic": "0",
         "max heart_rate": "96",
         "angina exercise": "1",
         "depression exercise": 2,
         "heart disease": 1,
         "_deepnote_index_column": 270
        },
        {
         "age": 56,
         "sex": 0,
         "chest pain": 2,
         "blood pressure": "120",
         "serum cholestoral": "279",
         "blood sugar": "0",
         "electrocardiographic": "0",
         "max heart_rate": "150",
         "angina exercise": "0",
         "depression exercise": 1,
         "heart disease": 1,
         "_deepnote_index_column": 271
        },
        {
         "age": 56,
         "sex": 1,
         "chest pain": 4,
         "blood pressure": "150",
         "serum cholestoral": "230",
         "blood sugar": "0",
         "electrocardiographic": "1",
         "max heart_rate": "124",
         "angina exercise": "1",
         "depression exercise": 1.5,
         "heart disease": 1,
         "_deepnote_index_column": 272
        },
        {
         "age": 56,
         "sex": 1,
         "chest pain": 4,
         "blood pressure": "170",
         "serum cholestoral": "388",
         "blood sugar": "0",
         "electrocardiographic": "1",
         "max heart_rate": "122",
         "angina exercise": "1",
         "depression exercise": 2,
         "heart disease": 1,
         "_deepnote_index_column": 273
        },
        {
         "age": 58,
         "sex": 1,
         "chest pain": 2,
         "blood pressure": "136",
         "serum cholestoral": "164",
         "blood sugar": "0",
         "electrocardiographic": "1",
         "max heart_rate": "99",
         "angina exercise": "1",
         "depression exercise": 2,
         "heart disease": 1,
         "_deepnote_index_column": 274
        },
        {
         "age": 59,
         "sex": 1,
         "chest pain": 4,
         "blood pressure": "130",
         "serum cholestoral": "nan",
         "blood sugar": "0",
         "electrocardiographic": "0",
         "max heart_rate": "125",
         "angina exercise": "0",
         "depression exercise": 0,
         "heart disease": 1,
         "_deepnote_index_column": 275
        },
        {
         "age": 59,
         "sex": 1,
         "chest pain": 4,
         "blood pressure": "140",
         "serum cholestoral": "264",
         "blood sugar": "1",
         "electrocardiographic": "2",
         "max heart_rate": "119",
         "angina exercise": "1",
         "depression exercise": 0,
         "heart disease": 1,
         "_deepnote_index_column": 276
        },
        {
         "age": 65,
         "sex": 1,
         "chest pain": 4,
         "blood pressure": "170",
         "serum cholestoral": "263",
         "blood sugar": "1",
         "electrocardiographic": "0",
         "max heart_rate": "112",
         "angina exercise": "1",
         "depression exercise": 2,
         "heart disease": 1,
         "_deepnote_index_column": 277
        },
        {
         "age": 66,
         "sex": 1,
         "chest pain": 4,
         "blood pressure": "140",
         "serum cholestoral": "nan",
         "blood sugar": "0",
         "electrocardiographic": "0",
         "max heart_rate": "94",
         "angina exercise": "1",
         "depression exercise": 1,
         "heart disease": 1,
         "_deepnote_index_column": 278
        },
        {
         "age": 41,
         "sex": 1,
         "chest pain": 4,
         "blood pressure": "120",
         "serum cholestoral": "336",
         "blood sugar": "0",
         "electrocardiographic": "0",
         "max heart_rate": "118",
         "angina exercise": "1",
         "depression exercise": 3,
         "heart disease": 1,
         "_deepnote_index_column": 279
        },
        {
         "age": 43,
         "sex": 1,
         "chest pain": 4,
         "blood pressure": "140",
         "serum cholestoral": "288",
         "blood sugar": "0",
         "electrocardiographic": "0",
         "max heart_rate": "135",
         "angina exercise": "1",
         "depression exercise": 2,
         "heart disease": 1,
         "_deepnote_index_column": 280
        },
        {
         "age": 44,
         "sex": 1,
         "chest pain": 4,
         "blood pressure": "135",
         "serum cholestoral": "491",
         "blood sugar": "0",
         "electrocardiographic": "0",
         "max heart_rate": "135",
         "angina exercise": "0",
         "depression exercise": 0,
         "heart disease": 1,
         "_deepnote_index_column": 281
        },
        {
         "age": 47,
         "sex": 0,
         "chest pain": 4,
         "blood pressure": "120",
         "serum cholestoral": "205",
         "blood sugar": "0",
         "electrocardiographic": "0",
         "max heart_rate": "98",
         "angina exercise": "1",
         "depression exercise": 2,
         "heart disease": 1,
         "_deepnote_index_column": 282
        },
        {
         "age": 47,
         "sex": 1,
         "chest pain": 4,
         "blood pressure": "160",
         "serum cholestoral": "291",
         "blood sugar": "0",
         "electrocardiographic": "1",
         "max heart_rate": "158",
         "angina exercise": "1",
         "depression exercise": 3,
         "heart disease": 1,
         "_deepnote_index_column": 283
        },
        {
         "age": 49,
         "sex": 1,
         "chest pain": 4,
         "blood pressure": "128",
         "serum cholestoral": "212",
         "blood sugar": "0",
         "electrocardiographic": "0",
         "max heart_rate": "96",
         "angina exercise": "1",
         "depression exercise": 0,
         "heart disease": 1,
         "_deepnote_index_column": 284
        },
        {
         "age": 49,
         "sex": 1,
         "chest pain": 4,
         "blood pressure": "150",
         "serum cholestoral": "222",
         "blood sugar": "0",
         "electrocardiographic": "0",
         "max heart_rate": "122",
         "angina exercise": "0",
         "depression exercise": 2,
         "heart disease": 1,
         "_deepnote_index_column": 285
        },
        {
         "age": 50,
         "sex": 1,
         "chest pain": 4,
         "blood pressure": "140",
         "serum cholestoral": "231",
         "blood sugar": "0",
         "electrocardiographic": "1",
         "max heart_rate": "140",
         "angina exercise": "1",
         "depression exercise": 5,
         "heart disease": 1,
         "_deepnote_index_column": 286
        },
        {
         "age": 50,
         "sex": 1,
         "chest pain": 4,
         "blood pressure": "140",
         "serum cholestoral": "341",
         "blood sugar": "0",
         "electrocardiographic": "1",
         "max heart_rate": "125",
         "angina exercise": "1",
         "depression exercise": 2.5,
         "heart disease": 1,
         "_deepnote_index_column": 287
        },
        {
         "age": 52,
         "sex": 1,
         "chest pain": 4,
         "blood pressure": "140",
         "serum cholestoral": "266",
         "blood sugar": "0",
         "electrocardiographic": "0",
         "max heart_rate": "134",
         "angina exercise": "1",
         "depression exercise": 2,
         "heart disease": 1,
         "_deepnote_index_column": 288
        },
        {
         "age": 52,
         "sex": 1,
         "chest pain": 4,
         "blood pressure": "160",
         "serum cholestoral": "331",
         "blood sugar": "0",
         "electrocardiographic": "0",
         "max heart_rate": "94",
         "angina exercise": "1",
         "depression exercise": 2.5,
         "heart disease": 1,
         "_deepnote_index_column": 289
        },
        {
         "age": 54,
         "sex": 0,
         "chest pain": 3,
         "blood pressure": "130",
         "serum cholestoral": "294",
         "blood sugar": "0",
         "electrocardiographic": "1",
         "max heart_rate": "100",
         "angina exercise": "1",
         "depression exercise": 0,
         "heart disease": 1,
         "_deepnote_index_column": 290
        },
        {
         "age": 56,
         "sex": 1,
         "chest pain": 4,
         "blood pressure": "155",
         "serum cholestoral": "342",
         "blood sugar": "1",
         "electrocardiographic": "0",
         "max heart_rate": "150",
         "angina exercise": "1",
         "depression exercise": 3,
         "heart disease": 1,
         "_deepnote_index_column": 291
        },
        {
         "age": 58,
         "sex": 0,
         "chest pain": 2,
         "blood pressure": "180",
         "serum cholestoral": "393",
         "blood sugar": "0",
         "electrocardiographic": "0",
         "max heart_rate": "110",
         "angina exercise": "1",
         "depression exercise": 1,
         "heart disease": 1,
         "_deepnote_index_column": 292
        },
        {
         "age": 65,
         "sex": 1,
         "chest pain": 4,
         "blood pressure": "130",
         "serum cholestoral": "275",
         "blood sugar": "0",
         "electrocardiographic": "1",
         "max heart_rate": "115",
         "angina exercise": "1",
         "depression exercise": 1,
         "heart disease": 1,
         "_deepnote_index_column": 293
        }
       ]
      },
      "text/plain": "     age  sex  chest pain blood pressure serum cholestoral blood sugar  \\\n0     28    1           2            130               132           0   \n1     29    1           2            120               243           0   \n2     29    1           2            140               NaN           0   \n3     30    0           1            170               237           0   \n4     31    0           2            100               219           0   \n..   ...  ...         ...            ...               ...         ...   \n289   52    1           4            160               331           0   \n290   54    0           3            130               294           0   \n291   56    1           4            155               342           1   \n292   58    0           2            180               393           0   \n293   65    1           4            130               275           0   \n\n    electrocardiographic max heart_rate angina exercise  depression exercise  \\\n0                      2            185               0                  0.0   \n1                      0            160               0                  0.0   \n2                      0            170               0                  0.0   \n3                      1            170               0                  0.0   \n4                      1            150               0                  0.0   \n..                   ...            ...             ...                  ...   \n289                    0             94               1                  2.5   \n290                    1            100               1                  0.0   \n291                    0            150               1                  3.0   \n292                    0            110               1                  1.0   \n293                    1            115               1                  1.0   \n\n     heart disease  \n0                0  \n1                0  \n2                0  \n3                0  \n4                0  \n..             ...  \n289              1  \n290              1  \n291              1  \n292              1  \n293              1  \n\n[294 rows x 11 columns]",
      "text/html": "<div>\n<style scoped>\n    .dataframe tbody tr th:only-of-type {\n        vertical-align: middle;\n    }\n\n    .dataframe tbody tr th {\n        vertical-align: top;\n    }\n\n    .dataframe thead th {\n        text-align: right;\n    }\n</style>\n<table border=\"1\" class=\"dataframe\">\n  <thead>\n    <tr style=\"text-align: right;\">\n      <th></th>\n      <th>age</th>\n      <th>sex</th>\n      <th>chest pain</th>\n      <th>blood pressure</th>\n      <th>serum cholestoral</th>\n      <th>blood sugar</th>\n      <th>electrocardiographic</th>\n      <th>max heart_rate</th>\n      <th>angina exercise</th>\n      <th>depression exercise</th>\n      <th>heart disease</th>\n    </tr>\n  </thead>\n  <tbody>\n    <tr>\n      <th>0</th>\n      <td>28</td>\n      <td>1</td>\n      <td>2</td>\n      <td>130</td>\n      <td>132</td>\n      <td>0</td>\n      <td>2</td>\n      <td>185</td>\n      <td>0</td>\n      <td>0.0</td>\n      <td>0</td>\n    </tr>\n    <tr>\n      <th>1</th>\n      <td>29</td>\n      <td>1</td>\n      <td>2</td>\n      <td>120</td>\n      <td>243</td>\n      <td>0</td>\n      <td>0</td>\n      <td>160</td>\n      <td>0</td>\n      <td>0.0</td>\n      <td>0</td>\n    </tr>\n    <tr>\n      <th>2</th>\n      <td>29</td>\n      <td>1</td>\n      <td>2</td>\n      <td>140</td>\n      <td>NaN</td>\n      <td>0</td>\n      <td>0</td>\n      <td>170</td>\n      <td>0</td>\n      <td>0.0</td>\n      <td>0</td>\n    </tr>\n    <tr>\n      <th>3</th>\n      <td>30</td>\n      <td>0</td>\n      <td>1</td>\n      <td>170</td>\n      <td>237</td>\n      <td>0</td>\n      <td>1</td>\n      <td>170</td>\n      <td>0</td>\n      <td>0.0</td>\n      <td>0</td>\n    </tr>\n    <tr>\n      <th>4</th>\n      <td>31</td>\n      <td>0</td>\n      <td>2</td>\n      <td>100</td>\n      <td>219</td>\n      <td>0</td>\n      <td>1</td>\n      <td>150</td>\n      <td>0</td>\n      <td>0.0</td>\n      <td>0</td>\n    </tr>\n    <tr>\n      <th>...</th>\n      <td>...</td>\n      <td>...</td>\n      <td>...</td>\n      <td>...</td>\n      <td>...</td>\n      <td>...</td>\n      <td>...</td>\n      <td>...</td>\n      <td>...</td>\n      <td>...</td>\n      <td>...</td>\n    </tr>\n    <tr>\n      <th>289</th>\n      <td>52</td>\n      <td>1</td>\n      <td>4</td>\n      <td>160</td>\n      <td>331</td>\n      <td>0</td>\n      <td>0</td>\n      <td>94</td>\n      <td>1</td>\n      <td>2.5</td>\n      <td>1</td>\n    </tr>\n    <tr>\n      <th>290</th>\n      <td>54</td>\n      <td>0</td>\n      <td>3</td>\n      <td>130</td>\n      <td>294</td>\n      <td>0</td>\n      <td>1</td>\n      <td>100</td>\n      <td>1</td>\n      <td>0.0</td>\n      <td>1</td>\n    </tr>\n    <tr>\n      <th>291</th>\n      <td>56</td>\n      <td>1</td>\n      <td>4</td>\n      <td>155</td>\n      <td>342</td>\n      <td>1</td>\n      <td>0</td>\n      <td>150</td>\n      <td>1</td>\n      <td>3.0</td>\n      <td>1</td>\n    </tr>\n    <tr>\n      <th>292</th>\n      <td>58</td>\n      <td>0</td>\n      <td>2</td>\n      <td>180</td>\n      <td>393</td>\n      <td>0</td>\n      <td>0</td>\n      <td>110</td>\n      <td>1</td>\n      <td>1.0</td>\n      <td>1</td>\n    </tr>\n    <tr>\n      <th>293</th>\n      <td>65</td>\n      <td>1</td>\n      <td>4</td>\n      <td>130</td>\n      <td>275</td>\n      <td>0</td>\n      <td>1</td>\n      <td>115</td>\n      <td>1</td>\n      <td>1.0</td>\n      <td>1</td>\n    </tr>\n  </tbody>\n</table>\n<p>294 rows × 11 columns</p>\n</div>"
     },
     "metadata": {}
    }
   ],
   "execution_count": 31
  },
  {
   "cell_type": "code",
   "source": "hipocrat['age'].value_counts()",
   "metadata": {
    "tags": [],
    "cell_id": "00038-382cd62f-cf92-4b33-9107-344ebc33db06",
    "deepnote_to_be_reexecuted": false,
    "source_hash": "42bc5c2b",
    "execution_start": 1626441335976,
    "execution_millis": 32,
    "deepnote_cell_type": "code"
   },
   "outputs": [
    {
     "output_type": "execute_result",
     "execution_count": 32,
     "data": {
      "text/plain": "54    25\n48    19\n52    17\n55    15\n49    15\n46    13\n53    12\n50    12\n43    12\n39    11\n41    11\n47    10\n56    10\n58     9\n51     9\n59     8\n45     8\n37     8\n42     7\n40     7\n38     7\n44     7\n36     5\n35     5\n57     5\n34     4\n32     4\n65     3\n61     2\n60     2\n62     2\n31     2\n33     2\n29     2\n63     1\n28     1\n30     1\n66     1\nName: age, dtype: int64"
     },
     "metadata": {}
    }
   ],
   "execution_count": 32
  },
  {
   "cell_type": "code",
   "source": "hipocrat['serum cholestoral'].value_counts()",
   "metadata": {
    "tags": [],
    "cell_id": "00032-da441bf1-32bb-495c-ac7c-6d1414f9455e",
    "deepnote_to_be_reexecuted": false,
    "source_hash": "cd9cb76",
    "execution_start": 1626441337804,
    "execution_millis": 66,
    "deepnote_cell_type": "code"
   },
   "outputs": [
    {
     "output_type": "execute_result",
     "execution_count": 33,
     "data": {
      "text/plain": "275    5\n230    5\n246    5\n237    4\n238    4\n      ..\n206    1\n259    1\n251    1\n287    1\n161    1\nName: serum cholestoral, Length: 153, dtype: int64"
     },
     "metadata": {}
    }
   ],
   "execution_count": 33
  },
  {
   "cell_type": "code",
   "source": "",
   "metadata": {
    "tags": [],
    "cell_id": "00033-c9153f16-ee92-4eac-a0bb-fea4d0c4e786",
    "deepnote_to_be_reexecuted": false,
    "source_hash": "b623e53d",
    "execution_start": 1626441338802,
    "execution_millis": 5,
    "deepnote_cell_type": "code"
   },
   "outputs": [],
   "execution_count": 33
  },
  {
   "cell_type": "code",
   "source": "from sklearn.impute import SimpleImputer",
   "metadata": {
    "tags": [],
    "cell_id": "00034-9030e750-229e-4d06-9a12-0e08dd091d67",
    "deepnote_to_be_reexecuted": false,
    "source_hash": "8c3afddd",
    "execution_start": 1626441339832,
    "execution_millis": 2797,
    "deepnote_cell_type": "code"
   },
   "outputs": [],
   "execution_count": 34
  },
  {
   "cell_type": "code",
   "source": "# imputer = SimpleImputer()\nhipocrat = hipocrat.astype(float)",
   "metadata": {
    "tags": [],
    "cell_id": "00035-e05d9d86-b4c9-42c9-b8f2-5d57777dd01b",
    "deepnote_to_be_reexecuted": false,
    "source_hash": "dc400e32",
    "execution_start": 1626441343603,
    "execution_millis": 4,
    "deepnote_cell_type": "code"
   },
   "outputs": [],
   "execution_count": 35
  },
  {
   "cell_type": "code",
   "source": "imp_mean = SimpleImputer(missing_values=np.nan, strategy='mean')\nhipocrat_new = imp_mean.fit_transform(hipocrat)\n# imp_mean = SimpleImputer(missing_values=np.nan, strategy='mean')\n# >>> imp_mean.fit([[7, 2, 3], [4, np.nan, 6], [10, 5, 9]])",
   "metadata": {
    "tags": [],
    "cell_id": "00036-1df7e75d-e80b-4365-a4db-c22dffce4ba6",
    "deepnote_to_be_reexecuted": false,
    "source_hash": "f494f0c",
    "execution_start": 1626441349996,
    "execution_millis": 15,
    "deepnote_cell_type": "code"
   },
   "outputs": [],
   "execution_count": 36
  },
  {
   "cell_type": "code",
   "source": "hipocrat_new.dtype",
   "metadata": {
    "tags": [],
    "cell_id": "00037-0c2b75d2-f3c8-4b3e-b7eb-965c1c417fba",
    "deepnote_to_be_reexecuted": false,
    "source_hash": "c68fa86b",
    "execution_start": 1626441351032,
    "execution_millis": 13,
    "deepnote_cell_type": "code"
   },
   "outputs": [
    {
     "output_type": "execute_result",
     "execution_count": 37,
     "data": {
      "text/plain": "dtype('float64')"
     },
     "metadata": {}
    }
   ],
   "execution_count": 37
  },
  {
   "cell_type": "code",
   "source": "hipocrat_df = pd.DataFrame(hipocrat_new,columns=[['age','sex','chest pain','blood pressure','serum cholestoral',\"blood sugar\",'electrocardiographic','max heart_rate','angina exercise','depression exercise',\"heart disease\"]])",
   "metadata": {
    "tags": [],
    "cell_id": "00038-8427cfef-ae90-4a1e-a664-adaa8b126bb3",
    "deepnote_to_be_reexecuted": false,
    "source_hash": "c49def1b",
    "execution_start": 1626441352155,
    "execution_millis": 15,
    "deepnote_cell_type": "code"
   },
   "outputs": [],
   "execution_count": 38
  },
  {
   "cell_type": "code",
   "source": "hipocrat_df['blood pressure'].value_counts()",
   "metadata": {
    "tags": [],
    "cell_id": "00038-d98e7bad-c964-4945-9bb1-87cf64d510ee",
    "deepnote_to_be_reexecuted": false,
    "source_hash": "230f3d26",
    "execution_start": 1626441353160,
    "execution_millis": 18,
    "deepnote_cell_type": "code"
   },
   "outputs": [
    {
     "output_type": "execute_result",
     "execution_count": 39,
     "data": {
      "text/plain": "(blood pressure,)\n120.000000           65\n130.000000           54\n140.000000           50\n150.000000           23\n110.000000           21\n160.000000           20\n125.000000            8\n100.000000            6\n180.000000            6\n170.000000            5\n135.000000            5\n145.000000            5\n112.000000            3\n122.000000            2\n118.000000            2\n124.000000            2\n115.000000            2\n155.000000            1\n138.000000            1\n142.000000            1\n190.000000            1\n92.000000             1\n136.000000            1\n132.583618            1\n132.000000            1\n98.000000             1\n128.000000            1\n113.000000            1\n108.000000            1\n106.000000            1\n105.000000            1\n200.000000            1\ndtype: int64"
     },
     "metadata": {}
    }
   ],
   "execution_count": 39
  },
  {
   "cell_type": "code",
   "source": "hipocrat_df['serum cholestoral'].value_counts()",
   "metadata": {
    "tags": [],
    "cell_id": "00039-0020700b-0fbc-4cfd-b5aa-84ee4beb78f6",
    "deepnote_to_be_reexecuted": false,
    "source_hash": "bc403e2f",
    "execution_start": 1626441354819,
    "execution_millis": 32,
    "deepnote_cell_type": "code"
   },
   "outputs": [
    {
     "output_type": "execute_result",
     "execution_count": 40,
     "data": {
      "text/plain": "(serum cholestoral,)\n250.848708              23\n230.000000               5\n275.000000               5\n246.000000               5\n260.000000               4\n                        ..\n229.000000               1\n228.000000               1\n227.000000               1\n226.000000               1\n603.000000               1\nLength: 154, dtype: int64"
     },
     "metadata": {}
    }
   ],
   "execution_count": 40
  },
  {
   "cell_type": "code",
   "source": "hipocrat_df.dtypes",
   "metadata": {
    "tags": [],
    "cell_id": "00043-d8a25d41-e546-42ae-a4bd-1cab1f25e15b",
    "deepnote_to_be_reexecuted": false,
    "source_hash": "3f0bf447",
    "execution_start": 1626441355799,
    "execution_millis": 20,
    "deepnote_cell_type": "code"
   },
   "outputs": [
    {
     "output_type": "execute_result",
     "execution_count": 41,
     "data": {
      "text/plain": "age                     float64\nsex                     float64\nchest pain              float64\nblood pressure          float64\nserum cholestoral       float64\nblood sugar             float64\nelectrocardiographic    float64\nmax heart_rate          float64\nangina exercise         float64\ndepression exercise     float64\nheart disease           float64\ndtype: object"
     },
     "metadata": {}
    }
   ],
   "execution_count": 41
  },
  {
   "cell_type": "code",
   "source": "",
   "metadata": {
    "tags": [],
    "cell_id": "00044-ffa6a6e1-13f4-41bc-98b9-1d0d91a4b0b4",
    "deepnote_to_be_reexecuted": false,
    "source_hash": "b623e53d",
    "execution_start": 1626441357353,
    "execution_millis": 7,
    "deepnote_cell_type": "code"
   },
   "outputs": [],
   "execution_count": 41
  },
  {
   "cell_type": "code",
   "source": "# Maybe scaling?\n# Standarscaler,normalization",
   "metadata": {
    "tags": [],
    "cell_id": "00043-a31dfa93-020b-4cbf-bd7e-b62664774ccd",
    "deepnote_to_be_reexecuted": false,
    "source_hash": "27ece1e4",
    "execution_start": 1626441357931,
    "execution_millis": 9,
    "deepnote_cell_type": "code"
   },
   "outputs": [],
   "execution_count": 42
  },
  {
   "cell_type": "code",
   "source": "from sklearn.model_selection import train_test_split\nfrom sklearn.tree          import DecisionTreeClassifier\nfrom sklearn.ensemble      import RandomForestClassifier\nfrom sklearn.ensemble      import ExtraTreesClassifier\nfrom sklearn.ensemble      import AdaBoostClassifier\nfrom sklearn.ensemble      import GradientBoostingClassifier\nfrom xgboost               import XGBClassifier\nfrom lightgbm              import LGBMClassifier\nfrom catboost              import CatBoostClassifier\n",
   "metadata": {
    "tags": [],
    "cell_id": "00044-b25856d7-c348-4362-b22b-a28c7da324df",
    "deepnote_to_be_reexecuted": false,
    "source_hash": "66427df0",
    "execution_start": 1626441657705,
    "execution_millis": 7,
    "deepnote_cell_type": "code"
   },
   "outputs": [],
   "execution_count": 45
  },
  {
   "cell_type": "code",
   "source": "# train test split \nhipocrat_df.columns\nX = hipocrat_df.iloc[:,:-1]\ny = hipocrat_df.iloc[:,-1]\nX_train, X_test, y_train, y_test = train_test_split(X, y, random_state=47, test_size=0.2)",
   "metadata": {
    "tags": [],
    "cell_id": "00045-a40bd28b-8d95-4cfa-8fe3-1eed52671efe",
    "deepnote_to_be_reexecuted": false,
    "source_hash": "647705cd",
    "execution_start": 1626442884926,
    "execution_millis": 10,
    "deepnote_cell_type": "code"
   },
   "outputs": [],
   "execution_count": 117
  },
  {
   "cell_type": "code",
   "source": "from sklearn.tree import DecisionTreeClassifier\nfrom sklearn.tree import plot_tree\nfrom sklearn.metrics import confusion_matrix, plot_confusion_matrix\nfrom sklearn.model_selection import cross_val_predict",
   "metadata": {
    "tags": [],
    "cell_id": "00047-bf593a73-b724-4dc6-8590-56bed976bb4f",
    "deepnote_to_be_reexecuted": false,
    "source_hash": "7e3741d6",
    "execution_start": 1626444032267,
    "execution_millis": 21,
    "deepnote_cell_type": "code"
   },
   "outputs": [],
   "execution_count": 136
  },
  {
   "cell_type": "code",
   "source": "dtc = DecisionTreeClassifier()\n\ndtc.fit(X_train, y_train)",
   "metadata": {
    "tags": [],
    "cell_id": "00048-f063a92b-46c3-4d25-ba4d-f42c75a0ade1",
    "deepnote_to_be_reexecuted": false,
    "source_hash": "19e6cf87",
    "execution_start": 1626444033291,
    "execution_millis": 17,
    "deepnote_cell_type": "code"
   },
   "outputs": [
    {
     "output_type": "execute_result",
     "execution_count": 137,
     "data": {
      "text/plain": "DecisionTreeClassifier()"
     },
     "metadata": {}
    }
   ],
   "execution_count": 137
  },
  {
   "cell_type": "code",
   "source": "(dtc.predict(X_test) == y_test).sum()/y_test.shape[0]",
   "metadata": {
    "tags": [],
    "cell_id": "00048-042e5c10-0c59-44d5-9ebd-7db34c4ffbe6",
    "deepnote_to_be_reexecuted": false,
    "source_hash": "aa090301",
    "execution_start": 1626444034022,
    "execution_millis": 24,
    "deepnote_cell_type": "code"
   },
   "outputs": [
    {
     "output_type": "execute_result",
     "execution_count": 138,
     "data": {
      "text/plain": "0.711864406779661"
     },
     "metadata": {}
    }
   ],
   "execution_count": 138
  },
  {
   "cell_type": "markdown",
   "source": "- Without Augmentation we have 77.9% of acc",
   "metadata": {
    "tags": [],
    "cell_id": "00049-f1f42b57-6550-4413-92aa-8a6bcf957c01",
    "deepnote_cell_type": "markdown"
   }
  },
  {
   "cell_type": "code",
   "source": "",
   "metadata": {
    "tags": [],
    "cell_id": "00050-dac5befd-4024-49a5-99f9-9d6512e5309e",
    "deepnote_to_be_reexecuted": false,
    "source_hash": "b623e53d",
    "execution_start": 1626444034532,
    "execution_millis": 12,
    "deepnote_cell_type": "code"
   },
   "outputs": [],
   "execution_count": 138
  },
  {
   "cell_type": "code",
   "source": "plot_confusion_matrix(dtc, X_test, y_test)",
   "metadata": {
    "tags": [],
    "cell_id": "00049-dde0c922-387f-4247-ba8b-a7664018edb9",
    "deepnote_to_be_reexecuted": false,
    "source_hash": "1229c198",
    "execution_start": 1626444036565,
    "execution_millis": 844,
    "deepnote_cell_type": "code"
   },
   "outputs": [
    {
     "output_type": "execute_result",
     "execution_count": 139,
     "data": {
      "text/plain": "<sklearn.metrics._plot.confusion_matrix.ConfusionMatrixDisplay at 0x7fc3fea30710>"
     },
     "metadata": {}
    },
    {
     "data": {
      "text/plain": "<Figure size 432x288 with 2 Axes>",
      "image/png": "[encoded data removed]"
     },
     "metadata": {
      "needs_background": "light",
      "image/png": {
       "width": 325,
       "height": 262
      }
     },
     "output_type": "display_data"
    }
   ],
   "execution_count": 139
  },
  {
   "cell_type": "code",
   "source": "from sklearn import pipeline\nfrom sklearn import compose\nimport time\n",
   "metadata": {
    "tags": [],
    "cell_id": "00052-98cfcd69-d2ac-4419-b0f5-9774c567853b",
    "deepnote_to_be_reexecuted": false,
    "source_hash": "f62581a",
    "execution_start": 1626444037432,
    "execution_millis": 11,
    "deepnote_cell_type": "code"
   },
   "outputs": [],
   "execution_count": 140
  },
  {
   "cell_type": "code",
   "source": "from sklearn.metrics import accuracy_score,balanced_accuracy_score",
   "metadata": {
    "tags": [],
    "cell_id": "00053-5bb4ecb8-39cd-469d-93e7-c08a550a6ec7",
    "deepnote_to_be_reexecuted": false,
    "source_hash": "58bda674",
    "execution_start": 1626444037936,
    "execution_millis": 8,
    "deepnote_cell_type": "code"
   },
   "outputs": [],
   "execution_count": 141
  },
  {
   "cell_type": "code",
   "source": "# x = df.drop(columns=[\"Survived\", 'Name', 'Ticket', 'Cabin']) # X DATA (WILL BE TRAIN+VALID DATA)\n# y = df[\"Survived\"] # 0 = No, 1 = Yes\n\n# x_test = df_test.drop(columns=['Name', 'Ticket', 'Cabin']) # # X_TEST DATA (NEW DATA)",
   "metadata": {
    "tags": [],
    "cell_id": "00054-e64c4b30-e027-4f5f-a0d6-3782a4964adc",
    "deepnote_to_be_reexecuted": false,
    "source_hash": "9e2ccdab",
    "execution_start": 1626444039021,
    "execution_millis": 5,
    "deepnote_cell_type": "code"
   },
   "outputs": [],
   "execution_count": 142
  },
  {
   "cell_type": "code",
   "source": "hipocrat_df.columns[:-1]",
   "metadata": {
    "tags": [],
    "cell_id": "00055-5553d0e6-69ab-4e26-b7bf-c4a2036eb50b",
    "deepnote_to_be_reexecuted": false,
    "source_hash": "7405b370",
    "execution_start": 1626444039581,
    "execution_millis": 20,
    "deepnote_cell_type": "code"
   },
   "outputs": [
    {
     "output_type": "execute_result",
     "execution_count": 143,
     "data": {
      "text/plain": "MultiIndex([(                 'age',),\n            (                 'sex',),\n            (          'chest pain',),\n            (      'blood pressure',),\n            (   'serum cholestoral',),\n            (         'blood sugar',),\n            ('electrocardiographic',),\n            (      'max heart_rate',),\n            (     'angina exercise',),\n            ( 'depression exercise',)],\n           )"
     },
     "metadata": {}
    }
   ],
   "execution_count": 143
  },
  {
   "cell_type": "code",
   "source": "num_4_treeModels = pipeline.Pipeline(steps=[\n    ('imputer', SimpleImputer(strategy='mean')),\n])\ntree_prepro = compose.ColumnTransformer(transformers=[\n    ('num', num_4_treeModels, hipocrat_df.columns),\n])",
   "metadata": {
    "tags": [],
    "cell_id": "00051-4bb9c4bf-c45a-408e-9c70-004c6e7a38ba",
    "deepnote_to_be_reexecuted": false,
    "source_hash": "cce88dc0",
    "execution_start": 1626444040287,
    "execution_millis": 13,
    "deepnote_cell_type": "code"
   },
   "outputs": [],
   "execution_count": 144
  },
  {
   "cell_type": "code",
   "source": "hipocrat_df",
   "metadata": {
    "tags": [],
    "cell_id": "00057-e7060b56-a778-44a9-8526-ee4444870769",
    "deepnote_to_be_reexecuted": false,
    "source_hash": "33de52d3",
    "execution_start": 1626444040860,
    "execution_millis": 175,
    "deepnote_cell_type": "code"
   },
   "outputs": [
    {
     "output_type": "execute_result",
     "execution_count": 145,
     "data": {
      "application/vnd.deepnote.dataframe.v2+json": {
       "row_count": 294,
       "column_count": 11,
       "columns": [
        {
         "name": [
          "age"
         ],
         "dtype": "float64",
         "stats": {
          "unique_count": 38,
          "nan_count": 0,
          "min": "28.0",
          "max": "66.0",
          "histogram": [
           {
            "bin_start": 28,
            "bin_end": 31.8,
            "count": 6
           },
           {
            "bin_start": 31.8,
            "bin_end": 35.6,
            "count": 15
           },
           {
            "bin_start": 35.6,
            "bin_end": 39.4,
            "count": 31
           },
           {
            "bin_start": 39.4,
            "bin_end": 43.2,
            "count": 37
           },
           {
            "bin_start": 43.2,
            "bin_end": 47,
            "count": 28
           },
           {
            "bin_start": 47,
            "bin_end": 50.8,
            "count": 56
           },
           {
            "bin_start": 50.8,
            "bin_end": 54.599999999999994,
            "count": 63
           },
           {
            "bin_start": 54.599999999999994,
            "bin_end": 58.4,
            "count": 39
           },
           {
            "bin_start": 58.4,
            "bin_end": 62.199999999999996,
            "count": 14
           },
           {
            "bin_start": 62.199999999999996,
            "bin_end": 66,
            "count": 5
           }
          ]
         }
        },
        {
         "name": [
          "sex"
         ],
         "dtype": "float64",
         "stats": {
          "unique_count": 2,
          "nan_count": 0,
          "min": "0.0",
          "max": "1.0",
          "histogram": [
           {
            "bin_start": 0,
            "bin_end": 0.1,
            "count": 81
           },
           {
            "bin_start": 0.1,
            "bin_end": 0.2,
            "count": 0
           },
           {
            "bin_start": 0.2,
            "bin_end": 0.30000000000000004,
            "count": 0
           },
           {
            "bin_start": 0.30000000000000004,
            "bin_end": 0.4,
            "count": 0
           },
           {
            "bin_start": 0.4,
            "bin_end": 0.5,
            "count": 0
           },
           {
            "bin_start": 0.5,
            "bin_end": 0.6000000000000001,
            "count": 0
           },
           {
            "bin_start": 0.6000000000000001,
            "bin_end": 0.7000000000000001,
            "count": 0
           },
           {
            "bin_start": 0.7000000000000001,
            "bin_end": 0.8,
            "count": 0
           },
           {
            "bin_start": 0.8,
            "bin_end": 0.9,
            "count": 0
           },
           {
            "bin_start": 0.9,
            "bin_end": 1,
            "count": 213
           }
          ]
         }
        },
        {
         "name": [
          "chest pain"
         ],
         "dtype": "float64",
         "stats": {
          "unique_count": 4,
          "nan_count": 0,
          "min": "1.0",
          "max": "4.0",
          "histogram": [
           {
            "bin_start": 1,
            "bin_end": 1.3,
            "count": 11
           },
           {
            "bin_start": 1.3,
            "bin_end": 1.6,
            "count": 0
           },
           {
            "bin_start": 1.6,
            "bin_end": 1.9,
            "count": 0
           },
           {
            "bin_start": 1.9,
            "bin_end": 2.2,
            "count": 106
           },
           {
            "bin_start": 2.2,
            "bin_end": 2.5,
            "count": 0
           },
           {
            "bin_start": 2.5,
            "bin_end": 2.8,
            "count": 0
           },
           {
            "bin_start": 2.8,
            "bin_end": 3.1,
            "count": 54
           },
           {
            "bin_start": 3.1,
            "bin_end": 3.4,
            "count": 0
           },
           {
            "bin_start": 3.4,
            "bin_end": 3.6999999999999997,
            "count": 0
           },
           {
            "bin_start": 3.6999999999999997,
            "bin_end": 4,
            "count": 123
           }
          ]
         }
        },
        {
         "name": [
          "blood pressure"
         ],
         "dtype": "float64",
         "stats": {
          "unique_count": 32,
          "nan_count": 0,
          "min": "92.0",
          "max": "200.0",
          "histogram": [
           {
            "bin_start": 92,
            "bin_end": 102.8,
            "count": 8
           },
           {
            "bin_start": 102.8,
            "bin_end": 113.6,
            "count": 28
           },
           {
            "bin_start": 113.6,
            "bin_end": 124.4,
            "count": 73
           },
           {
            "bin_start": 124.4,
            "bin_end": 135.2,
            "count": 70
           },
           {
            "bin_start": 135.2,
            "bin_end": 146,
            "count": 58
           },
           {
            "bin_start": 146,
            "bin_end": 156.8,
            "count": 24
           },
           {
            "bin_start": 156.8,
            "bin_end": 167.60000000000002,
            "count": 20
           },
           {
            "bin_start": 167.60000000000002,
            "bin_end": 178.4,
            "count": 5
           },
           {
            "bin_start": 178.4,
            "bin_end": 189.2,
            "count": 6
           },
           {
            "bin_start": 189.2,
            "bin_end": 200,
            "count": 2
           }
          ]
         }
        },
        {
         "name": [
          "serum cholestoral"
         ],
         "dtype": "float64",
         "stats": {
          "unique_count": 154,
          "nan_count": 0,
          "min": "85.0",
          "max": "603.0",
          "histogram": [
           {
            "bin_start": 85,
            "bin_end": 136.8,
            "count": 5
           },
           {
            "bin_start": 136.8,
            "bin_end": 188.6,
            "count": 32
           },
           {
            "bin_start": 188.6,
            "bin_end": 240.39999999999998,
            "count": 95
           },
           {
            "bin_start": 240.39999999999998,
            "bin_end": 292.2,
            "count": 111
           },
           {
            "bin_start": 292.2,
            "bin_end": 344,
            "count": 34
           },
           {
            "bin_start": 344,
            "bin_end": 395.79999999999995,
            "count": 9
           },
           {
            "bin_start": 395.79999999999995,
            "bin_end": 447.59999999999997,
            "count": 2
           },
           {
            "bin_start": 447.59999999999997,
            "bin_end": 499.4,
            "count": 3
           },
           {
            "bin_start": 499.4,
            "bin_end": 551.2,
            "count": 2
           },
           {
            "bin_start": 551.2,
            "bin_end": 603,
            "count": 1
           }
          ]
         }
        },
        {
         "name": [
          "blood sugar"
         ],
         "dtype": "float64",
         "stats": {
          "unique_count": 3,
          "nan_count": 0,
          "min": "0.0",
          "max": "1.0",
          "histogram": [
           {
            "bin_start": 0,
            "bin_end": 0.1,
            "count": 274
           },
           {
            "bin_start": 0.1,
            "bin_end": 0.2,
            "count": 0
           },
           {
            "bin_start": 0.2,
            "bin_end": 0.30000000000000004,
            "count": 0
           },
           {
            "bin_start": 0.30000000000000004,
            "bin_end": 0.4,
            "count": 0
           },
           {
            "bin_start": 0.4,
            "bin_end": 0.5,
            "count": 0
           },
           {
            "bin_start": 0.5,
            "bin_end": 0.6000000000000001,
            "count": 0
           },
           {
            "bin_start": 0.6000000000000001,
            "bin_end": 0.7000000000000001,
            "count": 0
           },
           {
            "bin_start": 0.7000000000000001,
            "bin_end": 0.8,
            "count": 0
           },
           {
            "bin_start": 0.8,
            "bin_end": 0.9,
            "count": 0
           },
           {
            "bin_start": 0.9,
            "bin_end": 1,
            "count": 20
           }
          ]
         }
        },
        {
         "name": [
          "electrocardiographic"
         ],
         "dtype": "float64",
         "stats": {
          "unique_count": 4,
          "nan_count": 0,
          "min": "0.0",
          "max": "2.0",
          "histogram": [
           {
            "bin_start": 0,
            "bin_end": 0.2,
            "count": 235
           },
           {
            "bin_start": 0.2,
            "bin_end": 0.4,
            "count": 1
           },
           {
            "bin_start": 0.4,
            "bin_end": 0.6000000000000001,
            "count": 0
           },
           {
            "bin_start": 0.6000000000000001,
            "bin_end": 0.8,
            "count": 0
           },
           {
            "bin_start": 0.8,
            "bin_end": 1,
            "count": 0
           },
           {
            "bin_start": 1,
            "bin_end": 1.2000000000000002,
            "count": 52
           },
           {
            "bin_start": 1.2000000000000002,
            "bin_end": 1.4000000000000001,
            "count": 0
           },
           {
            "bin_start": 1.4000000000000001,
            "bin_end": 1.6,
            "count": 0
           },
           {
            "bin_start": 1.6,
            "bin_end": 1.8,
            "count": 0
           },
           {
            "bin_start": 1.8,
            "bin_end": 2,
            "count": 6
           }
          ]
         }
        },
        {
         "name": [
          "max heart_rate"
         ],
         "dtype": "float64",
         "stats": {
          "unique_count": 72,
          "nan_count": 0,
          "min": "82.0",
          "max": "190.0",
          "histogram": [
           {
            "bin_start": 82,
            "bin_end": 92.8,
            "count": 7
           },
           {
            "bin_start": 92.8,
            "bin_end": 103.6,
            "count": 20
           },
           {
            "bin_start": 103.6,
            "bin_end": 114.4,
            "count": 16
           },
           {
            "bin_start": 114.4,
            "bin_end": 125.2,
            "count": 45
           },
           {
            "bin_start": 125.2,
            "bin_end": 136,
            "count": 37
           },
           {
            "bin_start": 136,
            "bin_end": 146.8,
            "count": 55
           },
           {
            "bin_start": 146.8,
            "bin_end": 157.60000000000002,
            "count": 46
           },
           {
            "bin_start": 157.60000000000002,
            "bin_end": 168.4,
            "count": 27
           },
           {
            "bin_start": 168.4,
            "bin_end": 179.2,
            "count": 27
           },
           {
            "bin_start": 179.2,
            "bin_end": 190,
            "count": 14
           }
          ]
         }
        },
        {
         "name": [
          "angina exercise"
         ],
         "dtype": "float64",
         "stats": {
          "unique_count": 3,
          "nan_count": 0,
          "min": "0.0",
          "max": "1.0",
          "histogram": [
           {
            "bin_start": 0,
            "bin_end": 0.1,
            "count": 204
           },
           {
            "bin_start": 0.1,
            "bin_end": 0.2,
            "count": 0
           },
           {
            "bin_start": 0.2,
            "bin_end": 0.30000000000000004,
            "count": 0
           },
           {
            "bin_start": 0.30000000000000004,
            "bin_end": 0.4,
            "count": 1
           },
           {
            "bin_start": 0.4,
            "bin_end": 0.5,
            "count": 0
           },
           {
            "bin_start": 0.5,
            "bin_end": 0.6000000000000001,
            "count": 0
           },
           {
            "bin_start": 0.6000000000000001,
            "bin_end": 0.7000000000000001,
            "count": 0
           },
           {
            "bin_start": 0.7000000000000001,
            "bin_end": 0.8,
            "count": 0
           },
           {
            "bin_start": 0.8,
            "bin_end": 0.9,
            "count": 0
           },
           {
            "bin_start": 0.9,
            "bin_end": 1,
            "count": 89
           }
          ]
         }
        },
        {
         "name": [
          "depression exercise"
         ],
         "dtype": "float64",
         "stats": {
          "unique_count": 10,
          "nan_count": 0,
          "min": "0.0",
          "max": "5.0",
          "histogram": [
           {
            "bin_start": 0,
            "bin_end": 0.5,
            "count": 189
           },
           {
            "bin_start": 0.5,
            "bin_end": 1,
            "count": 3
           },
           {
            "bin_start": 1,
            "bin_end": 1.5,
            "count": 41
           },
           {
            "bin_start": 1.5,
            "bin_end": 2,
            "count": 16
           },
           {
            "bin_start": 2,
            "bin_end": 2.5,
            "count": 31
           },
           {
            "bin_start": 2.5,
            "bin_end": 3,
            "count": 3
           },
           {
            "bin_start": 3,
            "bin_end": 3.5,
            "count": 9
           },
           {
            "bin_start": 3.5,
            "bin_end": 4,
            "count": 0
           },
           {
            "bin_start": 4,
            "bin_end": 4.5,
            "count": 1
           },
           {
            "bin_start": 4.5,
            "bin_end": 5,
            "count": 1
           }
          ]
         }
        },
        {
         "name": [
          "heart disease"
         ],
         "dtype": "float64",
         "stats": {
          "unique_count": 2,
          "nan_count": 0,
          "min": "0.0",
          "max": "1.0",
          "histogram": [
           {
            "bin_start": 0,
            "bin_end": 0.1,
            "count": 188
           },
           {
            "bin_start": 0.1,
            "bin_end": 0.2,
            "count": 0
           },
           {
            "bin_start": 0.2,
            "bin_end": 0.30000000000000004,
            "count": 0
           },
           {
            "bin_start": 0.30000000000000004,
            "bin_end": 0.4,
            "count": 0
           },
           {
            "bin_start": 0.4,
            "bin_end": 0.5,
            "count": 0
           },
           {
            "bin_start": 0.5,
            "bin_end": 0.6000000000000001,
            "count": 0
           },
           {
            "bin_start": 0.6000000000000001,
            "bin_end": 0.7000000000000001,
            "count": 0
           },
           {
            "bin_start": 0.7000000000000001,
            "bin_end": 0.8,
            "count": 0
           },
           {
            "bin_start": 0.8,
            "bin_end": 0.9,
            "count": 0
           },
           {
            "bin_start": 0.9,
            "bin_end": 1,
            "count": 106
           }
          ]
         }
        },
        {
         "name": "_deepnote_index_column",
         "dtype": "int64"
        }
       ],
       "rows_top": [
        {
         "('age',)": 28,
         "('sex',)": 1,
         "('chest pain',)": 2,
         "('blood pressure',)": 130,
         "('serum cholestoral',)": 132,
         "('blood sugar',)": 0,
         "('electrocardiographic',)": 2,
         "('max heart_rate',)": 185,
         "('angina exercise',)": 0,
         "('depression exercise',)": 0,
         "('heart disease',)": 0,
         "_deepnote_index_column": 0
        },
        {
         "('age',)": 29,
         "('sex',)": 1,
         "('chest pain',)": 2,
         "('blood pressure',)": 120,
         "('serum cholestoral',)": 243,
         "('blood sugar',)": 0,
         "('electrocardiographic',)": 0,
         "('max heart_rate',)": 160,
         "('angina exercise',)": 0,
         "('depression exercise',)": 0,
         "('heart disease',)": 0,
         "_deepnote_index_column": 1
        },
        {
         "('age',)": 29,
         "('sex',)": 1,
         "('chest pain',)": 2,
         "('blood pressure',)": 140,
         "('serum cholestoral',)": 250.84870848708488,
         "('blood sugar',)": 0,
         "('electrocardiographic',)": 0,
         "('max heart_rate',)": 170,
         "('angina exercise',)": 0,
         "('depression exercise',)": 0,
         "('heart disease',)": 0,
         "_deepnote_index_column": 2
        },
        {
         "('age',)": 30,
         "('sex',)": 0,
         "('chest pain',)": 1,
         "('blood pressure',)": 170,
         "('serum cholestoral',)": 237,
         "('blood sugar',)": 0,
         "('electrocardiographic',)": 1,
         "('max heart_rate',)": 170,
         "('angina exercise',)": 0,
         "('depression exercise',)": 0,
         "('heart disease',)": 0,
         "_deepnote_index_column": 3
        },
        {
         "('age',)": 31,
         "('sex',)": 0,
         "('chest pain',)": 2,
         "('blood pressure',)": 100,
         "('serum cholestoral',)": 219,
         "('blood sugar',)": 0,
         "('electrocardiographic',)": 1,
         "('max heart_rate',)": 150,
         "('angina exercise',)": 0,
         "('depression exercise',)": 0,
         "('heart disease',)": 0,
         "_deepnote_index_column": 4
        },
        {
         "('age',)": 32,
         "('sex',)": 0,
         "('chest pain',)": 2,
         "('blood pressure',)": 105,
         "('serum cholestoral',)": 198,
         "('blood sugar',)": 0,
         "('electrocardiographic',)": 0,
         "('max heart_rate',)": 165,
         "('angina exercise',)": 0,
         "('depression exercise',)": 0,
         "('heart disease',)": 0,
         "_deepnote_index_column": 5
        },
        {
         "('age',)": 32,
         "('sex',)": 1,
         "('chest pain',)": 2,
         "('blood pressure',)": 110,
         "('serum cholestoral',)": 225,
         "('blood sugar',)": 0,
         "('electrocardiographic',)": 0,
         "('max heart_rate',)": 184,
         "('angina exercise',)": 0,
         "('depression exercise',)": 0,
         "('heart disease',)": 0,
         "_deepnote_index_column": 6
        },
        {
         "('age',)": 32,
         "('sex',)": 1,
         "('chest pain',)": 2,
         "('blood pressure',)": 125,
         "('serum cholestoral',)": 254,
         "('blood sugar',)": 0,
         "('electrocardiographic',)": 0,
         "('max heart_rate',)": 155,
         "('angina exercise',)": 0,
         "('depression exercise',)": 0,
         "('heart disease',)": 0,
         "_deepnote_index_column": 7
        },
        {
         "('age',)": 33,
         "('sex',)": 1,
         "('chest pain',)": 3,
         "('blood pressure',)": 120,
         "('serum cholestoral',)": 298,
         "('blood sugar',)": 0,
         "('electrocardiographic',)": 0,
         "('max heart_rate',)": 185,
         "('angina exercise',)": 0,
         "('depression exercise',)": 0,
         "('heart disease',)": 0,
         "_deepnote_index_column": 8
        },
        {
         "('age',)": 34,
         "('sex',)": 0,
         "('chest pain',)": 2,
         "('blood pressure',)": 130,
         "('serum cholestoral',)": 161,
         "('blood sugar',)": 0,
         "('electrocardiographic',)": 0,
         "('max heart_rate',)": 190,
         "('angina exercise',)": 0,
         "('depression exercise',)": 0,
         "('heart disease',)": 0,
         "_deepnote_index_column": 9
        },
        {
         "('age',)": 34,
         "('sex',)": 1,
         "('chest pain',)": 2,
         "('blood pressure',)": 150,
         "('serum cholestoral',)": 214,
         "('blood sugar',)": 0,
         "('electrocardiographic',)": 1,
         "('max heart_rate',)": 168,
         "('angina exercise',)": 0,
         "('depression exercise',)": 0,
         "('heart disease',)": 0,
         "_deepnote_index_column": 10
        },
        {
         "('age',)": 34,
         "('sex',)": 1,
         "('chest pain',)": 2,
         "('blood pressure',)": 98,
         "('serum cholestoral',)": 220,
         "('blood sugar',)": 0,
         "('electrocardiographic',)": 0,
         "('max heart_rate',)": 150,
         "('angina exercise',)": 0,
         "('depression exercise',)": 0,
         "('heart disease',)": 0,
         "_deepnote_index_column": 11
        },
        {
         "('age',)": 35,
         "('sex',)": 0,
         "('chest pain',)": 1,
         "('blood pressure',)": 120,
         "('serum cholestoral',)": 160,
         "('blood sugar',)": 0,
         "('electrocardiographic',)": 1,
         "('max heart_rate',)": 185,
         "('angina exercise',)": 0,
         "('depression exercise',)": 0,
         "('heart disease',)": 0,
         "_deepnote_index_column": 12
        },
        {
         "('age',)": 35,
         "('sex',)": 0,
         "('chest pain',)": 4,
         "('blood pressure',)": 140,
         "('serum cholestoral',)": 167,
         "('blood sugar',)": 0,
         "('electrocardiographic',)": 0,
         "('max heart_rate',)": 150,
         "('angina exercise',)": 0,
         "('depression exercise',)": 0,
         "('heart disease',)": 0,
         "_deepnote_index_column": 13
        },
        {
         "('age',)": 35,
         "('sex',)": 1,
         "('chest pain',)": 2,
         "('blood pressure',)": 120,
         "('serum cholestoral',)": 308,
         "('blood sugar',)": 0,
         "('electrocardiographic',)": 2,
         "('max heart_rate',)": 180,
         "('angina exercise',)": 0,
         "('depression exercise',)": 0,
         "('heart disease',)": 0,
         "_deepnote_index_column": 14
        },
        {
         "('age',)": 35,
         "('sex',)": 1,
         "('chest pain',)": 2,
         "('blood pressure',)": 150,
         "('serum cholestoral',)": 264,
         "('blood sugar',)": 0,
         "('electrocardiographic',)": 0,
         "('max heart_rate',)": 168,
         "('angina exercise',)": 0,
         "('depression exercise',)": 0,
         "('heart disease',)": 0,
         "_deepnote_index_column": 15
        },
        {
         "('age',)": 36,
         "('sex',)": 1,
         "('chest pain',)": 2,
         "('blood pressure',)": 120,
         "('serum cholestoral',)": 166,
         "('blood sugar',)": 0,
         "('electrocardiographic',)": 0,
         "('max heart_rate',)": 180,
         "('angina exercise',)": 0,
         "('depression exercise',)": 0,
         "('heart disease',)": 0,
         "_deepnote_index_column": 16
        },
        {
         "('age',)": 36,
         "('sex',)": 1,
         "('chest pain',)": 3,
         "('blood pressure',)": 112,
         "('serum cholestoral',)": 340,
         "('blood sugar',)": 0,
         "('electrocardiographic',)": 0,
         "('max heart_rate',)": 184,
         "('angina exercise',)": 0,
         "('depression exercise',)": 1,
         "('heart disease',)": 0,
         "_deepnote_index_column": 17
        },
        {
         "('age',)": 36,
         "('sex',)": 1,
         "('chest pain',)": 3,
         "('blood pressure',)": 130,
         "('serum cholestoral',)": 209,
         "('blood sugar',)": 0,
         "('electrocardiographic',)": 0,
         "('max heart_rate',)": 178,
         "('angina exercise',)": 0,
         "('depression exercise',)": 0,
         "('heart disease',)": 0,
         "_deepnote_index_column": 18
        },
        {
         "('age',)": 36,
         "('sex',)": 1,
         "('chest pain',)": 3,
         "('blood pressure',)": 150,
         "('serum cholestoral',)": 160,
         "('blood sugar',)": 0,
         "('electrocardiographic',)": 0,
         "('max heart_rate',)": 172,
         "('angina exercise',)": 0,
         "('depression exercise',)": 0,
         "('heart disease',)": 0,
         "_deepnote_index_column": 19
        },
        {
         "('age',)": 37,
         "('sex',)": 0,
         "('chest pain',)": 2,
         "('blood pressure',)": 120,
         "('serum cholestoral',)": 260,
         "('blood sugar',)": 0,
         "('electrocardiographic',)": 0,
         "('max heart_rate',)": 130,
         "('angina exercise',)": 0,
         "('depression exercise',)": 0,
         "('heart disease',)": 0,
         "_deepnote_index_column": 20
        },
        {
         "('age',)": 37,
         "('sex',)": 0,
         "('chest pain',)": 3,
         "('blood pressure',)": 130,
         "('serum cholestoral',)": 211,
         "('blood sugar',)": 0,
         "('electrocardiographic',)": 0,
         "('max heart_rate',)": 142,
         "('angina exercise',)": 0,
         "('depression exercise',)": 0,
         "('heart disease',)": 0,
         "_deepnote_index_column": 21
        },
        {
         "('age',)": 37,
         "('sex',)": 0,
         "('chest pain',)": 4,
         "('blood pressure',)": 130,
         "('serum cholestoral',)": 173,
         "('blood sugar',)": 0,
         "('electrocardiographic',)": 1,
         "('max heart_rate',)": 184,
         "('angina exercise',)": 0,
         "('depression exercise',)": 0,
         "('heart disease',)": 0,
         "_deepnote_index_column": 22
        },
        {
         "('age',)": 37,
         "('sex',)": 1,
         "('chest pain',)": 2,
         "('blood pressure',)": 130,
         "('serum cholestoral',)": 283,
         "('blood sugar',)": 0,
         "('electrocardiographic',)": 1,
         "('max heart_rate',)": 98,
         "('angina exercise',)": 0,
         "('depression exercise',)": 0,
         "('heart disease',)": 0,
         "_deepnote_index_column": 23
        },
        {
         "('age',)": 37,
         "('sex',)": 1,
         "('chest pain',)": 3,
         "('blood pressure',)": 130,
         "('serum cholestoral',)": 194,
         "('blood sugar',)": 0,
         "('electrocardiographic',)": 0,
         "('max heart_rate',)": 150,
         "('angina exercise',)": 0,
         "('depression exercise',)": 0,
         "('heart disease',)": 0,
         "_deepnote_index_column": 24
        },
        {
         "('age',)": 37,
         "('sex',)": 1,
         "('chest pain',)": 4,
         "('blood pressure',)": 120,
         "('serum cholestoral',)": 223,
         "('blood sugar',)": 0,
         "('electrocardiographic',)": 0,
         "('max heart_rate',)": 168,
         "('angina exercise',)": 0,
         "('depression exercise',)": 0,
         "('heart disease',)": 0,
         "_deepnote_index_column": 25
        },
        {
         "('age',)": 37,
         "('sex',)": 1,
         "('chest pain',)": 4,
         "('blood pressure',)": 130,
         "('serum cholestoral',)": 315,
         "('blood sugar',)": 0,
         "('electrocardiographic',)": 0,
         "('max heart_rate',)": 158,
         "('angina exercise',)": 0,
         "('depression exercise',)": 0,
         "('heart disease',)": 0,
         "_deepnote_index_column": 26
        },
        {
         "('age',)": 38,
         "('sex',)": 0,
         "('chest pain',)": 2,
         "('blood pressure',)": 120,
         "('serum cholestoral',)": 275,
         "('blood sugar',)": 0.06993006993006994,
         "('electrocardiographic',)": 0,
         "('max heart_rate',)": 129,
         "('angina exercise',)": 0,
         "('depression exercise',)": 0,
         "('heart disease',)": 0,
         "_deepnote_index_column": 27
        },
        {
         "('age',)": 38,
         "('sex',)": 1,
         "('chest pain',)": 2,
         "('blood pressure',)": 140,
         "('serum cholestoral',)": 297,
         "('blood sugar',)": 0,
         "('electrocardiographic',)": 0,
         "('max heart_rate',)": 150,
         "('angina exercise',)": 0,
         "('depression exercise',)": 0,
         "('heart disease',)": 0,
         "_deepnote_index_column": 28
        },
        {
         "('age',)": 38,
         "('sex',)": 1,
         "('chest pain',)": 3,
         "('blood pressure',)": 145,
         "('serum cholestoral',)": 292,
         "('blood sugar',)": 0,
         "('electrocardiographic',)": 0,
         "('max heart_rate',)": 130,
         "('angina exercise',)": 0,
         "('depression exercise',)": 0,
         "('heart disease',)": 0,
         "_deepnote_index_column": 29
        },
        {
         "('age',)": 39,
         "('sex',)": 0,
         "('chest pain',)": 3,
         "('blood pressure',)": 110,
         "('serum cholestoral',)": 182,
         "('blood sugar',)": 0,
         "('electrocardiographic',)": 1,
         "('max heart_rate',)": 180,
         "('angina exercise',)": 0,
         "('depression exercise',)": 0,
         "('heart disease',)": 0,
         "_deepnote_index_column": 30
        },
        {
         "('age',)": 39,
         "('sex',)": 1,
         "('chest pain',)": 2,
         "('blood pressure',)": 120,
         "('serum cholestoral',)": 250.84870848708488,
         "('blood sugar',)": 0,
         "('electrocardiographic',)": 1,
         "('max heart_rate',)": 146,
         "('angina exercise',)": 0,
         "('depression exercise',)": 2,
         "('heart disease',)": 0,
         "_deepnote_index_column": 31
        },
        {
         "('age',)": 39,
         "('sex',)": 1,
         "('chest pain',)": 2,
         "('blood pressure',)": 120,
         "('serum cholestoral',)": 200,
         "('blood sugar',)": 0,
         "('electrocardiographic',)": 0,
         "('max heart_rate',)": 160,
         "('angina exercise',)": 1,
         "('depression exercise',)": 1,
         "('heart disease',)": 0,
         "_deepnote_index_column": 32
        },
        {
         "('age',)": 39,
         "('sex',)": 1,
         "('chest pain',)": 2,
         "('blood pressure',)": 120,
         "('serum cholestoral',)": 204,
         "('blood sugar',)": 0,
         "('electrocardiographic',)": 0,
         "('max heart_rate',)": 145,
         "('angina exercise',)": 0,
         "('depression exercise',)": 0,
         "('heart disease',)": 0,
         "_deepnote_index_column": 33
        },
        {
         "('age',)": 39,
         "('sex',)": 1,
         "('chest pain',)": 2,
         "('blood pressure',)": 130,
         "('serum cholestoral',)": 250.84870848708488,
         "('blood sugar',)": 0,
         "('electrocardiographic',)": 0,
         "('max heart_rate',)": 120,
         "('angina exercise',)": 0,
         "('depression exercise',)": 0,
         "('heart disease',)": 0,
         "_deepnote_index_column": 34
        },
        {
         "('age',)": 39,
         "('sex',)": 1,
         "('chest pain',)": 2,
         "('blood pressure',)": 190,
         "('serum cholestoral',)": 241,
         "('blood sugar',)": 0,
         "('electrocardiographic',)": 0,
         "('max heart_rate',)": 106,
         "('angina exercise',)": 0,
         "('depression exercise',)": 0,
         "('heart disease',)": 0,
         "_deepnote_index_column": 35
        },
        {
         "('age',)": 39,
         "('sex',)": 1,
         "('chest pain',)": 3,
         "('blood pressure',)": 120,
         "('serum cholestoral',)": 339,
         "('blood sugar',)": 0,
         "('electrocardiographic',)": 0,
         "('max heart_rate',)": 170,
         "('angina exercise',)": 0,
         "('depression exercise',)": 0,
         "('heart disease',)": 0,
         "_deepnote_index_column": 36
        },
        {
         "('age',)": 39,
         "('sex',)": 1,
         "('chest pain',)": 3,
         "('blood pressure',)": 160,
         "('serum cholestoral',)": 147,
         "('blood sugar',)": 1,
         "('electrocardiographic',)": 0,
         "('max heart_rate',)": 160,
         "('angina exercise',)": 0,
         "('depression exercise',)": 0,
         "('heart disease',)": 0,
         "_deepnote_index_column": 37
        },
        {
         "('age',)": 39,
         "('sex',)": 1,
         "('chest pain',)": 4,
         "('blood pressure',)": 110,
         "('serum cholestoral',)": 273,
         "('blood sugar',)": 0,
         "('electrocardiographic',)": 0,
         "('max heart_rate',)": 132,
         "('angina exercise',)": 0,
         "('depression exercise',)": 0,
         "('heart disease',)": 0,
         "_deepnote_index_column": 38
        },
        {
         "('age',)": 39,
         "('sex',)": 1,
         "('chest pain',)": 4,
         "('blood pressure',)": 130,
         "('serum cholestoral',)": 307,
         "('blood sugar',)": 0,
         "('electrocardiographic',)": 0,
         "('max heart_rate',)": 140,
         "('angina exercise',)": 0,
         "('depression exercise',)": 0,
         "('heart disease',)": 0,
         "_deepnote_index_column": 39
        },
        {
         "('age',)": 40,
         "('sex',)": 1,
         "('chest pain',)": 2,
         "('blood pressure',)": 130,
         "('serum cholestoral',)": 275,
         "('blood sugar',)": 0,
         "('electrocardiographic',)": 0,
         "('max heart_rate',)": 150,
         "('angina exercise',)": 0,
         "('depression exercise',)": 0,
         "('heart disease',)": 0,
         "_deepnote_index_column": 40
        },
        {
         "('age',)": 40,
         "('sex',)": 1,
         "('chest pain',)": 2,
         "('blood pressure',)": 140,
         "('serum cholestoral',)": 289,
         "('blood sugar',)": 0,
         "('electrocardiographic',)": 0,
         "('max heart_rate',)": 172,
         "('angina exercise',)": 0,
         "('depression exercise',)": 0,
         "('heart disease',)": 0,
         "_deepnote_index_column": 41
        },
        {
         "('age',)": 40,
         "('sex',)": 1,
         "('chest pain',)": 3,
         "('blood pressure',)": 130,
         "('serum cholestoral',)": 215,
         "('blood sugar',)": 0,
         "('electrocardiographic',)": 0,
         "('max heart_rate',)": 138,
         "('angina exercise',)": 0,
         "('depression exercise',)": 0,
         "('heart disease',)": 0,
         "_deepnote_index_column": 42
        },
        {
         "('age',)": 40,
         "('sex',)": 1,
         "('chest pain',)": 3,
         "('blood pressure',)": 130,
         "('serum cholestoral',)": 281,
         "('blood sugar',)": 0,
         "('electrocardiographic',)": 0,
         "('max heart_rate',)": 167,
         "('angina exercise',)": 0,
         "('depression exercise',)": 0,
         "('heart disease',)": 0,
         "_deepnote_index_column": 43
        },
        {
         "('age',)": 40,
         "('sex',)": 1,
         "('chest pain',)": 3,
         "('blood pressure',)": 140,
         "('serum cholestoral',)": 250.84870848708488,
         "('blood sugar',)": 0,
         "('electrocardiographic',)": 0,
         "('max heart_rate',)": 188,
         "('angina exercise',)": 0,
         "('depression exercise',)": 0,
         "('heart disease',)": 0,
         "_deepnote_index_column": 44
        }
       ],
       "rows_bottom": [
        {
         "('age',)": 58,
         "('sex',)": 1,
         "('chest pain',)": 3,
         "('blood pressure',)": 160,
         "('serum cholestoral',)": 211,
         "('blood sugar',)": 1,
         "('electrocardiographic',)": 1,
         "('max heart_rate',)": 92,
         "('angina exercise',)": 0,
         "('depression exercise',)": 0,
         "('heart disease',)": 1,
         "_deepnote_index_column": 249
        },
        {
         "('age',)": 58,
         "('sex',)": 1,
         "('chest pain',)": 4,
         "('blood pressure',)": 130,
         "('serum cholestoral',)": 263,
         "('blood sugar',)": 0,
         "('electrocardiographic',)": 0,
         "('max heart_rate',)": 140,
         "('angina exercise',)": 1,
         "('depression exercise',)": 2,
         "('heart disease',)": 1,
         "_deepnote_index_column": 250
        },
        {
         "('age',)": 41,
         "('sex',)": 1,
         "('chest pain',)": 4,
         "('blood pressure',)": 130,
         "('serum cholestoral',)": 172,
         "('blood sugar',)": 0,
         "('electrocardiographic',)": 1,
         "('max heart_rate',)": 130,
         "('angina exercise',)": 0,
         "('depression exercise',)": 2,
         "('heart disease',)": 1,
         "_deepnote_index_column": 251
        },
        {
         "('age',)": 43,
         "('sex',)": 1,
         "('chest pain',)": 4,
         "('blood pressure',)": 120,
         "('serum cholestoral',)": 175,
         "('blood sugar',)": 0,
         "('electrocardiographic',)": 0,
         "('max heart_rate',)": 120,
         "('angina exercise',)": 1,
         "('depression exercise',)": 1,
         "('heart disease',)": 1,
         "_deepnote_index_column": 252
        },
        {
         "('age',)": 44,
         "('sex',)": 1,
         "('chest pain',)": 2,
         "('blood pressure',)": 150,
         "('serum cholestoral',)": 288,
         "('blood sugar',)": 0,
         "('electrocardiographic',)": 0,
         "('max heart_rate',)": 150,
         "('angina exercise',)": 1,
         "('depression exercise',)": 3,
         "('heart disease',)": 1,
         "_deepnote_index_column": 253
        },
        {
         "('age',)": 44,
         "('sex',)": 1,
         "('chest pain',)": 4,
         "('blood pressure',)": 130,
         "('serum cholestoral',)": 290,
         "('blood sugar',)": 0,
         "('electrocardiographic',)": 0,
         "('max heart_rate',)": 100,
         "('angina exercise',)": 1,
         "('depression exercise',)": 2,
         "('heart disease',)": 1,
         "_deepnote_index_column": 254
        },
        {
         "('age',)": 46,
         "('sex',)": 1,
         "('chest pain',)": 1,
         "('blood pressure',)": 140,
         "('serum cholestoral',)": 272,
         "('blood sugar',)": 1,
         "('electrocardiographic',)": 0,
         "('max heart_rate',)": 175,
         "('angina exercise',)": 0,
         "('depression exercise',)": 2,
         "('heart disease',)": 1,
         "_deepnote_index_column": 255
        },
        {
         "('age',)": 47,
         "('sex',)": 0,
         "('chest pain',)": 3,
         "('blood pressure',)": 135,
         "('serum cholestoral',)": 248,
         "('blood sugar',)": 1,
         "('electrocardiographic',)": 0,
         "('max heart_rate',)": 170,
         "('angina exercise',)": 0,
         "('depression exercise',)": 0,
         "('heart disease',)": 1,
         "_deepnote_index_column": 256
        },
        {
         "('age',)": 48,
         "('sex',)": 0,
         "('chest pain',)": 4,
         "('blood pressure',)": 138,
         "('serum cholestoral',)": 214,
         "('blood sugar',)": 0,
         "('electrocardiographic',)": 0,
         "('max heart_rate',)": 108,
         "('angina exercise',)": 1,
         "('depression exercise',)": 1.5,
         "('heart disease',)": 1,
         "_deepnote_index_column": 257
        },
        {
         "('age',)": 49,
         "('sex',)": 1,
         "('chest pain',)": 4,
         "('blood pressure',)": 130,
         "('serum cholestoral',)": 341,
         "('blood sugar',)": 0,
         "('electrocardiographic',)": 0,
         "('max heart_rate',)": 120,
         "('angina exercise',)": 1,
         "('depression exercise',)": 1,
         "('heart disease',)": 1,
         "_deepnote_index_column": 258
        },
        {
         "('age',)": 49,
         "('sex',)": 1,
         "('chest pain',)": 4,
         "('blood pressure',)": 140,
         "('serum cholestoral',)": 234,
         "('blood sugar',)": 0,
         "('electrocardiographic',)": 0,
         "('max heart_rate',)": 140,
         "('angina exercise',)": 1,
         "('depression exercise',)": 1,
         "('heart disease',)": 1,
         "_deepnote_index_column": 259
        },
        {
         "('age',)": 51,
         "('sex',)": 1,
         "('chest pain',)": 3,
         "('blood pressure',)": 135,
         "('serum cholestoral',)": 160,
         "('blood sugar',)": 0,
         "('electrocardiographic',)": 0,
         "('max heart_rate',)": 150,
         "('angina exercise',)": 0,
         "('depression exercise',)": 2,
         "('heart disease',)": 1,
         "_deepnote_index_column": 260
        },
        {
         "('age',)": 52,
         "('sex',)": 1,
         "('chest pain',)": 4,
         "('blood pressure',)": 112,
         "('serum cholestoral',)": 342,
         "('blood sugar',)": 0,
         "('electrocardiographic',)": 1,
         "('max heart_rate',)": 96,
         "('angina exercise',)": 1,
         "('depression exercise',)": 1,
         "('heart disease',)": 1,
         "_deepnote_index_column": 261
        },
        {
         "('age',)": 52,
         "('sex',)": 1,
         "('chest pain',)": 4,
         "('blood pressure',)": 130,
         "('serum cholestoral',)": 298,
         "('blood sugar',)": 0,
         "('electrocardiographic',)": 0,
         "('max heart_rate',)": 110,
         "('angina exercise',)": 1,
         "('depression exercise',)": 1,
         "('heart disease',)": 1,
         "_deepnote_index_column": 262
        },
        {
         "('age',)": 52,
         "('sex',)": 1,
         "('chest pain',)": 4,
         "('blood pressure',)": 140,
         "('serum cholestoral',)": 404,
         "('blood sugar',)": 0,
         "('electrocardiographic',)": 0,
         "('max heart_rate',)": 124,
         "('angina exercise',)": 1,
         "('depression exercise',)": 2,
         "('heart disease',)": 1,
         "_deepnote_index_column": 263
        },
        {
         "('age',)": 52,
         "('sex',)": 1,
         "('chest pain',)": 4,
         "('blood pressure',)": 160,
         "('serum cholestoral',)": 246,
         "('blood sugar',)": 0,
         "('electrocardiographic',)": 1,
         "('max heart_rate',)": 82,
         "('angina exercise',)": 1,
         "('depression exercise',)": 4,
         "('heart disease',)": 1,
         "_deepnote_index_column": 264
        },
        {
         "('age',)": 53,
         "('sex',)": 1,
         "('chest pain',)": 3,
         "('blood pressure',)": 145,
         "('serum cholestoral',)": 518,
         "('blood sugar',)": 0,
         "('electrocardiographic',)": 0,
         "('max heart_rate',)": 130,
         "('angina exercise',)": 0,
         "('depression exercise',)": 0,
         "('heart disease',)": 1,
         "_deepnote_index_column": 265
        },
        {
         "('age',)": 53,
         "('sex',)": 1,
         "('chest pain',)": 4,
         "('blood pressure',)": 180,
         "('serum cholestoral',)": 285,
         "('blood sugar',)": 0,
         "('electrocardiographic',)": 1,
         "('max heart_rate',)": 120,
         "('angina exercise',)": 1,
         "('depression exercise',)": 1.5,
         "('heart disease',)": 1,
         "_deepnote_index_column": 266
        },
        {
         "('age',)": 54,
         "('sex',)": 1,
         "('chest pain',)": 4,
         "('blood pressure',)": 140,
         "('serum cholestoral',)": 216,
         "('blood sugar',)": 0,
         "('electrocardiographic',)": 0,
         "('max heart_rate',)": 105,
         "('angina exercise',)": 0,
         "('depression exercise',)": 1.5,
         "('heart disease',)": 1,
         "_deepnote_index_column": 267
        },
        {
         "('age',)": 55,
         "('sex',)": 1,
         "('chest pain',)": 1,
         "('blood pressure',)": 140,
         "('serum cholestoral',)": 295,
         "('blood sugar',)": 0,
         "('electrocardiographic',)": 0.21843003412969283,
         "('max heart_rate',)": 136,
         "('angina exercise',)": 0,
         "('depression exercise',)": 0,
         "('heart disease',)": 1,
         "_deepnote_index_column": 268
        },
        {
         "('age',)": 55,
         "('sex',)": 1,
         "('chest pain',)": 2,
         "('blood pressure',)": 160,
         "('serum cholestoral',)": 292,
         "('blood sugar',)": 1,
         "('electrocardiographic',)": 0,
         "('max heart_rate',)": 143,
         "('angina exercise',)": 1,
         "('depression exercise',)": 2,
         "('heart disease',)": 1,
         "_deepnote_index_column": 269
        },
        {
         "('age',)": 55,
         "('sex',)": 1,
         "('chest pain',)": 4,
         "('blood pressure',)": 145,
         "('serum cholestoral',)": 248,
         "('blood sugar',)": 0,
         "('electrocardiographic',)": 0,
         "('max heart_rate',)": 96,
         "('angina exercise',)": 1,
         "('depression exercise',)": 2,
         "('heart disease',)": 1,
         "_deepnote_index_column": 270
        },
        {
         "('age',)": 56,
         "('sex',)": 0,
         "('chest pain',)": 2,
         "('blood pressure',)": 120,
         "('serum cholestoral',)": 279,
         "('blood sugar',)": 0,
         "('electrocardiographic',)": 0,
         "('max heart_rate',)": 150,
         "('angina exercise',)": 0,
         "('depression exercise',)": 1,
         "('heart disease',)": 1,
         "_deepnote_index_column": 271
        },
        {
         "('age',)": 56,
         "('sex',)": 1,
         "('chest pain',)": 4,
         "('blood pressure',)": 150,
         "('serum cholestoral',)": 230,
         "('blood sugar',)": 0,
         "('electrocardiographic',)": 1,
         "('max heart_rate',)": 124,
         "('angina exercise',)": 1,
         "('depression exercise',)": 1.5,
         "('heart disease',)": 1,
         "_deepnote_index_column": 272
        },
        {
         "('age',)": 56,
         "('sex',)": 1,
         "('chest pain',)": 4,
         "('blood pressure',)": 170,
         "('serum cholestoral',)": 388,
         "('blood sugar',)": 0,
         "('electrocardiographic',)": 1,
         "('max heart_rate',)": 122,
         "('angina exercise',)": 1,
         "('depression exercise',)": 2,
         "('heart disease',)": 1,
         "_deepnote_index_column": 273
        },
        {
         "('age',)": 58,
         "('sex',)": 1,
         "('chest pain',)": 2,
         "('blood pressure',)": 136,
         "('serum cholestoral',)": 164,
         "('blood sugar',)": 0,
         "('electrocardiographic',)": 1,
         "('max heart_rate',)": 99,
         "('angina exercise',)": 1,
         "('depression exercise',)": 2,
         "('heart disease',)": 1,
         "_deepnote_index_column": 274
        },
        {
         "('age',)": 59,
         "('sex',)": 1,
         "('chest pain',)": 4,
         "('blood pressure',)": 130,
         "('serum cholestoral',)": 250.84870848708488,
         "('blood sugar',)": 0,
         "('electrocardiographic',)": 0,
         "('max heart_rate',)": 125,
         "('angina exercise',)": 0,
         "('depression exercise',)": 0,
         "('heart disease',)": 1,
         "_deepnote_index_column": 275
        },
        {
         "('age',)": 59,
         "('sex',)": 1,
         "('chest pain',)": 4,
         "('blood pressure',)": 140,
         "('serum cholestoral',)": 264,
         "('blood sugar',)": 1,
         "('electrocardiographic',)": 2,
         "('max heart_rate',)": 119,
         "('angina exercise',)": 1,
         "('depression exercise',)": 0,
         "('heart disease',)": 1,
         "_deepnote_index_column": 276
        },
        {
         "('age',)": 65,
         "('sex',)": 1,
         "('chest pain',)": 4,
         "('blood pressure',)": 170,
         "('serum cholestoral',)": 263,
         "('blood sugar',)": 1,
         "('electrocardiographic',)": 0,
         "('max heart_rate',)": 112,
         "('angina exercise',)": 1,
         "('depression exercise',)": 2,
         "('heart disease',)": 1,
         "_deepnote_index_column": 277
        },
        {
         "('age',)": 66,
         "('sex',)": 1,
         "('chest pain',)": 4,
         "('blood pressure',)": 140,
         "('serum cholestoral',)": 250.84870848708488,
         "('blood sugar',)": 0,
         "('electrocardiographic',)": 0,
         "('max heart_rate',)": 94,
         "('angina exercise',)": 1,
         "('depression exercise',)": 1,
         "('heart disease',)": 1,
         "_deepnote_index_column": 278
        },
        {
         "('age',)": 41,
         "('sex',)": 1,
         "('chest pain',)": 4,
         "('blood pressure',)": 120,
         "('serum cholestoral',)": 336,
         "('blood sugar',)": 0,
         "('electrocardiographic',)": 0,
         "('max heart_rate',)": 118,
         "('angina exercise',)": 1,
         "('depression exercise',)": 3,
         "('heart disease',)": 1,
         "_deepnote_index_column": 279
        },
        {
         "('age',)": 43,
         "('sex',)": 1,
         "('chest pain',)": 4,
         "('blood pressure',)": 140,
         "('serum cholestoral',)": 288,
         "('blood sugar',)": 0,
         "('electrocardiographic',)": 0,
         "('max heart_rate',)": 135,
         "('angina exercise',)": 1,
         "('depression exercise',)": 2,
         "('heart disease',)": 1,
         "_deepnote_index_column": 280
        },
        {
         "('age',)": 44,
         "('sex',)": 1,
         "('chest pain',)": 4,
         "('blood pressure',)": 135,
         "('serum cholestoral',)": 491,
         "('blood sugar',)": 0,
         "('electrocardiographic',)": 0,
         "('max heart_rate',)": 135,
         "('angina exercise',)": 0,
         "('depression exercise',)": 0,
         "('heart disease',)": 1,
         "_deepnote_index_column": 281
        },
        {
         "('age',)": 47,
         "('sex',)": 0,
         "('chest pain',)": 4,
         "('blood pressure',)": 120,
         "('serum cholestoral',)": 205,
         "('blood sugar',)": 0,
         "('electrocardiographic',)": 0,
         "('max heart_rate',)": 98,
         "('angina exercise',)": 1,
         "('depression exercise',)": 2,
         "('heart disease',)": 1,
         "_deepnote_index_column": 282
        },
        {
         "('age',)": 47,
         "('sex',)": 1,
         "('chest pain',)": 4,
         "('blood pressure',)": 160,
         "('serum cholestoral',)": 291,
         "('blood sugar',)": 0,
         "('electrocardiographic',)": 1,
         "('max heart_rate',)": 158,
         "('angina exercise',)": 1,
         "('depression exercise',)": 3,
         "('heart disease',)": 1,
         "_deepnote_index_column": 283
        },
        {
         "('age',)": 49,
         "('sex',)": 1,
         "('chest pain',)": 4,
         "('blood pressure',)": 128,
         "('serum cholestoral',)": 212,
         "('blood sugar',)": 0,
         "('electrocardiographic',)": 0,
         "('max heart_rate',)": 96,
         "('angina exercise',)": 1,
         "('depression exercise',)": 0,
         "('heart disease',)": 1,
         "_deepnote_index_column": 284
        },
        {
         "('age',)": 49,
         "('sex',)": 1,
         "('chest pain',)": 4,
         "('blood pressure',)": 150,
         "('serum cholestoral',)": 222,
         "('blood sugar',)": 0,
         "('electrocardiographic',)": 0,
         "('max heart_rate',)": 122,
         "('angina exercise',)": 0,
         "('depression exercise',)": 2,
         "('heart disease',)": 1,
         "_deepnote_index_column": 285
        },
        {
         "('age',)": 50,
         "('sex',)": 1,
         "('chest pain',)": 4,
         "('blood pressure',)": 140,
         "('serum cholestoral',)": 231,
         "('blood sugar',)": 0,
         "('electrocardiographic',)": 1,
         "('max heart_rate',)": 140,
         "('angina exercise',)": 1,
         "('depression exercise',)": 5,
         "('heart disease',)": 1,
         "_deepnote_index_column": 286
        },
        {
         "('age',)": 50,
         "('sex',)": 1,
         "('chest pain',)": 4,
         "('blood pressure',)": 140,
         "('serum cholestoral',)": 341,
         "('blood sugar',)": 0,
         "('electrocardiographic',)": 1,
         "('max heart_rate',)": 125,
         "('angina exercise',)": 1,
         "('depression exercise',)": 2.5,
         "('heart disease',)": 1,
         "_deepnote_index_column": 287
        },
        {
         "('age',)": 52,
         "('sex',)": 1,
         "('chest pain',)": 4,
         "('blood pressure',)": 140,
         "('serum cholestoral',)": 266,
         "('blood sugar',)": 0,
         "('electrocardiographic',)": 0,
         "('max heart_rate',)": 134,
         "('angina exercise',)": 1,
         "('depression exercise',)": 2,
         "('heart disease',)": 1,
         "_deepnote_index_column": 288
        },
        {
         "('age',)": 52,
         "('sex',)": 1,
         "('chest pain',)": 4,
         "('blood pressure',)": 160,
         "('serum cholestoral',)": 331,
         "('blood sugar',)": 0,
         "('electrocardiographic',)": 0,
         "('max heart_rate',)": 94,
         "('angina exercise',)": 1,
         "('depression exercise',)": 2.5,
         "('heart disease',)": 1,
         "_deepnote_index_column": 289
        },
        {
         "('age',)": 54,
         "('sex',)": 0,
         "('chest pain',)": 3,
         "('blood pressure',)": 130,
         "('serum cholestoral',)": 294,
         "('blood sugar',)": 0,
         "('electrocardiographic',)": 1,
         "('max heart_rate',)": 100,
         "('angina exercise',)": 1,
         "('depression exercise',)": 0,
         "('heart disease',)": 1,
         "_deepnote_index_column": 290
        },
        {
         "('age',)": 56,
         "('sex',)": 1,
         "('chest pain',)": 4,
         "('blood pressure',)": 155,
         "('serum cholestoral',)": 342,
         "('blood sugar',)": 1,
         "('electrocardiographic',)": 0,
         "('max heart_rate',)": 150,
         "('angina exercise',)": 1,
         "('depression exercise',)": 3,
         "('heart disease',)": 1,
         "_deepnote_index_column": 291
        },
        {
         "('age',)": 58,
         "('sex',)": 0,
         "('chest pain',)": 2,
         "('blood pressure',)": 180,
         "('serum cholestoral',)": 393,
         "('blood sugar',)": 0,
         "('electrocardiographic',)": 0,
         "('max heart_rate',)": 110,
         "('angina exercise',)": 1,
         "('depression exercise',)": 1,
         "('heart disease',)": 1,
         "_deepnote_index_column": 292
        },
        {
         "('age',)": 65,
         "('sex',)": 1,
         "('chest pain',)": 4,
         "('blood pressure',)": 130,
         "('serum cholestoral',)": 275,
         "('blood sugar',)": 0,
         "('electrocardiographic',)": 1,
         "('max heart_rate',)": 115,
         "('angina exercise',)": 1,
         "('depression exercise',)": 1,
         "('heart disease',)": 1,
         "_deepnote_index_column": 293
        }
       ]
      },
      "text/plain": "      age  sex chest pain blood pressure serum cholestoral blood sugar  \\\n0    28.0  1.0        2.0          130.0        132.000000         0.0   \n1    29.0  1.0        2.0          120.0        243.000000         0.0   \n2    29.0  1.0        2.0          140.0        250.848708         0.0   \n3    30.0  0.0        1.0          170.0        237.000000         0.0   \n4    31.0  0.0        2.0          100.0        219.000000         0.0   \n..    ...  ...        ...            ...               ...         ...   \n289  52.0  1.0        4.0          160.0        331.000000         0.0   \n290  54.0  0.0        3.0          130.0        294.000000         0.0   \n291  56.0  1.0        4.0          155.0        342.000000         1.0   \n292  58.0  0.0        2.0          180.0        393.000000         0.0   \n293  65.0  1.0        4.0          130.0        275.000000         0.0   \n\n    electrocardiographic max heart_rate angina exercise depression exercise  \\\n0                    2.0          185.0             0.0                 0.0   \n1                    0.0          160.0             0.0                 0.0   \n2                    0.0          170.0             0.0                 0.0   \n3                    1.0          170.0             0.0                 0.0   \n4                    1.0          150.0             0.0                 0.0   \n..                   ...            ...             ...                 ...   \n289                  0.0           94.0             1.0                 2.5   \n290                  1.0          100.0             1.0                 0.0   \n291                  0.0          150.0             1.0                 3.0   \n292                  0.0          110.0             1.0                 1.0   \n293                  1.0          115.0             1.0                 1.0   \n\n    heart disease  \n0             0.0  \n1             0.0  \n2             0.0  \n3             0.0  \n4             0.0  \n..            ...  \n289           1.0  \n290           1.0  \n291           1.0  \n292           1.0  \n293           1.0  \n\n[294 rows x 11 columns]",
      "text/html": "<div>\n<style scoped>\n    .dataframe tbody tr th:only-of-type {\n        vertical-align: middle;\n    }\n\n    .dataframe tbody tr th {\n        vertical-align: top;\n    }\n\n    .dataframe thead tr th {\n        text-align: left;\n    }\n</style>\n<table border=\"1\" class=\"dataframe\">\n  <thead>\n    <tr>\n      <th></th>\n      <th>age</th>\n      <th>sex</th>\n      <th>chest pain</th>\n      <th>blood pressure</th>\n      <th>serum cholestoral</th>\n      <th>blood sugar</th>\n      <th>electrocardiographic</th>\n      <th>max heart_rate</th>\n      <th>angina exercise</th>\n      <th>depression exercise</th>\n      <th>heart disease</th>\n    </tr>\n  </thead>\n  <tbody>\n    <tr>\n      <th>0</th>\n      <td>28.0</td>\n      <td>1.0</td>\n      <td>2.0</td>\n      <td>130.0</td>\n      <td>132.000000</td>\n      <td>0.0</td>\n      <td>2.0</td>\n      <td>185.0</td>\n      <td>0.0</td>\n      <td>0.0</td>\n      <td>0.0</td>\n    </tr>\n    <tr>\n      <th>1</th>\n      <td>29.0</td>\n      <td>1.0</td>\n      <td>2.0</td>\n      <td>120.0</td>\n      <td>243.000000</td>\n      <td>0.0</td>\n      <td>0.0</td>\n      <td>160.0</td>\n      <td>0.0</td>\n      <td>0.0</td>\n      <td>0.0</td>\n    </tr>\n    <tr>\n      <th>2</th>\n      <td>29.0</td>\n      <td>1.0</td>\n      <td>2.0</td>\n      <td>140.0</td>\n      <td>250.848708</td>\n      <td>0.0</td>\n      <td>0.0</td>\n      <td>170.0</td>\n      <td>0.0</td>\n      <td>0.0</td>\n      <td>0.0</td>\n    </tr>\n    <tr>\n      <th>3</th>\n      <td>30.0</td>\n      <td>0.0</td>\n      <td>1.0</td>\n      <td>170.0</td>\n      <td>237.000000</td>\n      <td>0.0</td>\n      <td>1.0</td>\n      <td>170.0</td>\n      <td>0.0</td>\n      <td>0.0</td>\n      <td>0.0</td>\n    </tr>\n    <tr>\n      <th>4</th>\n      <td>31.0</td>\n      <td>0.0</td>\n      <td>2.0</td>\n      <td>100.0</td>\n      <td>219.000000</td>\n      <td>0.0</td>\n      <td>1.0</td>\n      <td>150.0</td>\n      <td>0.0</td>\n      <td>0.0</td>\n      <td>0.0</td>\n    </tr>\n    <tr>\n      <th>...</th>\n      <td>...</td>\n      <td>...</td>\n      <td>...</td>\n      <td>...</td>\n      <td>...</td>\n      <td>...</td>\n      <td>...</td>\n      <td>...</td>\n      <td>...</td>\n      <td>...</td>\n      <td>...</td>\n    </tr>\n    <tr>\n      <th>289</th>\n      <td>52.0</td>\n      <td>1.0</td>\n      <td>4.0</td>\n      <td>160.0</td>\n      <td>331.000000</td>\n      <td>0.0</td>\n      <td>0.0</td>\n      <td>94.0</td>\n      <td>1.0</td>\n      <td>2.5</td>\n      <td>1.0</td>\n    </tr>\n    <tr>\n      <th>290</th>\n      <td>54.0</td>\n      <td>0.0</td>\n      <td>3.0</td>\n      <td>130.0</td>\n      <td>294.000000</td>\n      <td>0.0</td>\n      <td>1.0</td>\n      <td>100.0</td>\n      <td>1.0</td>\n      <td>0.0</td>\n      <td>1.0</td>\n    </tr>\n    <tr>\n      <th>291</th>\n      <td>56.0</td>\n      <td>1.0</td>\n      <td>4.0</td>\n      <td>155.0</td>\n      <td>342.000000</td>\n      <td>1.0</td>\n      <td>0.0</td>\n      <td>150.0</td>\n      <td>1.0</td>\n      <td>3.0</td>\n      <td>1.0</td>\n    </tr>\n    <tr>\n      <th>292</th>\n      <td>58.0</td>\n      <td>0.0</td>\n      <td>2.0</td>\n      <td>180.0</td>\n      <td>393.000000</td>\n      <td>0.0</td>\n      <td>0.0</td>\n      <td>110.0</td>\n      <td>1.0</td>\n      <td>1.0</td>\n      <td>1.0</td>\n    </tr>\n    <tr>\n      <th>293</th>\n      <td>65.0</td>\n      <td>1.0</td>\n      <td>4.0</td>\n      <td>130.0</td>\n      <td>275.000000</td>\n      <td>0.0</td>\n      <td>1.0</td>\n      <td>115.0</td>\n      <td>1.0</td>\n      <td>1.0</td>\n      <td>1.0</td>\n    </tr>\n  </tbody>\n</table>\n<p>294 rows × 11 columns</p>\n</div>"
     },
     "metadata": {}
    }
   ],
   "execution_count": 145
  },
  {
   "cell_type": "code",
   "source": "tree_regressors = {\n  \"Extra Tree\": ExtraTreesClassifier(n_estimators=100),\n  \"Decision Tree\":   DecisionTreeClassifier(),\n  \"Random Forest\": RandomForestClassifier(n_estimators=100),\n  \"AdaBoost\":      AdaBoostClassifier(n_estimators=100),\n  \"Skl GBM\":       GradientBoostingClassifier(n_estimators=100),\n  # \"Skl HistGBM\":   HistGradientBoostingRegressor(max_iter=100),\n  \"XGBoost\":       XGBClassifier(n_estimators=100),\n  \"LightGBM\":      LGBMClassifier(n_estimators=100),\n  \"CatBoost\":      CatBoostClassifier(n_estimators=100),\n}",
   "metadata": {
    "tags": [],
    "cell_id": "00054-f2a7563b-90c7-4a1e-a7a7-fb62066ebc14",
    "deepnote_to_be_reexecuted": false,
    "source_hash": "8c92c243",
    "execution_start": 1626444042140,
    "execution_millis": 8,
    "deepnote_cell_type": "code"
   },
   "outputs": [],
   "execution_count": 146
  },
  {
   "cell_type": "code",
   "source": "tree_regressors = {name: pipeline.make_pipeline(tree_prepro, model) for name, model in tree_regressors.items()}",
   "metadata": {
    "tags": [],
    "cell_id": "00056-b974d24e-541b-4527-b4e8-aaa3966b0ce2",
    "deepnote_to_be_reexecuted": false,
    "source_hash": "a247de0",
    "execution_start": 1626444042910,
    "execution_millis": 6,
    "deepnote_cell_type": "code"
   },
   "outputs": [],
   "execution_count": 147
  },
  {
   "cell_type": "code",
   "source": "X_train.shape",
   "metadata": {
    "tags": [],
    "cell_id": "00060-63dc5473-32e6-467b-9b81-1aa5a7cc9095",
    "deepnote_to_be_reexecuted": false,
    "source_hash": "38f368cd",
    "execution_start": 1626444044020,
    "execution_millis": 15,
    "deepnote_cell_type": "code"
   },
   "outputs": [
    {
     "output_type": "execute_result",
     "execution_count": 148,
     "data": {
      "text/plain": "(235, 10)"
     },
     "metadata": {}
    }
   ],
   "execution_count": 148
  },
  {
   "cell_type": "code",
   "source": "X_train, X_test, y_train, y_test = train_test_split(\n    X, y,\n    test_size=0.2,\n    stratify = y,   # ALWAYS RECOMMENDED FOR BETTER VALIDATION\n    random_state=4  # Recommended for reproducibility\n)\n### END SOLUTION\n\n\nresults = pd.DataFrame({'Model': [], 'Accuracy': [], 'Bal Acc.': [], 'Time': []})\n\n\nfor model_name, model in tree_regressors.items():\n\n    start_time = time.time()\n    model.fit(X_train, y_train)\n    total_time = time.time() - start_time\n        \n    pred = model.predict(X_test)\n    \n    results = results.append({\"Model\":    model_name,\n                              \"Accuracy\": accuracy_score(y_test, pred)*100,\n                              \"Bal Acc.\": balanced_accuracy_score(y_test, pred)*100,\n                              \"Time\":     total_time},\n                              ignore_index=True)\n### END SOLUTION\n\n\nresults_ord = results.sort_values(by=['Accuracy'], ascending=False, ignore_index=True)\nresults_ord.index += 1 \nresults_ord.style.bar(subset=['Accuracy', 'Bal Acc.'], vmin=0, vmax=100, color='#5fba7d')\n",
   "metadata": {
    "tags": [],
    "cell_id": "00050-c5f9df40-52c2-4427-a097-2ff6927568f5",
    "deepnote_to_be_reexecuted": false,
    "source_hash": "92278bc9",
    "execution_start": 1626444045190,
    "execution_millis": 125,
    "deepnote_cell_type": "code"
   },
   "outputs": [
    {
     "output_type": "error",
     "ename": "ValueError",
     "evalue": "A given column is not a column of the dataframe",
     "traceback": [
      "\u001b[0;31m---------------------------------------------------------------------------\u001b[0m",
      "\u001b[0;31mKeyError\u001b[0m                                  Traceback (most recent call last)",
      "\u001b[0;32m/shared-libs/python3.7/py/lib/python3.7/site-packages/sklearn/utils/__init__.py\u001b[0m in \u001b[0;36m_get_column_indices\u001b[0;34m(X, key)\u001b[0m\n\u001b[1;32m    395\u001b[0m             \u001b[0;32mfor\u001b[0m \u001b[0mcol\u001b[0m \u001b[0;32min\u001b[0m \u001b[0mcolumns\u001b[0m\u001b[0;34m:\u001b[0m\u001b[0;34m\u001b[0m\u001b[0;34m\u001b[0m\u001b[0m\n\u001b[0;32m--> 396\u001b[0;31m                 \u001b[0mcol_idx\u001b[0m \u001b[0;34m=\u001b[0m \u001b[0mall_columns\u001b[0m\u001b[0;34m.\u001b[0m\u001b[0mget_loc\u001b[0m\u001b[0;34m(\u001b[0m\u001b[0mcol\u001b[0m\u001b[0;34m)\u001b[0m\u001b[0;34m\u001b[0m\u001b[0;34m\u001b[0m\u001b[0m\n\u001b[0m\u001b[1;32m    397\u001b[0m                 \u001b[0;32mif\u001b[0m \u001b[0;32mnot\u001b[0m \u001b[0misinstance\u001b[0m\u001b[0;34m(\u001b[0m\u001b[0mcol_idx\u001b[0m\u001b[0;34m,\u001b[0m \u001b[0mnumbers\u001b[0m\u001b[0;34m.\u001b[0m\u001b[0mIntegral\u001b[0m\u001b[0;34m)\u001b[0m\u001b[0;34m:\u001b[0m\u001b[0;34m\u001b[0m\u001b[0;34m\u001b[0m\u001b[0m\n",
      "\u001b[0;32m/shared-libs/python3.7/py/lib/python3.7/site-packages/pandas/core/indexes/multi.py\u001b[0m in \u001b[0;36mget_loc\u001b[0;34m(self, key, method)\u001b[0m\n\u001b[1;32m   2885\u001b[0m         \u001b[0;32mif\u001b[0m \u001b[0mkeylen\u001b[0m \u001b[0;34m==\u001b[0m \u001b[0mself\u001b[0m\u001b[0;34m.\u001b[0m\u001b[0mnlevels\u001b[0m \u001b[0;32mand\u001b[0m \u001b[0mself\u001b[0m\u001b[0;34m.\u001b[0m\u001b[0mis_unique\u001b[0m\u001b[0;34m:\u001b[0m\u001b[0;34m\u001b[0m\u001b[0;34m\u001b[0m\u001b[0m\n\u001b[0;32m-> 2886\u001b[0;31m             \u001b[0;32mreturn\u001b[0m \u001b[0mself\u001b[0m\u001b[0;34m.\u001b[0m\u001b[0m_engine\u001b[0m\u001b[0;34m.\u001b[0m\u001b[0mget_loc\u001b[0m\u001b[0;34m(\u001b[0m\u001b[0mkey\u001b[0m\u001b[0;34m)\u001b[0m\u001b[0;34m\u001b[0m\u001b[0;34m\u001b[0m\u001b[0m\n\u001b[0m\u001b[1;32m   2887\u001b[0m \u001b[0;34m\u001b[0m\u001b[0m\n",
      "\u001b[0;32mpandas/_libs/index.pyx\u001b[0m in \u001b[0;36mpandas._libs.index.BaseMultiIndexCodesEngine.get_loc\u001b[0;34m()\u001b[0m\n",
      "\u001b[0;32mpandas/_libs/index.pyx\u001b[0m in \u001b[0;36mpandas._libs.index.IndexEngine.get_loc\u001b[0;34m()\u001b[0m\n",
      "\u001b[0;32mpandas/_libs/index.pyx\u001b[0m in \u001b[0;36mpandas._libs.index.IndexEngine.get_loc\u001b[0;34m()\u001b[0m\n",
      "\u001b[0;32mpandas/_libs/hashtable_class_helper.pxi\u001b[0m in \u001b[0;36mpandas._libs.hashtable.UInt64HashTable.get_item\u001b[0;34m()\u001b[0m\n",
      "\u001b[0;32mpandas/_libs/hashtable_class_helper.pxi\u001b[0m in \u001b[0;36mpandas._libs.hashtable.UInt64HashTable.get_item\u001b[0;34m()\u001b[0m\n",
      "\u001b[0;31mKeyError\u001b[0m: 8",
      "\nThe above exception was the direct cause of the following exception:\n",
      "\u001b[0;31mValueError\u001b[0m                                Traceback (most recent call last)",
      "\u001b[0;32m/tmp/ipykernel_644/4088493719.py\u001b[0m in \u001b[0;36m<module>\u001b[0;34m\u001b[0m\n\u001b[1;32m     14\u001b[0m \u001b[0;34m\u001b[0m\u001b[0m\n\u001b[1;32m     15\u001b[0m     \u001b[0mstart_time\u001b[0m \u001b[0;34m=\u001b[0m \u001b[0mtime\u001b[0m\u001b[0;34m.\u001b[0m\u001b[0mtime\u001b[0m\u001b[0;34m(\u001b[0m\u001b[0;34m)\u001b[0m\u001b[0;34m\u001b[0m\u001b[0;34m\u001b[0m\u001b[0m\n\u001b[0;32m---> 16\u001b[0;31m     \u001b[0mmodel\u001b[0m\u001b[0;34m.\u001b[0m\u001b[0mfit\u001b[0m\u001b[0;34m(\u001b[0m\u001b[0mX_train\u001b[0m\u001b[0;34m,\u001b[0m \u001b[0my_train\u001b[0m\u001b[0;34m)\u001b[0m\u001b[0;34m\u001b[0m\u001b[0;34m\u001b[0m\u001b[0m\n\u001b[0m\u001b[1;32m     17\u001b[0m     \u001b[0mtotal_time\u001b[0m \u001b[0;34m=\u001b[0m \u001b[0mtime\u001b[0m\u001b[0;34m.\u001b[0m\u001b[0mtime\u001b[0m\u001b[0;34m(\u001b[0m\u001b[0;34m)\u001b[0m \u001b[0;34m-\u001b[0m \u001b[0mstart_time\u001b[0m\u001b[0;34m\u001b[0m\u001b[0;34m\u001b[0m\u001b[0m\n\u001b[1;32m     18\u001b[0m \u001b[0;34m\u001b[0m\u001b[0m\n",
      "\u001b[0;32m/shared-libs/python3.7/py/lib/python3.7/site-packages/sklearn/pipeline.py\u001b[0m in \u001b[0;36mfit\u001b[0;34m(self, X, y, **fit_params)\u001b[0m\n\u001b[1;32m    339\u001b[0m         \"\"\"\n\u001b[1;32m    340\u001b[0m         \u001b[0mfit_params_steps\u001b[0m \u001b[0;34m=\u001b[0m \u001b[0mself\u001b[0m\u001b[0;34m.\u001b[0m\u001b[0m_check_fit_params\u001b[0m\u001b[0;34m(\u001b[0m\u001b[0;34m**\u001b[0m\u001b[0mfit_params\u001b[0m\u001b[0;34m)\u001b[0m\u001b[0;34m\u001b[0m\u001b[0;34m\u001b[0m\u001b[0m\n\u001b[0;32m--> 341\u001b[0;31m         \u001b[0mXt\u001b[0m \u001b[0;34m=\u001b[0m \u001b[0mself\u001b[0m\u001b[0;34m.\u001b[0m\u001b[0m_fit\u001b[0m\u001b[0;34m(\u001b[0m\u001b[0mX\u001b[0m\u001b[0;34m,\u001b[0m \u001b[0my\u001b[0m\u001b[0;34m,\u001b[0m \u001b[0;34m**\u001b[0m\u001b[0mfit_params_steps\u001b[0m\u001b[0;34m)\u001b[0m\u001b[0;34m\u001b[0m\u001b[0;34m\u001b[0m\u001b[0m\n\u001b[0m\u001b[1;32m    342\u001b[0m         with _print_elapsed_time('Pipeline',\n\u001b[1;32m    343\u001b[0m                                  self._log_message(len(self.steps) - 1)):\n",
      "\u001b[0;32m/shared-libs/python3.7/py/lib/python3.7/site-packages/sklearn/pipeline.py\u001b[0m in \u001b[0;36m_fit\u001b[0;34m(self, X, y, **fit_params_steps)\u001b[0m\n\u001b[1;32m    305\u001b[0m                 \u001b[0mmessage_clsname\u001b[0m\u001b[0;34m=\u001b[0m\u001b[0;34m'Pipeline'\u001b[0m\u001b[0;34m,\u001b[0m\u001b[0;34m\u001b[0m\u001b[0;34m\u001b[0m\u001b[0m\n\u001b[1;32m    306\u001b[0m                 \u001b[0mmessage\u001b[0m\u001b[0;34m=\u001b[0m\u001b[0mself\u001b[0m\u001b[0;34m.\u001b[0m\u001b[0m_log_message\u001b[0m\u001b[0;34m(\u001b[0m\u001b[0mstep_idx\u001b[0m\u001b[0;34m)\u001b[0m\u001b[0;34m,\u001b[0m\u001b[0;34m\u001b[0m\u001b[0;34m\u001b[0m\u001b[0m\n\u001b[0;32m--> 307\u001b[0;31m                 **fit_params_steps[name])\n\u001b[0m\u001b[1;32m    308\u001b[0m             \u001b[0;31m# Replace the transformer of the step with the fitted\u001b[0m\u001b[0;34m\u001b[0m\u001b[0;34m\u001b[0m\u001b[0;34m\u001b[0m\u001b[0m\n\u001b[1;32m    309\u001b[0m             \u001b[0;31m# transformer. This is necessary when loading the transformer\u001b[0m\u001b[0;34m\u001b[0m\u001b[0;34m\u001b[0m\u001b[0;34m\u001b[0m\u001b[0m\n",
      "\u001b[0;32m/shared-libs/python3.7/py/lib/python3.7/site-packages/joblib/memory.py\u001b[0m in \u001b[0;36m__call__\u001b[0;34m(self, *args, **kwargs)\u001b[0m\n\u001b[1;32m    350\u001b[0m \u001b[0;34m\u001b[0m\u001b[0m\n\u001b[1;32m    351\u001b[0m     \u001b[0;32mdef\u001b[0m \u001b[0m__call__\u001b[0m\u001b[0;34m(\u001b[0m\u001b[0mself\u001b[0m\u001b[0;34m,\u001b[0m \u001b[0;34m*\u001b[0m\u001b[0margs\u001b[0m\u001b[0;34m,\u001b[0m \u001b[0;34m**\u001b[0m\u001b[0mkwargs\u001b[0m\u001b[0;34m)\u001b[0m\u001b[0;34m:\u001b[0m\u001b[0;34m\u001b[0m\u001b[0;34m\u001b[0m\u001b[0m\n\u001b[0;32m--> 352\u001b[0;31m         \u001b[0;32mreturn\u001b[0m \u001b[0mself\u001b[0m\u001b[0;34m.\u001b[0m\u001b[0mfunc\u001b[0m\u001b[0;34m(\u001b[0m\u001b[0;34m*\u001b[0m\u001b[0margs\u001b[0m\u001b[0;34m,\u001b[0m \u001b[0;34m**\u001b[0m\u001b[0mkwargs\u001b[0m\u001b[0;34m)\u001b[0m\u001b[0;34m\u001b[0m\u001b[0;34m\u001b[0m\u001b[0m\n\u001b[0m\u001b[1;32m    353\u001b[0m \u001b[0;34m\u001b[0m\u001b[0m\n\u001b[1;32m    354\u001b[0m     \u001b[0;32mdef\u001b[0m \u001b[0mcall_and_shelve\u001b[0m\u001b[0;34m(\u001b[0m\u001b[0mself\u001b[0m\u001b[0;34m,\u001b[0m \u001b[0;34m*\u001b[0m\u001b[0margs\u001b[0m\u001b[0;34m,\u001b[0m \u001b[0;34m**\u001b[0m\u001b[0mkwargs\u001b[0m\u001b[0;34m)\u001b[0m\u001b[0;34m:\u001b[0m\u001b[0;34m\u001b[0m\u001b[0;34m\u001b[0m\u001b[0m\n",
      "\u001b[0;32m/shared-libs/python3.7/py/lib/python3.7/site-packages/sklearn/pipeline.py\u001b[0m in \u001b[0;36m_fit_transform_one\u001b[0;34m(transformer, X, y, weight, message_clsname, message, **fit_params)\u001b[0m\n\u001b[1;32m    752\u001b[0m     \u001b[0;32mwith\u001b[0m \u001b[0m_print_elapsed_time\u001b[0m\u001b[0;34m(\u001b[0m\u001b[0mmessage_clsname\u001b[0m\u001b[0;34m,\u001b[0m \u001b[0mmessage\u001b[0m\u001b[0;34m)\u001b[0m\u001b[0;34m:\u001b[0m\u001b[0;34m\u001b[0m\u001b[0;34m\u001b[0m\u001b[0m\n\u001b[1;32m    753\u001b[0m         \u001b[0;32mif\u001b[0m \u001b[0mhasattr\u001b[0m\u001b[0;34m(\u001b[0m\u001b[0mtransformer\u001b[0m\u001b[0;34m,\u001b[0m \u001b[0;34m'fit_transform'\u001b[0m\u001b[0;34m)\u001b[0m\u001b[0;34m:\u001b[0m\u001b[0;34m\u001b[0m\u001b[0;34m\u001b[0m\u001b[0m\n\u001b[0;32m--> 754\u001b[0;31m             \u001b[0mres\u001b[0m \u001b[0;34m=\u001b[0m \u001b[0mtransformer\u001b[0m\u001b[0;34m.\u001b[0m\u001b[0mfit_transform\u001b[0m\u001b[0;34m(\u001b[0m\u001b[0mX\u001b[0m\u001b[0;34m,\u001b[0m \u001b[0my\u001b[0m\u001b[0;34m,\u001b[0m \u001b[0;34m**\u001b[0m\u001b[0mfit_params\u001b[0m\u001b[0;34m)\u001b[0m\u001b[0;34m\u001b[0m\u001b[0;34m\u001b[0m\u001b[0m\n\u001b[0m\u001b[1;32m    755\u001b[0m         \u001b[0;32melse\u001b[0m\u001b[0;34m:\u001b[0m\u001b[0;34m\u001b[0m\u001b[0;34m\u001b[0m\u001b[0m\n\u001b[1;32m    756\u001b[0m             \u001b[0mres\u001b[0m \u001b[0;34m=\u001b[0m \u001b[0mtransformer\u001b[0m\u001b[0;34m.\u001b[0m\u001b[0mfit\u001b[0m\u001b[0;34m(\u001b[0m\u001b[0mX\u001b[0m\u001b[0;34m,\u001b[0m \u001b[0my\u001b[0m\u001b[0;34m,\u001b[0m \u001b[0;34m**\u001b[0m\u001b[0mfit_params\u001b[0m\u001b[0;34m)\u001b[0m\u001b[0;34m.\u001b[0m\u001b[0mtransform\u001b[0m\u001b[0;34m(\u001b[0m\u001b[0mX\u001b[0m\u001b[0;34m)\u001b[0m\u001b[0;34m\u001b[0m\u001b[0;34m\u001b[0m\u001b[0m\n",
      "\u001b[0;32m/shared-libs/python3.7/py/lib/python3.7/site-packages/sklearn/compose/_column_transformer.py\u001b[0m in \u001b[0;36mfit_transform\u001b[0;34m(self, X, y)\u001b[0m\n\u001b[1;32m    503\u001b[0m         \u001b[0mself\u001b[0m\u001b[0;34m.\u001b[0m\u001b[0m_validate_transformers\u001b[0m\u001b[0;34m(\u001b[0m\u001b[0;34m)\u001b[0m\u001b[0;34m\u001b[0m\u001b[0;34m\u001b[0m\u001b[0m\n\u001b[1;32m    504\u001b[0m         \u001b[0mself\u001b[0m\u001b[0;34m.\u001b[0m\u001b[0m_validate_column_callables\u001b[0m\u001b[0;34m(\u001b[0m\u001b[0mX\u001b[0m\u001b[0;34m)\u001b[0m\u001b[0;34m\u001b[0m\u001b[0;34m\u001b[0m\u001b[0m\n\u001b[0;32m--> 505\u001b[0;31m         \u001b[0mself\u001b[0m\u001b[0;34m.\u001b[0m\u001b[0m_validate_remainder\u001b[0m\u001b[0;34m(\u001b[0m\u001b[0mX\u001b[0m\u001b[0;34m)\u001b[0m\u001b[0;34m\u001b[0m\u001b[0;34m\u001b[0m\u001b[0m\n\u001b[0m\u001b[1;32m    506\u001b[0m \u001b[0;34m\u001b[0m\u001b[0m\n\u001b[1;32m    507\u001b[0m         \u001b[0mresult\u001b[0m \u001b[0;34m=\u001b[0m \u001b[0mself\u001b[0m\u001b[0;34m.\u001b[0m\u001b[0m_fit_transform\u001b[0m\u001b[0;34m(\u001b[0m\u001b[0mX\u001b[0m\u001b[0;34m,\u001b[0m \u001b[0my\u001b[0m\u001b[0;34m,\u001b[0m \u001b[0m_fit_transform_one\u001b[0m\u001b[0;34m)\u001b[0m\u001b[0;34m\u001b[0m\u001b[0;34m\u001b[0m\u001b[0m\n",
      "\u001b[0;32m/shared-libs/python3.7/py/lib/python3.7/site-packages/sklearn/compose/_column_transformer.py\u001b[0m in \u001b[0;36m_validate_remainder\u001b[0;34m(self, X)\u001b[0m\n\u001b[1;32m    330\u001b[0m         \u001b[0mcols\u001b[0m \u001b[0;34m=\u001b[0m \u001b[0;34m[\u001b[0m\u001b[0;34m]\u001b[0m\u001b[0;34m\u001b[0m\u001b[0;34m\u001b[0m\u001b[0m\n\u001b[1;32m    331\u001b[0m         \u001b[0;32mfor\u001b[0m \u001b[0mcolumns\u001b[0m \u001b[0;32min\u001b[0m \u001b[0mself\u001b[0m\u001b[0;34m.\u001b[0m\u001b[0m_columns\u001b[0m\u001b[0;34m:\u001b[0m\u001b[0;34m\u001b[0m\u001b[0;34m\u001b[0m\u001b[0m\n\u001b[0;32m--> 332\u001b[0;31m             \u001b[0mcols\u001b[0m\u001b[0;34m.\u001b[0m\u001b[0mextend\u001b[0m\u001b[0;34m(\u001b[0m\u001b[0m_get_column_indices\u001b[0m\u001b[0;34m(\u001b[0m\u001b[0mX\u001b[0m\u001b[0;34m,\u001b[0m \u001b[0mcolumns\u001b[0m\u001b[0;34m)\u001b[0m\u001b[0;34m)\u001b[0m\u001b[0;34m\u001b[0m\u001b[0;34m\u001b[0m\u001b[0m\n\u001b[0m\u001b[1;32m    333\u001b[0m \u001b[0;34m\u001b[0m\u001b[0m\n\u001b[1;32m    334\u001b[0m         \u001b[0mremaining_idx\u001b[0m \u001b[0;34m=\u001b[0m \u001b[0msorted\u001b[0m\u001b[0;34m(\u001b[0m\u001b[0mset\u001b[0m\u001b[0;34m(\u001b[0m\u001b[0mrange\u001b[0m\u001b[0;34m(\u001b[0m\u001b[0mself\u001b[0m\u001b[0;34m.\u001b[0m\u001b[0m_n_features\u001b[0m\u001b[0;34m)\u001b[0m\u001b[0;34m)\u001b[0m \u001b[0;34m-\u001b[0m \u001b[0mset\u001b[0m\u001b[0;34m(\u001b[0m\u001b[0mcols\u001b[0m\u001b[0;34m)\u001b[0m\u001b[0;34m)\u001b[0m\u001b[0;34m\u001b[0m\u001b[0;34m\u001b[0m\u001b[0m\n",
      "\u001b[0;32m/shared-libs/python3.7/py/lib/python3.7/site-packages/sklearn/utils/__init__.py\u001b[0m in \u001b[0;36m_get_column_indices\u001b[0;34m(X, key)\u001b[0m\n\u001b[1;32m    403\u001b[0m             raise ValueError(\n\u001b[1;32m    404\u001b[0m                 \u001b[0;34m\"A given column is not a column of the dataframe\"\u001b[0m\u001b[0;34m\u001b[0m\u001b[0;34m\u001b[0m\u001b[0m\n\u001b[0;32m--> 405\u001b[0;31m             ) from e\n\u001b[0m\u001b[1;32m    406\u001b[0m \u001b[0;34m\u001b[0m\u001b[0m\n\u001b[1;32m    407\u001b[0m         \u001b[0;32mreturn\u001b[0m \u001b[0mcolumn_indices\u001b[0m\u001b[0;34m\u001b[0m\u001b[0;34m\u001b[0m\u001b[0m\n",
      "\u001b[0;31mValueError\u001b[0m: A given column is not a column of the dataframe"
     ]
    }
   ],
   "execution_count": 149
  },
  {
   "cell_type": "code",
   "source": "for model_name, model in tree_regressors.items():\n\n    start_time = time.time()\n    pred = cross_val_predict(model, X, y)\n    total_time = time.time() - start_time\n            \n    results = results.append({\"Model\":    model_name,\n                              \"Accuracy\": metrics.accuracy_score(y, pred)*100,\n                              \"Bal Acc.\": metrics.balanced_accuracy_score(y, pred)*100,\n                              \"Time\":     total_time},\n                              ignore_index=True)\n### END SOLUTION\n\n\nresults_ord = results.sort_values(by=['Accuracy'], ascending=False, ignore_index=True)\nresults_ord.index += 1 \nresults_ord.style.bar(subset=['Accuracy', 'Bal Acc.'], vmin=0, vmax=100, color='#5fba7d')",
   "metadata": {
    "tags": [],
    "cell_id": "00062-61dc187c-28f1-492d-93eb-9eac297d8b97",
    "deepnote_to_be_reexecuted": false,
    "source_hash": "6ab5ff9f",
    "execution_start": 1626444109812,
    "execution_millis": 149,
    "deepnote_cell_type": "code"
   },
   "outputs": [
    {
     "output_type": "error",
     "ename": "ValueError",
     "evalue": "A given column is not a column of the dataframe",
     "traceback": [
      "\u001b[0;31m---------------------------------------------------------------------------\u001b[0m",
      "\u001b[0;31mKeyError\u001b[0m                                  Traceback (most recent call last)",
      "\u001b[0;32m/shared-libs/python3.7/py/lib/python3.7/site-packages/sklearn/utils/__init__.py\u001b[0m in \u001b[0;36m_get_column_indices\u001b[0;34m(X, key)\u001b[0m\n\u001b[1;32m    395\u001b[0m             \u001b[0;32mfor\u001b[0m \u001b[0mcol\u001b[0m \u001b[0;32min\u001b[0m \u001b[0mcolumns\u001b[0m\u001b[0;34m:\u001b[0m\u001b[0;34m\u001b[0m\u001b[0;34m\u001b[0m\u001b[0m\n\u001b[0;32m--> 396\u001b[0;31m                 \u001b[0mcol_idx\u001b[0m \u001b[0;34m=\u001b[0m \u001b[0mall_columns\u001b[0m\u001b[0;34m.\u001b[0m\u001b[0mget_loc\u001b[0m\u001b[0;34m(\u001b[0m\u001b[0mcol\u001b[0m\u001b[0;34m)\u001b[0m\u001b[0;34m\u001b[0m\u001b[0;34m\u001b[0m\u001b[0m\n\u001b[0m\u001b[1;32m    397\u001b[0m                 \u001b[0;32mif\u001b[0m \u001b[0;32mnot\u001b[0m \u001b[0misinstance\u001b[0m\u001b[0;34m(\u001b[0m\u001b[0mcol_idx\u001b[0m\u001b[0;34m,\u001b[0m \u001b[0mnumbers\u001b[0m\u001b[0;34m.\u001b[0m\u001b[0mIntegral\u001b[0m\u001b[0;34m)\u001b[0m\u001b[0;34m:\u001b[0m\u001b[0;34m\u001b[0m\u001b[0;34m\u001b[0m\u001b[0m\n",
      "\u001b[0;32m/shared-libs/python3.7/py/lib/python3.7/site-packages/pandas/core/indexes/multi.py\u001b[0m in \u001b[0;36mget_loc\u001b[0;34m(self, key, method)\u001b[0m\n\u001b[1;32m   2885\u001b[0m         \u001b[0;32mif\u001b[0m \u001b[0mkeylen\u001b[0m \u001b[0;34m==\u001b[0m \u001b[0mself\u001b[0m\u001b[0;34m.\u001b[0m\u001b[0mnlevels\u001b[0m \u001b[0;32mand\u001b[0m \u001b[0mself\u001b[0m\u001b[0;34m.\u001b[0m\u001b[0mis_unique\u001b[0m\u001b[0;34m:\u001b[0m\u001b[0;34m\u001b[0m\u001b[0;34m\u001b[0m\u001b[0m\n\u001b[0;32m-> 2886\u001b[0;31m             \u001b[0;32mreturn\u001b[0m \u001b[0mself\u001b[0m\u001b[0;34m.\u001b[0m\u001b[0m_engine\u001b[0m\u001b[0;34m.\u001b[0m\u001b[0mget_loc\u001b[0m\u001b[0;34m(\u001b[0m\u001b[0mkey\u001b[0m\u001b[0;34m)\u001b[0m\u001b[0;34m\u001b[0m\u001b[0;34m\u001b[0m\u001b[0m\n\u001b[0m\u001b[1;32m   2887\u001b[0m \u001b[0;34m\u001b[0m\u001b[0m\n",
      "\u001b[0;32mpandas/_libs/index.pyx\u001b[0m in \u001b[0;36mpandas._libs.index.BaseMultiIndexCodesEngine.get_loc\u001b[0;34m()\u001b[0m\n",
      "\u001b[0;32mpandas/_libs/index.pyx\u001b[0m in \u001b[0;36mpandas._libs.index.IndexEngine.get_loc\u001b[0;34m()\u001b[0m\n",
      "\u001b[0;32mpandas/_libs/index.pyx\u001b[0m in \u001b[0;36mpandas._libs.index.IndexEngine.get_loc\u001b[0;34m()\u001b[0m\n",
      "\u001b[0;32mpandas/_libs/hashtable_class_helper.pxi\u001b[0m in \u001b[0;36mpandas._libs.hashtable.UInt64HashTable.get_item\u001b[0;34m()\u001b[0m\n",
      "\u001b[0;32mpandas/_libs/hashtable_class_helper.pxi\u001b[0m in \u001b[0;36mpandas._libs.hashtable.UInt64HashTable.get_item\u001b[0;34m()\u001b[0m\n",
      "\u001b[0;31mKeyError\u001b[0m: 8",
      "\nThe above exception was the direct cause of the following exception:\n",
      "\u001b[0;31mValueError\u001b[0m                                Traceback (most recent call last)",
      "\u001b[0;32m/tmp/ipykernel_644/357403597.py\u001b[0m in \u001b[0;36m<module>\u001b[0;34m\u001b[0m\n\u001b[1;32m      2\u001b[0m \u001b[0;34m\u001b[0m\u001b[0m\n\u001b[1;32m      3\u001b[0m     \u001b[0mstart_time\u001b[0m \u001b[0;34m=\u001b[0m \u001b[0mtime\u001b[0m\u001b[0;34m.\u001b[0m\u001b[0mtime\u001b[0m\u001b[0;34m(\u001b[0m\u001b[0;34m)\u001b[0m\u001b[0;34m\u001b[0m\u001b[0;34m\u001b[0m\u001b[0m\n\u001b[0;32m----> 4\u001b[0;31m     \u001b[0mpred\u001b[0m \u001b[0;34m=\u001b[0m \u001b[0mcross_val_predict\u001b[0m\u001b[0;34m(\u001b[0m\u001b[0mmodel\u001b[0m\u001b[0;34m,\u001b[0m \u001b[0mX\u001b[0m\u001b[0;34m,\u001b[0m \u001b[0my\u001b[0m\u001b[0;34m)\u001b[0m\u001b[0;34m\u001b[0m\u001b[0;34m\u001b[0m\u001b[0m\n\u001b[0m\u001b[1;32m      5\u001b[0m     \u001b[0mtotal_time\u001b[0m \u001b[0;34m=\u001b[0m \u001b[0mtime\u001b[0m\u001b[0;34m.\u001b[0m\u001b[0mtime\u001b[0m\u001b[0;34m(\u001b[0m\u001b[0;34m)\u001b[0m \u001b[0;34m-\u001b[0m \u001b[0mstart_time\u001b[0m\u001b[0;34m\u001b[0m\u001b[0;34m\u001b[0m\u001b[0m\n\u001b[1;32m      6\u001b[0m \u001b[0;34m\u001b[0m\u001b[0m\n",
      "\u001b[0;32m/shared-libs/python3.7/py/lib/python3.7/site-packages/sklearn/utils/validation.py\u001b[0m in \u001b[0;36minner_f\u001b[0;34m(*args, **kwargs)\u001b[0m\n\u001b[1;32m     61\u001b[0m             \u001b[0mextra_args\u001b[0m \u001b[0;34m=\u001b[0m \u001b[0mlen\u001b[0m\u001b[0;34m(\u001b[0m\u001b[0margs\u001b[0m\u001b[0;34m)\u001b[0m \u001b[0;34m-\u001b[0m \u001b[0mlen\u001b[0m\u001b[0;34m(\u001b[0m\u001b[0mall_args\u001b[0m\u001b[0;34m)\u001b[0m\u001b[0;34m\u001b[0m\u001b[0;34m\u001b[0m\u001b[0m\n\u001b[1;32m     62\u001b[0m             \u001b[0;32mif\u001b[0m \u001b[0mextra_args\u001b[0m \u001b[0;34m<=\u001b[0m \u001b[0;36m0\u001b[0m\u001b[0;34m:\u001b[0m\u001b[0;34m\u001b[0m\u001b[0;34m\u001b[0m\u001b[0m\n\u001b[0;32m---> 63\u001b[0;31m                 \u001b[0;32mreturn\u001b[0m \u001b[0mf\u001b[0m\u001b[0;34m(\u001b[0m\u001b[0;34m*\u001b[0m\u001b[0margs\u001b[0m\u001b[0;34m,\u001b[0m \u001b[0;34m**\u001b[0m\u001b[0mkwargs\u001b[0m\u001b[0;34m)\u001b[0m\u001b[0;34m\u001b[0m\u001b[0;34m\u001b[0m\u001b[0m\n\u001b[0m\u001b[1;32m     64\u001b[0m \u001b[0;34m\u001b[0m\u001b[0m\n\u001b[1;32m     65\u001b[0m             \u001b[0;31m# extra_args > 0\u001b[0m\u001b[0;34m\u001b[0m\u001b[0;34m\u001b[0m\u001b[0;34m\u001b[0m\u001b[0m\n",
      "\u001b[0;32m/shared-libs/python3.7/py/lib/python3.7/site-packages/sklearn/model_selection/_validation.py\u001b[0m in \u001b[0;36mcross_val_predict\u001b[0;34m(estimator, X, y, groups, cv, n_jobs, verbose, fit_params, pre_dispatch, method)\u001b[0m\n\u001b[1;32m    880\u001b[0m     predictions = parallel(delayed(_fit_and_predict)(\n\u001b[1;32m    881\u001b[0m         clone(estimator), X, y, train, test, verbose, fit_params, method)\n\u001b[0;32m--> 882\u001b[0;31m         for train, test in splits)\n\u001b[0m\u001b[1;32m    883\u001b[0m \u001b[0;34m\u001b[0m\u001b[0m\n\u001b[1;32m    884\u001b[0m     \u001b[0minv_test_indices\u001b[0m \u001b[0;34m=\u001b[0m \u001b[0mnp\u001b[0m\u001b[0;34m.\u001b[0m\u001b[0mempty\u001b[0m\u001b[0;34m(\u001b[0m\u001b[0mlen\u001b[0m\u001b[0;34m(\u001b[0m\u001b[0mtest_indices\u001b[0m\u001b[0;34m)\u001b[0m\u001b[0;34m,\u001b[0m \u001b[0mdtype\u001b[0m\u001b[0;34m=\u001b[0m\u001b[0mint\u001b[0m\u001b[0;34m)\u001b[0m\u001b[0;34m\u001b[0m\u001b[0;34m\u001b[0m\u001b[0m\n",
      "\u001b[0;32m/shared-libs/python3.7/py/lib/python3.7/site-packages/joblib/parallel.py\u001b[0m in \u001b[0;36m__call__\u001b[0;34m(self, iterable)\u001b[0m\n\u001b[1;32m   1039\u001b[0m             \u001b[0;31m# remaining jobs.\u001b[0m\u001b[0;34m\u001b[0m\u001b[0;34m\u001b[0m\u001b[0;34m\u001b[0m\u001b[0m\n\u001b[1;32m   1040\u001b[0m             \u001b[0mself\u001b[0m\u001b[0;34m.\u001b[0m\u001b[0m_iterating\u001b[0m \u001b[0;34m=\u001b[0m \u001b[0;32mFalse\u001b[0m\u001b[0;34m\u001b[0m\u001b[0;34m\u001b[0m\u001b[0m\n\u001b[0;32m-> 1041\u001b[0;31m             \u001b[0;32mif\u001b[0m \u001b[0mself\u001b[0m\u001b[0;34m.\u001b[0m\u001b[0mdispatch_one_batch\u001b[0m\u001b[0;34m(\u001b[0m\u001b[0miterator\u001b[0m\u001b[0;34m)\u001b[0m\u001b[0;34m:\u001b[0m\u001b[0;34m\u001b[0m\u001b[0;34m\u001b[0m\u001b[0m\n\u001b[0m\u001b[1;32m   1042\u001b[0m                 \u001b[0mself\u001b[0m\u001b[0;34m.\u001b[0m\u001b[0m_iterating\u001b[0m \u001b[0;34m=\u001b[0m \u001b[0mself\u001b[0m\u001b[0;34m.\u001b[0m\u001b[0m_original_iterator\u001b[0m \u001b[0;32mis\u001b[0m \u001b[0;32mnot\u001b[0m \u001b[0;32mNone\u001b[0m\u001b[0;34m\u001b[0m\u001b[0;34m\u001b[0m\u001b[0m\n\u001b[1;32m   1043\u001b[0m \u001b[0;34m\u001b[0m\u001b[0m\n",
      "\u001b[0;32m/shared-libs/python3.7/py/lib/python3.7/site-packages/joblib/parallel.py\u001b[0m in \u001b[0;36mdispatch_one_batch\u001b[0;34m(self, iterator)\u001b[0m\n\u001b[1;32m    857\u001b[0m                 \u001b[0;32mreturn\u001b[0m \u001b[0;32mFalse\u001b[0m\u001b[0;34m\u001b[0m\u001b[0;34m\u001b[0m\u001b[0m\n\u001b[1;32m    858\u001b[0m             \u001b[0;32melse\u001b[0m\u001b[0;34m:\u001b[0m\u001b[0;34m\u001b[0m\u001b[0;34m\u001b[0m\u001b[0m\n\u001b[0;32m--> 859\u001b[0;31m                 \u001b[0mself\u001b[0m\u001b[0;34m.\u001b[0m\u001b[0m_dispatch\u001b[0m\u001b[0;34m(\u001b[0m\u001b[0mtasks\u001b[0m\u001b[0;34m)\u001b[0m\u001b[0;34m\u001b[0m\u001b[0;34m\u001b[0m\u001b[0m\n\u001b[0m\u001b[1;32m    860\u001b[0m                 \u001b[0;32mreturn\u001b[0m \u001b[0;32mTrue\u001b[0m\u001b[0;34m\u001b[0m\u001b[0;34m\u001b[0m\u001b[0m\n\u001b[1;32m    861\u001b[0m \u001b[0;34m\u001b[0m\u001b[0m\n",
      "\u001b[0;32m/shared-libs/python3.7/py/lib/python3.7/site-packages/joblib/parallel.py\u001b[0m in \u001b[0;36m_dispatch\u001b[0;34m(self, batch)\u001b[0m\n\u001b[1;32m    775\u001b[0m         \u001b[0;32mwith\u001b[0m \u001b[0mself\u001b[0m\u001b[0;34m.\u001b[0m\u001b[0m_lock\u001b[0m\u001b[0;34m:\u001b[0m\u001b[0;34m\u001b[0m\u001b[0;34m\u001b[0m\u001b[0m\n\u001b[1;32m    776\u001b[0m             \u001b[0mjob_idx\u001b[0m \u001b[0;34m=\u001b[0m \u001b[0mlen\u001b[0m\u001b[0;34m(\u001b[0m\u001b[0mself\u001b[0m\u001b[0;34m.\u001b[0m\u001b[0m_jobs\u001b[0m\u001b[0;34m)\u001b[0m\u001b[0;34m\u001b[0m\u001b[0;34m\u001b[0m\u001b[0m\n\u001b[0;32m--> 777\u001b[0;31m             \u001b[0mjob\u001b[0m \u001b[0;34m=\u001b[0m \u001b[0mself\u001b[0m\u001b[0;34m.\u001b[0m\u001b[0m_backend\u001b[0m\u001b[0;34m.\u001b[0m\u001b[0mapply_async\u001b[0m\u001b[0;34m(\u001b[0m\u001b[0mbatch\u001b[0m\u001b[0;34m,\u001b[0m \u001b[0mcallback\u001b[0m\u001b[0;34m=\u001b[0m\u001b[0mcb\u001b[0m\u001b[0;34m)\u001b[0m\u001b[0;34m\u001b[0m\u001b[0;34m\u001b[0m\u001b[0m\n\u001b[0m\u001b[1;32m    778\u001b[0m             \u001b[0;31m# A job can complete so quickly than its callback is\u001b[0m\u001b[0;34m\u001b[0m\u001b[0;34m\u001b[0m\u001b[0;34m\u001b[0m\u001b[0m\n\u001b[1;32m    779\u001b[0m             \u001b[0;31m# called before we get here, causing self._jobs to\u001b[0m\u001b[0;34m\u001b[0m\u001b[0;34m\u001b[0m\u001b[0;34m\u001b[0m\u001b[0m\n",
      "\u001b[0;32m/shared-libs/python3.7/py/lib/python3.7/site-packages/joblib/_parallel_backends.py\u001b[0m in \u001b[0;36mapply_async\u001b[0;34m(self, func, callback)\u001b[0m\n\u001b[1;32m    206\u001b[0m     \u001b[0;32mdef\u001b[0m \u001b[0mapply_async\u001b[0m\u001b[0;34m(\u001b[0m\u001b[0mself\u001b[0m\u001b[0;34m,\u001b[0m \u001b[0mfunc\u001b[0m\u001b[0;34m,\u001b[0m \u001b[0mcallback\u001b[0m\u001b[0;34m=\u001b[0m\u001b[0;32mNone\u001b[0m\u001b[0;34m)\u001b[0m\u001b[0;34m:\u001b[0m\u001b[0;34m\u001b[0m\u001b[0;34m\u001b[0m\u001b[0m\n\u001b[1;32m    207\u001b[0m         \u001b[0;34m\"\"\"Schedule a func to be run\"\"\"\u001b[0m\u001b[0;34m\u001b[0m\u001b[0;34m\u001b[0m\u001b[0m\n\u001b[0;32m--> 208\u001b[0;31m         \u001b[0mresult\u001b[0m \u001b[0;34m=\u001b[0m \u001b[0mImmediateResult\u001b[0m\u001b[0;34m(\u001b[0m\u001b[0mfunc\u001b[0m\u001b[0;34m)\u001b[0m\u001b[0;34m\u001b[0m\u001b[0;34m\u001b[0m\u001b[0m\n\u001b[0m\u001b[1;32m    209\u001b[0m         \u001b[0;32mif\u001b[0m \u001b[0mcallback\u001b[0m\u001b[0;34m:\u001b[0m\u001b[0;34m\u001b[0m\u001b[0;34m\u001b[0m\u001b[0m\n\u001b[1;32m    210\u001b[0m             \u001b[0mcallback\u001b[0m\u001b[0;34m(\u001b[0m\u001b[0mresult\u001b[0m\u001b[0;34m)\u001b[0m\u001b[0;34m\u001b[0m\u001b[0;34m\u001b[0m\u001b[0m\n",
      "\u001b[0;32m/shared-libs/python3.7/py/lib/python3.7/site-packages/joblib/_parallel_backends.py\u001b[0m in \u001b[0;36m__init__\u001b[0;34m(self, batch)\u001b[0m\n\u001b[1;32m    570\u001b[0m         \u001b[0;31m# Don't delay the application, to avoid keeping the input\u001b[0m\u001b[0;34m\u001b[0m\u001b[0;34m\u001b[0m\u001b[0;34m\u001b[0m\u001b[0m\n\u001b[1;32m    571\u001b[0m         \u001b[0;31m# arguments in memory\u001b[0m\u001b[0;34m\u001b[0m\u001b[0;34m\u001b[0m\u001b[0;34m\u001b[0m\u001b[0m\n\u001b[0;32m--> 572\u001b[0;31m         \u001b[0mself\u001b[0m\u001b[0;34m.\u001b[0m\u001b[0mresults\u001b[0m \u001b[0;34m=\u001b[0m \u001b[0mbatch\u001b[0m\u001b[0;34m(\u001b[0m\u001b[0;34m)\u001b[0m\u001b[0;34m\u001b[0m\u001b[0;34m\u001b[0m\u001b[0m\n\u001b[0m\u001b[1;32m    573\u001b[0m \u001b[0;34m\u001b[0m\u001b[0m\n\u001b[1;32m    574\u001b[0m     \u001b[0;32mdef\u001b[0m \u001b[0mget\u001b[0m\u001b[0;34m(\u001b[0m\u001b[0mself\u001b[0m\u001b[0;34m)\u001b[0m\u001b[0;34m:\u001b[0m\u001b[0;34m\u001b[0m\u001b[0;34m\u001b[0m\u001b[0m\n",
      "\u001b[0;32m/shared-libs/python3.7/py/lib/python3.7/site-packages/joblib/parallel.py\u001b[0m in \u001b[0;36m__call__\u001b[0;34m(self)\u001b[0m\n\u001b[1;32m    261\u001b[0m         \u001b[0;32mwith\u001b[0m \u001b[0mparallel_backend\u001b[0m\u001b[0;34m(\u001b[0m\u001b[0mself\u001b[0m\u001b[0;34m.\u001b[0m\u001b[0m_backend\u001b[0m\u001b[0;34m,\u001b[0m \u001b[0mn_jobs\u001b[0m\u001b[0;34m=\u001b[0m\u001b[0mself\u001b[0m\u001b[0;34m.\u001b[0m\u001b[0m_n_jobs\u001b[0m\u001b[0;34m)\u001b[0m\u001b[0;34m:\u001b[0m\u001b[0;34m\u001b[0m\u001b[0;34m\u001b[0m\u001b[0m\n\u001b[1;32m    262\u001b[0m             return [func(*args, **kwargs)\n\u001b[0;32m--> 263\u001b[0;31m                     for func, args, kwargs in self.items]\n\u001b[0m\u001b[1;32m    264\u001b[0m \u001b[0;34m\u001b[0m\u001b[0m\n\u001b[1;32m    265\u001b[0m     \u001b[0;32mdef\u001b[0m \u001b[0m__reduce__\u001b[0m\u001b[0;34m(\u001b[0m\u001b[0mself\u001b[0m\u001b[0;34m)\u001b[0m\u001b[0;34m:\u001b[0m\u001b[0;34m\u001b[0m\u001b[0;34m\u001b[0m\u001b[0m\n",
      "\u001b[0;32m/shared-libs/python3.7/py/lib/python3.7/site-packages/joblib/parallel.py\u001b[0m in \u001b[0;36m<listcomp>\u001b[0;34m(.0)\u001b[0m\n\u001b[1;32m    261\u001b[0m         \u001b[0;32mwith\u001b[0m \u001b[0mparallel_backend\u001b[0m\u001b[0;34m(\u001b[0m\u001b[0mself\u001b[0m\u001b[0;34m.\u001b[0m\u001b[0m_backend\u001b[0m\u001b[0;34m,\u001b[0m \u001b[0mn_jobs\u001b[0m\u001b[0;34m=\u001b[0m\u001b[0mself\u001b[0m\u001b[0;34m.\u001b[0m\u001b[0m_n_jobs\u001b[0m\u001b[0;34m)\u001b[0m\u001b[0;34m:\u001b[0m\u001b[0;34m\u001b[0m\u001b[0;34m\u001b[0m\u001b[0m\n\u001b[1;32m    262\u001b[0m             return [func(*args, **kwargs)\n\u001b[0;32m--> 263\u001b[0;31m                     for func, args, kwargs in self.items]\n\u001b[0m\u001b[1;32m    264\u001b[0m \u001b[0;34m\u001b[0m\u001b[0m\n\u001b[1;32m    265\u001b[0m     \u001b[0;32mdef\u001b[0m \u001b[0m__reduce__\u001b[0m\u001b[0;34m(\u001b[0m\u001b[0mself\u001b[0m\u001b[0;34m)\u001b[0m\u001b[0;34m:\u001b[0m\u001b[0;34m\u001b[0m\u001b[0;34m\u001b[0m\u001b[0m\n",
      "\u001b[0;32m/shared-libs/python3.7/py/lib/python3.7/site-packages/sklearn/utils/fixes.py\u001b[0m in \u001b[0;36m__call__\u001b[0;34m(self, *args, **kwargs)\u001b[0m\n\u001b[1;32m    220\u001b[0m     \u001b[0;32mdef\u001b[0m \u001b[0m__call__\u001b[0m\u001b[0;34m(\u001b[0m\u001b[0mself\u001b[0m\u001b[0;34m,\u001b[0m \u001b[0;34m*\u001b[0m\u001b[0margs\u001b[0m\u001b[0;34m,\u001b[0m \u001b[0;34m**\u001b[0m\u001b[0mkwargs\u001b[0m\u001b[0;34m)\u001b[0m\u001b[0;34m:\u001b[0m\u001b[0;34m\u001b[0m\u001b[0;34m\u001b[0m\u001b[0m\n\u001b[1;32m    221\u001b[0m         \u001b[0;32mwith\u001b[0m \u001b[0mconfig_context\u001b[0m\u001b[0;34m(\u001b[0m\u001b[0;34m**\u001b[0m\u001b[0mself\u001b[0m\u001b[0;34m.\u001b[0m\u001b[0mconfig\u001b[0m\u001b[0;34m)\u001b[0m\u001b[0;34m:\u001b[0m\u001b[0;34m\u001b[0m\u001b[0;34m\u001b[0m\u001b[0m\n\u001b[0;32m--> 222\u001b[0;31m             \u001b[0;32mreturn\u001b[0m \u001b[0mself\u001b[0m\u001b[0;34m.\u001b[0m\u001b[0mfunction\u001b[0m\u001b[0;34m(\u001b[0m\u001b[0;34m*\u001b[0m\u001b[0margs\u001b[0m\u001b[0;34m,\u001b[0m \u001b[0;34m**\u001b[0m\u001b[0mkwargs\u001b[0m\u001b[0;34m)\u001b[0m\u001b[0;34m\u001b[0m\u001b[0;34m\u001b[0m\u001b[0m\n\u001b[0m",
      "\u001b[0;32m/shared-libs/python3.7/py/lib/python3.7/site-packages/sklearn/model_selection/_validation.py\u001b[0m in \u001b[0;36m_fit_and_predict\u001b[0;34m(estimator, X, y, train, test, verbose, fit_params, method)\u001b[0m\n\u001b[1;32m    958\u001b[0m         \u001b[0mestimator\u001b[0m\u001b[0;34m.\u001b[0m\u001b[0mfit\u001b[0m\u001b[0;34m(\u001b[0m\u001b[0mX_train\u001b[0m\u001b[0;34m,\u001b[0m \u001b[0;34m**\u001b[0m\u001b[0mfit_params\u001b[0m\u001b[0;34m)\u001b[0m\u001b[0;34m\u001b[0m\u001b[0;34m\u001b[0m\u001b[0m\n\u001b[1;32m    959\u001b[0m     \u001b[0;32melse\u001b[0m\u001b[0;34m:\u001b[0m\u001b[0;34m\u001b[0m\u001b[0;34m\u001b[0m\u001b[0m\n\u001b[0;32m--> 960\u001b[0;31m         \u001b[0mestimator\u001b[0m\u001b[0;34m.\u001b[0m\u001b[0mfit\u001b[0m\u001b[0;34m(\u001b[0m\u001b[0mX_train\u001b[0m\u001b[0;34m,\u001b[0m \u001b[0my_train\u001b[0m\u001b[0;34m,\u001b[0m \u001b[0;34m**\u001b[0m\u001b[0mfit_params\u001b[0m\u001b[0;34m)\u001b[0m\u001b[0;34m\u001b[0m\u001b[0;34m\u001b[0m\u001b[0m\n\u001b[0m\u001b[1;32m    961\u001b[0m     \u001b[0mfunc\u001b[0m \u001b[0;34m=\u001b[0m \u001b[0mgetattr\u001b[0m\u001b[0;34m(\u001b[0m\u001b[0mestimator\u001b[0m\u001b[0;34m,\u001b[0m \u001b[0mmethod\u001b[0m\u001b[0;34m)\u001b[0m\u001b[0;34m\u001b[0m\u001b[0;34m\u001b[0m\u001b[0m\n\u001b[1;32m    962\u001b[0m     \u001b[0mpredictions\u001b[0m \u001b[0;34m=\u001b[0m \u001b[0mfunc\u001b[0m\u001b[0;34m(\u001b[0m\u001b[0mX_test\u001b[0m\u001b[0;34m)\u001b[0m\u001b[0;34m\u001b[0m\u001b[0;34m\u001b[0m\u001b[0m\n",
      "\u001b[0;32m/shared-libs/python3.7/py/lib/python3.7/site-packages/sklearn/pipeline.py\u001b[0m in \u001b[0;36mfit\u001b[0;34m(self, X, y, **fit_params)\u001b[0m\n\u001b[1;32m    339\u001b[0m         \"\"\"\n\u001b[1;32m    340\u001b[0m         \u001b[0mfit_params_steps\u001b[0m \u001b[0;34m=\u001b[0m \u001b[0mself\u001b[0m\u001b[0;34m.\u001b[0m\u001b[0m_check_fit_params\u001b[0m\u001b[0;34m(\u001b[0m\u001b[0;34m**\u001b[0m\u001b[0mfit_params\u001b[0m\u001b[0;34m)\u001b[0m\u001b[0;34m\u001b[0m\u001b[0;34m\u001b[0m\u001b[0m\n\u001b[0;32m--> 341\u001b[0;31m         \u001b[0mXt\u001b[0m \u001b[0;34m=\u001b[0m \u001b[0mself\u001b[0m\u001b[0;34m.\u001b[0m\u001b[0m_fit\u001b[0m\u001b[0;34m(\u001b[0m\u001b[0mX\u001b[0m\u001b[0;34m,\u001b[0m \u001b[0my\u001b[0m\u001b[0;34m,\u001b[0m \u001b[0;34m**\u001b[0m\u001b[0mfit_params_steps\u001b[0m\u001b[0;34m)\u001b[0m\u001b[0;34m\u001b[0m\u001b[0;34m\u001b[0m\u001b[0m\n\u001b[0m\u001b[1;32m    342\u001b[0m         with _print_elapsed_time('Pipeline',\n\u001b[1;32m    343\u001b[0m                                  self._log_message(len(self.steps) - 1)):\n",
      "\u001b[0;32m/shared-libs/python3.7/py/lib/python3.7/site-packages/sklearn/pipeline.py\u001b[0m in \u001b[0;36m_fit\u001b[0;34m(self, X, y, **fit_params_steps)\u001b[0m\n\u001b[1;32m    305\u001b[0m                 \u001b[0mmessage_clsname\u001b[0m\u001b[0;34m=\u001b[0m\u001b[0;34m'Pipeline'\u001b[0m\u001b[0;34m,\u001b[0m\u001b[0;34m\u001b[0m\u001b[0;34m\u001b[0m\u001b[0m\n\u001b[1;32m    306\u001b[0m                 \u001b[0mmessage\u001b[0m\u001b[0;34m=\u001b[0m\u001b[0mself\u001b[0m\u001b[0;34m.\u001b[0m\u001b[0m_log_message\u001b[0m\u001b[0;34m(\u001b[0m\u001b[0mstep_idx\u001b[0m\u001b[0;34m)\u001b[0m\u001b[0;34m,\u001b[0m\u001b[0;34m\u001b[0m\u001b[0;34m\u001b[0m\u001b[0m\n\u001b[0;32m--> 307\u001b[0;31m                 **fit_params_steps[name])\n\u001b[0m\u001b[1;32m    308\u001b[0m             \u001b[0;31m# Replace the transformer of the step with the fitted\u001b[0m\u001b[0;34m\u001b[0m\u001b[0;34m\u001b[0m\u001b[0;34m\u001b[0m\u001b[0m\n\u001b[1;32m    309\u001b[0m             \u001b[0;31m# transformer. This is necessary when loading the transformer\u001b[0m\u001b[0;34m\u001b[0m\u001b[0;34m\u001b[0m\u001b[0;34m\u001b[0m\u001b[0m\n",
      "\u001b[0;32m/shared-libs/python3.7/py/lib/python3.7/site-packages/joblib/memory.py\u001b[0m in \u001b[0;36m__call__\u001b[0;34m(self, *args, **kwargs)\u001b[0m\n\u001b[1;32m    350\u001b[0m \u001b[0;34m\u001b[0m\u001b[0m\n\u001b[1;32m    351\u001b[0m     \u001b[0;32mdef\u001b[0m \u001b[0m__call__\u001b[0m\u001b[0;34m(\u001b[0m\u001b[0mself\u001b[0m\u001b[0;34m,\u001b[0m \u001b[0;34m*\u001b[0m\u001b[0margs\u001b[0m\u001b[0;34m,\u001b[0m \u001b[0;34m**\u001b[0m\u001b[0mkwargs\u001b[0m\u001b[0;34m)\u001b[0m\u001b[0;34m:\u001b[0m\u001b[0;34m\u001b[0m\u001b[0;34m\u001b[0m\u001b[0m\n\u001b[0;32m--> 352\u001b[0;31m         \u001b[0;32mreturn\u001b[0m \u001b[0mself\u001b[0m\u001b[0;34m.\u001b[0m\u001b[0mfunc\u001b[0m\u001b[0;34m(\u001b[0m\u001b[0;34m*\u001b[0m\u001b[0margs\u001b[0m\u001b[0;34m,\u001b[0m \u001b[0;34m**\u001b[0m\u001b[0mkwargs\u001b[0m\u001b[0;34m)\u001b[0m\u001b[0;34m\u001b[0m\u001b[0;34m\u001b[0m\u001b[0m\n\u001b[0m\u001b[1;32m    353\u001b[0m \u001b[0;34m\u001b[0m\u001b[0m\n\u001b[1;32m    354\u001b[0m     \u001b[0;32mdef\u001b[0m \u001b[0mcall_and_shelve\u001b[0m\u001b[0;34m(\u001b[0m\u001b[0mself\u001b[0m\u001b[0;34m,\u001b[0m \u001b[0;34m*\u001b[0m\u001b[0margs\u001b[0m\u001b[0;34m,\u001b[0m \u001b[0;34m**\u001b[0m\u001b[0mkwargs\u001b[0m\u001b[0;34m)\u001b[0m\u001b[0;34m:\u001b[0m\u001b[0;34m\u001b[0m\u001b[0;34m\u001b[0m\u001b[0m\n",
      "\u001b[0;32m/shared-libs/python3.7/py/lib/python3.7/site-packages/sklearn/pipeline.py\u001b[0m in \u001b[0;36m_fit_transform_one\u001b[0;34m(transformer, X, y, weight, message_clsname, message, **fit_params)\u001b[0m\n\u001b[1;32m    752\u001b[0m     \u001b[0;32mwith\u001b[0m \u001b[0m_print_elapsed_time\u001b[0m\u001b[0;34m(\u001b[0m\u001b[0mmessage_clsname\u001b[0m\u001b[0;34m,\u001b[0m \u001b[0mmessage\u001b[0m\u001b[0;34m)\u001b[0m\u001b[0;34m:\u001b[0m\u001b[0;34m\u001b[0m\u001b[0;34m\u001b[0m\u001b[0m\n\u001b[1;32m    753\u001b[0m         \u001b[0;32mif\u001b[0m \u001b[0mhasattr\u001b[0m\u001b[0;34m(\u001b[0m\u001b[0mtransformer\u001b[0m\u001b[0;34m,\u001b[0m \u001b[0;34m'fit_transform'\u001b[0m\u001b[0;34m)\u001b[0m\u001b[0;34m:\u001b[0m\u001b[0;34m\u001b[0m\u001b[0;34m\u001b[0m\u001b[0m\n\u001b[0;32m--> 754\u001b[0;31m             \u001b[0mres\u001b[0m \u001b[0;34m=\u001b[0m \u001b[0mtransformer\u001b[0m\u001b[0;34m.\u001b[0m\u001b[0mfit_transform\u001b[0m\u001b[0;34m(\u001b[0m\u001b[0mX\u001b[0m\u001b[0;34m,\u001b[0m \u001b[0my\u001b[0m\u001b[0;34m,\u001b[0m \u001b[0;34m**\u001b[0m\u001b[0mfit_params\u001b[0m\u001b[0;34m)\u001b[0m\u001b[0;34m\u001b[0m\u001b[0;34m\u001b[0m\u001b[0m\n\u001b[0m\u001b[1;32m    755\u001b[0m         \u001b[0;32melse\u001b[0m\u001b[0;34m:\u001b[0m\u001b[0;34m\u001b[0m\u001b[0;34m\u001b[0m\u001b[0m\n\u001b[1;32m    756\u001b[0m             \u001b[0mres\u001b[0m \u001b[0;34m=\u001b[0m \u001b[0mtransformer\u001b[0m\u001b[0;34m.\u001b[0m\u001b[0mfit\u001b[0m\u001b[0;34m(\u001b[0m\u001b[0mX\u001b[0m\u001b[0;34m,\u001b[0m \u001b[0my\u001b[0m\u001b[0;34m,\u001b[0m \u001b[0;34m**\u001b[0m\u001b[0mfit_params\u001b[0m\u001b[0;34m)\u001b[0m\u001b[0;34m.\u001b[0m\u001b[0mtransform\u001b[0m\u001b[0;34m(\u001b[0m\u001b[0mX\u001b[0m\u001b[0;34m)\u001b[0m\u001b[0;34m\u001b[0m\u001b[0;34m\u001b[0m\u001b[0m\n",
      "\u001b[0;32m/shared-libs/python3.7/py/lib/python3.7/site-packages/sklearn/compose/_column_transformer.py\u001b[0m in \u001b[0;36mfit_transform\u001b[0;34m(self, X, y)\u001b[0m\n\u001b[1;32m    503\u001b[0m         \u001b[0mself\u001b[0m\u001b[0;34m.\u001b[0m\u001b[0m_validate_transformers\u001b[0m\u001b[0;34m(\u001b[0m\u001b[0;34m)\u001b[0m\u001b[0;34m\u001b[0m\u001b[0;34m\u001b[0m\u001b[0m\n\u001b[1;32m    504\u001b[0m         \u001b[0mself\u001b[0m\u001b[0;34m.\u001b[0m\u001b[0m_validate_column_callables\u001b[0m\u001b[0;34m(\u001b[0m\u001b[0mX\u001b[0m\u001b[0;34m)\u001b[0m\u001b[0;34m\u001b[0m\u001b[0;34m\u001b[0m\u001b[0m\n\u001b[0;32m--> 505\u001b[0;31m         \u001b[0mself\u001b[0m\u001b[0;34m.\u001b[0m\u001b[0m_validate_remainder\u001b[0m\u001b[0;34m(\u001b[0m\u001b[0mX\u001b[0m\u001b[0;34m)\u001b[0m\u001b[0;34m\u001b[0m\u001b[0;34m\u001b[0m\u001b[0m\n\u001b[0m\u001b[1;32m    506\u001b[0m \u001b[0;34m\u001b[0m\u001b[0m\n\u001b[1;32m    507\u001b[0m         \u001b[0mresult\u001b[0m \u001b[0;34m=\u001b[0m \u001b[0mself\u001b[0m\u001b[0;34m.\u001b[0m\u001b[0m_fit_transform\u001b[0m\u001b[0;34m(\u001b[0m\u001b[0mX\u001b[0m\u001b[0;34m,\u001b[0m \u001b[0my\u001b[0m\u001b[0;34m,\u001b[0m \u001b[0m_fit_transform_one\u001b[0m\u001b[0;34m)\u001b[0m\u001b[0;34m\u001b[0m\u001b[0;34m\u001b[0m\u001b[0m\n",
      "\u001b[0;32m/shared-libs/python3.7/py/lib/python3.7/site-packages/sklearn/compose/_column_transformer.py\u001b[0m in \u001b[0;36m_validate_remainder\u001b[0;34m(self, X)\u001b[0m\n\u001b[1;32m    330\u001b[0m         \u001b[0mcols\u001b[0m \u001b[0;34m=\u001b[0m \u001b[0;34m[\u001b[0m\u001b[0;34m]\u001b[0m\u001b[0;34m\u001b[0m\u001b[0;34m\u001b[0m\u001b[0m\n\u001b[1;32m    331\u001b[0m         \u001b[0;32mfor\u001b[0m \u001b[0mcolumns\u001b[0m \u001b[0;32min\u001b[0m \u001b[0mself\u001b[0m\u001b[0;34m.\u001b[0m\u001b[0m_columns\u001b[0m\u001b[0;34m:\u001b[0m\u001b[0;34m\u001b[0m\u001b[0;34m\u001b[0m\u001b[0m\n\u001b[0;32m--> 332\u001b[0;31m             \u001b[0mcols\u001b[0m\u001b[0;34m.\u001b[0m\u001b[0mextend\u001b[0m\u001b[0;34m(\u001b[0m\u001b[0m_get_column_indices\u001b[0m\u001b[0;34m(\u001b[0m\u001b[0mX\u001b[0m\u001b[0;34m,\u001b[0m \u001b[0mcolumns\u001b[0m\u001b[0;34m)\u001b[0m\u001b[0;34m)\u001b[0m\u001b[0;34m\u001b[0m\u001b[0;34m\u001b[0m\u001b[0m\n\u001b[0m\u001b[1;32m    333\u001b[0m \u001b[0;34m\u001b[0m\u001b[0m\n\u001b[1;32m    334\u001b[0m         \u001b[0mremaining_idx\u001b[0m \u001b[0;34m=\u001b[0m \u001b[0msorted\u001b[0m\u001b[0;34m(\u001b[0m\u001b[0mset\u001b[0m\u001b[0;34m(\u001b[0m\u001b[0mrange\u001b[0m\u001b[0;34m(\u001b[0m\u001b[0mself\u001b[0m\u001b[0;34m.\u001b[0m\u001b[0m_n_features\u001b[0m\u001b[0;34m)\u001b[0m\u001b[0;34m)\u001b[0m \u001b[0;34m-\u001b[0m \u001b[0mset\u001b[0m\u001b[0;34m(\u001b[0m\u001b[0mcols\u001b[0m\u001b[0;34m)\u001b[0m\u001b[0;34m)\u001b[0m\u001b[0;34m\u001b[0m\u001b[0;34m\u001b[0m\u001b[0m\n",
      "\u001b[0;32m/shared-libs/python3.7/py/lib/python3.7/site-packages/sklearn/utils/__init__.py\u001b[0m in \u001b[0;36m_get_column_indices\u001b[0;34m(X, key)\u001b[0m\n\u001b[1;32m    403\u001b[0m             raise ValueError(\n\u001b[1;32m    404\u001b[0m                 \u001b[0;34m\"A given column is not a column of the dataframe\"\u001b[0m\u001b[0;34m\u001b[0m\u001b[0;34m\u001b[0m\u001b[0m\n\u001b[0;32m--> 405\u001b[0;31m             ) from e\n\u001b[0m\u001b[1;32m    406\u001b[0m \u001b[0;34m\u001b[0m\u001b[0m\n\u001b[1;32m    407\u001b[0m         \u001b[0;32mreturn\u001b[0m \u001b[0mcolumn_indices\u001b[0m\u001b[0;34m\u001b[0m\u001b[0;34m\u001b[0m\u001b[0m\n",
      "\u001b[0;31mValueError\u001b[0m: A given column is not a column of the dataframe"
     ]
    }
   ],
   "execution_count": 153
  },
  {
   "cell_type": "code",
   "source": "hipocrat_df.columns",
   "metadata": {
    "tags": [],
    "cell_id": "00052-53a77287-b1e1-4267-b57b-47cf371e74c6",
    "deepnote_to_be_reexecuted": false,
    "source_hash": "1ed8cf48",
    "execution_start": 1626439266020,
    "execution_millis": 27,
    "deepnote_cell_type": "code"
   },
   "outputs": [
    {
     "output_type": "execute_result",
     "execution_count": 90,
     "data": {
      "text/plain": "MultiIndex([(                 'age',),\n            (                 'sex',),\n            (          'chest pain',),\n            (      'blood pressure',),\n            (   'serum cholestoral',),\n            (         'blood sugar',),\n            ('electrocardiographic',),\n            (      'max heart_rate',),\n            (     'angina exercise',),\n            ( 'depression exercise',),\n            (       'heart disease',)],\n           )"
     },
     "metadata": {}
    }
   ],
   "execution_count": null
  },
  {
   "cell_type": "code",
   "source": "\ny.shape\n",
   "metadata": {
    "tags": [],
    "cell_id": "00054-3f1fa819-dad9-408a-a463-4c1b212a9163",
    "deepnote_to_be_reexecuted": false,
    "source_hash": "5d8ef41c",
    "execution_start": 1626439136621,
    "execution_millis": 12,
    "deepnote_cell_type": "code"
   },
   "outputs": [
    {
     "output_type": "execute_result",
     "execution_count": 79,
     "data": {
      "text/plain": "(294,)"
     },
     "metadata": {}
    }
   ],
   "execution_count": null
  },
  {
   "cell_type": "code",
   "source": "",
   "metadata": {
    "tags": [],
    "cell_id": "00057-09628aae-2204-48eb-9d1c-cb8430dfa2d3",
    "deepnote_cell_type": "code"
   },
   "outputs": [],
   "execution_count": null
  },
  {
   "cell_type": "markdown",
   "source": "<a style='text-decoration:none;line-height:16px;display:flex;color:#5B5B62;padding:10px;justify-content:end;' href='https://deepnote.com?utm_source=created-in-deepnote-cell&projectId=dad8d7d6-76f3-451f-977e-9da9ec3b791d' target=\"_blank\">\n<img alt='Created in deepnote.com' style='display:inline;max-height:16px;margin:0px;margin-right:7.5px;' src='data:image/svg+xml;base64,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' > </img>\nCreated in <span style='font-weight:600;margin-left:4px;'>Deepnote</span></a>",
   "metadata": {
    "tags": [],
    "created_in_deepnote_cell": true,
    "deepnote_cell_type": "markdown"
   }
  }
 ],
 "nbformat": 4,
 "nbformat_minor": 2,
 "metadata": {
  "language_info": {
   "codemirror_mode": {
    "name": "ipython",
    "version": 3
   },
   "file_extension": ".py",
   "mimetype": "text/x-python",
   "name": "python",
   "nbconvert_exporter": "python",
   "pygments_lexer": "ipython3",
   "version": "3.8.8"
  },
  "orig_nbformat": 4,
  "kernelspec": {
   "name": "python3",
   "display_name": "Python 3.8.8 64-bit ('base': conda)"
  },
  "interpreter": {
   "hash": "143651e9f3dc95e1558cdc2d0b27b52202d2b9aa9523165c82e28886d3f6d1a2"
  },
  "deepnote_notebook_id": "adf05f0e-4fe4-4850-a7d5-321f5faaf690",
  "deepnote": {},
  "deepnote_execution_queue": []
 }
}