{
 "cells": [
  {
   "cell_type": "markdown",
   "source": "## Summer Break\n\nHello all! Summer break is for resting and go to the sea, but once you start the coding life, pandas are more appealing than crabs or dolphin.\n\nSo here there's a list of resources you can use this summer to consolidate your Python, Pandas and Numpy, besides doing the old exercises:\n\nhttps://www.machinelearningplus.com/python/101-numpy-exercises-python/\n\nhttps://www.hackerearth.com/practice/machine-learning/data-manipulation-visualisation-r-python/tutorial-data-manipulation-numpy-pandas-python/tutorial/\n\nhttps://www.w3resource.com/python-exercises/pandas/index.php\n\nTo practice a bit of loops and list comprehension:\n\nhttps://www.kaggle.com/plsms21/loops-and-list-comprehensions\n\nDo you want to go extramile?\n\n- Playing with Streamit is always a good idea, and this youtube series is great https://www.youtube.com/watch?v=JwSS70SZdyM\n\nFrom the video description:\n\n⌨️ (0:00) Introduction\n\n⌨️ (2:54) 1. Simple Stock Price\n\n⌨️ (13:24) 2. Simple Bioinformatics DNA Count\n\n⌨️ (29:44) 3. EDA Basketball\n\n⌨️ (50:39) 4. EDA Football\n\n⌨️ (1:00:48) 5. EDA SP500 Stock Price\n\n⌨️ (1:24:03) 6. EDA Cryptocurrency\n\n⌨️ (1:50:47) 7. Classification Iris\n\n⌨️ (1:58:58) 8. Classification Penguins\n\n⌨️ (2:16:08) 9. Regression Boston Housing\n\n⌨️ (2:27:53) 10. Regression Bioinformatics Solubility\n\n⌨️ (2:54:27) 11. Deploy to Heroku\n\n⌨️ (3:04:37) 12. Deploy to Streamlit Sharing\n\n\n",
   "metadata": {
    "tags": [],
    "cell_id": "00000-450e428a-ddcd-4833-b790-a50fe575ca01",
    "deepnote_cell_type": "markdown"
   }
  },
  {
   "cell_type": "markdown",
   "source": "## Machine Learning\n\nThe to-be-known topics of Machine Learning:\n\n- Difference between traditional programming and Machine Learning\n- Difference between features and target, that is X and y\n- Difference between supervised and unsupervised learning\n- PCA is unsupervised, LDA is supervised\n- What do you use PCA or LDA for\n- The steps you need to do before doing PCA \n- What is dimensionality reduction\n- Why do you train test split\n- What is StandardScaling and MinMaxScaling\n- The order in which splitting, scaling is executed\n- If you want to build a custom estimator in sklearn, you should ovveride fit and predict methods\n- SVM ideas and when to use kernels\n- Clustering algorithms, especially K-Means\n- Logistic Regression\n- In Logistic Regression, you need to understand the fact of having as output a score that represents the probability of being a certain class\n- Tree models, advantage of Random Forest wrt Decision Tree\n- What is the impurity of a node in a Decision Tree\n- Confusion Matrix for evaluating a ML model\n- Metrics to evaluate a model",
   "metadata": {
    "tags": [],
    "cell_id": "00000-44f061af-284a-4975-865d-852b2542da3a",
    "deepnote_cell_type": "markdown"
   }
  },
  {
   "cell_type": "markdown",
   "source": "",
   "metadata": {
    "tags": [],
    "cell_id": "00001-2c6c2536-ce8a-4ca5-8fe8-cd8cdfc7e19b",
    "deepnote_cell_type": "markdown"
   }
  },
  {
   "cell_type": "markdown",
   "source": "## Feature Engineering\n \n The to-be-known topics of Feature Engineering:\n \n- Get a good understanding of tree models\n- Preprocessing of categorical variables\n- Preprocessing of numerical variables\n- Using pipeline to serialize preprocessing\n- Using the column transformer to separate columns into different preprocesses\n- Understanding the creation of model dictionaries\n- Serialize the dictionaries with the column transformers.\n- Understanding how to generate a tabular dataset from images\n- Being able to use ML to to image classification\n- Understanding image dimensionality regarding color type\n- Being able to manually modify images shapes\n- The process of creating new data for tabular datasets\n- The process of creating new features\n- Understanding how TF-IDF works\n- Understanding what a n-grams are\n- Being able to do sentiment classification\n- How to process data for time series classification\n- How to process data for time series regression\n- The problems of invalanced data",
   "metadata": {
    "tags": [],
    "cell_id": "00003-11657b26-90cc-4214-a0a9-3fd819ab5d3d",
    "deepnote_cell_type": "markdown"
   }
  },
  {
   "cell_type": "markdown",
   "source": "## Deep Learning Preparation\n\nDeep Learning intro: https://www.youtube.com/watch?v=VyWAvY2CF9c\n\nFollow the 3B1B series: https://www.youtube.com/watch?v=aircAruvnKk\n\nPytorch course: https://www.youtube.com/watch?v=c36lUUr864M",
   "metadata": {
    "tags": [],
    "cell_id": "00004-75d02eaf-da88-4d98-90dd-ff9cdd446f94",
    "deepnote_cell_type": "markdown"
   }
  },
  {
   "cell_type": "markdown",
   "source": "<a style='text-decoration:none;line-height:16px;display:flex;color:#5B5B62;padding:10px;justify-content:end;' href='https://deepnote.com?utm_source=created-in-deepnote-cell&projectId=647ff144-09ad-4548-84b1-1766b6ece362' target=\"_blank\">\n<img alt='Created in deepnote.com' style='display:inline;max-height:16px;margin:0px;margin-right:7.5px;' src='data:image/svg+xml;base64,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' > </img>\nCreated in <span style='font-weight:600;margin-left:4px;'>Deepnote</span></a>",
   "metadata": {
    "tags": [],
    "created_in_deepnote_cell": true,
    "deepnote_cell_type": "markdown"
   }
  }
 ],
 "nbformat": 4,
 "nbformat_minor": 2,
 "metadata": {
  "orig_nbformat": 2,
  "deepnote": {
   "is_reactive": false
  },
  "deepnote_notebook_id": "25c371eb-ce05-4cec-9178-c4a48f9961d1",
  "deepnote_execution_queue": []
 }
}