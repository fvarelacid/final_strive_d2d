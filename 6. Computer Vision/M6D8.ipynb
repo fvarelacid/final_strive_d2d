{
 "cells": [
  {
   "cell_type": "code",
   "execution_count": 3,
   "source": [
    "import cv2\n",
    "import matplotlib.pyplot as plt\n",
    "import numpy as np\n",
    "# from ghelpers import imshow\n",
    "%matplotlib inline"
   ],
   "outputs": [],
   "metadata": {}
  },
  {
   "cell_type": "code",
   "execution_count": 7,
   "source": [
    "background_subtractor = cv2.createBackgroundSubtractorMOG2(history=50, varThreshold=400, detectShadows=True)\n",
    "\n",
    "capture = cv2.VideoCapture(0)\n",
    "\n",
    "while True:\n",
    "    ret, frame = capture.read()\n",
    "\n",
    "    if not ret:\n",
    "        break\n",
    "\n",
    "    foreground_mask = background_subtractor.apply(frame)\n",
    "\n",
    "    cv2.imshow('Frame', frame)\n",
    "    cv2.imshow('Mask', foreground_mask)\n",
    "\n",
    "    k = cv2.waitKey(30)\n",
    "    if k == ord('q'):\n",
    "        break\n",
    "\n",
    "capture.release()\n",
    "cv2.destroyAllWindows()\n",
    "cv2.waitKey(1)\n",
    "\n"
   ],
   "outputs": [
    {
     "output_type": "execute_result",
     "data": {
      "text/plain": [
       "-1"
      ]
     },
     "metadata": {},
     "execution_count": 7
    }
   ],
   "metadata": {}
  },
  {
   "cell_type": "code",
   "execution_count": 10,
   "source": [
    "!ls darknet"
   ],
   "outputs": [
    {
     "output_type": "stream",
     "name": "stdout",
     "text": [
      "ls: darknet: No such file or directory\n"
     ]
    }
   ],
   "metadata": {}
  },
  {
   "cell_type": "code",
   "execution_count": null,
   "source": [],
   "outputs": [],
   "metadata": {}
  }
 ],
 "metadata": {
  "orig_nbformat": 4,
  "language_info": {
   "name": "python",
   "version": "3.8.11",
   "mimetype": "text/x-python",
   "codemirror_mode": {
    "name": "ipython",
    "version": 3
   },
   "pygments_lexer": "ipython3",
   "nbconvert_exporter": "python",
   "file_extension": ".py"
  },
  "kernelspec": {
   "name": "python3",
   "display_name": "Python 3.8.11 64-bit ('cvmod': conda)"
  },
  "interpreter": {
   "hash": "aa8480fe4e209d36de32d9d5533d404c18e40b733eceee0b828804fa213e85dc"
  }
 },
 "nbformat": 4,
 "nbformat_minor": 2
}