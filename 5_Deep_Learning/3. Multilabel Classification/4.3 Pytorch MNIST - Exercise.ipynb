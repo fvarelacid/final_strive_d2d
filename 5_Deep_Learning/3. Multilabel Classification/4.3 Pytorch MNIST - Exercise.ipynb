{
 "cells": [
  {
   "cell_type": "markdown",
   "source": [
    "<div style=\"background:#222222; color:#ffffff; padding:20px\">\n",
    "    <h2 align=\"center\">Deep Learning Fundamentals</h2>\n",
    "    <h2 align=\"center\" style=\"color:#01ff84\">Multiclass Classification: MNIST</h2>\n",
    "<div>"
   ],
   "metadata": {}
  },
  {
   "cell_type": "markdown",
   "source": [
    "## Imports"
   ],
   "metadata": {}
  },
  {
   "cell_type": "code",
   "execution_count": 2,
   "source": [
    "%matplotlib inline\n",
    "%config InlineBackend.figure_format = 'retina'\n",
    "\n",
    "from collections import OrderedDict\n",
    "\n",
    "import numpy as np\n",
    "import matplotlib.pyplot as plt\n",
    "import time\n",
    "\n",
    "import torch\n",
    "from torch import nn\n",
    "from torch import optim\n",
    "import torch.nn.functional as F\n",
    "\n",
    "from torchvision import datasets, transforms"
   ],
   "outputs": [],
   "metadata": {
    "ExecuteTime": {
     "end_time": "2021-05-26T22:26:36.081105Z",
     "start_time": "2021-05-26T22:26:35.040138Z"
    }
   }
  },
  {
   "cell_type": "markdown",
   "source": [
    "## Auxliary plotting function"
   ],
   "metadata": {}
  },
  {
   "cell_type": "code",
   "execution_count": 3,
   "source": [
    "# https://discuss.pytorch.org/t/view-classify-in-module-helper/30279/6\n",
    "\n",
    "def view_classify(img, ps):\n",
    "\n",
    "    ps = ps.data.numpy().squeeze()\n",
    "\n",
    "    fig, (ax1, ax2) = plt.subplots(figsize=(6,9), ncols=2)\n",
    "    ax1.imshow(img.resize_(1, 28, 28).numpy().squeeze())\n",
    "    ax1.axis('off')\n",
    "    ax2.barh(np.arange(10), ps)\n",
    "    ax2.set_aspect(0.1)\n",
    "    ax2.set_yticks(np.arange(10))\n",
    "    ax2.set_yticklabels(np.arange(10))\n",
    "    ax2.set_title('Class Probability')\n",
    "    ax2.set_xlim(0, 1.1)"
   ],
   "outputs": [],
   "metadata": {
    "ExecuteTime": {
     "end_time": "2021-05-26T22:26:37.473177Z",
     "start_time": "2021-05-26T22:26:37.465910Z"
    }
   }
  },
  {
   "cell_type": "markdown",
   "source": [
    "# Load MNIST Dataset\n",
    "First up, we need to get our dataset. This is provided through the `torchvision` package. The code below will download the MNIST dataset, then create training and test datasets for us. Don't worry too much about the details here, you'll learn more about this later."
   ],
   "metadata": {}
  },
  {
   "cell_type": "code",
   "execution_count": 4,
   "source": [
    "# Define a transform to normalize the data (Preprocessing)\n",
    "transform = transforms.Compose([transforms.ToTensor(), transforms.Normalize((0.5), (0.5)) ])\n",
    "\n",
    "# Download and load the training data\n",
    "trainset    = datasets.MNIST('MNIST_data/', download=True, train=True, transform=transform)\n",
    "trainloader = torch.utils.data.DataLoader(trainset, batch_size=16, shuffle=True)\n",
    "\n",
    "# Download and load the test data\n",
    "testset    = datasets.MNIST('MNIST_data/', download=True, train=False, transform=transform)\n",
    "testloader = torch.utils.data.DataLoader(testset, batch_size=16, shuffle=True)"
   ],
   "outputs": [
    {
     "output_type": "stream",
     "name": "stdout",
     "text": [
      "Downloading http://yann.lecun.com/exdb/mnist/train-images-idx3-ubyte.gz\n",
      "Downloading http://yann.lecun.com/exdb/mnist/train-images-idx3-ubyte.gz to MNIST_data/MNIST/raw/train-images-idx3-ubyte.gz\n"
     ]
    },
    {
     "output_type": "stream",
     "name": "stderr",
     "text": [
      "100.0%\n"
     ]
    },
    {
     "output_type": "stream",
     "name": "stdout",
     "text": [
      "Extracting MNIST_data/MNIST/raw/train-images-idx3-ubyte.gz to MNIST_data/MNIST/raw\n",
      "\n",
      "Downloading http://yann.lecun.com/exdb/mnist/train-labels-idx1-ubyte.gz\n"
     ]
    },
    {
     "output_type": "stream",
     "name": "stderr",
     "text": [
      "10.6%"
     ]
    },
    {
     "output_type": "stream",
     "name": "stdout",
     "text": [
      "Downloading http://yann.lecun.com/exdb/mnist/train-labels-idx1-ubyte.gz to MNIST_data/MNIST/raw/train-labels-idx1-ubyte.gz\n"
     ]
    },
    {
     "output_type": "stream",
     "name": "stderr",
     "text": [
      "102.8%\n"
     ]
    },
    {
     "output_type": "stream",
     "name": "stdout",
     "text": [
      "Extracting MNIST_data/MNIST/raw/train-labels-idx1-ubyte.gz to MNIST_data/MNIST/raw\n",
      "\n",
      "Downloading http://yann.lecun.com/exdb/mnist/t10k-images-idx3-ubyte.gz\n",
      "Downloading http://yann.lecun.com/exdb/mnist/t10k-images-idx3-ubyte.gz to MNIST_data/MNIST/raw/t10k-images-idx3-ubyte.gz\n",
      "Failed to download (trying next):\n",
      "HTTP Error 503: Service Unavailable\n",
      "\n",
      "Downloading https://ossci-datasets.s3.amazonaws.com/mnist/t10k-images-idx3-ubyte.gz\n",
      "Downloading https://ossci-datasets.s3.amazonaws.com/mnist/t10k-images-idx3-ubyte.gz to MNIST_data/MNIST/raw/t10k-images-idx3-ubyte.gz\n"
     ]
    },
    {
     "output_type": "stream",
     "name": "stderr",
     "text": [
      "100.0%\n"
     ]
    },
    {
     "output_type": "stream",
     "name": "stdout",
     "text": [
      "Extracting MNIST_data/MNIST/raw/t10k-images-idx3-ubyte.gz to MNIST_data/MNIST/raw\n",
      "\n",
      "Downloading http://yann.lecun.com/exdb/mnist/t10k-labels-idx1-ubyte.gz\n",
      "Downloading http://yann.lecun.com/exdb/mnist/t10k-labels-idx1-ubyte.gz to MNIST_data/MNIST/raw/t10k-labels-idx1-ubyte.gz\n"
     ]
    },
    {
     "output_type": "stream",
     "name": "stderr",
     "text": [
      "112.7%"
     ]
    },
    {
     "output_type": "stream",
     "name": "stdout",
     "text": [
      "Extracting MNIST_data/MNIST/raw/t10k-labels-idx1-ubyte.gz to MNIST_data/MNIST/raw\n",
      "\n"
     ]
    },
    {
     "output_type": "stream",
     "name": "stderr",
     "text": [
      "\n",
      "/Users/franciscovarelacid/opt/anaconda3/envs/dlmod/lib/python3.8/site-packages/torchvision/datasets/mnist.py:498: UserWarning: The given NumPy array is not writeable, and PyTorch does not support non-writeable tensors. This means you can write to the underlying (supposedly non-writeable) NumPy array using the tensor. You may want to copy the array to protect its data or make it writeable before converting it to a tensor. This type of warning will be suppressed for the rest of this program. (Triggered internally at  /Users/distiller/project/conda/conda-bld/pytorch_1623459044803/work/torch/csrc/utils/tensor_numpy.cpp:180.)\n",
      "  return torch.from_numpy(parsed.astype(m[2], copy=False)).view(*s)\n"
     ]
    }
   ],
   "metadata": {
    "ExecuteTime": {
     "end_time": "2021-05-26T22:26:38.402766Z",
     "start_time": "2021-05-26T22:26:38.298968Z"
    }
   }
  },
  {
   "cell_type": "code",
   "execution_count": 11,
   "source": [
    "trainloader"
   ],
   "outputs": [
    {
     "output_type": "execute_result",
     "data": {
      "text/plain": [
       "<torch.utils.data.dataloader.DataLoader at 0x7f9723e80d60>"
      ]
     },
     "metadata": {},
     "execution_count": 11
    }
   ],
   "metadata": {}
  },
  {
   "cell_type": "code",
   "execution_count": 10,
   "source": [
    "dataiter = iter(trainloader)\n",
    "images, labels = dataiter.next()\n",
    "images.shape"
   ],
   "outputs": [
    {
     "output_type": "execute_result",
     "data": {
      "text/plain": [
       "torch.Size([16, 1, 28, 28])"
      ]
     },
     "metadata": {},
     "execution_count": 10
    }
   ],
   "metadata": {}
  },
  {
   "cell_type": "code",
   "execution_count": 16,
   "source": [
    "image1 = images[0]\n",
    "\n",
    "plt.imshow(image1.squeeze())"
   ],
   "outputs": [
    {
     "output_type": "execute_result",
     "data": {
      "text/plain": [
       "<matplotlib.image.AxesImage at 0x7f972ae3dbb0>"
      ]
     },
     "metadata": {},
     "execution_count": 16
    },
    {
     "output_type": "display_data",
     "data": {
      "text/plain": [
       "<Figure size 432x288 with 1 Axes>"
      ],
      "image/png": "[encoded data removed]"
     },
     "metadata": {
      "image/png": {
       "width": 251,
       "height": 248
      },
      "needs_background": "light"
     }
    }
   ],
   "metadata": {}
  },
  {
   "cell_type": "code",
   "execution_count": 17,
   "source": [
    "dataiter = iter(trainloader)\n",
    "images, labels = dataiter.next()"
   ],
   "outputs": [],
   "metadata": {
    "ExecuteTime": {
     "end_time": "2021-05-26T22:26:38.632988Z",
     "start_time": "2021-05-26T22:26:38.477558Z"
    }
   }
  },
  {
   "cell_type": "markdown",
   "source": [
    "We have the training data loaded into `trainloader` and we make that an iterator with `iter(trainloader)`. We'd use this to loop through the dataset for training, but here I'm just grabbing the first batch so we can check out the data. We can see below that `images` is just a tensor with size (64, 1, 28, 28). So, 64 images per batch, 1 color channel, and 28x28 images."
   ],
   "metadata": {}
  },
  {
   "cell_type": "code",
   "execution_count": 18,
   "source": [
    "plt.imshow(images[1].numpy().squeeze(), cmap='Greys_r');"
   ],
   "outputs": [
    {
     "output_type": "display_data",
     "data": {
      "text/plain": [
       "<Figure size 432x288 with 1 Axes>"
      ],
      "image/png": "[encoded data removed]"
     },
     "metadata": {
      "image/png": {
       "width": 251,
       "height": 248
      },
      "needs_background": "light"
     }
    }
   ],
   "metadata": {
    "ExecuteTime": {
     "end_time": "2021-05-26T22:26:39.407000Z",
     "start_time": "2021-05-26T22:26:39.265256Z"
    }
   }
  },
  {
   "cell_type": "markdown",
   "source": [
    "## Building networks with PyTorch\n",
    "\n",
    "Here I'll use PyTorch to build a simple feedfoward network to classify the MNIST images. That is, the network will receive a digit image as input and predict the digit in the image.\n",
    "\n",
    "<img src=\"assets/mlp_mnist.png\" width=600px>\n",
    "\n",
    "To build a neural network with PyTorch, you use the `torch.nn` module. The network itself is a class inheriting from `torch.nn.Module`. You define each of the operations separately, like `nn.Linear(784, 128)` for a fully connected linear layer with 784 inputs and 128 units.\n",
    "\n",
    "The class needs to include a `forward` method that implements the forward pass through the network. In this method, you pass some input tensor `x` through each of the operations you defined earlier. The `torch.nn` module also has functional equivalents for things like ReLUs in `torch.nn.functional`. This module is usually imported as `F`. Then to use a ReLU activation on some layer (which is just a tensor), you'd do `F.relu(x)`. Below are a few different commonly used activation functions.\n",
    "\n",
    "<img src=\"assets/activation.png\" width=700px>\n",
    "\n",
    "So, for this network, I'll build it with three fully connected layers, then a softmax output for predicting classes. The softmax function is similar to the sigmoid in that it squashes inputs between 0 and 1, but it's also normalized so that all the values sum to one like a proper probability distribution."
   ],
   "metadata": {}
  },
  {
   "cell_type": "code",
   "execution_count": 19,
   "source": [
    "class Network(nn.Module):\n",
    "    \n",
    "    # Defining the layers, 128, 64, 10 units each\n",
    "    def __init__(self):\n",
    "        super().__init__()\n",
    "        self.fc1 = nn.Linear(784, 32)\n",
    "        self.fc2 = nn.Linear(32, 16)\n",
    "        self.fc3 = nn.Linear(16, 10)\n",
    "        \n",
    "    # Forward pass through the network, returns the output logits\n",
    "    def forward(self, x):\n",
    "        x = self.fc1(x)\n",
    "        x = F.relu(x)\n",
    "        x = self.fc2(x)\n",
    "        x = F.relu(x)\n",
    "        x = self.fc3(x)\n",
    "        x = F.softmax(x, dim=1)\n",
    "        return x\n",
    "\n",
    "model = Network()\n",
    "model"
   ],
   "outputs": [
    {
     "output_type": "execute_result",
     "data": {
      "text/plain": [
       "Network(\n",
       "  (fc1): Linear(in_features=784, out_features=32, bias=True)\n",
       "  (fc2): Linear(in_features=32, out_features=16, bias=True)\n",
       "  (fc3): Linear(in_features=16, out_features=10, bias=True)\n",
       ")"
      ]
     },
     "metadata": {},
     "execution_count": 19
    }
   ],
   "metadata": {
    "ExecuteTime": {
     "end_time": "2021-05-26T22:26:39.961531Z",
     "start_time": "2021-05-26T22:26:39.946776Z"
    }
   }
  },
  {
   "cell_type": "markdown",
   "source": [
    "Why the input features are 784? Because the input images have size 28 pixels x 28 pixels for a total of 784 features. Since a Multilayer perceptron accepts only flatten inputs, we need to flatten a 28x28 grid into a 784 array."
   ],
   "metadata": {}
  },
  {
   "cell_type": "markdown",
   "source": [
    "### Sequential API\n",
    "PyTorch provides a convenient way to build networks like this where a tensor is passed sequentially through operations, `nn.Sequential` ([documentation](https://pytorch.org/docs/master/nn.html#torch.nn.Sequential)). Using this to build the equivalent network:"
   ],
   "metadata": {}
  },
  {
   "cell_type": "code",
   "execution_count": 20,
   "source": [
    "# Hyperparameters for our network\n",
    "input_size   = 784\n",
    "hidden_sizes = [4, 4]\n",
    "output_size   = 10\n",
    "\n",
    "# Build a feed-forward network\n",
    "model = nn.Sequential(nn.Linear(input_size, hidden_sizes[0]),\n",
    "                      nn.ReLU(),\n",
    "                      nn.Linear(hidden_sizes[0], hidden_sizes[1]),\n",
    "                      nn.ReLU(),\n",
    "                      nn.Linear(hidden_sizes[1], output_size),\n",
    "                      nn.Softmax(dim=1))\n",
    "print(model)"
   ],
   "outputs": [
    {
     "output_type": "stream",
     "name": "stdout",
     "text": [
      "Sequential(\n",
      "  (0): Linear(in_features=784, out_features=4, bias=True)\n",
      "  (1): ReLU()\n",
      "  (2): Linear(in_features=4, out_features=4, bias=True)\n",
      "  (3): ReLU()\n",
      "  (4): Linear(in_features=4, out_features=10, bias=True)\n",
      "  (5): Softmax(dim=1)\n",
      ")\n"
     ]
    }
   ],
   "metadata": {
    "ExecuteTime": {
     "end_time": "2021-05-26T22:26:41.213448Z",
     "start_time": "2021-05-26T22:26:41.205216Z"
    }
   }
  },
  {
   "cell_type": "markdown",
   "source": [
    "You can also pass in an `OrderedDict` to name the individual layers and operations. Note that a dictionary keys must be unique, so _each operation must have a different name_."
   ],
   "metadata": {}
  },
  {
   "cell_type": "code",
   "execution_count": 21,
   "source": [
    "model = nn.Sequential(OrderedDict([\n",
    "          ('fc1',   nn.Linear(input_size, hidden_sizes[0])),\n",
    "          ('relu1', nn.ReLU()),\n",
    "          ('fc2',   nn.Linear(hidden_sizes[0], hidden_sizes[1])),\n",
    "          ('relu2', nn.ReLU()),\n",
    "          ('output', nn.Linear(hidden_sizes[1], output_size)),\n",
    "          ('softmax', nn.Softmax(dim=1))]))\n",
    "model"
   ],
   "outputs": [
    {
     "output_type": "execute_result",
     "data": {
      "text/plain": [
       "Sequential(\n",
       "  (fc1): Linear(in_features=784, out_features=4, bias=True)\n",
       "  (relu1): ReLU()\n",
       "  (fc2): Linear(in_features=4, out_features=4, bias=True)\n",
       "  (relu2): ReLU()\n",
       "  (output): Linear(in_features=4, out_features=10, bias=True)\n",
       "  (softmax): Softmax(dim=1)\n",
       ")"
      ]
     },
     "metadata": {},
     "execution_count": 21
    }
   ],
   "metadata": {
    "ExecuteTime": {
     "end_time": "2021-05-26T22:26:42.300216Z",
     "start_time": "2021-05-26T22:26:42.289009Z"
    }
   }
  },
  {
   "cell_type": "markdown",
   "source": [
    "### Initializing weights and biases\n",
    "\n",
    "The weights and such are automatically initialized for you, but it's possible to customize how they are initialized. The weights and biases are tensors attached to the layer you defined, you can get them with `model.fc1.weight` for instance."
   ],
   "metadata": {}
  },
  {
   "cell_type": "code",
   "execution_count": 22,
   "source": [
    "print(model.fc1.weight)\n",
    "print(model.fc1.bias)"
   ],
   "outputs": [
    {
     "output_type": "stream",
     "name": "stdout",
     "text": [
      "Parameter containing:\n",
      "tensor([[-0.0302, -0.0042,  0.0293,  ...,  0.0120,  0.0166,  0.0272],\n",
      "        [ 0.0306, -0.0124,  0.0294,  ...,  0.0141,  0.0024,  0.0160],\n",
      "        [ 0.0189, -0.0032, -0.0155,  ...,  0.0025,  0.0321, -0.0108],\n",
      "        [-0.0127,  0.0275,  0.0080,  ...,  0.0335, -0.0130, -0.0335]],\n",
      "       requires_grad=True)\n",
      "Parameter containing:\n",
      "tensor([ 0.0287,  0.0062, -0.0234,  0.0251], requires_grad=True)\n"
     ]
    }
   ],
   "metadata": {
    "ExecuteTime": {
     "end_time": "2021-05-26T22:26:42.972699Z",
     "start_time": "2021-05-26T22:26:42.963913Z"
    }
   }
  },
  {
   "cell_type": "markdown",
   "source": [
    "For custom initialization, we want to modify these tensors in place. These are actually autograd *Variables*, so we need to get back the actual tensors with `model.fc1.weight.data`. Once we have the tensors, we can fill them with zeros (for biases) or random normal values."
   ],
   "metadata": {}
  },
  {
   "cell_type": "code",
   "execution_count": 23,
   "source": [
    "# Set biases to all zeros\n",
    "model.fc1.bias.data.fill_(0)"
   ],
   "outputs": [
    {
     "output_type": "execute_result",
     "data": {
      "text/plain": [
       "tensor([0., 0., 0., 0.])"
      ]
     },
     "metadata": {},
     "execution_count": 23
    }
   ],
   "metadata": {
    "ExecuteTime": {
     "end_time": "2021-05-26T22:26:43.889729Z",
     "start_time": "2021-05-26T22:26:43.883940Z"
    }
   }
  },
  {
   "cell_type": "code",
   "execution_count": 11,
   "source": [
    "# sample from random normal with standard dev = 0.01\n",
    "model.fc1.weight.data.normal_(std=0.01)"
   ],
   "outputs": [
    {
     "output_type": "execute_result",
     "data": {
      "text/plain": [
       "tensor([[-1.2325e-03, -3.3386e-03, -6.2179e-03,  ..., -6.4598e-03,\n",
       "          4.1995e-03, -5.5070e-03],\n",
       "        [ 6.2392e-03,  6.1301e-03,  1.4362e-02,  ...,  1.7384e-02,\n",
       "          4.1313e-03, -4.7996e-03],\n",
       "        [-7.6203e-04,  1.5786e-02,  3.0122e-02,  ...,  8.6913e-05,\n",
       "         -9.1554e-03,  9.4238e-03],\n",
       "        [-7.0104e-03, -4.4596e-03, -1.5241e-04,  ...,  5.6096e-03,\n",
       "          4.7333e-03,  1.4597e-03]])"
      ]
     },
     "metadata": {},
     "execution_count": 11
    }
   ],
   "metadata": {
    "ExecuteTime": {
     "end_time": "2021-05-26T22:26:44.084097Z",
     "start_time": "2021-05-26T22:26:44.076738Z"
    }
   }
  },
  {
   "cell_type": "markdown",
   "source": [
    "### STEP 1: Forward pass\n",
    "\n",
    "Now that we have a network, let's see what happens when we pass in an image. This is called the forward pass. We're going to convert the image data into a tensor, then pass it through the operations defined by the network architecture."
   ],
   "metadata": {}
  },
  {
   "cell_type": "code",
   "execution_count": 24,
   "source": [
    "# Grab some data \n",
    "dataiter = iter(trainloader)\n",
    "images, labels = dataiter.next()"
   ],
   "outputs": [],
   "metadata": {
    "ExecuteTime": {
     "end_time": "2021-05-26T22:26:44.506324Z",
     "start_time": "2021-05-26T22:26:44.491847Z"
    }
   }
  },
  {
   "cell_type": "code",
   "execution_count": 25,
   "source": [
    "images.shape"
   ],
   "outputs": [
    {
     "output_type": "execute_result",
     "data": {
      "text/plain": [
       "torch.Size([16, 1, 28, 28])"
      ]
     },
     "metadata": {},
     "execution_count": 25
    }
   ],
   "metadata": {
    "ExecuteTime": {
     "end_time": "2021-05-26T22:26:44.596541Z",
     "start_time": "2021-05-26T22:26:44.594169Z"
    }
   }
  },
  {
   "cell_type": "code",
   "execution_count": 26,
   "source": [
    "model"
   ],
   "outputs": [
    {
     "output_type": "execute_result",
     "data": {
      "text/plain": [
       "Sequential(\n",
       "  (fc1): Linear(in_features=784, out_features=4, bias=True)\n",
       "  (relu1): ReLU()\n",
       "  (fc2): Linear(in_features=4, out_features=4, bias=True)\n",
       "  (relu2): ReLU()\n",
       "  (output): Linear(in_features=4, out_features=10, bias=True)\n",
       "  (softmax): Softmax(dim=1)\n",
       ")"
      ]
     },
     "metadata": {},
     "execution_count": 26
    }
   ],
   "metadata": {
    "ExecuteTime": {
     "end_time": "2021-05-26T22:26:44.851894Z",
     "start_time": "2021-05-26T22:26:44.845888Z"
    }
   }
  },
  {
   "cell_type": "code",
   "execution_count": 27,
   "source": [
    "# Resize images into a 1D vector, new shape is (batch size, color channels, image pixels) \n",
    "images.resize_(images.shape[0], 1, 784)\n",
    "# or images.resize_(images.shape[0], 1, 784) to not automatically get batch size"
   ],
   "outputs": [
    {
     "output_type": "execute_result",
     "data": {
      "text/plain": [
       "tensor([[[-1., -1., -1.,  ..., -1., -1., -1.]],\n",
       "\n",
       "        [[-1., -1., -1.,  ..., -1., -1., -1.]],\n",
       "\n",
       "        [[-1., -1., -1.,  ..., -1., -1., -1.]],\n",
       "\n",
       "        ...,\n",
       "\n",
       "        [[-1., -1., -1.,  ..., -1., -1., -1.]],\n",
       "\n",
       "        [[-1., -1., -1.,  ..., -1., -1., -1.]],\n",
       "\n",
       "        [[-1., -1., -1.,  ..., -1., -1., -1.]]])"
      ]
     },
     "metadata": {},
     "execution_count": 27
    }
   ],
   "metadata": {
    "ExecuteTime": {
     "end_time": "2021-05-26T22:26:46.121246Z",
     "start_time": "2021-05-26T22:26:46.112022Z"
    }
   }
  },
  {
   "cell_type": "code",
   "execution_count": 29,
   "source": [
    "images.size()"
   ],
   "outputs": [
    {
     "output_type": "execute_result",
     "data": {
      "text/plain": [
       "torch.Size([16, 1, 784])"
      ]
     },
     "metadata": {},
     "execution_count": 29
    }
   ],
   "metadata": {}
  },
  {
   "cell_type": "code",
   "execution_count": 30,
   "source": [
    "img_idx = 0\n",
    "images[img_idx,:].shape"
   ],
   "outputs": [
    {
     "output_type": "execute_result",
     "data": {
      "text/plain": [
       "torch.Size([1, 784])"
      ]
     },
     "metadata": {},
     "execution_count": 30
    }
   ],
   "metadata": {
    "ExecuteTime": {
     "end_time": "2021-05-26T22:26:46.519895Z",
     "start_time": "2021-05-26T22:26:46.514137Z"
    }
   }
  },
  {
   "cell_type": "code",
   "execution_count": 31,
   "source": [
    "# Forward pass through the network\n",
    "img_idx = 0\n",
    "ps = model(images[img_idx,:])"
   ],
   "outputs": [],
   "metadata": {
    "ExecuteTime": {
     "end_time": "2021-05-26T22:26:47.945952Z",
     "start_time": "2021-05-26T22:26:47.888846Z"
    }
   }
  },
  {
   "cell_type": "code",
   "execution_count": 32,
   "source": [
    "img = images[img_idx]\n",
    "view_classify(img.view(1, 28, 28), ps)"
   ],
   "outputs": [
    {
     "output_type": "display_data",
     "data": {
      "text/plain": [
       "<Figure size 432x648 with 2 Axes>"
      ],
      "image/png": "[encoded data removed]"
     },
     "metadata": {
      "image/png": {
       "width": 349,
       "height": 195
      },
      "needs_background": "light"
     }
    }
   ],
   "metadata": {
    "ExecuteTime": {
     "end_time": "2021-05-26T22:26:50.561845Z",
     "start_time": "2021-05-26T22:26:50.411449Z"
    }
   }
  },
  {
   "cell_type": "markdown",
   "source": [
    "As you can see above, our network has basically no idea what this digit is. It's because we haven't trained it yet, all the weights are random!"
   ],
   "metadata": {}
  },
  {
   "cell_type": "markdown",
   "source": [
    "# Training Neural Networks\n",
    "\n",
    "The network we built isn't so smart, it doesn't know anything about our handwritten digits. Neural networks with non-linear activations work like universal function approximators. There is some function that maps your input to the output. For example, images of handwritten digits to class probabilities. The power of neural networks is that we can train them to approximate this function, and basically any function given enough data and compute time.\n",
    "\n",
    "<img src=\"assets/function_approx.png\" width=500px>\n",
    "\n",
    "At first the network is naive, it doesn't know the function mapping the inputs to the outputs. We train the network by showing it examples of real data, then adjusting the network parameters such that it approximates this function.\n",
    "\n",
    "To find these parameters, we need to know how poorly the network is predicting the real outputs. For this we calculate a **loss function** (also called the cost), a measure of our prediction error. For example, the mean squared loss is often used in regression and binary classification problems\n",
    "\n",
    "$$\n",
    "\\ell = \\frac{1}{2n}\\sum_i^n{\\left(y_i - \\hat{y}_i\\right)^2}\n",
    "$$\n",
    "\n",
    "where $n$ is the number of training examples, $y_i$ are the true labels, and $\\hat{y}_i$ are the predicted labels.\n",
    "\n",
    "By minimizing this loss with respect to the network parameters, we can find configurations where the loss is at a minimum and the network is able to predict the correct labels with high accuracy. We find this minimum using a process called **gradient descent**. The gradient is the slope of the loss function and points in the direction of fastest change. To get to the minimum in the least amount of time, we then want to follow the gradient (downwards). You can think of this like descending a mountain by following the steepest slope to the base.\n",
    "\n",
    "<img src='assets/gradient_descent.png' width=350px>"
   ],
   "metadata": {}
  },
  {
   "cell_type": "markdown",
   "source": [
    "## Backpropagation\n",
    "\n",
    "For single layer networks, gradient descent is simple to implement. However, it's more complicated for deeper, multilayer neural networks like the one we've built. Complicated enough that it took about 30 years before researchers figured out how to train multilayer networks, although it's straightforward once you learn about it. \n",
    "\n",
    "This is done through **backpropagation** which is really just an application of the chain rule from calculus. It's easiest to understand if we convert a two layer network into a graph representation.\n",
    "\n",
    "<img src='assets/w1_backprop_graph.png' width=400px>\n",
    "\n",
    "In the forward pass through the network, our data and operations go from right to left here. To train the weights with gradient descent, we propagate the gradient of the cost backwards through the network. Mathematically, this is really just calculating the gradient of the loss with respect to the weights using the chain rule.\n",
    "\n",
    "$$\n",
    "\\frac{\\partial \\ell}{\\partial w_1} = \\frac{\\partial l_1}{\\partial w_1} \\frac{\\partial s}{\\partial l_1} \\frac{\\partial l_2}{\\partial s} \\frac{\\partial \\ell}{\\partial l_2}\n",
    "$$\n",
    "\n",
    "We update our weights using this gradient with some learning rate $\\alpha$. \n",
    "\n",
    "$$\n",
    "w^\\prime = w - \\alpha \\frac{\\partial \\ell}{\\partial w}\n",
    "$$\n",
    "\n",
    "The learning rate is set such that the weight update steps are small enough that the iterative method settles in a minimum.\n",
    "\n",
    "The first thing we need to do for training is define our loss function. In PyTorch, you'll usually see this as `criterion`. Here we're using softmax output, so we want to use `criterion = nn.CrossEntropyLoss()` as our loss. Later when training, you use `loss = criterion(output, targets)` to calculate the actual loss.\n",
    "\n",
    "We also need to define the optimizer we're using, SGD or Adam, or something along those lines. Here I'll just use SGD with `torch.optim.SGD`, passing in the network parameters and the learning rate."
   ],
   "metadata": {}
  },
  {
   "cell_type": "markdown",
   "source": [
    "## Autograd\n",
    "\n",
    "Torch provides a module, `autograd`, for automatically calculating the gradient of tensors. It does this by keeping track of operations performed on tensors. To make sure PyTorch keeps track of operations on a tensor and calculates the gradients, you need to set `requires_grad` on a tensor. You can do this at creation with the `requires_grad` keyword, or at any time with `x.requires_grad_(True)`.\n",
    "\n",
    "You can turn off gradients for a block of code with the `torch.no_grad()` content:\n",
    "```python\n",
    "x = torch.zeros(1, requires_grad=True)\n",
    ">>> with torch.no_grad():\n",
    "...     y = x * 2\n",
    ">>> y.requires_grad\n",
    "False\n",
    "```\n",
    "\n",
    "Also, you can turn on or off gradients altogether with `torch.set_grad_enabled(True|False)`.\n",
    "\n",
    "The gradients are computed with respect to some variable `z` with `z.backward()`. This does a backward pass through the operations that created `z`."
   ],
   "metadata": {}
  },
  {
   "cell_type": "code",
   "execution_count": 19,
   "source": [
    "x = torch.randn(2,2, requires_grad=True)\n",
    "print(x)"
   ],
   "outputs": [
    {
     "output_type": "stream",
     "name": "stdout",
     "text": [
      "tensor([[-0.7149, -1.5399],\n",
      "        [-0.6583, -0.0067]], requires_grad=True)\n"
     ]
    }
   ],
   "metadata": {
    "ExecuteTime": {
     "end_time": "2021-05-26T22:26:52.867509Z",
     "start_time": "2021-05-26T22:26:52.860629Z"
    }
   }
  },
  {
   "cell_type": "code",
   "execution_count": 20,
   "source": [
    "y = x**2\n",
    "print(y)"
   ],
   "outputs": [
    {
     "output_type": "stream",
     "name": "stdout",
     "text": [
      "tensor([[5.1110e-01, 2.3714e+00],\n",
      "        [4.3337e-01, 4.5165e-05]], grad_fn=<PowBackward0>)\n"
     ]
    }
   ],
   "metadata": {
    "ExecuteTime": {
     "end_time": "2021-05-26T22:26:53.383436Z",
     "start_time": "2021-05-26T22:26:53.375536Z"
    }
   }
  },
  {
   "cell_type": "markdown",
   "source": [
    "Below we can see the operation that created `y`, a power operation `PowBackward0`."
   ],
   "metadata": {}
  },
  {
   "cell_type": "code",
   "execution_count": 21,
   "source": [
    "## grad_fn shows the function that generated this variable\n",
    "print(y.grad_fn)"
   ],
   "outputs": [
    {
     "output_type": "stream",
     "name": "stdout",
     "text": [
      "<PowBackward0 object at 0x7fc31278d8b0>\n"
     ]
    }
   ],
   "metadata": {
    "ExecuteTime": {
     "end_time": "2021-05-26T22:26:53.870654Z",
     "start_time": "2021-05-26T22:26:53.867424Z"
    }
   }
  },
  {
   "cell_type": "markdown",
   "source": [
    "The autgrad module keeps track of these operations and knows how to calculate the gradient for each one. In this way, it's able to calculate the gradients for a chain of operations, with respect to any one tensor. Let's reduce the tensor `y` to a scalar value, the mean."
   ],
   "metadata": {}
  },
  {
   "cell_type": "code",
   "execution_count": 22,
   "source": [
    "z = y.mean()\n",
    "print(z)"
   ],
   "outputs": [
    {
     "output_type": "stream",
     "name": "stdout",
     "text": [
      "tensor(0.8290, grad_fn=<MeanBackward0>)\n"
     ]
    }
   ],
   "metadata": {
    "ExecuteTime": {
     "end_time": "2021-05-26T22:26:54.831912Z",
     "start_time": "2021-05-26T22:26:54.824631Z"
    }
   }
  },
  {
   "cell_type": "markdown",
   "source": [
    "You can check the gradients for `x` and `y` but they are empty currently."
   ],
   "metadata": {}
  },
  {
   "cell_type": "code",
   "execution_count": 23,
   "source": [
    "print(x.grad)"
   ],
   "outputs": [
    {
     "output_type": "stream",
     "name": "stdout",
     "text": [
      "None\n"
     ]
    }
   ],
   "metadata": {
    "ExecuteTime": {
     "end_time": "2021-05-26T22:26:55.546143Z",
     "start_time": "2021-05-26T22:26:55.541213Z"
    }
   }
  },
  {
   "cell_type": "markdown",
   "source": [
    "To calculate the gradients, you need to run the `.backward` method on a Variable, `z` for example. This will calculate the gradient for `z` with respect to `x`\n",
    "\n",
    "$$\n",
    "\\frac{\\partial z}{\\partial x} = \\frac{\\partial}{\\partial x}\\left[\\frac{1}{n}\\sum_i^n x_i^2\\right] = \\frac{x}{2}\n",
    "$$"
   ],
   "metadata": {}
  },
  {
   "cell_type": "code",
   "execution_count": 24,
   "source": [
    "z.backward()\n",
    "print(x.grad)\n",
    "print(x/2)"
   ],
   "outputs": [
    {
     "output_type": "stream",
     "name": "stdout",
     "text": [
      "tensor([[-0.3575, -0.7700],\n",
      "        [-0.3292, -0.0034]])\n",
      "tensor([[-0.3575, -0.7700],\n",
      "        [-0.3292, -0.0034]], grad_fn=<DivBackward0>)\n"
     ]
    }
   ],
   "metadata": {
    "ExecuteTime": {
     "end_time": "2021-05-26T22:26:56.607560Z",
     "start_time": "2021-05-26T22:26:56.594993Z"
    }
   }
  },
  {
   "cell_type": "markdown",
   "source": [
    "These gradients calculations are particularly useful for neural networks. For training we need the gradients of the weights with respect to the cost. With PyTorch, we run data forward through the network to calculate the cost, then, go backwards to calculate the gradients with respect to the cost. Once we have the gradients we can make a gradient descent step. "
   ],
   "metadata": {}
  },
  {
   "cell_type": "markdown",
   "source": [
    "I'll build a network with `nn.Sequential` here. Only difference from the last part is I'm not actually using softmax on the output, but instead just using the raw output from the last layer. This is because the output from softmax is a probability distribution. Often, the output will have values really close to zero or really close to one. Due to [inaccuracies with representing numbers as floating points](https://docs.python.org/3/tutorial/floatingpoint.html), computations with a softmax output can lose accuracy and become unstable. To get around this, we'll use the raw output, called the **logits**, to calculate the loss."
   ],
   "metadata": {}
  },
  {
   "cell_type": "code",
   "execution_count": 34,
   "source": [
    "# Hyperparameters for our network\n",
    "input_size   = 784\n",
    "hidden_sizes = [128, 64]\n",
    "output_size  = 10\n",
    "\n",
    "# Build a feed-forward network\n",
    "model = nn.Sequential(OrderedDict([\n",
    "          ('fc1', nn.Linear(input_size, hidden_sizes[0])),\n",
    "          ('relu1', nn.ReLU()),\n",
    "          ('fc2', nn.Linear(hidden_sizes[0], hidden_sizes[1])),\n",
    "          ('relu2', nn.ReLU()),\n",
    "          ('logits', nn.Linear(hidden_sizes[1], output_size))]))"
   ],
   "outputs": [],
   "metadata": {
    "ExecuteTime": {
     "end_time": "2021-05-26T22:26:56.944759Z",
     "start_time": "2021-05-26T22:26:56.936939Z"
    }
   }
  },
  {
   "cell_type": "markdown",
   "source": [
    "## Training the network!\n",
    "\n",
    "The first thing we need to do for training is define our loss function. In PyTorch, you'll usually see this as `criterion`. Here we're using softmax output, so we want to use `criterion = nn.CrossEntropyLoss()` as our loss. Later when training, you use `loss = criterion(output, targets)` to calculate the actual loss.\n",
    "\n",
    "We also need to define the optimizer we're using, SGD or Adam, or something along those lines. Here I'll just use SGD with `torch.optim.SGD`, passing in the network parameters and the learning rate."
   ],
   "metadata": {}
  },
  {
   "cell_type": "code",
   "execution_count": 35,
   "source": [
    "criterion = nn.CrossEntropyLoss()\n",
    "optimizer = optim.SGD(model.parameters(), lr=0.01)"
   ],
   "outputs": [],
   "metadata": {
    "ExecuteTime": {
     "end_time": "2021-05-26T22:26:57.317614Z",
     "start_time": "2021-05-26T22:26:57.313022Z"
    }
   }
  },
  {
   "cell_type": "markdown",
   "source": [
    "First, let's consider just one learning step before looping through all the data. The general process with PyTorch:\n",
    "\n",
    "* Make a forward pass through the network to get the logits \n",
    "* Use the logits to calculate the loss\n",
    "* Perform a backward pass through the network with `loss.backward()` to calculate the gradients\n",
    "* Take a step with the optimizer to update the weights\n",
    "\n",
    "Below I'll go through one training step and print out the weights and gradients so you can see how it changes."
   ],
   "metadata": {}
  },
  {
   "cell_type": "code",
   "execution_count": 36,
   "source": [
    "print('Initial weights - ', model.fc1.weight)\n",
    "\n",
    "images, labels = next(iter(trainloader))\n",
    "images.resize_(16, 784)\n",
    "\n",
    "# Clear the gradients, do this because gradients are accumulated\n",
    "optimizer.zero_grad()\n",
    "\n",
    "# Forward pass, then backward pass, then update weights\n",
    "output = model.forward(images)\n",
    "loss = criterion(output, labels)\n",
    "loss.backward()\n",
    "print('Gradient -', model.fc1.weight.grad)\n",
    "optimizer.step()"
   ],
   "outputs": [
    {
     "output_type": "stream",
     "name": "stdout",
     "text": [
      "Initial weights -  Parameter containing:\n",
      "tensor([[ 0.0058,  0.0173, -0.0075,  ..., -0.0295,  0.0115,  0.0071],\n",
      "        [-0.0184,  0.0252,  0.0161,  ...,  0.0062,  0.0316, -0.0126],\n",
      "        [ 0.0004,  0.0260,  0.0335,  ..., -0.0325,  0.0296,  0.0018],\n",
      "        ...,\n",
      "        [ 0.0305, -0.0248,  0.0193,  ...,  0.0233, -0.0073,  0.0303],\n",
      "        [-0.0184,  0.0261,  0.0312,  ...,  0.0319, -0.0078, -0.0054],\n",
      "        [-0.0351,  0.0224, -0.0163,  ..., -0.0102, -0.0005,  0.0213]],\n",
      "       requires_grad=True)\n",
      "Gradient - tensor([[-0.0032, -0.0032, -0.0032,  ..., -0.0032, -0.0032, -0.0032],\n",
      "        [-0.0005, -0.0005, -0.0005,  ..., -0.0005, -0.0005, -0.0005],\n",
      "        [-0.0015, -0.0015, -0.0015,  ..., -0.0015, -0.0015, -0.0015],\n",
      "        ...,\n",
      "        [ 0.0007,  0.0007,  0.0007,  ...,  0.0007,  0.0007,  0.0007],\n",
      "        [ 0.0046,  0.0046,  0.0046,  ...,  0.0046,  0.0046,  0.0046],\n",
      "        [ 0.0011,  0.0011,  0.0011,  ...,  0.0011,  0.0011,  0.0011]])\n"
     ]
    }
   ],
   "metadata": {
    "ExecuteTime": {
     "end_time": "2021-05-26T22:27:07.408433Z",
     "start_time": "2021-05-26T22:27:07.373358Z"
    }
   }
  },
  {
   "cell_type": "code",
   "execution_count": 37,
   "source": [
    "print('Updated weights - ', model.fc1.weight)"
   ],
   "outputs": [
    {
     "output_type": "stream",
     "name": "stdout",
     "text": [
      "Updated weights -  Parameter containing:\n",
      "tensor([[ 0.0059,  0.0173, -0.0075,  ..., -0.0295,  0.0115,  0.0072],\n",
      "        [-0.0184,  0.0252,  0.0161,  ...,  0.0062,  0.0316, -0.0126],\n",
      "        [ 0.0004,  0.0260,  0.0335,  ..., -0.0325,  0.0296,  0.0018],\n",
      "        ...,\n",
      "        [ 0.0305, -0.0248,  0.0193,  ...,  0.0233, -0.0073,  0.0303],\n",
      "        [-0.0185,  0.0260,  0.0312,  ...,  0.0319, -0.0078, -0.0054],\n",
      "        [-0.0351,  0.0223, -0.0163,  ..., -0.0102, -0.0005,  0.0213]],\n",
      "       requires_grad=True)\n"
     ]
    }
   ],
   "metadata": {
    "ExecuteTime": {
     "end_time": "2021-05-26T22:27:07.915247Z",
     "start_time": "2021-05-26T22:27:07.908155Z"
    }
   }
  },
  {
   "cell_type": "markdown",
   "source": [
    "### Training for real\n",
    "\n",
    "Now we'll put this algorithm into a loop so we can go through all the images. This is fairly straightforward. We'll loop through the mini-batches in our dataset, pass the data through the network to calculate the losses, get the gradients, then run the optimizer."
   ],
   "metadata": {}
  },
  {
   "cell_type": "code",
   "execution_count": 38,
   "source": [
    "optimizer = optim.SGD(model.parameters(), lr=0.003)"
   ],
   "outputs": [],
   "metadata": {
    "ExecuteTime": {
     "end_time": "2021-05-26T22:27:08.816179Z",
     "start_time": "2021-05-26T22:27:08.812807Z"
    }
   }
  },
  {
   "cell_type": "code",
   "execution_count": 39,
   "source": [
    "epochs = 3\n",
    "print_every = 40\n",
    "\n",
    "for e in range(epochs):\n",
    "    running_loss = 0\n",
    "    print(f\"Epoch: {e+1}/{epochs}\")\n",
    "\n",
    "    for i, (images, labels) in enumerate(iter(trainloader)):\n",
    "\n",
    "        # Flatten MNIST images into a 784 long vector\n",
    "        images.resize_(images.size()[0], 784)\n",
    "        \n",
    "        optimizer.zero_grad()\n",
    "        \n",
    "        output = model.forward(images)   # 1) Forward pass\n",
    "        loss = criterion(output, labels) # 2) Compute loss\n",
    "        loss.backward()                  # 3) Backward pass\n",
    "        optimizer.step()                 # 4) Update model\n",
    "        \n",
    "        running_loss += loss.item()\n",
    "        \n",
    "        if i % print_every == 0:\n",
    "            print(f\"\\tIteration: {i}\\t Loss: {running_loss/print_every:.4f}\")\n",
    "            running_loss = 0"
   ],
   "outputs": [
    {
     "output_type": "stream",
     "name": "stdout",
     "text": [
      "Epoch: 1/3\n",
      "\tIteration: 0\t Loss: 0.0583\n",
      "\tIteration: 40\t Loss: 2.2985\n",
      "\tIteration: 80\t Loss: 2.2788\n",
      "\tIteration: 120\t Loss: 2.2661\n",
      "\tIteration: 160\t Loss: 2.2470\n",
      "\tIteration: 200\t Loss: 2.2263\n",
      "\tIteration: 240\t Loss: 2.2099\n",
      "\tIteration: 280\t Loss: 2.1829\n",
      "\tIteration: 320\t Loss: 2.1498\n",
      "\tIteration: 360\t Loss: 2.1098\n",
      "\tIteration: 400\t Loss: 2.1015\n",
      "\tIteration: 440\t Loss: 2.0401\n",
      "\tIteration: 480\t Loss: 2.0051\n",
      "\tIteration: 520\t Loss: 1.9761\n",
      "\tIteration: 560\t Loss: 1.9287\n",
      "\tIteration: 600\t Loss: 1.8244\n",
      "\tIteration: 640\t Loss: 1.7913\n",
      "\tIteration: 680\t Loss: 1.7649\n",
      "\tIteration: 720\t Loss: 1.6547\n",
      "\tIteration: 760\t Loss: 1.6049\n",
      "\tIteration: 800\t Loss: 1.5431\n",
      "\tIteration: 840\t Loss: 1.4536\n",
      "\tIteration: 880\t Loss: 1.4320\n",
      "\tIteration: 920\t Loss: 1.3608\n",
      "\tIteration: 960\t Loss: 1.3151\n",
      "\tIteration: 1000\t Loss: 1.2037\n",
      "\tIteration: 1040\t Loss: 1.1864\n",
      "\tIteration: 1080\t Loss: 1.1120\n",
      "\tIteration: 1120\t Loss: 1.1063\n",
      "\tIteration: 1160\t Loss: 1.0928\n",
      "\tIteration: 1200\t Loss: 1.0431\n",
      "\tIteration: 1240\t Loss: 0.9840\n",
      "\tIteration: 1280\t Loss: 0.9726\n",
      "\tIteration: 1320\t Loss: 0.9201\n",
      "\tIteration: 1360\t Loss: 0.9177\n",
      "\tIteration: 1400\t Loss: 0.8721\n",
      "\tIteration: 1440\t Loss: 0.8638\n",
      "\tIteration: 1480\t Loss: 0.8142\n",
      "\tIteration: 1520\t Loss: 0.8436\n",
      "\tIteration: 1560\t Loss: 0.8475\n",
      "\tIteration: 1600\t Loss: 0.7745\n",
      "\tIteration: 1640\t Loss: 0.8197\n",
      "\tIteration: 1680\t Loss: 0.7970\n",
      "\tIteration: 1720\t Loss: 0.7930\n",
      "\tIteration: 1760\t Loss: 0.7044\n",
      "\tIteration: 1800\t Loss: 0.6680\n",
      "\tIteration: 1840\t Loss: 0.6665\n",
      "\tIteration: 1880\t Loss: 0.7078\n",
      "\tIteration: 1920\t Loss: 0.6566\n",
      "\tIteration: 1960\t Loss: 0.6481\n",
      "\tIteration: 2000\t Loss: 0.6795\n",
      "\tIteration: 2040\t Loss: 0.6271\n",
      "\tIteration: 2080\t Loss: 0.6228\n",
      "\tIteration: 2120\t Loss: 0.5821\n",
      "\tIteration: 2160\t Loss: 0.5788\n",
      "\tIteration: 2200\t Loss: 0.5834\n",
      "\tIteration: 2240\t Loss: 0.4878\n",
      "\tIteration: 2280\t Loss: 0.5729\n",
      "\tIteration: 2320\t Loss: 0.5778\n",
      "\tIteration: 2360\t Loss: 0.5313\n",
      "\tIteration: 2400\t Loss: 0.5031\n",
      "\tIteration: 2440\t Loss: 0.5618\n",
      "\tIteration: 2480\t Loss: 0.5200\n",
      "\tIteration: 2520\t Loss: 0.5683\n",
      "\tIteration: 2560\t Loss: 0.5165\n",
      "\tIteration: 2600\t Loss: 0.5650\n",
      "\tIteration: 2640\t Loss: 0.5537\n",
      "\tIteration: 2680\t Loss: 0.5455\n",
      "\tIteration: 2720\t Loss: 0.5219\n",
      "\tIteration: 2760\t Loss: 0.4938\n",
      "\tIteration: 2800\t Loss: 0.5409\n",
      "\tIteration: 2840\t Loss: 0.4654\n",
      "\tIteration: 2880\t Loss: 0.4830\n",
      "\tIteration: 2920\t Loss: 0.4516\n",
      "\tIteration: 2960\t Loss: 0.4433\n",
      "\tIteration: 3000\t Loss: 0.4423\n",
      "\tIteration: 3040\t Loss: 0.4710\n",
      "\tIteration: 3080\t Loss: 0.4243\n",
      "\tIteration: 3120\t Loss: 0.4726\n",
      "\tIteration: 3160\t Loss: 0.4723\n",
      "\tIteration: 3200\t Loss: 0.5449\n",
      "\tIteration: 3240\t Loss: 0.5229\n",
      "\tIteration: 3280\t Loss: 0.4465\n",
      "\tIteration: 3320\t Loss: 0.3842\n",
      "\tIteration: 3360\t Loss: 0.4355\n",
      "\tIteration: 3400\t Loss: 0.4656\n",
      "\tIteration: 3440\t Loss: 0.4181\n",
      "\tIteration: 3480\t Loss: 0.4324\n",
      "\tIteration: 3520\t Loss: 0.4787\n",
      "\tIteration: 3560\t Loss: 0.4542\n",
      "\tIteration: 3600\t Loss: 0.4699\n",
      "\tIteration: 3640\t Loss: 0.4478\n",
      "\tIteration: 3680\t Loss: 0.4619\n",
      "\tIteration: 3720\t Loss: 0.3989\n",
      "Epoch: 2/3\n",
      "\tIteration: 0\t Loss: 0.0075\n",
      "\tIteration: 40\t Loss: 0.3982\n",
      "\tIteration: 80\t Loss: 0.3374\n",
      "\tIteration: 120\t Loss: 0.3950\n",
      "\tIteration: 160\t Loss: 0.4241\n",
      "\tIteration: 200\t Loss: 0.4162\n",
      "\tIteration: 240\t Loss: 0.3982\n",
      "\tIteration: 280\t Loss: 0.3595\n",
      "\tIteration: 320\t Loss: 0.4343\n",
      "\tIteration: 360\t Loss: 0.4252\n",
      "\tIteration: 400\t Loss: 0.4472\n",
      "\tIteration: 440\t Loss: 0.4063\n",
      "\tIteration: 480\t Loss: 0.3864\n",
      "\tIteration: 520\t Loss: 0.4015\n",
      "\tIteration: 560\t Loss: 0.3504\n",
      "\tIteration: 600\t Loss: 0.4290\n",
      "\tIteration: 640\t Loss: 0.4297\n",
      "\tIteration: 680\t Loss: 0.3634\n",
      "\tIteration: 720\t Loss: 0.3393\n",
      "\tIteration: 760\t Loss: 0.4199\n",
      "\tIteration: 800\t Loss: 0.3741\n",
      "\tIteration: 840\t Loss: 0.3324\n",
      "\tIteration: 880\t Loss: 0.3909\n",
      "\tIteration: 920\t Loss: 0.3964\n",
      "\tIteration: 960\t Loss: 0.3877\n",
      "\tIteration: 1000\t Loss: 0.3553\n",
      "\tIteration: 1040\t Loss: 0.3696\n",
      "\tIteration: 1080\t Loss: 0.3781\n",
      "\tIteration: 1120\t Loss: 0.3690\n",
      "\tIteration: 1160\t Loss: 0.4469\n",
      "\tIteration: 1200\t Loss: 0.4147\n",
      "\tIteration: 1240\t Loss: 0.3994\n",
      "\tIteration: 1280\t Loss: 0.3917\n",
      "\tIteration: 1320\t Loss: 0.4024\n",
      "\tIteration: 1360\t Loss: 0.3576\n",
      "\tIteration: 1400\t Loss: 0.3989\n",
      "\tIteration: 1440\t Loss: 0.3160\n",
      "\tIteration: 1480\t Loss: 0.3772\n",
      "\tIteration: 1520\t Loss: 0.4001\n",
      "\tIteration: 1560\t Loss: 0.3658\n",
      "\tIteration: 1600\t Loss: 0.3378\n",
      "\tIteration: 1640\t Loss: 0.4051\n",
      "\tIteration: 1680\t Loss: 0.3377\n",
      "\tIteration: 1720\t Loss: 0.3565\n",
      "\tIteration: 1760\t Loss: 0.3332\n",
      "\tIteration: 1800\t Loss: 0.3877\n",
      "\tIteration: 1840\t Loss: 0.3675\n",
      "\tIteration: 1880\t Loss: 0.3569\n",
      "\tIteration: 1920\t Loss: 0.3955\n",
      "\tIteration: 1960\t Loss: 0.3172\n",
      "\tIteration: 2000\t Loss: 0.3647\n",
      "\tIteration: 2040\t Loss: 0.3968\n",
      "\tIteration: 2080\t Loss: 0.3621\n",
      "\tIteration: 2120\t Loss: 0.3490\n",
      "\tIteration: 2160\t Loss: 0.3898\n",
      "\tIteration: 2200\t Loss: 0.3391\n",
      "\tIteration: 2240\t Loss: 0.3613\n",
      "\tIteration: 2280\t Loss: 0.3306\n",
      "\tIteration: 2320\t Loss: 0.3226\n",
      "\tIteration: 2360\t Loss: 0.3879\n",
      "\tIteration: 2400\t Loss: 0.3069\n",
      "\tIteration: 2440\t Loss: 0.3288\n",
      "\tIteration: 2480\t Loss: 0.3527\n",
      "\tIteration: 2520\t Loss: 0.3300\n",
      "\tIteration: 2560\t Loss: 0.2884\n",
      "\tIteration: 2600\t Loss: 0.3620\n",
      "\tIteration: 2640\t Loss: 0.3659\n",
      "\tIteration: 2680\t Loss: 0.3393\n",
      "\tIteration: 2720\t Loss: 0.4024\n",
      "\tIteration: 2760\t Loss: 0.3647\n",
      "\tIteration: 2800\t Loss: 0.2602\n",
      "\tIteration: 2840\t Loss: 0.3764\n",
      "\tIteration: 2880\t Loss: 0.3144\n",
      "\tIteration: 2920\t Loss: 0.4316\n",
      "\tIteration: 2960\t Loss: 0.2797\n",
      "\tIteration: 3000\t Loss: 0.4295\n",
      "\tIteration: 3040\t Loss: 0.3921\n",
      "\tIteration: 3080\t Loss: 0.3806\n",
      "\tIteration: 3120\t Loss: 0.2866\n",
      "\tIteration: 3160\t Loss: 0.3839\n",
      "\tIteration: 3200\t Loss: 0.3086\n",
      "\tIteration: 3240\t Loss: 0.4187\n",
      "\tIteration: 3280\t Loss: 0.3624\n",
      "\tIteration: 3320\t Loss: 0.4065\n",
      "\tIteration: 3360\t Loss: 0.3395\n",
      "\tIteration: 3400\t Loss: 0.3151\n",
      "\tIteration: 3440\t Loss: 0.3005\n",
      "\tIteration: 3480\t Loss: 0.3877\n",
      "\tIteration: 3520\t Loss: 0.3436\n",
      "\tIteration: 3560\t Loss: 0.3881\n",
      "\tIteration: 3600\t Loss: 0.3480\n",
      "\tIteration: 3640\t Loss: 0.3152\n",
      "\tIteration: 3680\t Loss: 0.3247\n",
      "\tIteration: 3720\t Loss: 0.3856\n",
      "Epoch: 3/3\n",
      "\tIteration: 0\t Loss: 0.0080\n",
      "\tIteration: 40\t Loss: 0.3334\n",
      "\tIteration: 80\t Loss: 0.3198\n",
      "\tIteration: 120\t Loss: 0.3503\n",
      "\tIteration: 160\t Loss: 0.4028\n",
      "\tIteration: 200\t Loss: 0.2770\n",
      "\tIteration: 240\t Loss: 0.3647\n",
      "\tIteration: 280\t Loss: 0.3477\n",
      "\tIteration: 320\t Loss: 0.3025\n",
      "\tIteration: 360\t Loss: 0.3033\n",
      "\tIteration: 400\t Loss: 0.3037\n",
      "\tIteration: 440\t Loss: 0.3375\n",
      "\tIteration: 480\t Loss: 0.3360\n",
      "\tIteration: 520\t Loss: 0.3478\n",
      "\tIteration: 560\t Loss: 0.3495\n",
      "\tIteration: 600\t Loss: 0.3191\n",
      "\tIteration: 640\t Loss: 0.3545\n",
      "\tIteration: 680\t Loss: 0.2981\n",
      "\tIteration: 720\t Loss: 0.3019\n",
      "\tIteration: 760\t Loss: 0.2851\n",
      "\tIteration: 800\t Loss: 0.3239\n",
      "\tIteration: 840\t Loss: 0.3615\n",
      "\tIteration: 880\t Loss: 0.3417\n",
      "\tIteration: 920\t Loss: 0.3314\n",
      "\tIteration: 960\t Loss: 0.3545\n",
      "\tIteration: 1000\t Loss: 0.3304\n",
      "\tIteration: 1040\t Loss: 0.2800\n",
      "\tIteration: 1080\t Loss: 0.3203\n",
      "\tIteration: 1120\t Loss: 0.2962\n",
      "\tIteration: 1160\t Loss: 0.2976\n",
      "\tIteration: 1200\t Loss: 0.2815\n",
      "\tIteration: 1240\t Loss: 0.3169\n",
      "\tIteration: 1280\t Loss: 0.3342\n",
      "\tIteration: 1320\t Loss: 0.4037\n",
      "\tIteration: 1360\t Loss: 0.3561\n",
      "\tIteration: 1400\t Loss: 0.3532\n",
      "\tIteration: 1440\t Loss: 0.2759\n",
      "\tIteration: 1480\t Loss: 0.3258\n",
      "\tIteration: 1520\t Loss: 0.2849\n",
      "\tIteration: 1560\t Loss: 0.3663\n",
      "\tIteration: 1600\t Loss: 0.2909\n",
      "\tIteration: 1640\t Loss: 0.2400\n",
      "\tIteration: 1680\t Loss: 0.3444\n",
      "\tIteration: 1720\t Loss: 0.3252\n",
      "\tIteration: 1760\t Loss: 0.4089\n",
      "\tIteration: 1800\t Loss: 0.3105\n",
      "\tIteration: 1840\t Loss: 0.3402\n",
      "\tIteration: 1880\t Loss: 0.2785\n",
      "\tIteration: 1920\t Loss: 0.3277\n",
      "\tIteration: 1960\t Loss: 0.2685\n",
      "\tIteration: 2000\t Loss: 0.3125\n",
      "\tIteration: 2040\t Loss: 0.3202\n",
      "\tIteration: 2080\t Loss: 0.3223\n",
      "\tIteration: 2120\t Loss: 0.3010\n",
      "\tIteration: 2160\t Loss: 0.3189\n",
      "\tIteration: 2200\t Loss: 0.3095\n",
      "\tIteration: 2240\t Loss: 0.2964\n",
      "\tIteration: 2280\t Loss: 0.2703\n",
      "\tIteration: 2320\t Loss: 0.3105\n",
      "\tIteration: 2360\t Loss: 0.2655\n",
      "\tIteration: 2400\t Loss: 0.3365\n",
      "\tIteration: 2440\t Loss: 0.3222\n",
      "\tIteration: 2480\t Loss: 0.2728\n",
      "\tIteration: 2520\t Loss: 0.2622\n",
      "\tIteration: 2560\t Loss: 0.3538\n",
      "\tIteration: 2600\t Loss: 0.3225\n",
      "\tIteration: 2640\t Loss: 0.3573\n",
      "\tIteration: 2680\t Loss: 0.2719\n",
      "\tIteration: 2720\t Loss: 0.2832\n",
      "\tIteration: 2760\t Loss: 0.2814\n",
      "\tIteration: 2800\t Loss: 0.3340\n",
      "\tIteration: 2840\t Loss: 0.3177\n",
      "\tIteration: 2880\t Loss: 0.3008\n",
      "\tIteration: 2920\t Loss: 0.2803\n",
      "\tIteration: 2960\t Loss: 0.3082\n",
      "\tIteration: 3000\t Loss: 0.3406\n",
      "\tIteration: 3040\t Loss: 0.3092\n",
      "\tIteration: 3080\t Loss: 0.2797\n",
      "\tIteration: 3120\t Loss: 0.3189\n",
      "\tIteration: 3160\t Loss: 0.2990\n",
      "\tIteration: 3200\t Loss: 0.2573\n",
      "\tIteration: 3240\t Loss: 0.2882\n",
      "\tIteration: 3280\t Loss: 0.3027\n",
      "\tIteration: 3320\t Loss: 0.2657\n",
      "\tIteration: 3360\t Loss: 0.3062\n",
      "\tIteration: 3400\t Loss: 0.2889\n",
      "\tIteration: 3440\t Loss: 0.2507\n",
      "\tIteration: 3480\t Loss: 0.3130\n",
      "\tIteration: 3520\t Loss: 0.3297\n",
      "\tIteration: 3560\t Loss: 0.3076\n",
      "\tIteration: 3600\t Loss: 0.3261\n",
      "\tIteration: 3640\t Loss: 0.3224\n",
      "\tIteration: 3680\t Loss: 0.2799\n",
      "\tIteration: 3720\t Loss: 0.3039\n"
     ]
    }
   ],
   "metadata": {
    "ExecuteTime": {
     "end_time": "2021-05-26T22:27:36.083537Z",
     "start_time": "2021-05-26T22:27:09.280769Z"
    }
   }
  },
  {
   "cell_type": "markdown",
   "source": [
    "With the network trained, we can check out it's predictions."
   ],
   "metadata": {}
  },
  {
   "cell_type": "code",
   "execution_count": 40,
   "source": [
    "images, labels = next(iter(trainloader))\n",
    "\n",
    "img = images[0].view(1, 784)\n",
    "# Turn off gradients to speed up this part\n",
    "with torch.no_grad():\n",
    "    logits = model.forward(img)\n",
    "\n",
    "# Output of the network are logits, need to take softmax for probabilities\n",
    "ps = F.softmax(logits, dim=1)\n",
    "view_classify(img.view(1, 28, 28), ps)"
   ],
   "outputs": [
    {
     "output_type": "display_data",
     "data": {
      "text/plain": [
       "<Figure size 432x648 with 2 Axes>"
      ],
      "image/png": "[encoded data removed]"
     },
     "metadata": {
      "image/png": {
       "width": 349,
       "height": 195
      },
      "needs_background": "light"
     }
    }
   ],
   "metadata": {
    "ExecuteTime": {
     "end_time": "2021-05-26T22:30:00.206666Z",
     "start_time": "2021-05-26T22:29:59.954325Z"
    }
   }
  },
  {
   "cell_type": "markdown",
   "source": [
    "Now our network is brilliant. It can accurately predict the digits in our images."
   ],
   "metadata": {}
  },
  {
   "cell_type": "markdown",
   "source": [
    "<div style=\"background:#222222; color:#ffffff; padding:20px\">\n",
    "    <h2 align=\"center\" style=\"color:#01ff84\">EMNIST Classification: Exercise</h2>\n",
    "<div>"
   ],
   "metadata": {}
  },
  {
   "cell_type": "markdown",
   "source": [
    "<div style=\"background:#222222; color:#ffffff; padding:20px\">\n",
    "  <h3 style=\"color:#01ff84; margin-top:4px\">Exercise 1:</h3>\n",
    "  <p>Now it's your turn to build a simple network, use any method I've covered so far. In the next notebook, you'll learn how to train a network so it can make good predictions.</p>\n",
    "  <p>Build a network to classify the MNIST images with 3 hidden layers. Use 16 units in the first hidden layer, 32 units in the second layer, and 8 units in the third layer. Each hidden layer should have a ReLU activation function, and use softmax on the output layer.</p>\n",
    "<div>"
   ],
   "metadata": {}
  },
  {
   "cell_type": "code",
   "execution_count": 50,
   "source": [
    "## TODO: Your network here\n",
    "\n",
    "#Hyperparameters for our network\n",
    "input_size   = 784\n",
    "hidden_sizes = [16, 32, 8]\n",
    "output_size  = 10\n",
    "\n",
    "\n",
    "#Model with nn.Sequential\n",
    "\n",
    "model = nn.Sequential(OrderedDict([\n",
    "    ('fc1', nn.Linear(input_size, hidden_sizes[0])),\n",
    "    ('relu1', nn.ReLU()),\n",
    "    ('fc2', nn.Linear(hidden_sizes[0], hidden_sizes[1])),\n",
    "    ('relu2', nn.ReLU()),\n",
    "    ('fc3', nn.Linear(hidden_sizes[1], hidden_sizes[2])),\n",
    "    ('relu3', nn.ReLU()),\n",
    "    ('output', nn.Linear(hidden_sizes[2], output_size)),\n",
    "    ('softmax', nn.Softmax())\n",
    "]))\n",
    "\n",
    "#Create an optimizer\n",
    "criterion = nn.CrossEntropyLoss()\n",
    "optimizer = optim.Adam(model.parameters(), lr=0.01)\n"
   ],
   "outputs": [],
   "metadata": {}
  },
  {
   "cell_type": "code",
   "execution_count": 51,
   "source": [
    "# Run this cell with your model to make sure it works\n",
    "# Forward pass through the network and display output\n",
    "images, labels = next(iter(trainloader))\n",
    "images.resize_(images.shape[0], 1, 784)\n",
    "ps = model.forward(images[0,:])\n",
    "view_classify(images[0].view(1, 28, 28), ps)"
   ],
   "outputs": [
    {
     "output_type": "stream",
     "name": "stderr",
     "text": [
      "/Users/franciscovarelacid/opt/anaconda3/envs/dlmod/lib/python3.8/site-packages/torch/nn/modules/container.py:139: UserWarning: Implicit dimension choice for softmax has been deprecated. Change the call to include dim=X as an argument.\n",
      "  input = module(input)\n"
     ]
    },
    {
     "output_type": "display_data",
     "data": {
      "text/plain": [
       "<Figure size 432x648 with 2 Axes>"
      ],
      "image/png": "[encoded data removed]"
     },
     "metadata": {
      "image/png": {
       "width": 349,
       "height": 195
      },
      "needs_background": "light"
     }
    }
   ],
   "metadata": {}
  },
  {
   "cell_type": "markdown",
   "source": [
    "<div style=\"background:#222222; color:#ffffff; padding:20px\">\n",
    "  <h3 style=\"color:#01ff84; margin-top:4px\">Exercise 2:</h3>\n",
    "  <p>Train your network implementing the Pytorch training loop and <strong style=\"color:#01ff84\">after each epoch, use the model for predicting the test (validation) MNIST data.</strong></p>\n",
    "  <p>Note: If your model does not fit with the final softmax layer, you can remove this layer.</p>\n",
    "  <p>Hint: <a href=\"https://discuss.pytorch.org/t/training-loop-checking-validation-accuracy/78399\">Training loop checking validation accuracy\n",
    "</a></p>\n",
    "  <p>Research about <code>model.train()</code>, <code>model.eval()</code> and <code>with torch.no_grad()</code> in Pytorch.\n",
    "<div>"
   ],
   "metadata": {}
  },
  {
   "cell_type": "code",
   "execution_count": 52,
   "source": [
    "## TODO: Your training loop here\n",
    "\n",
    "epochs = 5\n",
    "print_every = 40\n",
    "\n",
    "for e in range(epochs):\n",
    "    running_loss = 0\n",
    "    print(f\"Epoch: {e+1}/{epochs}\")\n",
    "    for i, (images, labels) in enumerate(iter(trainloader)):\n",
    "        #Flatten the image into a 784 vector\n",
    "        images.resize_(images.size()[0], 784)\n",
    "\n",
    "        #In order to clear the gradient because its accumulatitive\n",
    "        optimizer.zero_grad()\n",
    "\n",
    "        output = model.forward(images)   # 1) Forward Pass\n",
    "        loss = criterion(output, labels) # 2) Check loss for forward pass\n",
    "        loss.backward()                  # 3) Find the lower boundary of loss function\n",
    "        optimizer.step()                 # 4) Update Weights for optimization\n",
    "\n",
    "        running_loss += loss.item()\n",
    "\n",
    "        if i % print_every == 0:\n",
    "            print(f\"\\tIteration: {i}\\t Loss: {running_loss/print_every:.4f}\")\n",
    "            running_loss = 0"
   ],
   "outputs": [
    {
     "output_type": "stream",
     "name": "stdout",
     "text": [
      "Epoch: 1/5\n",
      "\tIteration: 0\t Loss: 0.0575\n",
      "\tIteration: 40\t Loss: 2.2354\n",
      "\tIteration: 80\t Loss: 2.1023\n",
      "\tIteration: 120\t Loss: 2.0461\n",
      "\tIteration: 160\t Loss: 1.9948\n",
      "\tIteration: 200\t Loss: 1.9453\n",
      "\tIteration: 240\t Loss: 1.9111\n",
      "\tIteration: 280\t Loss: 1.9157\n",
      "\tIteration: 320\t Loss: 1.8975\n",
      "\tIteration: 360\t Loss: 1.8904\n",
      "\tIteration: 400\t Loss: 1.8604\n",
      "\tIteration: 440\t Loss: 1.9728\n",
      "\tIteration: 480\t Loss: 2.0029\n",
      "\tIteration: 520\t Loss: 1.9404\n",
      "\tIteration: 560\t Loss: 1.9798\n",
      "\tIteration: 600\t Loss: 1.8933\n",
      "\tIteration: 640\t Loss: 1.9162\n",
      "\tIteration: 680\t Loss: 2.0058\n",
      "\tIteration: 720\t Loss: 1.8935\n",
      "\tIteration: 760\t Loss: 1.8442\n",
      "\tIteration: 800\t Loss: 1.8602\n",
      "\tIteration: 840\t Loss: 1.9484\n",
      "\tIteration: 880\t Loss: 2.0319\n",
      "\tIteration: 920\t Loss: 1.9339\n",
      "\tIteration: 960\t Loss: 1.9546\n",
      "\tIteration: 1000\t Loss: 1.9084\n",
      "\tIteration: 1040\t Loss: 1.8881\n",
      "\tIteration: 1080\t Loss: 1.8944\n",
      "\tIteration: 1120\t Loss: 1.9323\n",
      "\tIteration: 1160\t Loss: 1.9198\n",
      "\tIteration: 1200\t Loss: 1.9101\n",
      "\tIteration: 1240\t Loss: 1.9162\n",
      "\tIteration: 1280\t Loss: 2.0580\n",
      "\tIteration: 1320\t Loss: 1.9733\n",
      "\tIteration: 1360\t Loss: 1.8787\n",
      "\tIteration: 1400\t Loss: 1.9232\n",
      "\tIteration: 1440\t Loss: 2.0253\n",
      "\tIteration: 1480\t Loss: 2.1670\n",
      "\tIteration: 1520\t Loss: 2.1444\n",
      "\tIteration: 1560\t Loss: 2.1810\n",
      "\tIteration: 1600\t Loss: 2.1563\n",
      "\tIteration: 1640\t Loss: 2.1996\n",
      "\tIteration: 1680\t Loss: 2.2003\n",
      "\tIteration: 1720\t Loss: 2.1751\n",
      "\tIteration: 1760\t Loss: 2.1788\n",
      "\tIteration: 1800\t Loss: 2.1624\n",
      "\tIteration: 1840\t Loss: 2.1566\n",
      "\tIteration: 1880\t Loss: 2.1805\n",
      "\tIteration: 1920\t Loss: 2.1822\n",
      "\tIteration: 1960\t Loss: 2.1506\n",
      "\tIteration: 2000\t Loss: 2.1590\n",
      "\tIteration: 2040\t Loss: 2.3158\n",
      "\tIteration: 2080\t Loss: 2.2903\n",
      "\tIteration: 2120\t Loss: 2.1748\n",
      "\tIteration: 2160\t Loss: 2.1744\n",
      "\tIteration: 2200\t Loss: 2.0941\n",
      "\tIteration: 2240\t Loss: 2.2293\n",
      "\tIteration: 2280\t Loss: 2.2362\n",
      "\tIteration: 2320\t Loss: 2.2674\n",
      "\tIteration: 2360\t Loss: 2.2782\n",
      "\tIteration: 2400\t Loss: 2.2399\n",
      "\tIteration: 2440\t Loss: 2.2684\n",
      "\tIteration: 2480\t Loss: 2.2114\n",
      "\tIteration: 2520\t Loss: 2.1994\n",
      "\tIteration: 2560\t Loss: 2.0761\n",
      "\tIteration: 2600\t Loss: 2.1725\n",
      "\tIteration: 2640\t Loss: 2.1133\n",
      "\tIteration: 2680\t Loss: 2.0545\n",
      "\tIteration: 2720\t Loss: 2.0443\n",
      "\tIteration: 2760\t Loss: 2.1067\n",
      "\tIteration: 2800\t Loss: 2.1307\n",
      "\tIteration: 2840\t Loss: 2.1379\n",
      "\tIteration: 2880\t Loss: 2.1231\n",
      "\tIteration: 2920\t Loss: 2.2193\n",
      "\tIteration: 2960\t Loss: 2.2372\n",
      "\tIteration: 3000\t Loss: 2.1709\n",
      "\tIteration: 3040\t Loss: 2.1491\n",
      "\tIteration: 3080\t Loss: 2.1272\n",
      "\tIteration: 3120\t Loss: 2.2102\n",
      "\tIteration: 3160\t Loss: 2.2897\n",
      "\tIteration: 3200\t Loss: 2.3065\n",
      "\tIteration: 3240\t Loss: 2.2612\n",
      "\tIteration: 3280\t Loss: 2.1765\n",
      "\tIteration: 3320\t Loss: 2.2188\n",
      "\tIteration: 3360\t Loss: 2.1469\n",
      "\tIteration: 3400\t Loss: 2.1399\n",
      "\tIteration: 3440\t Loss: 2.0813\n",
      "\tIteration: 3480\t Loss: 2.0539\n",
      "\tIteration: 3520\t Loss: 2.0739\n",
      "\tIteration: 3560\t Loss: 2.0682\n",
      "\tIteration: 3600\t Loss: 2.0620\n",
      "\tIteration: 3640\t Loss: 2.0266\n",
      "\tIteration: 3680\t Loss: 2.0136\n",
      "\tIteration: 3720\t Loss: 2.0292\n",
      "Epoch: 2/5\n",
      "\tIteration: 0\t Loss: 0.0443\n",
      "\tIteration: 40\t Loss: 2.0386\n",
      "\tIteration: 80\t Loss: 2.0244\n",
      "\tIteration: 120\t Loss: 1.9925\n",
      "\tIteration: 160\t Loss: 2.0295\n",
      "\tIteration: 200\t Loss: 2.0222\n",
      "\tIteration: 240\t Loss: 1.9374\n",
      "\tIteration: 280\t Loss: 2.1651\n",
      "\tIteration: 320\t Loss: 1.9941\n",
      "\tIteration: 360\t Loss: 1.9924\n",
      "\tIteration: 400\t Loss: 1.9886\n",
      "\tIteration: 440\t Loss: 1.9705\n",
      "\tIteration: 480\t Loss: 2.1057\n",
      "\tIteration: 520\t Loss: 2.0904\n",
      "\tIteration: 560\t Loss: 2.1589\n",
      "\tIteration: 600\t Loss: 2.2405\n",
      "\tIteration: 640\t Loss: 2.3283\n",
      "\tIteration: 680\t Loss: 2.3517\n",
      "\tIteration: 720\t Loss: 2.3627\n",
      "\tIteration: 760\t Loss: 2.3705\n",
      "\tIteration: 800\t Loss: 2.3518\n",
      "\tIteration: 840\t Loss: 2.3643\n",
      "\tIteration: 880\t Loss: 2.3612\n",
      "\tIteration: 920\t Loss: 2.3324\n",
      "\tIteration: 960\t Loss: 2.3091\n",
      "\tIteration: 1000\t Loss: 2.3376\n",
      "\tIteration: 1040\t Loss: 2.3346\n",
      "\tIteration: 1080\t Loss: 2.3408\n",
      "\tIteration: 1120\t Loss: 2.3313\n",
      "\tIteration: 1160\t Loss: 2.3408\n",
      "\tIteration: 1200\t Loss: 2.3627\n",
      "\tIteration: 1240\t Loss: 2.3721\n",
      "\tIteration: 1280\t Loss: 2.3486\n",
      "\tIteration: 1320\t Loss: 2.3361\n",
      "\tIteration: 1360\t Loss: 2.3611\n",
      "\tIteration: 1400\t Loss: 2.3596\n",
      "\tIteration: 1440\t Loss: 2.3611\n",
      "\tIteration: 1480\t Loss: 2.3548\n",
      "\tIteration: 1520\t Loss: 2.3471\n",
      "\tIteration: 1560\t Loss: 2.3345\n",
      "\tIteration: 1600\t Loss: 2.3359\n",
      "\tIteration: 1640\t Loss: 2.3314\n",
      "\tIteration: 1680\t Loss: 2.3139\n",
      "\tIteration: 1720\t Loss: 2.2550\n",
      "\tIteration: 1760\t Loss: 2.2673\n",
      "\tIteration: 1800\t Loss: 2.3111\n",
      "\tIteration: 1840\t Loss: 2.3705\n",
      "\tIteration: 1880\t Loss: 2.3283\n",
      "\tIteration: 1920\t Loss: 2.3580\n",
      "\tIteration: 1960\t Loss: 2.3658\n",
      "\tIteration: 2000\t Loss: 2.3611\n",
      "\tIteration: 2040\t Loss: 2.3533\n",
      "\tIteration: 2080\t Loss: 2.3658\n",
      "\tIteration: 2120\t Loss: 2.3485\n",
      "\tIteration: 2160\t Loss: 2.3690\n",
      "\tIteration: 2200\t Loss: 2.3627\n",
      "\tIteration: 2240\t Loss: 2.3690\n",
      "\tIteration: 2280\t Loss: 2.3612\n",
      "\tIteration: 2320\t Loss: 2.3565\n",
      "\tIteration: 2360\t Loss: 2.3723\n",
      "\tIteration: 2400\t Loss: 2.3314\n",
      "\tIteration: 2440\t Loss: 2.3455\n",
      "\tIteration: 2480\t Loss: 2.3008\n",
      "\tIteration: 2520\t Loss: 2.2159\n",
      "\tIteration: 2560\t Loss: 2.0861\n",
      "\tIteration: 2600\t Loss: 2.0814\n",
      "\tIteration: 2640\t Loss: 2.0563\n",
      "\tIteration: 2680\t Loss: 2.1140\n",
      "\tIteration: 2720\t Loss: 2.0253\n",
      "\tIteration: 2760\t Loss: 2.0642\n",
      "\tIteration: 2800\t Loss: 2.0646\n",
      "\tIteration: 2840\t Loss: 2.0406\n",
      "\tIteration: 2880\t Loss: 2.0504\n",
      "\tIteration: 2920\t Loss: 2.0970\n",
      "\tIteration: 2960\t Loss: 2.0671\n",
      "\tIteration: 3000\t Loss: 2.0578\n",
      "\tIteration: 3040\t Loss: 2.0517\n",
      "\tIteration: 3080\t Loss: 2.0798\n",
      "\tIteration: 3120\t Loss: 2.0565\n",
      "\tIteration: 3160\t Loss: 2.0799\n",
      "\tIteration: 3200\t Loss: 2.1538\n",
      "\tIteration: 3240\t Loss: 2.1517\n",
      "\tIteration: 3280\t Loss: 2.1737\n",
      "\tIteration: 3320\t Loss: 2.1844\n",
      "\tIteration: 3360\t Loss: 2.2096\n",
      "\tIteration: 3400\t Loss: 2.1564\n",
      "\tIteration: 3440\t Loss: 2.1748\n",
      "\tIteration: 3480\t Loss: 2.1046\n",
      "\tIteration: 3520\t Loss: 2.1040\n",
      "\tIteration: 3560\t Loss: 2.1859\n",
      "\tIteration: 3600\t Loss: 2.1827\n",
      "\tIteration: 3640\t Loss: 2.1824\n",
      "\tIteration: 3680\t Loss: 2.2739\n",
      "\tIteration: 3720\t Loss: 2.2383\n",
      "Epoch: 3/5\n",
      "\tIteration: 0\t Loss: 0.0522\n",
      "\tIteration: 40\t Loss: 2.1752\n",
      "\tIteration: 80\t Loss: 2.1552\n",
      "\tIteration: 120\t Loss: 2.1206\n",
      "\tIteration: 160\t Loss: 2.1035\n",
      "\tIteration: 200\t Loss: 2.1158\n",
      "\tIteration: 240\t Loss: 2.1083\n",
      "\tIteration: 280\t Loss: 2.0987\n",
      "\tIteration: 320\t Loss: 2.1612\n",
      "\tIteration: 360\t Loss: 2.1675\n",
      "\tIteration: 400\t Loss: 2.0925\n",
      "\tIteration: 440\t Loss: 2.1013\n",
      "\tIteration: 480\t Loss: 2.1392\n",
      "\tIteration: 520\t Loss: 2.1154\n",
      "\tIteration: 560\t Loss: 2.0752\n",
      "\tIteration: 600\t Loss: 2.0908\n",
      "\tIteration: 640\t Loss: 2.0908\n",
      "\tIteration: 680\t Loss: 2.0649\n",
      "\tIteration: 720\t Loss: 2.0690\n",
      "\tIteration: 760\t Loss: 2.0580\n",
      "\tIteration: 800\t Loss: 2.0736\n",
      "\tIteration: 840\t Loss: 2.0908\n",
      "\tIteration: 880\t Loss: 2.1238\n",
      "\tIteration: 920\t Loss: 2.2095\n",
      "\tIteration: 960\t Loss: 2.2077\n",
      "\tIteration: 1000\t Loss: 2.1596\n",
      "\tIteration: 1040\t Loss: 2.1075\n",
      "\tIteration: 1080\t Loss: 2.0878\n",
      "\tIteration: 1120\t Loss: 2.0879\n",
      "\tIteration: 1160\t Loss: 2.0766\n",
      "\tIteration: 1200\t Loss: 2.1093\n",
      "\tIteration: 1240\t Loss: 2.0656\n",
      "\tIteration: 1280\t Loss: 2.0522\n",
      "\tIteration: 1320\t Loss: 2.0497\n",
      "\tIteration: 1360\t Loss: 2.0514\n",
      "\tIteration: 1400\t Loss: 2.0843\n",
      "\tIteration: 1440\t Loss: 2.0434\n",
      "\tIteration: 1480\t Loss: 2.0984\n",
      "\tIteration: 1520\t Loss: 2.0709\n",
      "\tIteration: 1560\t Loss: 2.0621\n",
      "\tIteration: 1600\t Loss: 2.1278\n",
      "\tIteration: 1640\t Loss: 2.1501\n",
      "\tIteration: 1680\t Loss: 2.0892\n",
      "\tIteration: 1720\t Loss: 2.0473\n",
      "\tIteration: 1760\t Loss: 2.0851\n",
      "\tIteration: 1800\t Loss: 2.0488\n",
      "\tIteration: 1840\t Loss: 2.0236\n",
      "\tIteration: 1880\t Loss: 2.0176\n",
      "\tIteration: 1920\t Loss: 1.9875\n",
      "\tIteration: 1960\t Loss: 1.9674\n",
      "\tIteration: 2000\t Loss: 1.9977\n",
      "\tIteration: 2040\t Loss: 2.0564\n",
      "\tIteration: 2080\t Loss: 2.0251\n",
      "\tIteration: 2120\t Loss: 2.0728\n",
      "\tIteration: 2160\t Loss: 1.9963\n",
      "\tIteration: 2200\t Loss: 1.9816\n",
      "\tIteration: 2240\t Loss: 1.9832\n",
      "\tIteration: 2280\t Loss: 1.9987\n",
      "\tIteration: 2320\t Loss: 2.0032\n",
      "\tIteration: 2360\t Loss: 1.9900\n",
      "\tIteration: 2400\t Loss: 1.9739\n",
      "\tIteration: 2440\t Loss: 1.9716\n",
      "\tIteration: 2480\t Loss: 2.0332\n",
      "\tIteration: 2520\t Loss: 2.0265\n",
      "\tIteration: 2560\t Loss: 2.0535\n",
      "\tIteration: 2600\t Loss: 1.9897\n",
      "\tIteration: 2640\t Loss: 2.0330\n",
      "\tIteration: 2680\t Loss: 2.0909\n",
      "\tIteration: 2720\t Loss: 2.1110\n",
      "\tIteration: 2760\t Loss: 2.0532\n",
      "\tIteration: 2800\t Loss: 2.1067\n",
      "\tIteration: 2840\t Loss: 2.1345\n",
      "\tIteration: 2880\t Loss: 2.1096\n",
      "\tIteration: 2920\t Loss: 2.1485\n",
      "\tIteration: 2960\t Loss: 2.1329\n",
      "\tIteration: 3000\t Loss: 2.1097\n",
      "\tIteration: 3040\t Loss: 2.0252\n",
      "\tIteration: 3080\t Loss: 2.0420\n",
      "\tIteration: 3120\t Loss: 2.0545\n",
      "\tIteration: 3160\t Loss: 2.0648\n",
      "\tIteration: 3200\t Loss: 2.0768\n",
      "\tIteration: 3240\t Loss: 2.0563\n",
      "\tIteration: 3280\t Loss: 2.0191\n",
      "\tIteration: 3320\t Loss: 2.0658\n",
      "\tIteration: 3360\t Loss: 2.0468\n",
      "\tIteration: 3400\t Loss: 2.0489\n",
      "\tIteration: 3440\t Loss: 2.0551\n",
      "\tIteration: 3480\t Loss: 2.2330\n",
      "\tIteration: 3520\t Loss: 2.2299\n",
      "\tIteration: 3560\t Loss: 2.2065\n",
      "\tIteration: 3600\t Loss: 2.1802\n",
      "\tIteration: 3640\t Loss: 2.1063\n",
      "\tIteration: 3680\t Loss: 2.0085\n",
      "\tIteration: 3720\t Loss: 2.0439\n",
      "Epoch: 4/5\n",
      "\tIteration: 0\t Loss: 0.0522\n",
      "\tIteration: 40\t Loss: 2.1109\n",
      "\tIteration: 80\t Loss: 2.0626\n",
      "\tIteration: 120\t Loss: 2.1000\n",
      "\tIteration: 160\t Loss: 2.1799\n",
      "\tIteration: 200\t Loss: 2.1721\n",
      "\tIteration: 240\t Loss: 2.1720\n",
      "\tIteration: 280\t Loss: 2.2017\n",
      "\tIteration: 320\t Loss: 2.1814\n",
      "\tIteration: 360\t Loss: 2.1924\n",
      "\tIteration: 400\t Loss: 2.2341\n",
      "\tIteration: 440\t Loss: 2.3158\n",
      "\tIteration: 480\t Loss: 2.3362\n",
      "\tIteration: 520\t Loss: 2.3393\n",
      "\tIteration: 560\t Loss: 2.3080\n",
      "\tIteration: 600\t Loss: 2.3674\n",
      "\tIteration: 640\t Loss: 2.3627\n",
      "\tIteration: 680\t Loss: 2.3486\n",
      "\tIteration: 720\t Loss: 2.3221\n",
      "\tIteration: 760\t Loss: 2.3377\n",
      "\tIteration: 800\t Loss: 2.3174\n",
      "\tIteration: 840\t Loss: 2.3627\n",
      "\tIteration: 880\t Loss: 2.3612\n",
      "\tIteration: 920\t Loss: 2.3502\n",
      "\tIteration: 960\t Loss: 2.3330\n",
      "\tIteration: 1000\t Loss: 2.3690\n",
      "\tIteration: 1040\t Loss: 2.3393\n",
      "\tIteration: 1080\t Loss: 2.3393\n",
      "\tIteration: 1120\t Loss: 2.3190\n",
      "\tIteration: 1160\t Loss: 2.3408\n",
      "\tIteration: 1200\t Loss: 2.3518\n",
      "\tIteration: 1240\t Loss: 2.3470\n",
      "\tIteration: 1280\t Loss: 2.3518\n",
      "\tIteration: 1320\t Loss: 2.3362\n",
      "\tIteration: 1360\t Loss: 2.3549\n",
      "\tIteration: 1400\t Loss: 2.3502\n",
      "\tIteration: 1440\t Loss: 2.3455\n",
      "\tIteration: 1480\t Loss: 2.3408\n",
      "\tIteration: 1520\t Loss: 2.3283\n",
      "\tIteration: 1560\t Loss: 2.3580\n",
      "\tIteration: 1600\t Loss: 2.3330\n",
      "\tIteration: 1640\t Loss: 2.3392\n",
      "\tIteration: 1680\t Loss: 2.2401\n",
      "\tIteration: 1720\t Loss: 2.1831\n",
      "\tIteration: 1760\t Loss: 2.1174\n",
      "\tIteration: 1800\t Loss: 2.1658\n",
      "\tIteration: 1840\t Loss: 2.1752\n",
      "\tIteration: 1880\t Loss: 2.1908\n",
      "\tIteration: 1920\t Loss: 2.1221\n",
      "\tIteration: 1960\t Loss: 2.1362\n",
      "\tIteration: 2000\t Loss: 2.1315\n",
      "\tIteration: 2040\t Loss: 2.1220\n",
      "\tIteration: 2080\t Loss: 2.1673\n",
      "\tIteration: 2120\t Loss: 2.1877\n",
      "\tIteration: 2160\t Loss: 2.1862\n",
      "\tIteration: 2200\t Loss: 2.1689\n",
      "\tIteration: 2240\t Loss: 2.1517\n",
      "\tIteration: 2280\t Loss: 2.2127\n",
      "\tIteration: 2320\t Loss: 2.1799\n",
      "\tIteration: 2360\t Loss: 2.1799\n",
      "\tIteration: 2400\t Loss: 2.1819\n",
      "\tIteration: 2440\t Loss: 2.2063\n",
      "\tIteration: 2480\t Loss: 2.2298\n",
      "\tIteration: 2520\t Loss: 2.2251\n",
      "\tIteration: 2560\t Loss: 2.2121\n",
      "\tIteration: 2600\t Loss: 2.2471\n",
      "\tIteration: 2640\t Loss: 2.1777\n",
      "\tIteration: 2680\t Loss: 2.1580\n",
      "\tIteration: 2720\t Loss: 2.1705\n",
      "\tIteration: 2760\t Loss: 2.1002\n",
      "\tIteration: 2800\t Loss: 2.1376\n",
      "\tIteration: 2840\t Loss: 2.1283\n",
      "\tIteration: 2880\t Loss: 2.1221\n",
      "\tIteration: 2920\t Loss: 2.1455\n",
      "\tIteration: 2960\t Loss: 2.1549\n",
      "\tIteration: 3000\t Loss: 2.1517\n",
      "\tIteration: 3040\t Loss: 2.1424\n",
      "\tIteration: 3080\t Loss: 2.1545\n",
      "\tIteration: 3120\t Loss: 2.0846\n",
      "\tIteration: 3160\t Loss: 2.0987\n",
      "\tIteration: 3200\t Loss: 2.1018\n",
      "\tIteration: 3240\t Loss: 2.0971\n",
      "\tIteration: 3280\t Loss: 2.0815\n",
      "\tIteration: 3320\t Loss: 2.0676\n",
      "\tIteration: 3360\t Loss: 2.0830\n",
      "\tIteration: 3400\t Loss: 2.1142\n",
      "\tIteration: 3440\t Loss: 2.0845\n",
      "\tIteration: 3480\t Loss: 2.1282\n",
      "\tIteration: 3520\t Loss: 2.1314\n",
      "\tIteration: 3560\t Loss: 2.0846\n",
      "\tIteration: 3600\t Loss: 2.1143\n",
      "\tIteration: 3640\t Loss: 2.1346\n",
      "\tIteration: 3680\t Loss: 2.2236\n",
      "\tIteration: 3720\t Loss: 2.1673\n",
      "Epoch: 5/5\n",
      "\tIteration: 0\t Loss: 0.0522\n",
      "\tIteration: 40\t Loss: 2.0939\n",
      "\tIteration: 80\t Loss: 2.1189\n",
      "\tIteration: 120\t Loss: 2.0924\n",
      "\tIteration: 160\t Loss: 2.1002\n",
      "\tIteration: 200\t Loss: 2.0596\n",
      "\tIteration: 240\t Loss: 2.0690\n",
      "\tIteration: 280\t Loss: 2.0626\n",
      "\tIteration: 320\t Loss: 2.0875\n",
      "\tIteration: 360\t Loss: 2.0299\n",
      "\tIteration: 400\t Loss: 2.0533\n",
      "\tIteration: 440\t Loss: 2.0065\n",
      "\tIteration: 480\t Loss: 2.0330\n",
      "\tIteration: 520\t Loss: 2.0627\n",
      "\tIteration: 560\t Loss: 2.0689\n",
      "\tIteration: 600\t Loss: 2.0579\n",
      "\tIteration: 640\t Loss: 2.0283\n",
      "\tIteration: 680\t Loss: 2.0720\n",
      "\tIteration: 720\t Loss: 2.0250\n",
      "\tIteration: 760\t Loss: 2.0786\n",
      "\tIteration: 800\t Loss: 2.0076\n",
      "\tIteration: 840\t Loss: 1.9861\n",
      "\tIteration: 880\t Loss: 2.0580\n",
      "\tIteration: 920\t Loss: 2.0600\n",
      "\tIteration: 960\t Loss: 2.0966\n",
      "\tIteration: 1000\t Loss: 2.0393\n",
      "\tIteration: 1040\t Loss: 2.0721\n",
      "\tIteration: 1080\t Loss: 2.0797\n",
      "\tIteration: 1120\t Loss: 2.0924\n",
      "\tIteration: 1160\t Loss: 2.0626\n",
      "\tIteration: 1200\t Loss: 2.0408\n",
      "\tIteration: 1240\t Loss: 2.0658\n",
      "\tIteration: 1280\t Loss: 2.0380\n",
      "\tIteration: 1320\t Loss: 2.0752\n",
      "\tIteration: 1360\t Loss: 2.0877\n",
      "\tIteration: 1400\t Loss: 2.0846\n",
      "\tIteration: 1440\t Loss: 2.1096\n",
      "\tIteration: 1480\t Loss: 2.0830\n",
      "\tIteration: 1520\t Loss: 2.1299\n",
      "\tIteration: 1560\t Loss: 2.0830\n",
      "\tIteration: 1600\t Loss: 2.0720\n",
      "\tIteration: 1640\t Loss: 2.0872\n",
      "\tIteration: 1680\t Loss: 2.1565\n",
      "\tIteration: 1720\t Loss: 2.1626\n",
      "\tIteration: 1760\t Loss: 2.1580\n",
      "\tIteration: 1800\t Loss: 2.1861\n",
      "\tIteration: 1840\t Loss: 2.1815\n",
      "\tIteration: 1880\t Loss: 2.1221\n",
      "\tIteration: 1920\t Loss: 2.1549\n",
      "\tIteration: 1960\t Loss: 2.1814\n",
      "\tIteration: 2000\t Loss: 2.1377\n",
      "\tIteration: 2040\t Loss: 2.1627\n",
      "\tIteration: 2080\t Loss: 2.1424\n",
      "\tIteration: 2120\t Loss: 2.1611\n",
      "\tIteration: 2160\t Loss: 2.1815\n",
      "\tIteration: 2200\t Loss: 2.1642\n",
      "\tIteration: 2240\t Loss: 2.1627\n",
      "\tIteration: 2280\t Loss: 2.1798\n",
      "\tIteration: 2320\t Loss: 2.1580\n",
      "\tIteration: 2360\t Loss: 2.1657\n",
      "\tIteration: 2400\t Loss: 2.1736\n",
      "\tIteration: 2440\t Loss: 2.1533\n",
      "\tIteration: 2480\t Loss: 2.1655\n",
      "\tIteration: 2520\t Loss: 2.1627\n",
      "\tIteration: 2560\t Loss: 2.1425\n",
      "\tIteration: 2600\t Loss: 2.1205\n",
      "\tIteration: 2640\t Loss: 2.1221\n",
      "\tIteration: 2680\t Loss: 2.1408\n",
      "\tIteration: 2720\t Loss: 2.1314\n",
      "\tIteration: 2760\t Loss: 2.1376\n",
      "\tIteration: 2800\t Loss: 2.1625\n",
      "\tIteration: 2840\t Loss: 2.1658\n",
      "\tIteration: 2880\t Loss: 2.1440\n",
      "\tIteration: 2920\t Loss: 2.1424\n",
      "\tIteration: 2960\t Loss: 2.1596\n",
      "\tIteration: 3000\t Loss: 2.1830\n",
      "\tIteration: 3040\t Loss: 2.1752\n",
      "\tIteration: 3080\t Loss: 2.1689\n",
      "\tIteration: 3120\t Loss: 2.1361\n",
      "\tIteration: 3160\t Loss: 2.1799\n",
      "\tIteration: 3200\t Loss: 2.2283\n",
      "\tIteration: 3240\t Loss: 2.2111\n",
      "\tIteration: 3280\t Loss: 2.1861\n",
      "\tIteration: 3320\t Loss: 2.1611\n",
      "\tIteration: 3360\t Loss: 2.1596\n",
      "\tIteration: 3400\t Loss: 2.1314\n",
      "\tIteration: 3440\t Loss: 2.1377\n",
      "\tIteration: 3480\t Loss: 2.1596\n",
      "\tIteration: 3520\t Loss: 2.1658\n",
      "\tIteration: 3560\t Loss: 2.1705\n",
      "\tIteration: 3600\t Loss: 2.1799\n",
      "\tIteration: 3640\t Loss: 2.2018\n",
      "\tIteration: 3680\t Loss: 2.1658\n",
      "\tIteration: 3720\t Loss: 2.1930\n"
     ]
    }
   ],
   "metadata": {}
  },
  {
   "cell_type": "code",
   "execution_count": 49,
   "source": [
    "# Run this cell with your model to make sure it works and predicts well for the validation data\n",
    "images, labels = next(iter(testloader))\n",
    "images.resize_(images.shape[0], 1, 784)\n",
    "ps = model.forward(images[0,:])\n",
    "view_classify(images[0].view(1, 28, 28), ps)"
   ],
   "outputs": [
    {
     "output_type": "display_data",
     "data": {
      "text/plain": [
       "<Figure size 432x648 with 2 Axes>"
      ],
      "image/png": "[encoded data removed]"
     },
     "metadata": {
      "image/png": {
       "width": 349,
       "height": 195
      },
      "needs_background": "light"
     }
    }
   ],
   "metadata": {}
  },
  {
   "cell_type": "markdown",
   "source": [
    "<div style=\"background:#222222; color:#ffffff; padding:20px\">\n",
    "  <h3 style=\"color:#01ff84; margin-top:4px\">Exercise 3:</h3>\n",
    "  <p>Write the code for adding <strong style=\"color:#01ff84\">Early Stopping with patience = 2</strong> to the training loop from scratch.</p>\n",
    "  <p><strong style=\"color:#01ff84\">Hint:</strong> Monitor the Validation loss every epoch, and if in 2 epochs, the validation loss does not improve, stop the training loop with <code>break</code>.</p>\n",
    "<div>"
   ],
   "metadata": {}
  },
  {
   "cell_type": "code",
   "execution_count": null,
   "source": [
    "## TODO: Your training loop here\n",
    "\n"
   ],
   "outputs": [],
   "metadata": {}
  },
  {
   "cell_type": "markdown",
   "source": [
    "<div style=\"background:#222222; color:#ffffff; padding:20px\">\n",
    "  <h3 style=\"color:#01ff84; margin-top:4px\">Optional:</h3>\n",
    "  <p>Don't you want to use MNIST? Try EMNIST instead! Maybe using the first 10 letters of the alphabet!</p>\n"
   ],
   "metadata": {}
  },
  {
   "cell_type": "code",
   "execution_count": 33,
   "source": [
    "# we will need a custom visualization function\n",
    "def view_classify_emnist(img, ps):\n",
    "\n",
    "    ps = ps.data.numpy().squeeze()\n",
    "\n",
    "    fig, (ax1, ax2) = plt.subplots(figsize=(6,9), ncols=2)\n",
    "    ax1.imshow(img.resize_(1, 28, 28).numpy().squeeze())\n",
    "    ax1.axis('off')\n",
    "    ax2.barh(list(\"abcdefghij\"), ps)\n",
    "    ax2.set_aspect(0.1)\n",
    "    ax2.set_yticks(np.arange(10))\n",
    "    ax2.set_yticklabels(np.arange(10))\n",
    "    ax2.set_title('Class Probability')\n",
    "    ax2.set_xlim(0, 1.1)"
   ],
   "outputs": [],
   "metadata": {
    "ExecuteTime": {
     "end_time": "2021-05-26T22:35:26.981584Z",
     "start_time": "2021-05-26T22:35:26.954522Z"
    }
   }
  },
  {
   "cell_type": "code",
   "execution_count": 49,
   "source": [
    "# Define a transform to normalize the data (Preprocessing)\n",
    "transform = transforms.Compose([transforms.ToTensor(), transforms.Normalize((0.5), (0.5)) ])\n",
    "def my_collate(batch):\n",
    "    modified_batch = []\n",
    "    for item in batch:\n",
    "        image, label = item\n",
    "        if label < 10: # only the first ten letters\n",
    "            modified_batch.append(item)\n",
    "    return torch.utils.data._utils.collate.default_collate(modified_batch)\n",
    "\n",
    "\n",
    "# Download and load the training data\n",
    "trainset    = datasets.EMNIST('EMNIST_data/', split=\"letters\", download=True, train=True, transform=transform)\n",
    "trainloader = torch.utils.data.DataLoader(trainset, batch_size=16, shuffle=True, collate_fn=my_collate)\n",
    "\n",
    "# Download and load the test data\n",
    "testset    = datasets.EMNIST('EMNIST_data/', split=\"letters\", download=True, train=False, transform=transform)\n",
    "testloader = torch.utils.data.DataLoader(testset, batch_size=16, shuffle=True, collate_fn=my_collate)"
   ],
   "outputs": [],
   "metadata": {
    "ExecuteTime": {
     "end_time": "2021-05-26T22:50:57.571260Z",
     "start_time": "2021-05-26T22:50:57.322172Z"
    }
   }
  },
  {
   "cell_type": "code",
   "execution_count": 51,
   "source": [
    "dataiter = iter(trainloader)\n",
    "images, labels = dataiter.next()"
   ],
   "outputs": [],
   "metadata": {
    "ExecuteTime": {
     "end_time": "2021-05-26T22:51:02.493175Z",
     "start_time": "2021-05-26T22:51:02.464301Z"
    }
   }
  },
  {
   "cell_type": "code",
   "execution_count": 52,
   "source": [
    "plt.imshow(images[5].numpy().squeeze(), cmap='Greys_r');"
   ],
   "outputs": [
    {
     "output_type": "display_data",
     "data": {
      "text/plain": [
       "<Figure size 432x288 with 1 Axes>"
      ],
      "image/png": "[encoded data removed]"
     },
     "metadata": {
      "image/png": {
       "height": 248,
       "width": 251
      },
      "needs_background": "light"
     }
    }
   ],
   "metadata": {
    "ExecuteTime": {
     "end_time": "2021-05-26T22:51:03.118421Z",
     "start_time": "2021-05-26T22:51:02.978678Z"
    }
   }
  },
  {
   "cell_type": "code",
   "execution_count": 53,
   "source": [
    "labels"
   ],
   "outputs": [
    {
     "output_type": "execute_result",
     "data": {
      "text/plain": [
       "tensor([1, 9, 6, 7, 5, 1, 9, 3])"
      ]
     },
     "metadata": {},
     "execution_count": 53
    }
   ],
   "metadata": {
    "ExecuteTime": {
     "end_time": "2021-05-26T22:51:06.653639Z",
     "start_time": "2021-05-26T22:51:06.647991Z"
    }
   }
  },
  {
   "cell_type": "code",
   "execution_count": null,
   "source": [],
   "outputs": [],
   "metadata": {}
  }
 ],
 "metadata": {
  "kernelspec": {
   "name": "python3",
   "display_name": "Python 3.8.11 64-bit ('dlmod': conda)"
  },
  "language_info": {
   "codemirror_mode": {
    "name": "ipython",
    "version": 3
   },
   "file_extension": ".py",
   "mimetype": "text/x-python",
   "name": "python",
   "nbconvert_exporter": "python",
   "pygments_lexer": "ipython3",
   "version": "3.8.11"
  },
  "varInspector": {
   "cols": {
    "lenName": 16,
    "lenType": 16,
    "lenVar": 40
   },
   "kernels_config": {
    "python": {
     "delete_cmd_postfix": "",
     "delete_cmd_prefix": "del ",
     "library": "var_list.py",
     "varRefreshCmd": "print(var_dic_list())"
    },
    "r": {
     "delete_cmd_postfix": ") ",
     "delete_cmd_prefix": "rm(",
     "library": "var_list.r",
     "varRefreshCmd": "cat(var_dic_list()) "
    }
   },
   "types_to_exclude": [
    "module",
    "function",
    "builtin_function_or_method",
    "instance",
    "_Feature"
   ],
   "window_display": false
  },
  "interpreter": {
   "hash": "b19428efcbb6d0ea2fddd18d395f035e0bd84b94ded35c7329f1f6d567caed94"
  }
 },
 "nbformat": 4,
 "nbformat_minor": 2
}